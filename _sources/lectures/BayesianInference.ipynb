{
 "cells": [
  {
   "cell_type": "markdown",
   "metadata": {},
   "source": [
    "# Bayesian Statistics"
   ]
  },
  {
   "cell_type": "code",
   "execution_count": 1,
   "metadata": {},
   "outputs": [],
   "source": [
    "%matplotlib inline\n",
    "import matplotlib.pyplot as plt\n",
    "import seaborn as sns; sns.set()\n",
    "import numpy as np\n",
    "import pandas as pd\n",
    "import scipy.stats"
   ]
  },
  {
   "cell_type": "markdown",
   "metadata": {},
   "source": [
    "## <span style=\"color:Orange\">Types of Probability</span>"
   ]
  },
  {
   "cell_type": "markdown",
   "metadata": {},
   "source": [
    "We construct a probability space by assigning a numerical probability in the range $[0,1]$ to sets of outcomes (events) in some space.\n",
    "\n",
    "When outcomes are the result of an uncertain but <span style=\"color:violet\">repeatable</span> process, probabilities can always be measured to arbitrary accuracy by simply observing many repetitions of the process and calculating the frequency at which each event occurs. \n",
    "\n",
    "The frequentist interpretation of probability is the long-run frequency of repeatable experiments. For example, saying that the probability of a coin landing heads being 0.5 means that if we were to flip the coin enough times, we would see heads 50% of the time.\n",
    "\n",
    "These <span style=\"color:violet\">frequentist probabilities</span> have an appealing objective reality to them. However, you cannot define a probability for events that are not repeatable. For instance, before the 2018 FIFA world cup, let’s say that you read somewhere that Brazil’s probability of winning the tournament was 14%. This probability cannot really be explained with a purely frequentist interpretation, because the experiment is not repeatable! The 2018 world cup is only going to happen once, and it’s impossible to repeat the exact experiment with the same exact conditions, players and preceding events."
   ]
  },
  {
   "cell_type": "markdown",
   "metadata": {
    "solution2": "hidden",
    "solution2_first": true
   },
   "source": [
    "___<span style=\"color:violet\">DISCUSS</span>___: How might you assign a frequentist probability to statements like:\n",
    " - The electron spin is 1/2.\n",
    "\n",
    " - The Higgs boson mass is between 124 and 126 GeV.\n",
    "\n",
    " - The fraction of dark energy in the universe today is between 68% and 70%.\n",
    "\n",
    " - The superconductor $\\text{Hg}\\text{Ba}_2\\text{Ca}_2\\text{Cu}_3\\text{O}_{8+δ}$ (Hg-1223) has a critical temperature above $130 K$."
   ]
  },
  {
   "cell_type": "markdown",
   "metadata": {
    "solution2": "hidden"
   },
   "source": [
    "You cannot (if we assume that these are universal constants), since that would require a measurable process whose outcomes had different values for a universal constant.\n",
    "\n",
    "The inevitable conclusion is that the statements we are most interested in cannot be assigned frequentist probabilities.\n",
    "\n",
    "However, if we allow probabilities to also measure your subjective \"degree of belief\" in a statement, then we can use the full machinery of probability theory to discuss more interesting statements.  These are called <span style=\"color:violet\">Bayesian probabiilities</span>.\n",
    "\n",
    "As usual, an XKCD comic captures the essence of the situation:"
   ]
  },
  {
   "cell_type": "markdown",
   "metadata": {},
   "source": [
    "<img src=\"https://raw.githubusercontent.com/illinois-mlp/MachineLearningForPhysics/main/img/Bayes-XKCD.png\" width=800 align=left></img><br>"
   ]
  },
  {
   "cell_type": "markdown",
   "metadata": {},
   "source": [
    "This is sort and absurd example, but this gets right to the core of the potential issues with frequentist inference. The chance of the sun exploding spontaneously are so low given well-known stellar and gravitational physics that it is far more likely that the two die both came up a 6 than that it is that the sun actually exploded. \n",
    "\n",
    "Since Frequentist inference does not take the probability of the sun exploding into account (the only data that matters is the die roll), taking a purely Frequentist approach can run into problems like these. And while it may be easy to spot the issue here, in contexts like scientific research it can be much harder to identify that this may be happening in your experiment."
   ]
  },
  {
   "cell_type": "markdown",
   "metadata": {},
   "source": [
    "In other words, frequentist statistics estimates the desired confidence percentage (usually 95%) in which some parameter is placed. In contrast, Bayesian analysis answers the following question: “What is the probability of the hypothesis (model) given the measured data?” In addition, frequentist statistics accepts or rejects the null hypotheses, but Bayesian statistics estimates the ratio of probabilities of two different hypotheses. This ratio is known as the Bayes factor that we will study soon. The Bayes factor quantifies the support for one hypothesis over another, irregardless of whether either of these hypotheses are correct."
   ]
  },
  {
   "cell_type": "markdown",
   "metadata": {},
   "source": [
    "Roughly speaking, the choice is between:\n",
    " - ___<span style=\"color:violet\">Frequentist statistics</span>___: objective probabilities of uninteresting statements.\n",
    "\n",
    " - ___<span style=\"color:violet\">Bayesian statistics</span>___: subjective probabilities of interesting statements.\n",
    "\n",
    "---"
   ]
  },
  {
   "cell_type": "markdown",
   "metadata": {},
   "source": [
    "## <span style=\"color:Orange\">Bayesian Joint Probability</span>"
   ]
  },
  {
   "cell_type": "markdown",
   "metadata": {},
   "source": [
    "Bayesian statistics starts from a joint probability distribution\n",
    "\n",
    "$$ \\Large\n",
    "P(D, \\Theta_M, M)\n",
    "$$\n",
    "\n",
    "over \n",
    "\n",
    " - data features $D$\n",
    "\n",
    " - model parameters $\\Theta_M$\n",
    "\n",
    " - hyperparameters $M$\n",
    "  \n",
    "The subscript on $\\Theta_M$ is to remind us that, in general, the set of parameters being used depends on the hyperparameters (e.g., increasing `n_components` adds parameters for the new components). We will sometimes refer to the pair $(\\Theta_M, M)$ as the **model**.\n",
    "\n",
    "This joint probability implies that model parameters and hyperparameters are random variables, which in turn means that they label possible outcomes in our underlying probability space.\n",
    "\n",
    "For a concrete example, consider the possible outcomes necessary to discuss the statement \"*the electron spin is 1/2*\", which must be labeled by the following random variables:\n",
    " - $D$: the measured electron spin for an outcome, $S_z = 0, \\pm 1/2, \\pm 1, \\pm 3/2, \\ldots$\n",
    "\n",
    " - $\\Theta_M$: the total electron spin for an outcome, $S = 0, 1/2, 1, 3/2, \\ldots$\n",
    "\n",
    " - $M$: whether the electron is a boson or a fermion for an outcome.\n",
    " \n",
    "A table of random-variable values for possible outcomes would then look like:\n",
    "\n",
    "| $M$  | $\\Theta_M$ | $D$ |\n",
    "| ---- |----------- | --- |\n",
    "| boson | 0 | 0 |\n",
    "| fermion | 1/2 | -1/2 |\n",
    "| fermion | 1/2 | +1/2 |\n",
    "| boson | 1 | -1 |\n",
    "| boson | 1 |  0 |\n",
    "| boson | 1 | +1 |\n",
    "| ...   | ... | ... |\n",
    "\n",
    "Only two of these outcomes occur in our universe, but a Bayesian approach requires us to broaden the sample space from \"*all possible outcomes*\" to \"*all possible outcomes in all possible universes*\"."
   ]
  },
  {
   "cell_type": "markdown",
   "metadata": {},
   "source": [
    "## <span style=\"color:Orange\">Likelihood</span>"
   ]
  },
  {
   "cell_type": "markdown",
   "metadata": {},
   "source": [
    "The <span style=\"color:violet\">likelihood</span> ${\\cal L}_M(\\Theta_M, D)$ is a function of model parameters $\\Theta_M$ (given hyperparameters $M$) and data features $D$, and measures the probability (density) of observing the data $\\vec{x}$ given the model.  For example, a Gaussian mixture model has the likelihood function:\n",
    "\n",
    "$$ \\Large\n",
    "{\\cal L}_M\\left(\\mathbf{\\Theta}_M, \\vec{x} \\right) = \\sum_{k=1}^{K}\\, \\omega_k G(\\vec{x} ; \\vec{\\mu}_k, C_k) \\; ,\n",
    "$$\n",
    "\n",
    "with parameters\n",
    "\n",
    "$$ \\Large\n",
    "\\begin{aligned}\n",
    "\\mathbf{\\Theta}_M = \\big\\{\n",
    "&\\omega_1, \\omega_2, \\ldots, \\omega_K, \\\\\n",
    "&\\vec{\\mu}_1, \\vec{\\mu}_2, \\ldots, \\vec{\\mu}_K, \\\\\n",
    "&C_1, C_2, \\ldots, C_K \\big\\}\n",
    "\\end{aligned}\n",
    "$$\n",
    "\n",
    "and hyperparameter $K$. Note that the likelihood must be normalized over the data for any values of the (fixed) parameters and hyperparameters.  However, it is not normalized over the parameters or hyperparameters.\n",
    "\n",
    "The likelihood function plays a central role in both frequentist and Bayesian statistics, but is used and interpreted differently. We will focus on the Bayesian perspective, where $\\Theta_M$ and $M$ are considered random variables and the likelihood function is associated with the conditional probability\n",
    "\n",
    "$$ \\Large\n",
    "{\\cal L}_M\\left(\\Theta_M, D \\right) = P(D\\mid \\Theta_M, M)\n",
    "$$\n",
    "\n",
    "of observing features $D$ given the model $(\\Theta_M, M)$."
   ]
  },
  {
   "cell_type": "markdown",
   "metadata": {},
   "source": [
    "## <span style=\"color:Orange\">Bayesian Inference</span>"
   ]
  },
  {
   "cell_type": "markdown",
   "metadata": {},
   "source": [
    "The term “<span style=\"color:violet\">Bayesian inference</span>” comes from Bayes’ Theorem, which in turn is named after Thomas Bayes, an English statistician from the 18th century. In fact, the key ideas behind Bayes’ theorem were also used independently by the French mathematician Pierre-Simon Laplace around the same time.\n",
    "\n",
    "Once we associated the likelihood with a conditional probability, we can apply the earlier rules (2 & 3) of probability calculus to derive the ___<span style=\"color:violet\">Generalized Bayes' Rule</span>___:\n",
    "\n",
    "$$ \\Large\n",
    "P(\\Theta_M\\mid D, M) = \\frac{P(D\\mid \\Theta_M, M)\\,P(\\Theta_M\\mid M)}{P(D\\mid M)}\n",
    "$$\n",
    "\n",
    "Each term above has a name and measures a different probability:\n",
    " 1. ___<span style=\"color:violet\">Posterior</span>___: $P(\\Theta_M\\mid D, M)$ is the probability of the parameter values $\\Theta_M$ given the data and the choice of hyperparameters.\n",
    " \n",
    " 2. ___<span style=\"color:violet\">Likelihood</span>___: $P(D\\mid \\Theta_M, M)$ is the probability of the data given the model.\n",
    " \n",
    " 3. ___<span style=\"color:violet\">Prior</span>___: $P(\\Theta_M\\mid M)$ is the probability of the model parameters given the hyperparameters and *marginalized over all possible data*.\n",
    " \n",
    " 4. ___<span style=\"color:violet\">Evidence</span>___: $P(D\\mid M)$ is the probability of the data given the hyperparameters and *marginalized over all possible parameter values given the hyperparameters*.\n",
    " \n",
    "In typical inference problems, the posterior (1) is what we really care about and the likelihood (2) is what we know how to calculate. The prior (3) is where we must quantify our subjective \"degree of belief\" in different possible universes.\n",
    "\n",
    "What about the evidence (4)?  Using the earlier rule (5) of probability calculus, we discover that (4) can be calculated from (2) and (3):\n",
    "\n",
    "$$ \\Large\n",
    "P(D\\mid M) = \\int d\\Theta_M' P(D\\mid \\Theta_M', M)\\, P(\\Theta_M'\\mid M) \\; .\n",
    "$$\n",
    "\n",
    "Note that this result is not surprising since the denominator must normalize the ratio to yield a probability (density). When the set of possible parameter values is discrete, $\\Theta_M \\in \\{ \\Theta_{M,1}, \\Theta_{M,2}, \\ldots\\}$, the normalization integral reduces to a sum:\n",
    "\n",
    "$$ \\Large\n",
    "P(D\\mid M) \\rightarrow \\sum_k\\, P(D\\mid \\Theta_{M,k}, M)\\, P(\\Theta_{M,k}\\mid M) \\; .\n",
    "$$\n",
    "\n",
    "The generalized Bayes' rule above assumes fixed values of any hyperparameters (since $M$ is on the RHS of all 4 terms), but a complete inference also requires us to consider different hyperparameter settings.  We will defer this (harder) **model selection** problem until later."
   ]
  },
  {
   "cell_type": "markdown",
   "metadata": {},
   "source": [
    "<img src=\"https://raw.githubusercontent.com/illinois-mlp/MachineLearningForPhysics/main/img/Bayes-England.png\" width=300 align=left></img><br>"
   ]
  },
  {
   "cell_type": "markdown",
   "metadata": {
    "solution2": "shown",
    "solution2_first": true
   },
   "source": [
    "___<span style=\"color:violet\">EXERCISE</span>___: Suppose that you meet someone for the first time at your next conference and they are wearing an \"England\" t-shirt.  Estimate the probability that they are English by:\n",
    " - Defining the data $D$ and model $\\Theta_M$ assuming, for simplicity, that there are no hyperparameters.\n",
    "\n",
    " - Assigning the relevant likelihoods and prior probabilities (terms 2 and 3 above).\n",
    "\n",
    " - Calculating the resulting LHS of the generalized Baye's rule above."
   ]
  },
  {
   "cell_type": "markdown",
   "metadata": {
    "solution2": "shown"
   },
   "source": [
    "<span style=\"color:LightGreen\">Solution</span>:\n",
    " - Define the ___<span style=\"color:violet\">data</span>___ $D$ as the observation that the person is wearing an \"England\" t-shirt.\n",
    "\n",
    " - Define the ___<span style=\"color:violet\">model</span>___ to have a single parameter, the person's nationality $\\Theta \\in \\{ \\text{English}, \\text{!English}\\}$.\n",
    "\n",
    " - We don't need to specify a full ___<span style=\"color:violet\">likelihood function</span>___ over all possible data since we only have a single datum. Instead, it is sufficient to assign the likelihood probabilities:\n",
    "\n",
    "$$ \\Large\n",
    "P(D\\mid \\text{English}) = 0.4 \\quad , \\quad P(D\\mid \\text{!English}) = 0.1\n",
    "$$\n",
    "\n",
    "Note that the likelihood probabilities do not sum to one since the likelihood is normalized over the data, not the model, unlike the prior probabilities which must sum to one.\n",
    "\n",
    "- Assign the ___<span style=\"color:violet\">prior probabilities</span>___ for attendees at the conference:\n",
    "\n",
    "$$ \\Large\n",
    "P(\\text{English}) = 0.2 \\quad , \\quad P(\\text{!English}) = 0.8\n",
    "$$\n",
    "\n",
    " - We can now calculate the LHS of the generalized Bayes' rule which gives an estimate of the probabilty that the person is English given the shirt (Note: we calculate the ___<span style=\"color:violet\">evidence</span>___ $P(D)$ using a sum rather than integral, because $\\Theta$ is discrete.):\n",
    "\n",
    "$$ \\Large\n",
    "\\begin{aligned}\n",
    "P(\\text{English}\\mid D) &= \\frac{P(D\\mid \\text{English})\\, P(\\text{English})}\n",
    "{P(D\\mid \\text{English})\\, P(\\text{English}) + P(D\\mid \\text{!English})\\, P(\\text{!English})} \\\\\n",
    "&= \\frac{0.4\\times 0.2}{0.4\\times 0.2 + 0.1\\times 0.8} \\\\\n",
    "&= 0.5\n",
    "\\end{aligned}\n",
    "$$\n",
    "\n",
    "\n",
    "\n",
    "You would have probably assigned different probabilities, since these are subjective assessments where reasonable people can disagree. However, by allowing some subjectivity we are able to make a precise statement under some (subjective) assumptions.\n",
    "\n",
    "A simple example like this can be represented graphically in the 2D space of joint probability $P(D, \\Theta)$:\n",
    "\n",
    "---"
   ]
  },
  {
   "cell_type": "markdown",
   "metadata": {},
   "source": [
    "<img src=\"https://raw.githubusercontent.com/illinois-mlp/MachineLearningForPhysics/main/img/Bayes-BayesBoxes.png\" width=800 align=left></img><br>"
   ]
  },
  {
   "cell_type": "markdown",
   "metadata": {},
   "source": [
    "The generalized Bayes' rule can be viewed as a learning rule that updates our knowledge as new information becomes available:"
   ]
  },
  {
   "cell_type": "markdown",
   "metadata": {},
   "source": [
    "<img src=\"https://raw.githubusercontent.com/illinois-mlp/MachineLearningForPhysics/main/img/Bayes-UpdateRule.png\" width=800 align=left></img><br>"
   ]
  },
  {
   "cell_type": "markdown",
   "metadata": {},
   "source": [
    "The generalized Bayes' rule can be viewed as a learning rule that updates our knowledge as new information becomes available:\n",
    "\n",
    "The implied timeline motivates the *posterior* and *prior* terminology, although there is no requirement that the prior be based on data collected before the \"new\" data.\n",
    "\n",
    "Bayesian inference problems can be tricky to get right, even when they sound straightforward, so it is important to clearly spell out what you know or assume, and what you wish to learn:\n",
    " 1. List the possible models, i.e., your hypotheses.\n",
    "\n",
    " 2. Assign a prior probability to each model.\n",
    "\n",
    " 3. Define the likelihood of each possible observation $D$ for each model.\n",
    "\n",
    " 4. Apply Bayes' rule to learn from new data and update your prior.\n",
    " \n",
    "For problems with a finite number of possible models and observations, the calculations required are simple arithmetic but quickly get cumbersome.  A helper function lets you hide the arithmetic and focus on the logic:"
   ]
  },
  {
   "cell_type": "code",
   "execution_count": 2,
   "metadata": {},
   "outputs": [],
   "source": [
    "def learn(prior, likelihood, D):\n",
    "    # Calculate the Bayes' rule numerator for each model.\n",
    "    prob = {M: prior[M] * likelihood(D, M) for M in prior}\n",
    "    # Calculate the Bayes' rule denominator.\n",
    "    norm = sum(prob.values())\n",
    "    # Return the posterior probabilities for each model.\n",
    "    return {M: prob[M] / norm for M in prob}"
   ]
  },
  {
   "cell_type": "markdown",
   "metadata": {},
   "source": [
    "For example, the problem above becomes:"
   ]
  },
  {
   "cell_type": "code",
   "execution_count": 3,
   "metadata": {},
   "outputs": [
    {
     "data": {
      "text/plain": [
       "{'English': 0.5, '!English': 0.5}"
      ]
     },
     "execution_count": 3,
     "metadata": {},
     "output_type": "execute_result"
    }
   ],
   "source": [
    "prior = {'English': 0.2, '!English': 0.8}\n",
    "\n",
    "def likelihood(D, M):\n",
    "    if M == 'English':\n",
    "        return 0.4 if D == 't-shirt' else 0.6\n",
    "    else:\n",
    "        return 0.1 if D == 't-shirt' else 0.9\n",
    "    \n",
    "learn(prior, likelihood, D='t-shirt')"
   ]
  },
  {
   "cell_type": "markdown",
   "metadata": {},
   "source": [
    "Note that the (posterior) output from one learning update can be the (prior) input to the next update. For example, how should we update our knowledge if the person wears an \"England\" t-shirt the next day also?"
   ]
  },
  {
   "cell_type": "code",
   "execution_count": 4,
   "metadata": {},
   "outputs": [
    {
     "name": "stdout",
     "output_type": "stream",
     "text": [
      "{'English': 0.8, '!English': 0.2}\n"
     ]
    }
   ],
   "source": [
    "post1 = learn(prior, likelihood, 't-shirt')\n",
    "post2 = learn(post1, likelihood, 't-shirt')\n",
    "print(post2)"
   ]
  },
  {
   "cell_type": "markdown",
   "metadata": {},
   "source": [
    "Below is a helper function `Learn` for these calculations that allows multiple updates with one call and displays the learning process as a pandas table:"
   ]
  },
  {
   "cell_type": "code",
   "execution_count": 5,
   "metadata": {},
   "outputs": [],
   "source": [
    "import IPython.display\n",
    "\n",
    "def Learn(prior, likelihood, *data):\n",
    "    \"\"\"Learn from data using Bayesian inference.\n",
    "\n",
    "    Assumes that the model and data spaces are discrete.\n",
    "\n",
    "    Parameters\n",
    "    ----------\n",
    "    prior : dict\n",
    "        Dictionary of prior probabilities for all possible models.\n",
    "    likelihood : callable\n",
    "        Called with args (D,M) and must return a normalized likelihood.\n",
    "    data : variable-length list\n",
    "        Zero or more items of data to use in updating the prior.\n",
    "    \"\"\"\n",
    "    # Initialize the Bayes' rule numerator for each model.\n",
    "    prob = prior.copy()\n",
    "    history = [('PRIOR', prior)]\n",
    "    # Loop over data.\n",
    "    for D in data:\n",
    "        # Update the Bayes' rule numerator for each model.\n",
    "        prob = {M: prob[M] * likelihood(D, M) for M in prob}\n",
    "        # Calculate the Bayes' rule denominator.\n",
    "        norm = sum(prob.values())\n",
    "        # Calculate the posterior probabilities for each model.\n",
    "        prob = {M: prob[M] / norm for M in prob}\n",
    "        history.append(('D={}'.format(D), prob))\n",
    "    # Print our learning history.\n",
    "    index, rows = zip(*history)\n",
    "    IPython.display.display(pd.DataFrame(list(rows), index=index).round(3))"
   ]
  },
  {
   "cell_type": "code",
   "execution_count": 6,
   "metadata": {},
   "outputs": [
    {
     "data": {
      "text/html": [
       "<div>\n",
       "<style scoped>\n",
       "    .dataframe tbody tr th:only-of-type {\n",
       "        vertical-align: middle;\n",
       "    }\n",
       "\n",
       "    .dataframe tbody tr th {\n",
       "        vertical-align: top;\n",
       "    }\n",
       "\n",
       "    .dataframe thead th {\n",
       "        text-align: right;\n",
       "    }\n",
       "</style>\n",
       "<table border=\"1\" class=\"dataframe\">\n",
       "  <thead>\n",
       "    <tr style=\"text-align: right;\">\n",
       "      <th></th>\n",
       "      <th>English</th>\n",
       "      <th>!English</th>\n",
       "    </tr>\n",
       "  </thead>\n",
       "  <tbody>\n",
       "    <tr>\n",
       "      <th>PRIOR</th>\n",
       "      <td>0.2</td>\n",
       "      <td>0.8</td>\n",
       "    </tr>\n",
       "    <tr>\n",
       "      <th>D=t-shirt</th>\n",
       "      <td>0.5</td>\n",
       "      <td>0.5</td>\n",
       "    </tr>\n",
       "    <tr>\n",
       "      <th>D=t-shirt</th>\n",
       "      <td>0.8</td>\n",
       "      <td>0.2</td>\n",
       "    </tr>\n",
       "  </tbody>\n",
       "</table>\n",
       "</div>"
      ],
      "text/plain": [
       "           English  !English\n",
       "PRIOR          0.2       0.8\n",
       "D=t-shirt      0.5       0.5\n",
       "D=t-shirt      0.8       0.2"
      ]
     },
     "metadata": {},
     "output_type": "display_data"
    }
   ],
   "source": [
    "Learn(prior, likelihood, 't-shirt', 't-shirt')"
   ]
  },
  {
   "cell_type": "markdown",
   "metadata": {},
   "source": [
    "<img src=\"https://raw.githubusercontent.com/illinois-mlp/MachineLearningForPhysics/main/img/Bayes-Dice.jpg\" width=400 align=left></img><br>\n",
    "\n",
    "&nbsp; &nbsp; &nbsp; https://commons.wikimedia.org/wiki/File:Dice_(typical_role_playing_game_dice).jpg"
   ]
  },
  {
   "cell_type": "markdown",
   "metadata": {
    "solution2": "shown",
    "solution2_first": true
   },
   "source": [
    "___<span style=\"color:violet\">EXERCISE</span>___: Suppose someone rolls 6, 4, 5 on a dice without telling you whether it has 4, 6, 8, 12, or 20 sides.\n",
    " - What is your intuition about the true number of sides based on the rolls?\n",
    "\n",
    " - Identify the models (hypotheses) and data in this problem.\n",
    "\n",
    " - Define your priors assuming that each model is equally likely.\n",
    "\n",
    " - Define a likelihood function assuming that each dice is fair.\n",
    "\n",
    " - Use the `Learn` function to estimate the posterior probability for the number of sides after each roll."
   ]
  },
  {
   "cell_type": "markdown",
   "metadata": {
    "solution2": "shown"
   },
   "source": [
    "We can be sure the dice is not 4-sided (because of the rolls > 4) and guess that it is unlikely to be 12 or 20 sided (since the largest roll is a 6).\n",
    "\n",
    "The models in this problem correspond to the number of sides on the dice: 4, 6, 8, 12, 20.\n",
    "\n",
    "The data in this problem are the dice rolls: 6, 4, 5.\n",
    "\n",
    "Define the prior assuming that each model is equally likely:"
   ]
  },
  {
   "cell_type": "code",
   "execution_count": 7,
   "metadata": {
    "solution2": "shown"
   },
   "outputs": [],
   "source": [
    "prior = {4: 0.2, 6: 0.2, 8: 0.2, 12: 0.2, 20: 0.2}"
   ]
  },
  {
   "cell_type": "markdown",
   "metadata": {
    "solution2": "shown"
   },
   "source": [
    "Define the likelihood assuming that each dice is fair:"
   ]
  },
  {
   "cell_type": "code",
   "execution_count": 8,
   "metadata": {
    "solution2": "shown"
   },
   "outputs": [],
   "source": [
    "def likelihood(D, M):\n",
    "    if D <= M:\n",
    "        return 1.0 / M\n",
    "    else:\n",
    "        return 0.0"
   ]
  },
  {
   "cell_type": "markdown",
   "metadata": {
    "solution2": "shown"
   },
   "source": [
    "Finally, put the pieces together to estimate the posterior probability of each model after each roll:"
   ]
  },
  {
   "cell_type": "code",
   "execution_count": 9,
   "metadata": {
    "solution2": "shown"
   },
   "outputs": [
    {
     "data": {
      "text/html": [
       "<div>\n",
       "<style scoped>\n",
       "    .dataframe tbody tr th:only-of-type {\n",
       "        vertical-align: middle;\n",
       "    }\n",
       "\n",
       "    .dataframe tbody tr th {\n",
       "        vertical-align: top;\n",
       "    }\n",
       "\n",
       "    .dataframe thead th {\n",
       "        text-align: right;\n",
       "    }\n",
       "</style>\n",
       "<table border=\"1\" class=\"dataframe\">\n",
       "  <thead>\n",
       "    <tr style=\"text-align: right;\">\n",
       "      <th></th>\n",
       "      <th>4</th>\n",
       "      <th>6</th>\n",
       "      <th>8</th>\n",
       "      <th>12</th>\n",
       "      <th>20</th>\n",
       "    </tr>\n",
       "  </thead>\n",
       "  <tbody>\n",
       "    <tr>\n",
       "      <th>PRIOR</th>\n",
       "      <td>0.2</td>\n",
       "      <td>0.200</td>\n",
       "      <td>0.200</td>\n",
       "      <td>0.200</td>\n",
       "      <td>0.200</td>\n",
       "    </tr>\n",
       "    <tr>\n",
       "      <th>D=6</th>\n",
       "      <td>0.0</td>\n",
       "      <td>0.392</td>\n",
       "      <td>0.294</td>\n",
       "      <td>0.196</td>\n",
       "      <td>0.118</td>\n",
       "    </tr>\n",
       "    <tr>\n",
       "      <th>D=4</th>\n",
       "      <td>0.0</td>\n",
       "      <td>0.526</td>\n",
       "      <td>0.296</td>\n",
       "      <td>0.131</td>\n",
       "      <td>0.047</td>\n",
       "    </tr>\n",
       "    <tr>\n",
       "      <th>D=5</th>\n",
       "      <td>0.0</td>\n",
       "      <td>0.635</td>\n",
       "      <td>0.268</td>\n",
       "      <td>0.079</td>\n",
       "      <td>0.017</td>\n",
       "    </tr>\n",
       "  </tbody>\n",
       "</table>\n",
       "</div>"
      ],
      "text/plain": [
       "        4      6      8      12     20\n",
       "PRIOR  0.2  0.200  0.200  0.200  0.200\n",
       "D=6    0.0  0.392  0.294  0.196  0.118\n",
       "D=4    0.0  0.526  0.296  0.131  0.047\n",
       "D=5    0.0  0.635  0.268  0.079  0.017"
      ]
     },
     "metadata": {},
     "output_type": "display_data"
    }
   ],
   "source": [
    "Learn(prior, likelihood, 6, 4, 5)"
   ]
  },
  {
   "cell_type": "markdown",
   "metadata": {
    "solution2": "shown"
   },
   "source": [
    "Somewhat surprisingly, this toy problem has a practical application with historical significance!\n",
    "\n",
    "Imagine a factory that has made $N$ items, each with a serial number 1--$N$. If you randomly select items and read their serial numbers, the problem of estimating $N$ is analogous to our dice problem, but with many more models to consider. This approach was successfully used in World-War II by the Allied Forces to [estimate the production rate of German tanks](https://en.wikipedia.org/wiki/German_tank_problem) at a time when most academic statisticians rejected Bayesian methods.\n",
    "\n",
    "For more historical perspective on the development of Bayesian methods (and many obstacles along the way), read the entertaining book [The Theory That Would Not Die](https://www.amazon.com/Theory-That-Would-Not-Die/dp/0300188226).\n",
    "\n",
    "---"
   ]
  },
  {
   "cell_type": "markdown",
   "metadata": {},
   "source": [
    "The discrete examples above can be solved exactly, but this is not true in general. The challenge is to calculate the evidence, $P(D\\mid M$), in the Bayes' rule denominator, as the marginalization integral:\n",
    "\n",
    "$$ \\Large\n",
    "P(D\\mid M) = \\int d\\Theta_M' P(D\\mid \\Theta_M', M)\\, P(\\Theta_M'\\mid M) \\; .\n",
    "$$\n",
    "\n",
    "With careful choices of the prior and likelihood function, this integral can be performed analytically. However, for most practical work, an approximate _numerical approach_ is required. Popular methods include **Markov-Chain Monte Carlo** and **Variational Inference**, which we will meet soon."
   ]
  },
  {
   "cell_type": "markdown",
   "metadata": {},
   "source": [
    "## <span style=\"color:Orange\">What Priors Should I Use?</span>"
   ]
  },
  {
   "cell_type": "markdown",
   "metadata": {},
   "source": [
    "The choice of priors is necessarily subjective and sometimes contentious, but keep the following general guidelines in mind:\n",
    " - Inferences on data from an informative experiment are not very sensitive to your choice of priors.\n",
    "\n",
    " - If your (posterior) results are sensitive to your choice of priors you need more (or better) data.\n",
    " \n",
    "For a visual demonstration of these guidelines, the following function performs exact inference for a common task: you make a number of observations and count how many pass some predefined test, and want to infer the fraction $0\\le \\theta\\le 1$ that pass. This applies to questions like:\n",
    " - What fraction of galaxies contain a supermassive black hole?\n",
    "\n",
    " - What fraction of Higgs candidate decays are due to background?\n",
    "\n",
    " - What fraction of of my nanowires are superconducting?\n",
    " \n",
    "For our prior, $P(\\theta)$, we use the [beta distribution](https://en.wikipedia.org/wiki/Beta_distribution) which is specified by hyperparameters $a$ and $b$:\n",
    "\n",
    "$$ \\Large\n",
    "P(\\theta\\mid a, b) = \\frac{\\Gamma(a+b)}{\\Gamma(a)\\Gamma(b)}\\, \\theta^{a-1} \\left(1 - \\theta\\right)^{b-1} \\; ,\n",
    "$$\n",
    "\n",
    "where $\\Gamma$ is the [gamma function](https://en.wikipedia.org/wiki/Gamma_function) related to the factorial $\\Gamma(n) = (n-1)!$"
   ]
  },
  {
   "cell_type": "code",
   "execution_count": 10,
   "metadata": {},
   "outputs": [],
   "source": [
    "def binomial_learn(prior_a, prior_b, n_obs, n_pass):\n",
    "    theta = np.linspace(0, 1, 100)\n",
    "    # Calculate and plot the prior on theta.\n",
    "    prior = scipy.stats.beta(prior_a, prior_b)\n",
    "    plt.fill_between(theta, prior.pdf(theta), alpha=0.25)\n",
    "    plt.plot(theta, prior.pdf(theta), label='Prior')\n",
    "    # Calculate and plot the likelihood of the fixed data given any theta.\n",
    "    likelihood = scipy.stats.binom.pmf(n_pass, n_obs, theta)\n",
    "    plt.plot(theta, likelihood, 'k:', label='Likelihood')\n",
    "    # Calculate and plot the posterior on theta given the observed data.\n",
    "    posterior = scipy.stats.beta(prior_a + n_pass, prior_b + n_obs - n_pass)\n",
    "    plt.fill_between(theta, posterior.pdf(theta), alpha=0.25)\n",
    "    plt.plot(theta, posterior.pdf(theta), label='Posterior')\n",
    "    # Plot cosmetics.\n",
    "    plt.legend(bbox_to_anchor=(0., 1.02, 1., .102), loc=3,\n",
    "               ncol=3, mode=\"expand\", borderaxespad=0., fontsize='large')\n",
    "    plt.ylim(0, None)\n",
    "    plt.xlim(theta[0], theta[-1])\n",
    "    plt.xlabel('Pass fraction $\\\\theta$')"
   ]
  },
  {
   "cell_type": "markdown",
   "metadata": {
    "solution2": "hidden",
    "solution2_first": true
   },
   "source": [
    "___<span style=\"color:violet\">EXERCISE</span>___:\n",
    "\n",
    "<span style=\"color:LightGreen\">Q1</span>: Think of a question in your research area where this inference problem applies.\n",
    "\n",
    "<span style=\"color:LightGreen\">Q2</span>: Infer $\\theta$ from 2 observations with 1 passing, using hyperparameters $(a=1,b=1)$.\n",
    " - Explain why the posterior is reasonable given the observed data.\n",
    "\n",
    " - What values of $\\theta$ are absolutely ruled out by this data? Does this make sense?\n",
    "\n",
    " - How are the three quantities plotted normalized?\n",
    " \n",
    "<span style=\"color:LightGreen\">Q3</span>: Infer $\\theta$ from the same 2 observations with 1 passing, using instead $(a=10,b=5)$.\n",
    " - Is the posterior still reasonable given the observed data?  Explain your reasoning.\n",
    "\n",
    " - How might you choose between these two subjective priors?\n",
    "\n",
    "<span style=\"color:LightGreen\">Q4</span>: Use each of the priors above with different data: 100 trials with 60 passing.\n",
    " - How does the relative importance of the prior and likelihood change with better data?\n",
    "\n",
    " - Why are the likelihood values so much smaller now?"
   ]
  },
  {
   "cell_type": "code",
   "execution_count": 11,
   "metadata": {
    "solution2": "hidden"
   },
   "outputs": [
    {
     "data": {
      "image/png": "[encoded data removed]",
      "text/plain": [
       "<Figure size 640x480 with 1 Axes>"
      ]
     },
     "metadata": {},
     "output_type": "display_data"
    }
   ],
   "source": [
    "binomial_learn(1, 1, 2, 1)"
   ]
  },
  {
   "cell_type": "markdown",
   "metadata": {
    "solution2": "hidden"
   },
   "source": [
    " - The posterior peaks at the mean observed pass rate, 1/2, which is reasonable. It is very broad because we have only made two observations.\n",
    "\n",
    " - Values of 0 and 1 are absolutely ruled out, which makes sense since we have already observed 1 pass and 1 no pass.\n",
    "\n",
    " - The prior and posterior are probability densities normalized over $\\theta$, so their area in the plot is 1. The likelihood is normalized over all possible data, so does not have area of 1 in this plot."
   ]
  },
  {
   "cell_type": "code",
   "execution_count": 12,
   "metadata": {
    "solution2": "hidden"
   },
   "outputs": [
    {
     "data": {
      "image/png": "[encoded data removed]",
      "text/plain": [
       "<Figure size 640x480 with 1 Axes>"
      ]
     },
     "metadata": {},
     "output_type": "display_data"
    }
   ],
   "source": [
    "binomial_learn(5, 10, 2, 1)"
   ]
  },
  {
   "cell_type": "markdown",
   "metadata": {
    "solution2": "hidden"
   },
   "source": [
    " - The posterior now peaks away from the mean observed pass rate of 1/2.  This is reasonable if we believe our prior information since, with relatively uninformative data, Bayes' rule tells us that it should dominate our knowledge of $\\theta$.  On the other hand, if we cannot justify why this prior is more believable than the earlier flat prior, then we must conclude that the value of $\\theta$ is unknown and that our data has not helped.\n",
    "\n",
    " - If a previous experiment with 13 observations found 4 passing, then our new prior would be very reasonable. However, if this process has never been observed and we have no theoretical prejudice, then the original flat prior would be reasonable."
   ]
  },
  {
   "cell_type": "code",
   "execution_count": 13,
   "metadata": {
    "solution2": "hidden"
   },
   "outputs": [
    {
     "data": {
      "image/png": "[encoded data removed]",
      "text/plain": [
       "<Figure size 640x480 with 1 Axes>"
      ]
     },
     "metadata": {},
     "output_type": "display_data"
    }
   ],
   "source": [
    "binomial_learn(1, 1, 100, 60)"
   ]
  },
  {
   "cell_type": "code",
   "execution_count": 14,
   "metadata": {
    "solution2": "hidden"
   },
   "outputs": [
    {
     "data": {
      "image/png": "[encoded data removed]",
      "text/plain": [
       "<Figure size 640x480 with 1 Axes>"
      ]
     },
     "metadata": {},
     "output_type": "display_data"
    }
   ],
   "source": [
    "binomial_learn(5, 10, 100, 60)"
   ]
  },
  {
   "cell_type": "markdown",
   "metadata": {
    "solution2": "hidden"
   },
   "source": [
    " - With more data, the prior has much less influence. This is always the regime you want to be in.\n",
    "\n",
    " - The likelihood values are larger because there are many more possible outcomes (pass or not) with more observations, so any one outcome becomes relatively less likely. (Recall that the likelihood is normalized over data outcomes, not $\\theta$).\n",
    " \n",
    "---"
   ]
  },
  {
   "cell_type": "markdown",
   "metadata": {},
   "source": [
    "You are hopefully convinced now that your choice of priors is mostly a non-issue, since inference with good data is relatively insensitive to your choice.  However, you still need to make a choice, so here are some practical guidelines:\n",
    " - A \"missing\" prior, $P(\\Theta\\mid M) = 1$, is still a prior but not necessarily a \"natural\" choice or a \"safe default\". It is often not even normalizable, although you can finesse this problem with good enough data.\n",
    "\n",
    " - The prior on a parameter you care about usually summarizes previous measurements, assuming that you trust them but you are doing a better experiment. In this case, your likelihood measures the information provided by your data alone, and the posterior provides the new \"world average\".\n",
    "\n",
    " - The prior on a **nuisance parameter** (which you need for technical reasons but are not interesting in measuring) should be set conservatively (restrict as little as possible, to minimize the influence on the posterior) and in different ways (compare posteriors with different priors to estimate systematic uncertainty).\n",
    "\n",
    " - If you really have no information on which to base a prior, learn about [uninformative priors](https://en.wikipedia.org/wiki/Prior_probability#Uninformative_priors), but don't be fooled by their apparent objectivity.\n",
    "\n",
    " - If being able to calculate your evidence integral analytically is especially important, look into [conjugate priors](https://en.wikipedia.org/wiki/Conjugate_prior), but don't be surprised if this forces you to adopt an oversimplified model. The binomial example above is one of the rare cases where this works out. \n",
    "\n",
    " - Always state your priors (in your code, papers, talks, etc), even when they don't matter much."
   ]
  },
  {
   "cell_type": "markdown",
   "metadata": {},
   "source": [
    "## <span style=\"color:Orange\">So, Why Isn't Everyone a Bayesian?</span>"
   ]
  },
  {
   "cell_type": "markdown",
   "metadata": {},
   "source": [
    "The answer is more complicated than this, but two primary reasons are often cited:\n",
    "1. The calculations needed for Bayesian statistics can be overwhelming for practical applications. However, this is becoming increasing manageable with modern computers. Also, the advent of numerical methods for approximate inference, especially <span style=\"color:violet\">Markov chain Monte Carlo</span> (MCMC) the we will introduce in the next lecture, have tranformed probabilstic data inference. \n",
    "\n",
    "2. The structure requires a prior distribution (the \"prior\") on the parameter of interest. If you use a different\n",
    "prior you will obtain different results and this “lack of objectivity” makes some people uncomfortable. However, we showed how some problems with sufficiant data can be relatively insensitive to choice of prior."
   ]
  },
  {
   "cell_type": "markdown",
   "metadata": {},
   "source": [
    "## <span style=\"color:Orange\">Graphical Models</span>"
   ]
  },
  {
   "cell_type": "markdown",
   "metadata": {},
   "source": [
    "We started above with the Bayesian joint probability:\n",
    "\n",
    "$$ \\Large\n",
    "P(D, \\Theta_M, M)\n",
    "$$\n",
    "\n",
    "When the individual data features, parameters and hyperparameters are all written out, this often ends up being a very high-dimensional function.\n",
    "\n",
    "In the most general case, the joint probability requires a huge volume of data to estimate (recall our earlier discussion of [dimensionality reduction](Dimensionality.ipynb)). However, many problems can be (approximately) described by a joint probability that is simplified by assuming that some random variables are mutually independent. \n",
    "\n",
    "Graphical models are a convenient visualization of the assumed direct dependencies between random variables. For example, suppose we have two parameters $(\\alpha, \\beta)$ and no hyperparameters, then the joint probability $P(D, \\alpha, \\beta)$ can be expanded into a product of conditionals different ways using the rules of probability calculus, e.g.\n",
    "\n",
    "$$ \\Large\n",
    "P(D, \\alpha, \\beta) = P(D,\\beta\\mid \\alpha)\\, P(\\alpha) = P(D\\mid \\alpha,\\beta)\\, P(\\beta\\mid \\alpha)\\, P(\\alpha) \\; .\n",
    "$$\n",
    "\n",
    "or, equally well as,\n",
    "\n",
    "$$ \\Large\n",
    "P(D, \\alpha, \\beta) = P(D,\\alpha\\mid \\beta)\\, P(\\beta) = P(D\\mid \\alpha,\\beta)\\, P(\\alpha\\mid \\beta)\\, P(\\beta) \\; ,\n",
    "$$\n",
    "\n",
    "The corresponding diagrams are:"
   ]
  },
  {
   "cell_type": "markdown",
   "metadata": {},
   "source": [
    "<img src=\"https://raw.githubusercontent.com/illinois-mlp/MachineLearningForPhysics/main/img/Bayes-fully_connected_1.png\" width=400 align=left></img><br>"
   ]
  },
  {
   "cell_type": "markdown",
   "metadata": {},
   "source": [
    "<img src=\"https://raw.githubusercontent.com/illinois-mlp/MachineLearningForPhysics/main/img/Bayes-fully_connected_2.png\" width=400 align=left></img><br>"
   ]
  },
  {
   "cell_type": "markdown",
   "metadata": {},
   "source": [
    "The way to read these diagrams is that a node labeled with $X$ represents a (multiplicative) factor $P(X\\mid\\ldots)$ in the joint probability, where $\\ldots$ lists other nodes whose arrows feed into this node (in any order, thanks to probability calculus Rule-1). A shaded node indicates a random variable that is directly observed (i.e., data) while non-shaded nodes represent (unobserved) latent random variables.\n",
    "\n",
    "These diagrams both describe a fully general joint probability with two parameters. The rules for building a fully general joint probability with any number of parameters are:\n",
    " - Pick an (arbitrary) ordering of the parameters.\n",
    "\n",
    " - The first parameter's node has arrows pointing to all other nodes (including the data).\n",
    "\n",
    " - The n-th parameter's node has arrows pointing to all later parameter nodes and the data.\n",
    "\n",
    "With $n$ parameters, there are then $n!$ possible diagrams and the number of potential dependencies grows rapidly with $n$.\n",
    "\n",
    "To mitigate this factorial growth, we seek pairs of random variables that should not depend on each other. For example, in the two parameter case:"
   ]
  },
  {
   "cell_type": "markdown",
   "metadata": {},
   "source": [
    "<img src=\"https://raw.githubusercontent.com/illinois-mlp/MachineLearningForPhysics/main/img/Bayes-partial_1.png\" width=400 align=left></img><br>"
   ]
  },
  {
   "cell_type": "markdown",
   "metadata": {},
   "source": [
    "<img src=\"https://raw.githubusercontent.com/illinois-mlp/MachineLearningForPhysics/main/img/Bayes-partial_2.png\" width=400 align=left></img><br>"
   ]
  },
  {
   "cell_type": "markdown",
   "metadata": {},
   "source": [
    "Notice how each diagram tells a different story. For example, the first diagram tells us that the data can be predicted knowing only $\\beta$, but that our prior knowledge of $\\beta$ depends on $\\alpha$. In effect, then, simplifying a joint probability involves drawing a diagram that tells a suitable story for your data and models."
   ]
  },
  {
   "cell_type": "markdown",
   "metadata": {
    "solution2": "hidden",
    "solution2_first": true
   },
   "source": [
    "___<span style=\"color:violet\">EXERCISE</span>___: Consider observing someone throwing a ball and measuring how far away it lands to infer the strength of gravity:\n",
    " - Our data is the measured range $r$.\n",
    "\n",
    " - Our parameters are the ball's initial speed $v$ and angle $\\phi$, and the strength of gravity $g$.\n",
    "\n",
    " - Our hyperparameters are the ball's diameter $d$ and the wind speed $w$.\n",
    " \n",
    "Draw one example of a fully general diagram of this inference's joint probability $P(r, v, \\phi, g, d, w)$.\n",
    "\n",
    "Suppose the thrower always throws as hard as they can, then adjusts the angle according to the wind. Draw a diagram to represent the direct dependencies in this simpler joint probability.\n",
    "\n",
    "Write down the posterior we are interested in for this inference problem."
   ]
  },
  {
   "cell_type": "markdown",
   "metadata": {},
   "source": [
    "<img src=\"https://raw.githubusercontent.com/illinois-mlp/MachineLearningForPhysics/main/img/Bayes-projectile_fully_connected.png\" width=400 align=left></img><br>"
   ]
  },
  {
   "cell_type": "markdown",
   "metadata": {},
   "source": [
    "<img src=\"https://raw.githubusercontent.com/illinois-mlp/MachineLearningForPhysics/main/img/Bayes-projectile_story.png\" width=400 align=left></img><br>"
   ]
  },
  {
   "cell_type": "markdown",
   "metadata": {
    "solution2": "hidden"
   },
   "source": [
    "The posterior we are most likely interested in for this inference is\n",
    "$$\n",
    "P(g\\mid r) \\; ,\n",
    "$$\n",
    "but a more explicit posterior would be:\n",
    "$$\n",
    "P(g\\mid r, v, \\phi, d, w) \\; .\n",
    "$$\n",
    "The difference between is these is that we marginalized over the \"nuisance\" parameters $v, \\phi, d, w$ in the first case.\n",
    "\n",
    "---"
   ]
  },
  {
   "cell_type": "markdown",
   "metadata": {},
   "source": [
    "The arrows in these diagrams define the direction of conditional dependencies. They often mirror a causal influence in the underlying physical system, but this is not necessary. Probabilistic diagrams with directed edges are known as ___<span style=\"color:violet\">Bayesian networks</span>___ or ___<span style=\"color:violet\">Belief Networks</span>___.\n",
    "\n",
    "It is also possible to draw diagrams where nodes are connected symmetrically, without a specified direction. These are known as **Markov random fields** or **Markov networks** and appropriate when dependencies flow in both directions or in an unknown direction.  You can read more about these [here](https://en.wikipedia.org/wiki/Markov_random_field)."
   ]
  },
  {
   "cell_type": "markdown",
   "metadata": {},
   "source": [
    "## <span style=\"color:Orange\">Acknowledgments</span>\n",
    "\n",
    "* Initial version: Mark Neubauer\n",
    "\n",
    "© Copyright 2024"
   ]
  }
 ],
 "metadata": {
  "kernelspec": {
   "display_name": "Python 3",
   "language": "python",
   "name": "python3"
  },
  "language_info": {
   "codemirror_mode": {
    "name": "ipython",
    "version": 3
   },
   "file_extension": ".py",
   "mimetype": "text/x-python",
   "name": "python",
   "nbconvert_exporter": "python",
   "pygments_lexer": "ipython3",
   "version": "3.11.2"
  }
 },
 "nbformat": 4,
 "nbformat_minor": 2
}
