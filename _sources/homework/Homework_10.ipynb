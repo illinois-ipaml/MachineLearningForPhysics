{
 "cells": [
  {
   "cell_type": "markdown",
   "id": "15b8a5c7",
   "metadata": {},
   "source": [
    "# Homework 10: Forecasting Projectile Motion with Recurrent Neural Networks"
   ]
  },
  {
   "cell_type": "markdown",
   "id": "512ba1cf",
   "metadata": {},
   "source": [
    "## <span style=\"color:Orange\">Acknowledgments</span>\n",
    "\n",
    "* Initial version: Mark Neubauer\n",
    "  * From APS GDS repository\n",
    "\n",
    "© Copyright 2025"
   ]
  }
 ],
 "metadata": {
  "colab": {
   "gpuType": "T4",
   "include_colab_link": true,
   "provenance": [],
   "toc_visible": true
  },
  "kernelspec": {
   "display_name": "Python 3 (ipykernel)",
   "language": "python",
   "name": "python3"
  },
  "language_info": {
   "codemirror_mode": {
    "name": "ipython",
    "version": 3
   },
   "file_extension": ".py",
   "mimetype": "text/x-python",
   "name": "python",
   "nbconvert_exporter": "python",
   "pygments_lexer": "ipython3",
   "version": "3.9.16"
  }
 },
 "nbformat": 4,
 "nbformat_minor": 5
}
