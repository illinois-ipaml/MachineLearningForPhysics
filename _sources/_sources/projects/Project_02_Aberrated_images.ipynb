{
 "cells": [
  {
   "cell_type": "markdown",
   "id": "df490bd0d33a4370",
   "metadata": {
    "collapsed": false
   },
   "source": [
    "# Aberrated Image Recovery of Ultracold Atoms"
   ]
  },
  {
   "cell_type": "code",
   "execution_count": 3,
   "id": "202f212d105ed49f",
   "metadata": {
    "ExecuteTime": {
     "end_time": "2023-12-05T00:35:19.363384600Z",
     "start_time": "2023-12-05T00:35:19.277387400Z"
    },
    "collapsed": false
   },
   "outputs": [],
   "source": [
    "%matplotlib inline\n",
    "import matplotlib.pyplot as plt\n",
    "import seaborn as sns; sns.set()\n",
    "import numpy as np\n",
    "import pandas as pd\n",
    "import scipy as sp\n",
    "import skimage as ski\n",
    "import sklearn as skl\n",
    "from sklearn import cluster"
   ]
  },
  {
   "cell_type": "markdown",
   "id": "7537b664c9ec6e76",
   "metadata": {
    "collapsed": false
   },
   "source": [
    "## Overview"
   ]
  },
  {
   "cell_type": "markdown",
   "id": "c02c4aa3",
   "metadata": {},
   "source": [
    "<img src=\"https://raw.githubusercontent.com/illinois-ipaml/MachineLearningForPhysics/main/img/Project_UltraColdAtoms.png\" width=600 align=left></img><br>"
   ]
  },
  {
   "cell_type": "markdown",
   "id": "a0b0567c",
   "metadata": {},
   "source": [
    "## <span style=\"color:Orange\">Overview</span>\n",
    "Over the past 20-30 years the groundwork has been laid for precise experimental control of atomic gases at ultracold temperatures. These ultracold atom gas experiments explore the quantum mechanics of their underlying atomic systems to a diverse set applications ranging from the simulation of computationally difficult physics problems [1] to the sensing of new physics beyond the standard model [2]. Most experiments in this field rely on directly imaging the ultracold gas they make, in order to extract data about the size and shape of the atomic number density distribution being imaged.\n",
    "\n",
    "The goal of this project is to introduce you to some relevant image processing techniques, as well as to get familiar with an image as a data element. As you will demonstrate, images are a kind of data with a very large number of features, but where almost all of those features within some region of interest are highly correlated. Of interest in this project is how the effects of real imaging systems distort the information contained in an image, and how those effects can be unfolded from the data to recover information about the true density distribution. \n",
    "\n",
    "Capturing all possible kinds of aberrations and noise present in real experimental data of ultracold atom images is outside the scope of the simulated test data in this project. Instead, we limit ourselves to a few key effects: optical aberrations in the form of defocus and primary spherical aberrations, pixelization from a finite detector resolution, and at times toy number density noise simulated as simple Gaussian noise."
   ]
  },
  {
   "cell_type": "markdown",
   "id": "340d2ca1b3531f23",
   "metadata": {
    "collapsed": false
   },
   "source": [
    "## <span style=\"color:Orange\">Data Sources</span>"
   ]
  },
  {
   "cell_type": "markdown",
   "id": "b938a3e0eef8b55d",
   "metadata": {
    "collapsed": false
   },
   "source": [
    "Data is available [here](https://github.com/illinois-ipaml/MachineLearningForPhysics/tree/main/_sources/projects/Project_01_Aberrated_images_additional_material) on the course GitHub, along with ImageSimulation.ipynb, the notebook used to generate the data. You are encouraged to read through that notebook to see how the simulation works and even generate your own datasets if desired.\n",
    "\n",
    "You are welcome to access the images however works best for you, but a simple solution is to download the dataset folder to the same path as this notebook (or the one you plan to do your analysis in) and use the following helper function to important an image based on the true parameters of the underlying density distribution---found in the image file name. "
   ]
  },
  {
   "cell_type": "code",
   "execution_count": 4,
   "id": "26ebe06c0123629a",
   "metadata": {
    "ExecuteTime": {
     "end_time": "2023-12-05T00:35:19.490385Z",
     "start_time": "2023-12-05T00:35:19.303388800Z"
    },
    "collapsed": false
   },
   "outputs": [],
   "source": [
    "def Import_Image(dataset_name, imaging_sys, atom_number, mu_x, mu_y, mu_z, sigma_x, sigma_y, sigma_z, Z04, seed):\n",
    "    \"\"\"Important an image following the project file naming structure.\n",
    "    \n",
    "    :param dataset_name: str\n",
    "        Name of the dataset.\n",
    "    :param imaging_sys: str\n",
    "        Name of the imaging system (e.g. 'LoNA' or 'HiNA').\n",
    "    :param atom_number: int\n",
    "        Atom number normalization factor. \n",
    "    :param mu_x: float\n",
    "        Density distribution true mean x.\n",
    "    :param mu_y: float\n",
    "        Density distribution true mean y.\n",
    "    :param mu_z: float\n",
    "        Density distribution true mean z.\n",
    "    :param sigma_x: float\n",
    "        Density distribution true sigma x.\n",
    "    :param sigma_y: float\n",
    "        Density distribution true sigma y.\n",
    "    :param sigma_z: float\n",
    "        Density distribution true sigma z.\n",
    "    :param Z04: float\n",
    "        Coefficient of spherical aberrations.\n",
    "    :param seed: int\n",
    "        Seed for Gaussian noise.\n",
    "    :return: \n",
    "    \"\"\"\n",
    "    dataset_name = dataset_name + '\\\\'\n",
    "    file_name = imaging_sys + '.atom_num=%i.mu=(%0.1f...%0.1f...%0.1f).sigma=(%0.1f...%0.1f...%0.1f).Z04=%0.1f.seed=%i.tiff' % (atom_number, mu_x, mu_y, mu_z, sigma_x, sigma_y, sigma_z, Z04, seed)\n",
    "    im = ski.io.imread(dataset_name + file_name)\n",
    "    return im"
   ]
  },
  {
   "cell_type": "markdown",
   "id": "a8c6b21f91fe8217",
   "metadata": {
    "collapsed": false
   },
   "source": [
    "## <span style=\"color:Orange\">Questions</span>"
   ]
  },
  {
   "cell_type": "markdown",
   "id": "865e04a2b9b864a9",
   "metadata": {
    "collapsed": false
   },
   "source": [
    "In this part of the project you will attempt to use two kinds of blind deconvolution algorithms to recover the measurement response, or PSF, of a cold atom imaging system. Sometimes in experiment we can't reliably create gases far below the Rayleigh criterion in order to directly measure the PSF. Additionally, some optical aberrations can't be corrected for. Spherical aberrations represent a source of systematic error that may need addressing. The inability to make resolution limited objects also poses a problem when trying to bring an image in focus, as several planes will appear to be all in focus at once. The ability to suss out the measurement response without much knowledge a priori is therefore an incredibly valuable tool for the fast implementation of new imaging systems.\n",
    "\n",
    "The images in this dataset have been generated with the same ImageSimulation.ipynb available at the data source link. Again we are utilizing the high numerical aperture ($\\text{NA} = 0.4$) imaging system with an $M=20\\times$ telescope projecting the image on to the same $\\text{PS}=13$ um detector. The images are limited to small isotropic gases ($\\sigma = (1.0 \\pm 0.5)$ um), still above the resolution limit, therefore we will crop a smaller region of interest of only $25$ um about the center of the gases and work with less data. As hinted at above, a moderate amount of spherical aberrations will be present in the response ($Z_0^4=0.3$) and images will be taken about with object centered at planes $\\pm 5$ um about the true best focus.\n",
    "\n",
    "Also available in the dataset is a truePSF.tiff image which contains measurement of the imaging system response of an object much smaller than the Rayleigh criterion, i.e. the true PSF of the imaging system. Import this as a separate data object, which you will compare to your fitted responses. Note that the PSF here is also 'pixel limited' meaning we can't resolve the first minima of the diffraction pattern."
   ]
  },
  {
   "cell_type": "markdown",
   "id": "93b914a1fb9d4942",
   "metadata": {
    "collapsed": false
   },
   "source": [
    "### <span style=\"color:LightGreen\">Question 01</span>"
   ]
  },
  {
   "cell_type": "markdown",
   "id": "9587c455419f6079",
   "metadata": {
    "collapsed": false
   },
   "source": [
    "Implement a linear deconvolution of the data in order to estimate the PSF of the aberrated imaging system used to generate the data. Display images of the fitted response and a few images before and after deconvolution with the fitted response. A useful starting place would to implement a regression algorithm from the `sklearn` toolbox with Tikhonov regularization.\n",
    "\n",
    "How well does your fitted response compare to true PSF? Use an explicit metric."
   ]
  },
  {
   "cell_type": "markdown",
   "id": "30c589bbf2ea25c2",
   "metadata": {
    "collapsed": false
   },
   "source": [
    "### <span style=\"color:LightGreen\">Question 02</span>"
   ]
  },
  {
   "cell_type": "markdown",
   "id": "bcda8f489fb8019",
   "metadata": {
    "collapsed": false
   },
   "source": [
    "Read through chapter 5 of [3], and implement a similarly structured convolutional neural network (CNN) to perform a blind deconvolution of the PSF in the dataset here. [4] and [5] may also provide useful frameworks.\n",
    "\n",
    "Compare with the response you get from the linear deconvolution in question 01. "
   ]
  },
  {
   "cell_type": "markdown",
   "id": "fd796bfc",
   "metadata": {},
   "source": [
    "## <span style=\"color:Orange\">References</span>\n",
    "\n",
    "* [__<span style=\"color:Red\">1</span>__] S. S. Kondov, W. R. McGehee, J. J. Zirbel, and B. DeMarco, Science 334, 66 (2011). \n",
    "\n",
    "* [__<span style=\"color:Red\">2</span>__] W. B. Cairncross, D. N. Gresh, M. Grau, K. C. Cossel, T. S. Roussy, Y. Ni, Y. Zhou, J. Ye, and E. A. Cornell, Physical Review Letters 119, (2017). \n",
    "\n",
    "* [__<span style=\"color:Red\">3</span>__] C. J. Schuler, Machine learning approaches to image deconvolution. Eberhard Karls University of Tübingen (2014).\n",
    "\n",
    "* [__<span style=\"color:Red\">4</span>__] Herbel, J., Kacprzak, T., Amara, A., Refregier, A., & Lucchi, A. (2018). Fast point spread function modeling with deep learning. Journal of Cosmology and Astroparticle Physics, 2018(07), 054.\n",
    "\n",
    "* [__<span style=\"color:Red\">5</span>__] R. J. Steriti and M. A. Fiddy, \"Blind deconvolution of images by use of neural networks,\" Opt. Lett. 19, 575-577 (1994)"
   ]
  },
  {
   "cell_type": "markdown",
   "id": "56d17522",
   "metadata": {},
   "source": [
    "---\n",
    "\n",
    "## <span style=\"color:Orange\">Acknowledgements</span>\n",
    "\n",
    "* Initial version: Max Gold with some guidence from Mark Neubauer\n",
    "\n",
    "© Copyright 2023"
   ]
  }
 ],
 "metadata": {
  "kernelspec": {
   "display_name": "Python 3",
   "language": "python",
   "name": "python3"
  },
  "language_info": {
   "codemirror_mode": {
    "name": "ipython",
    "version": 2
   },
   "file_extension": ".py",
   "mimetype": "text/x-python",
   "name": "python",
   "nbconvert_exporter": "python",
   "pygments_lexer": "ipython2",
   "version": "2.7.6"
  }
 },
 "nbformat": 4,
 "nbformat_minor": 5
}
