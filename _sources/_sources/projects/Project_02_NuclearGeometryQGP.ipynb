{
 "cells": [
  {
   "cell_type": "markdown",
   "metadata": {},
   "source": [
    "# Nuclear Geometry and Characterization of the Quark Gluon Plasma"
   ]
  },
  {
   "cell_type": "markdown",
   "metadata": {},
   "source": [
    "<img src=\"https://raw.githubusercontent.com/illinois-ipaml/MachineLearningForPhysics/main/img/Project_NuclearGeometryQCD-Figure.jpg\" width=400 align=left></img><br>"
   ]
  },
  {
   "cell_type": "markdown",
   "metadata": {},
   "source": [
    "## <span style=\"color:Orange\">Overview</span>"
   ]
  },
  {
   "cell_type": "markdown",
   "metadata": {},
   "source": [
    "Collisions between two nuclei at ultra-relativistic energies are used to create the Quark-Gluon Plamsa (QGP)--a novel state of matter.  In this project, you will learn a bit about what the QGP is and how to think about the geometry of collisions between two nuclei."
   ]
  },
  {
   "cell_type": "markdown",
   "metadata": {},
   "source": [
    "## <span style=\"color:Orange\">Data Sources</span>"
   ]
  },
  {
   "cell_type": "markdown",
   "metadata": {},
   "source": [
    "File URLs\n",
    "\n",
    "$b=0$ fm\n",
    "* https://courses.physics.illinois.edu/phys503/fa2023/data/projects/NuclearGeometryQGC/PbPb_b0_10kevents.csv\n",
    "\n",
    "$b=6$ fm\n",
    "* https://courses.physics.illinois.edu/phys503/fa2023/data/projects/NuclearGeometryQGC/PbPb_b6_10kevents.csv"
   ]
  },
  {
   "cell_type": "markdown",
   "metadata": {},
   "source": [
    "## <span style=\"color:Orange\">Questions</span>"
   ]
  },
  {
   "cell_type": "markdown",
   "metadata": {},
   "source": [
    "In the [previous project](https://illinois-ipaml.github.io/MachineLearningForPhysics/_sources/projects/Project_01_NuclearGeometryQGP.html) we discussed how the geometry of the nucleus is characterized in collisions between large nuclei.  As we saw in that project, the shape of the overlap between two nuclei can be expanded in terms of eccentricities:\n",
    "\n",
    "$$\n",
    "\\Large \\varepsilon_n = \\frac{\\sqrt{\\langle r^2\\cos(n\\phi)\\rangle^2 + \\langle r^2\\sin(n\\phi)\\rangle^2}}{\\langle r^2 \\rangle}\n",
    "$$\n",
    "(that project specifically looked at the cases were $n=2$ and $n=3$).\n",
    "Here we're going to carry that a step further and ask how we can determine if the two shapes are correlated with each other.\n",
    "\n",
    "First, we're going to think of the shapes as determined by a vector $\\vec{\\varepsilon}_n = \\varepsilon_n e^{in\\Psi_n}$ where the magnitude is just the $\\varepsilon_n$ above and the direction is given by the phase $\\Psi_n$."
   ]
  },
  {
   "cell_type": "markdown",
   "metadata": {},
   "source": [
    "### <span style=\"color:LightGreen\">Question 01</span>"
   ]
  },
  {
   "cell_type": "markdown",
   "metadata": {},
   "source": [
    "Generate and plot shapes for $n=1$ to $5$ (one plot for each value of $n$).  For example, for $n=1$ you would have $f(x) = 1 + \\varepsilon_1\\cos\\phi$.  Take each value of $\\varepsilon_n = 0.1$ for plotting purposes (you can do this with with python, demos, or any other tool...)."
   ]
  },
  {
   "cell_type": "markdown",
   "metadata": {},
   "source": [
    "Read about the Quark Gluon Plasma (QGP) [here](https://www.science.org/doi/10.1126/science.1215901).  Write a short paragraph explaining the connection between the geometry, the measured Fourier coefficients and the QGP properties."
   ]
  },
  {
   "cell_type": "markdown",
   "metadata": {},
   "source": [
    "### <span style=\"color:LightGreen\">Question 02</span>"
   ]
  },
  {
   "cell_type": "markdown",
   "metadata": {
    "tags": []
   },
   "source": [
    "It's an open question as to whether the angles various angles $\\Psi_n$ are correlated with each other (e.g. is $\\Psi_2$ correlated with $\\Psi_3$?).\n",
    "\n",
    "Generate a bunch of particles ($\\phi$ values) (say 50 particle per event and 1000 events) according to:\n",
    "\n",
    "$$\\frac{dN}{d\\phi} ∝ 1 + 2v_2\\cos(n(\\phi-\\Psi_2)) + 2v_3\\cos(3(\\phi-\\Psi_3))$$\n",
    "in two cases:\n",
    "* Case 1: where $\\Psi_2 = \\Psi_3$ but $\\Psi_2$ is different in every event\n",
    "* Case 2: where $\\Psi_2$ and $\\Psi_3$ are independent of each other and different for every event\n",
    "\n",
    "(let $v_2 = 0.2$ and $v_3 = 0.1$ that are the same for every event).\n",
    "\n",
    "Write code to do a least-squares fit of the two-particle correlations for Case 1 and Case 2.  Use the same principle as in the Week 11:\n",
    "$$\\frac{dN^{ij}}{d\\Delta\\phi} ∝ 1 + \\sum_{n=1}^{\\infty} 2v_n^i v_n^j \\cos(n(\\Delta\\phi))$$\n",
    "only instead of using only the $n=2$ term, also add the $n=3$ term."
   ]
  },
  {
   "cell_type": "markdown",
   "metadata": {},
   "source": [
    "### <span style=\"color:LightGreen\">Question 03</span>"
   ]
  },
  {
   "cell_type": "markdown",
   "metadata": {
    "tags": []
   },
   "source": [
    "Do you get consistent answers for the fit parameters $v_2$ and $v_3$ between Case 1 and Case 2 when you fit ?  Explain what you see."
   ]
  },
  {
   "cell_type": "markdown",
   "metadata": {},
   "source": [
    "### <span style=\"color:LightGreen\">Question 04</span>"
   ]
  },
  {
   "cell_type": "markdown",
   "metadata": {
    "tags": []
   },
   "source": [
    "The $v_n$ values of the particles are proportional to the corresponding $\\varepsilon_n$ values; for each $n$, $v_n \\propto \\varepsilon_n$.  Write a Monte Carlo that generates values for $v_2$ and $v_3$ according to a Bivariate Gaussian distribution with five parameters $\\langle v_2 \\rangle$ and $\\sigma_{v2}$, $\\langle v_3 \\rangle$ and $\\sigma_{v3}$ and $\\rho$, the correlation between $v_2$ and $v_3$. "
   ]
  },
  {
   "cell_type": "markdown",
   "metadata": {},
   "source": [
    "### <span style=\"color:LightGreen\">Question 05</span>"
   ]
  },
  {
   "cell_type": "markdown",
   "metadata": {
    "tags": []
   },
   "source": [
    "Verify the Monte Carlo using the parameters:\n",
    "* $\\langle v_2  \\rangle = 0.25$\n",
    "* $\\langle v_3  \\rangle = 0.18$\n",
    "* $\\sigma_{v2}  = 0.05$\n",
    "* $\\sigma_{v3} = 0.05$\n",
    "* for $\\rho$ of -1.0, 0.0, 0.5 and 1.0\n",
    "and making a scatter plot of $v_2$ vs $v_3$."
   ]
  },
  {
   "cell_type": "markdown",
   "metadata": {},
   "source": [
    "One way to look for correlations between the flow harmonics is a technique called *Symmetric Cumulants* (SC).  These quantities measure the correlation between the coefficients of two separate orders $n$ and $m$.  The SC between orders $m$ and $n$ can be written as\n",
    "$$SC(n,m) =  \\langle \\langle \\cos  (m\\phi_i + n\\phi_j - m\\phi_k -n\\phi_l) \\rangle\\rangle - \\langle \\langle \\cos m (\\phi_i - \\phi_j)  \\rangle \\rangle \\langle \\langle \\cos n (\\phi_i - \\phi_j)  \\rangle \\rangle $$\n",
    "$$=  \\langle v_n^2 v_m^2\\rangle - \\langle v_n^2\\rangle \\langle v_m^2\\rangle$$"
   ]
  },
  {
   "cell_type": "markdown",
   "metadata": {},
   "source": [
    "### <span style=\"color:LightGreen\">Question 06</span>"
   ]
  },
  {
   "cell_type": "markdown",
   "metadata": {
    "tags": []
   },
   "source": [
    "Symmetric cumulants are time consuming to calculate from particle angles due to the four-particle correlation $\\langle \\langle \\cos  (m\\phi_i + n\\phi_j - m\\phi_k -n\\phi_l) \\rangle\\rangle$ (in practice people use a different technique that avoids directly running through these combinations).  \n",
    "\n",
    "However, with the Monte Carlo above, it is possible to calculate the SC(3,2) using the $v_2$ and $v_3$ values you calculated.  Do thta for each value of $\\rho$ and use a bootstrap method to get the uncertainties.  Plot the value of the SC(n,m) as a function of $\\rho$."
   ]
  },
  {
   "cell_type": "markdown",
   "metadata": {},
   "source": [
    "---\n",
    "\n",
    "## <span style=\"color:Orange\">References</span>\n",
    "\n",
    "__[<span style=\"color:Red\">1</span>]__ C. Loizides, J. Kamin, D. d'Enterria, \"Improved Monte Carlo Glauber predictions at present and future nuclear colliders\", _Phys.Rev.C 97 (2018) 5, 054910, Phys.Rev.C 99 (2019) 1, 019901 (erratum)_, e-Print: [1710.07098](https://arxiv.org/abs/1710.07098) [nucl-ex]\n",
    "\n",
    "__[<span style=\"color:Red\">2</span>]__ B.Alver, G.Roland, \"Collision geometry fluctuations and triangular flow in heavy-ion collisions\", _Phys.Rev.C 81 (2010) 054905, Phys.Rev.C 82 (2010) 039903 (erratum)_, e-Print: [1003.0194](https://arxiv.org/abs/1003.0194) [nucl-th]"
   ]
  },
  {
   "cell_type": "markdown",
   "metadata": {},
   "source": [
    "---\n",
    "\n",
    "## <span style=\"color:Orange\">Acknowledgements</span>\n",
    "\n",
    "* Initial version: Anne Sickles\n",
    "\n",
    "© Copyright 2023"
   ]
  }
 ],
 "metadata": {
  "kernelspec": {
   "display_name": "Python 3 (ipykernel)",
   "language": "python",
   "name": "python3"
  },
  "language_info": {
   "codemirror_mode": {
    "name": "ipython",
    "version": 3
   },
   "file_extension": ".py",
   "mimetype": "text/x-python",
   "name": "python",
   "nbconvert_exporter": "python",
   "pygments_lexer": "ipython3",
   "version": "3.9.6"
  }
 },
 "nbformat": 4,
 "nbformat_minor": 4
}
