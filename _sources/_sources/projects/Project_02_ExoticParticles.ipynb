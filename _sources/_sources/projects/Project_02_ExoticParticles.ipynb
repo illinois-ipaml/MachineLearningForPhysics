{
 "cells": [
  {
   "cell_type": "markdown",
   "metadata": {},
   "source": [
    "# ___<span style=\"color:Yellow\">Searching for Exotic Particles</span>___"
   ]
  },
  {
   "cell_type": "markdown",
   "metadata": {},
   "source": [
    "<img src=\"https://raw.githubusercontent.com/illinois-dap/DataAnalysisForPhysicists/main/img/Project_ExoticParticles-Figure.jpg\" width=400 align=left></img><br>"
   ]
  },
  {
   "cell_type": "markdown",
   "metadata": {},
   "source": [
    "## <span style=\"color:Orange\">Overview</span>"
   ]
  },
  {
   "cell_type": "markdown",
   "metadata": {},
   "source": [
    "A number of theories that propose to explain what happened in the very early universe (the first small fraction of a second) and link elementary particle physics and cosmology predict the existence of exotic particles that have yet to be discovered. IF these particles exist, they could contribute significantly to the dark matter in the universe and/or explain other puzzles in particle physics."
   ]
  },
  {
   "cell_type": "markdown",
   "metadata": {},
   "source": [
    "## <span style=\"color:Orange\">Data Sources</span>"
   ]
  },
  {
   "cell_type": "markdown",
   "metadata": {},
   "source": [
    "* https://archive.ics.uci.edu/ml/datasets/HEPMASS ​ (top-level description)"
   ]
  },
  {
   "cell_type": "markdown",
   "metadata": {},
   "source": [
    "## <span style=\"color:Orange\">Questions</span>"
   ]
  },
  {
   "cell_type": "markdown",
   "metadata": {},
   "source": [
    "### <span style=\"color:LightGreen\">Question 01</span>"
   ]
  },
  {
   "cell_type": "markdown",
   "metadata": {
    "tags": []
   },
   "source": [
    "Implement and train a shallow neural network (NN) described in ref __[1]__ for one of the exotic particle hypotheses. You should implement a NN one that makes the training time manageable, like one of the shallow networks with hyperparameters shown in Table 2 of ref __[1]__ or even a smaller network. Can you show the NN classification output?"
   ]
  },
  {
   "cell_type": "markdown",
   "metadata": {},
   "source": [
    "---\n",
    "\n",
    "## <span style=\"color:Orange\">References</span>\n",
    "\n",
    "__[<span style=\"color:Red\">1</span>]__ P.J. Sadowski, D. Whiteson, P. Baldi, \"Searching for Exotic Particles in High-Energy Physics with Deep Learning\", _Nature Commun. 5 (2014) 4308_, e-Print: [1402.4735](https://arxiv.org/abs/1402.4735) [hep-ph]\n",
    "\n",
    "__[<span style=\"color:Red\">2</span>]__ P. Baldi, K. Cranmer, T. Faucett, P. Sadowski, D. Whiteson, \"Parameterized Machine Learning for High-Energy Physics\", _Eur.Phys.J.C 76 (2016) 5, 235_, e-Print: [1601.07913](https://arxiv.org/abs/1601.07913) [hep-ex]"
   ]
  },
  {
   "cell_type": "markdown",
   "metadata": {},
   "source": [
    "---\n",
    "\n",
    "## <span style=\"color:Orange\">Acknowledgements</span>\n",
    "\n",
    "* Initial version: Mark Neubauer\n",
    "\n",
    "© Copyright 2023"
   ]
  }
 ],
 "metadata": {
  "kernelspec": {
   "display_name": "Python 3 (ipykernel)",
   "language": "python",
   "name": "python3"
  },
  "language_info": {
   "codemirror_mode": {
    "name": "ipython",
    "version": 3
   },
   "file_extension": ".py",
   "mimetype": "text/x-python",
   "name": "python",
   "nbconvert_exporter": "python",
   "pygments_lexer": "ipython3",
   "version": "3.9.7"
  }
 },
 "nbformat": 4,
 "nbformat_minor": 4
}
