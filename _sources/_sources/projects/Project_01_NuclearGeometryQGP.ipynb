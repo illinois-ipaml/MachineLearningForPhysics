{
 "cells": [
  {
   "cell_type": "markdown",
   "metadata": {},
   "source": [
    "# Nuclear Geometry and Characterization of the Quark Gluon Plasma"
   ]
  },
  {
   "cell_type": "markdown",
   "metadata": {},
   "source": [
    "<img src=\"https://raw.githubusercontent.com/illinois-dap/DataAnalysisForPhysicists/main/img/Project_NuclearGeometryQCD-Figure.jpg\" width=400 align=left></img><br>"
   ]
  },
  {
   "cell_type": "markdown",
   "metadata": {},
   "source": [
    "## <span style=\"color:Orange\">Overview</span>"
   ]
  },
  {
   "cell_type": "markdown",
   "metadata": {},
   "source": [
    "Collisions between two nuclei at ultra-relativistic energies are used to create the Quark-Gluon Plamsa (QGP)--a novel state of matter.  In this project, you will learn a bit about what the QGP is and how to think about the geometry of collisions between two nuclei."
   ]
  },
  {
   "cell_type": "markdown",
   "metadata": {},
   "source": [
    "## <span style=\"color:Orange\">Data Sources</span>"
   ]
  },
  {
   "cell_type": "markdown",
   "metadata": {},
   "source": [
    "File URLs\n",
    "\n",
    "$b=0$ fm\n",
    "* https://courses.physics.illinois.edu/phys503/fa2023/data/projects/NuclearGeometryQGP/PbPb_b0_10kevents.csv\n",
    "\n",
    "$b=6$ fm\n",
    "* https://courses.physics.illinois.edu/phys503/fa2023/data/projects/NuclearGeometryQGC/PbPb_b6_10kevents.csv"
   ]
  },
  {
   "cell_type": "markdown",
   "metadata": {},
   "source": [
    "## <span style=\"color:Orange\">Questions</span>"
   ]
  },
  {
   "cell_type": "markdown",
   "metadata": {},
   "source": [
    "### <span style=\"color:LightGreen\">Question 01</span>"
   ]
  },
  {
   "cell_type": "markdown",
   "metadata": {},
   "source": [
    "What is the quark-gluon plasma?  Why does it need to be created in collisions of two nuclei?  Make sure to cite any resources you use."
   ]
  },
  {
   "cell_type": "markdown",
   "metadata": {},
   "source": [
    "### <span style=\"color:LightGreen\">Question 02</span>"
   ]
  },
  {
   "cell_type": "markdown",
   "metadata": {
    "tags": []
   },
   "source": [
    "The nuclei involved in these collisions are fully stripped of electrons.  The nucleus itself is composed of a number of protons and neutrons (collectively nucleons).  On average, those nucleons are distributed according to a Woods-Saxon distribution with respect to the center of the nucleus, $r$:\n",
    "\n",
    "$$\n",
    "\\Large \\rho(r) = \\frac{\\rho_0}{1 + exp{((r-c)/z)}}\n",
    "$$\n",
    "\n",
    "For lead (208 nucleons), $c = 6.61 fm$ and $z=0.545 fm$ (a $fm$ is $10^{-15}m$).  Plot the density of nucleons as a function of $r$ for lead."
   ]
  },
  {
   "cell_type": "markdown",
   "metadata": {},
   "source": [
    "### <span style=\"color:LightGreen\">Question 03</span>"
   ]
  },
  {
   "cell_type": "markdown",
   "metadata": {
    "tags": []
   },
   "source": [
    "Two lead nuclei collide with one moving along the positive $z$ direction and one moving along the negative $z$ direction.  When they collide, there is a distance $b$ between the two centers in the $xy$-plane.  Assume the nuclei are each spheres with a radius of 6.61fm.  Plot the shape of the overlap of the two spheres in the $xy$ plane for $b = 0 fm$ and $b = 6 fm$.  Put the center of the overlap region at $x = y = 0$."
   ]
  },
  {
   "cell_type": "markdown",
   "metadata": {},
   "source": [
    "### <span style=\"color:LightGreen\">Question 04</span>"
   ]
  },
  {
   "cell_type": "markdown",
   "metadata": {
    "tags": []
   },
   "source": [
    "The eccentricity of a distribution can be calculated as:\n",
    "\n",
    "$$\n",
    "\\Large \\varepsilon_2 = \\frac{\\sqrt{\\langle r^2\\cos(2\\phi)\\rangle^2 + \\langle r^2\\sin(2\\phi)\\rangle^2}}{\\langle r^2 \\rangle}\n",
    "$$\n",
    "\n",
    "Here $r$ and $\\phi$ are the usual polar coordinate variables (everything is in the $xy-$plane).  Calculate the eccentricity of the overlap shape for these two cases. "
   ]
  },
  {
   "cell_type": "markdown",
   "metadata": {},
   "source": [
    "### <span style=\"color:LightGreen\">Question 05</span>"
   ]
  },
  {
   "cell_type": "markdown",
   "metadata": {
    "tags": []
   },
   "source": [
    "The eccentricity defines the shape of the QGP and it drives an asymmetric explosion of the QGP.  Take a look at this video (up through the 29 minute mark: https://www.youtube.com/watch?v=NTfaIyInhOY).  Briefly summerize what we can learn about the QGP from the geometry of nuclear collisions."
   ]
  },
  {
   "cell_type": "markdown",
   "metadata": {},
   "source": [
    "---\n",
    "\n",
    "The remaining questions refer to the following data sources: \n",
    "\n",
    "$b=0$ fm\n",
    "* https://courses.physics.illinois.edu/phys503/fa2023/data/projects/NuclearGeometryQGP/PbPb_b0_10kevents.csv\n",
    "\n",
    "$b=6$ fm\n",
    "* https://courses.physics.illinois.edu/phys503/fa2023/data/projects/NuclearGeometryQGC/PbPb_b6_10kevents.csv\n",
    "\n",
    "(also linked from above).  \n",
    "\n",
    "The nucleus is a quantum system and the nucleons are not static inside the nucleus.  Since the nucleus is made up of individual nucleons, it is pairs of nucleons which collide (with one nucleon coming from each nucleus) inside of the smooth distribution from Question 3.\n",
    "\n",
    "Each file contains simulations of 10k collisions between two lead nuclei and provides the $x$ and $y$ positions of each of the protons and neutrons that hit a nucleon from the other nucleus (units are in $fm$).  The files are created using the Monte Carlo Glauber Model (ref [[1]](https://arxiv.org/pdf/1710.07098.pdf))"
   ]
  },
  {
   "cell_type": "markdown",
   "metadata": {},
   "source": [
    "### <span style=\"color:LightGreen\">Question 06</span>"
   ]
  },
  {
   "cell_type": "markdown",
   "metadata": {
    "tags": []
   },
   "source": [
    " Calculate the $\\varepsilon_2$ values for each of these collisions and compare to what you got in Question 4 (make a plot!).  Note here you will get a different value of $\\varepsilon_2$ for each collision, so you will have 10k values of $\\varepsilon_2$ for each file.  Shift *each collision* to be centered at the origin by shifting each nucleon collision so that  $\\langle x \\rangle = \\langle y \\rangle = 0$. Calculate the mean, standard deviation and skewness for both values of $b$."
   ]
  },
  {
   "cell_type": "markdown",
   "metadata": {},
   "source": [
    "### <span style=\"color:LightGreen\">Question 07</span>"
   ]
  },
  {
   "cell_type": "markdown",
   "metadata": {
    "tags": []
   },
   "source": [
    "Use Kernel Density Esimation to try to take into account that the nucleons have a finite size. Here's a nice discussion of the proton radius https://en.wikipedia.org/wiki/Proton_radius_puzzle; assume the neutron is the same size here (a pretty good assumption).  Explain how you chose the kernel to use and how sensitive you are to the bandwidth.  How does the eccentricity compare to what you found in Question 6 (write a paragraph and make plots to support your conclusions)."
   ]
  },
  {
   "cell_type": "markdown",
   "metadata": {},
   "source": [
    "### <span style=\"color:LightGreen\">Question 08</span>"
   ]
  },
  {
   "cell_type": "markdown",
   "metadata": {
    "tags": []
   },
   "source": [
    "The effect of fluctuations means that higher order eccentricities can also exist (first discussed in ref [[2]](https://arxiv.org/pdf/1003.0194.pdf)).  Calculate:\n",
    "\n",
    "$$\n",
    "\\Large \\varepsilon_3 = \\frac{\\sqrt{\\langle r^2\\cos(3\\phi)\\rangle^2 + \\langle r^2\\sin(3\\phi)\\rangle^2}}{\\langle r^2 \\rangle}\n",
    "$$\n",
    "\n",
    "for the same collisions.  In general $\\varepsilon_n$ represents the magnitude of the $n\\phi$ symmetry in the angular distribution.  How do the values of $\\varepsilon_2$ and $\\varepsilon_3$ values vary for the two impact parameters?  What about the width of the distributions?"
   ]
  },
  {
   "cell_type": "markdown",
   "metadata": {},
   "source": [
    "---\n",
    "\n",
    "## <span style=\"color:Orange\">References</span>\n",
    "\n",
    "__[<span style=\"color:Red\">1</span>]__ C. Loizides, J. Kamin, D. d'Enterria, \"Improved Monte Carlo Glauber predictions at present and future nuclear colliders\", _Phys.Rev.C 97 (2018) 5, 054910, Phys.Rev.C 99 (2019) 1, 019901 (erratum)_, e-Print: [1710.07098](https://arxiv.org/abs/1710.07098) [nucl-ex]\n",
    "\n",
    "__[<span style=\"color:Red\">2</span>]__ B.Alver, G.Roland, \"Collision geometry fluctuations and triangular flow in heavy-ion collisions\", _Phys.Rev.C 81 (2010) 054905, Phys.Rev.C 82 (2010) 039903 (erratum)_, e-Print: [1003.0194](https://arxiv.org/abs/1003.0194) [nucl-th]"
   ]
  },
  {
   "cell_type": "markdown",
   "metadata": {},
   "source": [
    "---\n",
    "\n",
    "## <span style=\"color:Orange\">Acknowledgements</span>\n",
    "\n",
    "* Initial version: Anne Sickles\n",
    "\n",
    "© Copyright 2023"
   ]
  }
 ],
 "metadata": {
  "kernelspec": {
   "display_name": "Python 3 (ipykernel)",
   "language": "python",
   "name": "python3"
  },
  "language_info": {
   "codemirror_mode": {
    "name": "ipython",
    "version": 3
   },
   "file_extension": ".py",
   "mimetype": "text/x-python",
   "name": "python",
   "nbconvert_exporter": "python",
   "pygments_lexer": "ipython3",
   "version": "3.9.6"
  }
 },
 "nbformat": 4,
 "nbformat_minor": 4
}
