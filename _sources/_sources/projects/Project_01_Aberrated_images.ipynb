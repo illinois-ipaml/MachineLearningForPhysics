{
 "cells": [
  {
   "cell_type": "markdown",
   "id": "df490bd0d33a4370",
   "metadata": {
    "collapsed": false
   },
   "source": [
    "# Aberrated Image Recovery of Ultracold Atoms"
   ]
  },
  {
   "cell_type": "code",
   "execution_count": 3,
   "id": "202f212d105ed49f",
   "metadata": {
    "ExecuteTime": {
     "end_time": "2023-10-26T18:29:53.569275400Z",
     "start_time": "2023-10-26T18:29:53.484948500Z"
    },
    "collapsed": false
   },
   "outputs": [],
   "source": [
    "%matplotlib inline\n",
    "import matplotlib.pyplot as plt\n",
    "import seaborn as sns; sns.set()\n",
    "import numpy as np\n",
    "import pandas as pd\n",
    "import scipy as sp\n",
    "import skimage as ski"
   ]
  },
  {
   "cell_type": "markdown",
   "id": "7537b664c9ec6e76",
   "metadata": {
    "collapsed": false
   },
   "source": [
    "## Overview"
   ]
  },
  {
   "cell_type": "markdown",
   "id": "c02c4aa3",
   "metadata": {},
   "source": [
    "<img src=\"https://raw.githubusercontent.com/illinois-ipaml/MachineLearningForPhysics/main/img/Project_UltraColdAtoms.png\" width=600 align=left></img><br>"
   ]
  },
  {
   "cell_type": "markdown",
   "id": "a0b0567c",
   "metadata": {},
   "source": [
    "## <span style=\"color:Orange\">Overview</span>\n",
    "Over the past 20-30 years the groundwork has been lain for precise experimental control of atomic gases at ultracold temperatures. These ultracold atom gas experiments explore the quantum mechanics of their underlying atomic systems to a diverse set applications ranging from the simulation of computationally intractable physics problems [1] to the sensing of new physics beyond the standard model [2]. Most experiments in this field rely on directly imaging the ultracold gas they make, in order to extract data about the size and shape of the atomic number density distribution being imaged.\n",
    "\n",
    "The goal of this project is introduce you to some image processing techniques from the world of data science and machine learning, as well as to get familiar with an image as a data element. As you will demonstrate, images are a kind of data with a very large number of features, but where almost all of those features within some region of interest are highly correlated. Of interest in this project is how the effects of real imaging systems distort the information contained in an image, and how those effects can be unfolded from the data to recover information about the true density distribution. \n",
    "\n",
    "Capturing all possible kinds of aberrations and noise present in real experimental data of ultracold atom images is outside the scope of the simulated test data in this project. Instead, we limit ourselves to few a key effects: optical aberrations in the form of defocus and primary spherical aberrations, pixelization from a finite detector resolution, and at times toy number density noise simulated as simply Gaussian noise."
   ]
  },
  {
   "cell_type": "markdown",
   "id": "340d2ca1b3531f23",
   "metadata": {
    "collapsed": false
   },
   "source": [
    "## <span style=\"color:Orange\">Data Sources</span>"
   ]
  },
  {
   "cell_type": "markdown",
   "id": "b938a3e0eef8b55d",
   "metadata": {
    "collapsed": false
   },
   "source": [
    "Data is available [here](https://github.com/illinois-ipaml/MachineLearningForPhysics/tree/a97555ae5506e24bf9e42b283390155788962b53/_sources/projects/Project_01_Aberrated_images_additional_material) on the course GitHub, along with ImageSimulation.ipynb, the notebook used to generate the data. You are encouraged to read through that notebook to see how the simulation works and even generate your own datasets if desired.\n",
    "\n",
    "You are welcome to access the images however works best for you, but a simple solution is to download the dataset folder to the same path where this notebook (or the one you plan to do your analysis in) is and use the following helper function to important an image based on the true parameters of the underlying density distribution---found in the image file name. "
   ]
  },
  {
   "cell_type": "code",
   "execution_count": 4,
   "id": "26ebe06c0123629a",
   "metadata": {
    "ExecuteTime": {
     "end_time": "2023-10-26T18:29:53.571276Z",
     "start_time": "2023-10-26T18:29:53.506943Z"
    },
    "collapsed": false
   },
   "outputs": [],
   "source": [
    "def Import_Image(dataset_name, imaging_sys, atom_number, mu_x, mu_y, mu_z, sigma_x, sigma_y, sigma_z, Z_04, seed):\n",
    "    \"\"\"Important an image following the project file naming structure.\n",
    "    \n",
    "    :param dataset_name: str\n",
    "        Name of the dataset.\n",
    "    :param imaging_sys: str\n",
    "        Name of the imaging system (e.g. 'LoNA' or 'HiNA').\n",
    "    :param atom_number: int\n",
    "        Atom number normalization factor. \n",
    "    :param mu_x: float\n",
    "        Density distribution true mean x.\n",
    "    :param mu_y: float\n",
    "        Density distribution true mean y.\n",
    "    :param mu_z: float\n",
    "        Density distribution true mean z.\n",
    "    :param sigma_x: float\n",
    "        Density distribution true sigma x.\n",
    "    :param sigma_y: float\n",
    "        Density distribution true sigma y.\n",
    "    :param sigma_z: float\n",
    "        Density distribution true sigma z.\n",
    "    :param Z_04: float\n",
    "        Coefficient of spherical aberrations.\n",
    "    :param seed: int\n",
    "        Seed for Gaussian noise.\n",
    "    :return: \n",
    "    \"\"\"\n",
    "    dataset_name = dataset_name + '\\\\'\n",
    "    file_name = imaging_sys + 'atom_num=%i.mu=(%0.1f...%0.1f...%0.1f).sigma=(%0.1f...%0.1f...%0.1f).Z04=%0.1f.seed=%i.tiff' % (atom_number, mu_x, mu_x, mu_z, sigma_x, sigma_y, sigma_z, Z04, seed)\n",
    "    im = ski.io.imread(dataset_name + file_name)\n",
    "    return im"
   ]
  },
  {
   "cell_type": "markdown",
   "id": "a8c6b21f91fe8217",
   "metadata": {
    "collapsed": false
   },
   "source": [
    "## <span style=\"color:Orange\">Questions</span>"
   ]
  },
  {
   "cell_type": "markdown",
   "id": "848e93e5aac82209",
   "metadata": {
    "collapsed": false
   },
   "source": [
    "### <span style=\"color:LightGreen\">Question 01</span>"
   ]
  },
  {
   "cell_type": "markdown",
   "id": "3b0c9193765951fa",
   "metadata": {
    "collapsed": false
   },
   "source": [
    "What is a cold atom gas? How cold are we talking? How do experiments bring atoms down to those temperatures?\n",
    "\n",
    "When you research these experiments you will find that the Alkali atoms (Rb, K, Na, etc.) compose the majority set of species used. Why these atoms? Hint: recall high school chemistry. What do these atoms have in common with everyone's favorite quantum system, the hydrogen atom?\n",
    "\n",
    "A helpful resource is Foot's *Atomic Physics* [3]. "
   ]
  },
  {
   "cell_type": "markdown",
   "id": "39bd4c7f84f07040",
   "metadata": {
    "collapsed": false
   },
   "source": [
    "### <span style=\"color:LightGreen\">Question 02</span>"
   ]
  },
  {
   "cell_type": "markdown",
   "id": "b82d7275ae7ecdb9",
   "metadata": {
    "collapsed": false
   },
   "source": [
    "When attempting to measure the number density distribution of cold atom gas in experiment, we typically release the gas from any kind of confinement it was in and let it expand in free-fall before taking an image. When we take a picture thereafter the density distribution often has the shape of Gaussian. Why is that? Think stat mech."
   ]
  },
  {
   "cell_type": "markdown",
   "id": "6e52c41fde62bb53",
   "metadata": {
    "collapsed": false
   },
   "source": [
    "### <span style=\"color:LightGreen\">Question 03</span>"
   ]
  },
  {
   "cell_type": "markdown",
   "id": "d25a732df799b197",
   "metadata": {
    "collapsed": false
   },
   "source": [
    "Real imaging systems have a finite resolution set by the diffraction limit. Given a point source emitting a spherical EM field, a real lens will propagate the field from the object plane to the imaging plane, projecting a pattern which we call the imaging response function, or [point spread function (PSF)](https://en.wikipedia.org/wiki/Point_spread_function), of the system. For any object with finite size, we can think of the resultant image as being formed by a sum over the PSF associated with each point in the object, i.e. a convolution.\n",
    "\n",
    "For a circular lens the shape of the best focus PSF (meaning the shape of an image formed from a point source located on the imaging axis at the best focus) we refer to as the [Airy disk](https://en.wikipedia.org/wiki/Airy_disk). Its first set of zeros are located at $\\rho\\approx3.83$, for a dimensionless radial component $\\rho$. \n",
    "\n",
    "Given this information and the functional form of the Airy disk, estimate the amount of irradiance (or weight) that sits in the central peak of the pattern relative to the whole distribution.\n",
    "\n",
    "If you were to approximate this distribution to a Gaussian with the same peak irradiance, how would the first minima of the Airy disk relate to the $1/e^2$ waist of the Gaussian distribution?\n",
    "\n",
    "In addition to provided links, another useful resource is Goodman's *Introduction to Fourier Optics* [4]."
   ]
  },
  {
   "cell_type": "markdown",
   "id": "fb31f3266b30407a",
   "metadata": {
    "collapsed": false
   },
   "source": [
    "### <span style=\"color:LightGreen\">Questions 04</span>"
   ]
  },
  {
   "cell_type": "markdown",
   "id": "6ac2cb6516391690",
   "metadata": {
    "collapsed": false
   },
   "source": [
    "In the previous question the resolution we were interested in describes the size of the image of a point source in the plane transverse to the axis the image propagates along. What about along the imaging axis? We often calls this axial resolution the depth of field (DOF), although when we want a number to describe it different sources define that value differently.\n",
    "\n",
    "How are the DOF and transverse resolution related to each other? No mathematical relationship is necessary here (although you can if you want to, so long as you restrict yourself to thinking about the axial PSF along $\\rho=0$)."
   ]
  },
  {
   "cell_type": "markdown",
   "id": "e7a1dcf40964dfd9",
   "metadata": {
    "collapsed": false
   },
   "source": [
    "---\n",
    "To answer the rest of the questions in first chunk of this project we will use images from the **Number_estimate** and **Heavy_tails** datasets. This data was generated in the ImageSimulation.ipynb, found at the link above. The images in the **Heavy_tails** dataset depict cold atom gases of variable $\\sigma_{xy}$ and $\\sigma_z$ at an arbitrary atom number, and those in the **Number_estimate** dataset contain images of a large isotropic ($\\sigma_{xy}=\\sigma_z=20$ um) gas across a range of atom numbers and with number noise varying from shot to shot.\n",
    "\n",
    "In generating these images, there are handful of fixed hyperparameters chosen to match a realistic set of experimental conditions. Here we are imaging a thermal gas of Rb$^{87}$ atoms with a $\\lambda=780$ nm (near-infrared) light. That light is collected as by one of two imaging system: a (relatively) high numerical aperture ($\\text{NA}=0.4$) lens and a lower resolution ($\\text{NA}=0.2$) one. The image is projected on to a camera sensor with a pixel size of $\\text{PS}=13$ um, by a telescope with and $\\text{M}=20\\times$ or $\\text{M}=4\\times$ magnification respectively for each lens.\n",
    "\n",
    "The images in the **Heavy_tails** dataset were generated with the high NA system and no number noise and the those in **Number_estimate** dataset were generated with the low NA system including number noise.\n",
    "\n",
    "With the **Number_estimate** dataset you will explore how noise effects your ability to accurately estimate the total number of atoms in an image. Please ImageSimulation.ipynb for a fuller explanation as to what this noise represents.\n",
    "\n",
    "With the **Heavy_tails** dataset you will test the ability of a simple linear decomposition to reduce the dimensionality of the data and confirm whether the 'compressed' image still retains relevant features of the gas. Images involving gases generated with $\\sigma_z\\gtrsim \\text{DOF}$ will acquire a noticeable tail in the image, diverging from the true Gaussian number density distribution. Of interest is how this tail is carried through to the compressed and reconstructed images. \n"
   ]
  },
  {
   "cell_type": "markdown",
   "id": "a24b775f5ec9727c",
   "metadata": {
    "collapsed": false
   },
   "source": [
    "### <span style=\"color:LightGreen\">Question 06</span>"
   ]
  },
  {
   "cell_type": "markdown",
   "id": "37f5109557a51190",
   "metadata": {
    "collapsed": false
   },
   "source": [
    "The data here in this project are images---2D arrays containing greyscale information of the irradiance associated with the image of the gas. What is the dimension of this kind of data?\n",
    "\n",
    "Consider the **Number_estimate** dataset of images and take each image as a sample across all dimensions of the image data. Suppose the question we are interested in is: Can we determine that the number of atoms in the image is greater than $X$? How many samples would we need to fully sample the parameter space of images here if none of the pixels in an image were correlated?"
   ]
  },
  {
   "cell_type": "markdown",
   "id": "72d32b38519bac14",
   "metadata": {
    "collapsed": false
   },
   "source": [
    "### <span style=\"color:LightGreen\">Quesiton 07</span>"
   ]
  },
  {
   "cell_type": "markdown",
   "id": "b28d8af25e283496",
   "metadata": {
    "collapsed": false
   },
   "source": [
    "Take images from the **Number_estimate** dataset where the total atom number of true distribution is $N=100000$ and draw an appropriately binned histogram of the total atom number in the image by summing over all the pixels in the image. Repeat this for the $N=10000$ subset of the dataset.\n",
    "\n",
    "**Note**: in reality the total atom number in these kind of images doesn't come directly from the\n",
    "\n",
    "How are these histograms distinct from each other?"
   ]
  },
  {
   "cell_type": "markdown",
   "id": "4e7a8a43d04e209",
   "metadata": {
    "collapsed": false
   },
   "source": [
    "### <span style=\"color:LightGreen\">Question 08</span>"
   ]
  },
  {
   "cell_type": "markdown",
   "id": "ccabd36994d9e38e",
   "metadata": {
    "collapsed": false
   },
   "source": [
    "Draw histograms for the rest of the data in the **Number_estimate** dataset. Implement a KMeans fit of the 1D atom number data to attempt to recover the true atom number of each image, when comparing images in the following subsets of atom numbers: (7000, 10000, 13000), (70000, 100000, 130000), and (97000, 100000, 103000).\n",
    "\n",
    "Are you able to clearly resolve the atom number for each of the subsets above?"
   ]
  },
  {
   "cell_type": "markdown",
   "id": "7ee52b0183327868",
   "metadata": {
    "collapsed": false
   },
   "source": [
    "### <span style=\"color:LightGreen\">Question 09</span>"
   ]
  },
  {
   "cell_type": "markdown",
   "id": "493a4c61ce95b1fc",
   "metadata": {
    "collapsed": false
   },
   "source": [
    "Take the images in the **Heavy_tails** dataset. Use singular value decomposition (SVD) to generate a compressed version of each image, by decomposing the data and sampling a rank-$k$ subset of the latent variable space. Reconstruct images for a handful of $k$.\n",
    "\n",
    "At what point do images with the same $\\sigma_{xy}$ but different $\\sigma_z$ appear to have the same sized tail in the compressed parameter space?"
   ]
  },
  {
   "cell_type": "markdown",
   "id": "fd796bfc",
   "metadata": {},
   "source": [
    "## <span style=\"color:Orange\">References</span>\n",
    "\n",
    "* [__<span style=\"color:Red\">1</span>__] S. S. Kondov, W. R. McGehee, J. J. Zirbel, and B. DeMarco, Science 334, 66 (2011). \n",
    "\n",
    "* [__<span style=\"color:Red\">2</span>__] W. B. Cairncross, D. N. Gresh, M. Grau, K. C. Cossel, T. S. Roussy, Y. Ni, Y. Zhou, J. Ye, and E. A. Cornell, Physical Review Letters 119, (2017). \n",
    "\n",
    "* [__<span style=\"color:Red\">3</span>__] Goodman, J. W. (2005). Introduction to Fourier optics. 3rd ed.\n",
    "\n",
    "* [__<span style=\"color:Red\">4</span>__] Foot, C. (2005). Atomic physics. Oxford University Press, USA."
   ]
  },
  {
   "cell_type": "markdown",
   "id": "56d17522",
   "metadata": {},
   "source": [
    "---\n",
    "\n",
    "## <span style=\"color:Orange\">Acknowledgements</span>\n",
    "\n",
    "* Initial version: Max Gold with some guidence from Mark Neubauer\n",
    "\n",
    "© Copyright 2023"
   ]
  },
  {
   "cell_type": "code",
   "execution_count": 4,
   "id": "da96915cdcdecbcd",
   "metadata": {
    "ExecuteTime": {
     "end_time": "2023-10-26T18:29:53.585323600Z",
     "start_time": "2023-10-26T18:29:53.530225500Z"
    },
    "collapsed": false
   },
   "outputs": [],
   "source": []
  }
 ],
 "metadata": {
  "kernelspec": {
   "display_name": "Python 3",
   "language": "python",
   "name": "python3"
  },
  "language_info": {
   "codemirror_mode": {
    "name": "ipython",
    "version": 2
   },
   "file_extension": ".py",
   "mimetype": "text/x-python",
   "name": "python",
   "nbconvert_exporter": "python",
   "pygments_lexer": "ipython2",
   "version": "2.7.6"
  }
 },
 "nbformat": 4,
 "nbformat_minor": 5
}
