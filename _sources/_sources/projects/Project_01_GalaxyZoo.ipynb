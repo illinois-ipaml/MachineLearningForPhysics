{
 "cells": [
  {
   "cell_type": "markdown",
   "metadata": {},
   "source": [
    "# Galaxy Zoo"
   ]
  },
  {
   "cell_type": "markdown",
   "metadata": {},
   "source": [
    "<img src=\"https://raw.githubusercontent.com/illinois-ipaml/MachineLearningForPhysics/main/img/Project_GalaxyZoo-galaxypic.png\" width=300 align=left></img>"
   ]
  },
  {
   "cell_type": "markdown",
   "metadata": {},
   "source": [
    "## <span style=\"color:Orange\">Overview</span>"
   ]
  },
  {
   "cell_type": "markdown",
   "metadata": {},
   "source": [
    "Understanding how and why we are here is one of the fundamental questions for the ages. Part of the answer to this question lies in the origins of galaxies, such as our own Milky Way. Yet questions remain about how the Milky Way (or any of the other ~100 billion galaxies in our Universe) was formed and has evolved. Galaxies come in all shapes, sizes and colors: from beautiful spirals to huge ellipticals. “Kevin Schawinski, previously an astrophysicist at Oxford University and co-founder of Galaxy Zoo, described the problem that led to Galaxy Zoo's creation when he was set the task of classifying the morphology of more than 900,000 galaxies by eye that had been imaged by the Sloan Digital Sky Survey at the Apache Point Observatory in New Mexico, USA.”"
   ]
  },
  {
   "cell_type": "markdown",
   "metadata": {},
   "source": [
    "## <span style=\"color:Orange\">Data Sources</span>"
   ]
  },
  {
   "cell_type": "markdown",
   "metadata": {},
   "source": [
    "Original Source\n",
    "* https://www.kaggle.com/competitions/galaxy-zoo-the-galaxy-challenge/data (requires Kaggle account)"
   ]
  },
  {
   "cell_type": "markdown",
   "metadata": {},
   "source": [
    "File URLs\n",
    "* https://courses.physics.illinois.edu/phys503/fa2023/data/projects/GalaxyZoo/all_ones_benchmark.zip\n",
    "* https://courses.physics.illinois.edu/phys503/fa2023/data/projects/GalaxyZoo/all_zeros_benchmark.zip\n",
    "* https://courses.physics.illinois.edu/phys503/fa2023/data/projects/GalaxyZoo/central_pixel_benchmark.zip\n",
    "* https://courses.physics.illinois.edu/phys503/fa2023/data/projects/GalaxyZoo/images_test_rev1.zip\n",
    "* https://courses.physics.illinois.edu/phys503/fa2023/data/projects/GalaxyZoo/images_training_rev1.zip\n",
    "* https://courses.physics.illinois.edu/phys503/fa2023/data/projects/GalaxyZoo/training_solutions_rev1.zip"
   ]
  },
  {
   "cell_type": "markdown",
   "metadata": {},
   "source": [
    "## <span style=\"color:Orange\">Questions</span>"
   ]
  },
  {
   "cell_type": "markdown",
   "metadata": {},
   "source": [
    "### <span style=\"color:LightGreen\">Question 01</span>"
   ]
  },
  {
   "cell_type": "markdown",
   "metadata": {},
   "source": [
    "What is the Sky Survey? What motivated scientists to create such a survey?"
   ]
  },
  {
   "cell_type": "markdown",
   "metadata": {},
   "source": [
    "### <span style=\"color:LightGreen\">Question 02</span>"
   ]
  },
  {
   "cell_type": "markdown",
   "metadata": {
    "tags": []
   },
   "source": [
    "Galaxy Zoo guides its citizen scientists through a nested decision tree - this is what constitutes the classification process. ​Why is it important to be able to classify galaxies? Why are the different shapes of galaxies so important? What information is provided from different galaxy colors?"
   ]
  },
  {
   "cell_type": "markdown",
   "metadata": {},
   "source": [
    "### <span style=\"color:LightGreen\">Question 03</span>"
   ]
  },
  {
   "cell_type": "markdown",
   "metadata": {},
   "source": [
    "After reading a thorough reading of the paper in [[1]](https://arxiv.org/pdf/1308.3496.pdf), ​describe what constitutes the decision tree. What are the conditions described in the decision tree?"
   ]
  },
  {
   "cell_type": "markdown",
   "metadata": {},
   "source": [
    "### <span style=\"color:LightGreen\">Question 04</span>"
   ]
  },
  {
   "cell_type": "markdown",
   "metadata": {
    "tags": []
   },
   "source": [
    "Download file `central_pixel_benchmark.zip` from either of the data source locations above.\n",
    "\n",
    "The header of the Benchmark data looks something like this: \n",
    "\n",
    "```\n",
    "GalaxyID,\n",
    "Class1.1, Class1.2, Class1.3,\n",
    "Class2.1, Class2.2,\n",
    "Class3.1, Class3.2,\n",
    "Class4.1, Class4.2,\n",
    "Class5.1, Class5.2, Class5.3, Class5.4,\n",
    "Class6.1, Class6.2,\n",
    "Class7.1, Class7.2, Class7.3,\n",
    "Class8.1, Class8.2, Class8.3, Class8.4, Class8.5, Class8.6, Class8.7,\n",
    "Class9.1, Class9.2, Class9.3,\n",
    "Class10.1, Class10.2, Class10.3,\n",
    "Class11.1, Class11.2, Class11.3, Class11.4, Class11.5, Class11.6\n",
    "```\n",
    "Label each class number with each corresponding decision tree conditions.\n"
   ]
  },
  {
   "cell_type": "markdown",
   "metadata": {},
   "source": [
    "### <span style=\"color:LightGreen\">Question 05</span>"
   ]
  },
  {
   "cell_type": "markdown",
   "metadata": {
    "tags": []
   },
   "source": [
    "Sample data would look something like the following:\n",
    "\n",
    "```\n",
    "100018,\n",
    "0.468481225, 0.506184901, 0.025333873,\n",
    "0.099843579, 0.406341321,\n",
    "0.095166943, 0.311174378,\n",
    "0.185079516, 0.221261805,\n",
    "0.019014618, 0.157050124, 0.194385937, 0.035890642,\n",
    "0.214294993, 0.785705007,\n",
    "0.195926631, 0.221751402, 0.050803194,\n",
    "0.038988255, 0.014478764, 0.027519262, 0.023837245, 0.063030884, 0.043247289, 0.003193269,\n",
    "0.066031673, 0.010392192, 0.023419713,\n",
    "0.082313979, 0.07125346, 0.031512075,\n",
    "0.012281073, 0.079963984, 0.01434553, 0.006368535, 0.006648832, 0\n",
    "```\n",
    "\n",
    "The first one is the `GalaxyID` and the following are the probabilities of each node. Can you tell what is the most likely (highest likelihood) Class for this galaxy?"
   ]
  },
  {
   "cell_type": "markdown",
   "metadata": {},
   "source": [
    "### <span style=\"color:LightGreen\">Question 06</span>"
   ]
  },
  {
   "cell_type": "markdown",
   "metadata": {
    "tags": []
   },
   "source": [
    "Draw the classification distribution histogram. Can you tell which type of Galaxy is the majority distribution?"
   ]
  },
  {
   "cell_type": "markdown",
   "metadata": {},
   "source": [
    "---\n",
    "\n",
    "## <span style=\"color:Orange\">References</span>\n",
    "\n",
    "__[<span style=\"color:Red\">1</span>]__ K.W. Willet, _et.al_, \"Galaxy Zoo 2: detailed morphological classifications for 304,122 galaxies from the Sloan Digital Sky Survey\", _Mon.Not.Roy.Astron.Soc_. 435 (2013) 2835, e-Print: [1308.3496](https://arxiv.org/abs/1308.3496) [astro-ph.CO]\n"
   ]
  },
  {
   "cell_type": "markdown",
   "metadata": {},
   "source": [
    "---\n",
    "\n",
    "## <span style=\"color:Orange\">Acknowledgements</span>\n",
    "\n",
    "* Initial version: Mark Neubauer\n",
    "\n",
    "© Copyright 2023"
   ]
  }
 ],
 "metadata": {
  "kernelspec": {
   "display_name": "Python 3 (ipykernel)",
   "language": "python",
   "name": "python3"
  },
  "language_info": {
   "codemirror_mode": {
    "name": "ipython",
    "version": 3
   },
   "file_extension": ".py",
   "mimetype": "text/x-python",
   "name": "python",
   "nbconvert_exporter": "python",
   "pygments_lexer": "ipython3",
   "version": "3.9.7"
  }
 },
 "nbformat": 4,
 "nbformat_minor": 4
}
