{
 "cells": [
  {
   "cell_type": "markdown",
   "metadata": {},
   "source": [
    "# Variational Inference"
   ]
  },
  {
   "cell_type": "code",
   "execution_count": null,
   "metadata": {},
   "outputs": [],
   "source": [
    "%matplotlib inline\n",
    "import matplotlib.pyplot as plt\n",
    "import seaborn as sns; sns.set()\n",
    "import numpy as np\n",
    "import pandas as pd\n",
    "import scipy.stats"
   ]
  },
  {
   "cell_type": "markdown",
   "metadata": {},
   "source": [
    "## <span style=\"color:Orange\">Overview</span>"
   ]
  },
  {
   "cell_type": "markdown",
   "metadata": {},
   "source": [
    "Most Bayesian inference problems cannot be solved exactly, so require an approximate method. The MCMC method is one such method, invented in the 1950s. <span style=\"color:violet\">Variational inference</span> is an alternative approximate method, invented in the 1990s:\n",
    " - <span style=\"color:LightGreen\">MCMC</span>: provides an approximate description of the exact posterior distribution (using <span style=\"color:violet\">sampling</span>).\n",
    "\n",
    " - <span style=\"color:LightGreen\">VI</span>: provides an exact description of an approximate posterior distribution (using <span style=\"color:violet\">optimization</span>).\n",
    "\n",
    "The underlying assumptions and numerical algorithms involved (sampling and optimization) are fundamentally different, leading to different tradeoffs between these methods.\n",
    "\n",
    "The essence of VI is to first define a family of PDFs that balance two competing criteria:\n",
    " - convenient for calculations, and\n",
    "\n",
    " - flexible enough to approximately match some unknown target PDF.\n",
    "\n",
    "We then select the family member that is \"closest\" to the target. In a Bayesian context, our target PDF is a posterior distribution, but VI is a more general technique for finding approximate PDFs."
   ]
  },
  {
   "cell_type": "markdown",
   "metadata": {},
   "source": [
    "## <span style=\"color:Lightgreen\">Kullback-Leibler Divergence</span>"
   ]
  },
  {
   "cell_type": "markdown",
   "metadata": {},
   "source": [
    "Variational inference relies on a concept of \"closeness\" between two PDFs, which we call $q(\\theta)$ and $p(\\theta)$. Note that we are talking about \"separation\" in an abstract function space, rather than a coordinate space. Just as with coordinate separation, there are many possible valid definitions, e.g.\n",
    "\n",
    "$$ \\Large\n",
    "(\\sum_i (x_i - y_i)^2)^{1/2} \\quad, \\quad\n",
    "\\sum_i |x_i - y_i| \\quad, \\quad\n",
    "\\max_i\\, |x_i - y_i| \\quad, \\ldots\n",
    "$$\n",
    "\n",
    "VI uses the [Kullback Leibler (KL) divergence](https://en.wikipedia.org/wiki/Kullback%E2%80%93Leibler_divergence) to measure the \"closeness\" of PDFs $q(\\theta)$ and $p(\\theta)$:\n",
    "\n",
    "$$ \\Large\n",
    "\\boxed{\n",
    "\\text{KL}( q \\parallel p ) \\equiv \\int d\\theta\\, q(\\theta)\\, \\log\\frac{q(\\theta)}{p(\\theta)}} \\; .\n",
    "$$\n",
    "\n",
    "Since $q$ is a PDF, KL divergence can also be written as a difference of expectation values over $q$:\n",
    "\n",
    "$$ \\Large\n",
    "\\text{KL}( q \\parallel p ) = \\langle \\log q(\\theta)\\rangle_q - \\langle \\log p(\\theta)\\rangle_q \\; .\n",
    "$$"
   ]
  },
  {
   "cell_type": "markdown",
   "metadata": {
    "solution2": "hidden",
    "solution2_first": true
   },
   "source": [
    "___<span style=\"color:Violet\">EXERCISE</span>___:\n",
    " - Is KL divergence symmetric, $\\text{KL}(q\\parallel p) = \\text{KL}(p\\parallel q)$?\n",
    "\n",
    " - What is the value of $\\text{KL}(q\\parallel p)$ when $p = q$?\n",
    "\n",
    " - What happens to the integrand when either $q(\\theta)$ or $p(\\theta)$ approaches zero?\n",
    "\n",
    " - What bounds, if any, can you place on the value of $\\text{KL}(q\\parallel p)$ given that $p$ and $q$ are PDFs?"
   ]
  },
  {
   "cell_type": "markdown",
   "metadata": {
    "solution2": "hidden"
   },
   "source": [
    "KL divergence is not symmetric since exchanging $q$ and $p$ in the integrand changes its value. This makes KL divergence an unusual measure of separation and means that it is not a true\n",
    "[metric](https://en.wikipedia.org/wiki/Metric_%28mathematics%29).\n",
    "\n",
    "When $p=q$, the log zeros the integrand (except possibly where $q$ has a singularity), resulting in a KL divergence of zero. This is what we would expect for a useful measure of separation.\n",
    "\n",
    "When $q \\rightarrow 0$ the combination $q \\log q \\rightarrow 0$. When $p(\\theta)\\rightarrow 0$, the log term diverges $\\log(1/p)\\rightarrow +\\infty$. As a result, the KL integrand blows up wherever $\\theta$ is very unlikely according to $p$ doesn't care when $\\theta$ is very unlikely according to $q$.\n",
    "\n",
    "A PDF is always $\\ge 0$ but not bounded from above, so the KL divergence is not bounded from above. However, nothing prevents $q(\\theta) < p(\\theta)$, so the integrand can be negative (due to the log) even with $p, q \\ge 0$.\n",
    "\n",
    "It turns out that the KL divergence is always $\\ge 0$ but this is not obvious. The proof relies on the [log sum inequality](https://en.wikipedia.org/wiki/Log_sum_inequality), which in turns relies on [Jensen's inequality](https://en.wikipedia.org/wiki/Jensen's_inequality) which we met earlier.\n",
    "\n",
    "The key insight is that the KL divergence is [convex](https://en.wikipedia.org/wiki/Convex_function) in $q$:\n",
    "\n",
    "$$ \\Large\n",
    "\\text{KL}\\big(\\lambda q_1 + (1-\\lambda) q_2\\parallel p\\big) ~ \\le ~\n",
    "\\lambda\\,\\text{KL}(q_1\\parallel p) + (1-\\lambda)\\,\\text{KL}(q_2\\parallel p) \\; .\n",
    "$$\n",
    "\n",
    "since, for any value of $\\theta$, $p$ and $q$ are just numbers and the integrand\n",
    "\n",
    "$$ \\Large\n",
    "f(q) = q \\log q/p\n",
    "$$\n",
    "\n",
    "is a convex function of $q$:"
   ]
  },
  {
   "cell_type": "code",
   "execution_count": null,
   "metadata": {
    "solution2": "hidden"
   },
   "outputs": [],
   "source": [
    "def plot_convex():\n",
    "    q = np.linspace(0, 2.5, 100)[1:]\n",
    "    f = lambda q, p: q * np.log(q / p)\n",
    "    qlo, qhi = 0.5, 2\n",
    "    for p in (0.5, 1, 2):\n",
    "        plt.plot(q, f(q, p), label='$p={:.1f}$'.format(p))\n",
    "        plt.plot([qlo, qhi], [f(qlo,p), f(qhi,p)], 'k:')\n",
    "    plt.legend()\n",
    "    plt.xlabel('$q$')\n",
    "    plt.ylabel('$f(q) = q\\, log (q/p)$')\n",
    "    \n",
    "plot_convex()"
   ]
  },
  {
   "cell_type": "markdown",
   "metadata": {
    "solution2": "hidden"
   },
   "source": [
    "---"
   ]
  },
  {
   "cell_type": "code",
   "execution_count": null,
   "metadata": {},
   "outputs": [],
   "source": [
    "def calculate_KL(log_q, log_p, theta):\n",
    "    \"\"\"Calculate the KL divergence of q wrt p for single-parameter PDFs.\n",
    "\n",
    "    Uses the trapezoid rule for the numerical integration. Integrals are only\n",
    "    calculated over the input theta range, so are not valid when p or q have\n",
    "    significant mass outside this range.\n",
    "\n",
    "    Regions where either PDF is zero are handled correctly, although an\n",
    "    integrable singularity due to p=0 will result in a divergent KL because the\n",
    "    inputs are tabulated.\n",
    "\n",
    "    Parameters\n",
    "    ----------\n",
    "    log_q : array\n",
    "        Values of log q(theta, s) tabulated on a grid with shape (ns, ntheta)\n",
    "        of s (axis=0) and theta (axis=1).\n",
    "    log_p : array\n",
    "        Values of log p(theta) tabulated on a grid with shape (ntheta) of theta.\n",
    "    theta : array\n",
    "        Values of theta where log_q and log_p are tabulated.\n",
    "\n",
    "    Returns\n",
    "    -------\n",
    "    tuple\n",
    "        Tuple (KL, integrand) where KL is an array of ns divergence values and\n",
    "        integrand is an array with shape (ns, ntheta) of KL integrands.\n",
    "    \"\"\"\n",
    "    # special handling for q=0.\n",
    "    q_log_q = np.zeros_like(log_q)\n",
    "    nonzero = log_q > -np.inf\n",
    "    q_log_q[nonzero] = log_q[nonzero] * np.exp(log_q[nonzero])\n",
    "    integrand = q_log_q - log_p * np.exp(log_q)\n",
    "    return np.trapz(integrand, theta), integrand\n",
    "\n",
    "\n",
    "def plot_KL(q, q_scale_range, p, p_scale, theta_range):\n",
    "    \"\"\"Explanatory plots for the KL divergence.\n",
    "\n",
    "    q and p are arbitrary PDFs defined in scipy.stats. q represents a\n",
    "    family of PDFs by allowing its scale factor to vary in some range.\n",
    "    The target pdf p uses a fixed scale factor.\n",
    "\n",
    "    Parameters\n",
    "    ----------\n",
    "    q : str\n",
    "        Name of a 1D continous random variable defined in scipy.stats.\n",
    "    q_scale_range : list\n",
    "        List [lo, hi] giving the range of scale factors to allow in defining the\n",
    "        q family of PDFs.\n",
    "    p : str\n",
    "        Name of a 1D continous random variable defined in scipy.stats.\n",
    "    p_scale : float\n",
    "        Fixed scale factor to use for the target PDF p.\n",
    "    theta_range : list\n",
    "        List [lo, hi] giving the range to use for plotting and integration.\n",
    "    \"\"\"\n",
    "    q = getattr(scipy.stats, q)\n",
    "    p = getattr(scipy.stats, p)\n",
    "\n",
    "    theta = np.linspace(*theta_range, 251)\n",
    "    log_p = p.logpdf(theta, scale=p_scale)\n",
    "    assert np.all(np.isfinite(log_p))\n",
    "\n",
    "    q_scale = np.linspace(*q_scale_range, 101)\n",
    "    log_q = q.logpdf(theta, scale=q_scale[:, np.newaxis])\n",
    "\n",
    "    KLs, KL_ints = calculate_KL(log_q, log_p, theta)\n",
    "    ibest = np.argmin(KLs)\n",
    "\n",
    "    fig = plt.figure(figsize=(12, 7))\n",
    "    ax = [plt.subplot2grid((2,2), (0,0)), plt.subplot2grid((2,2), (1,0)),\n",
    "          plt.subplot2grid((2,2), (0,1), rowspan=2)]\n",
    "    cmap = sns.color_palette('bright', n_colors=1 + len(KLs)).as_hex()\n",
    "\n",
    "    ax[0].plot(theta, np.exp(log_p), '-', lw=10, c=cmap[0],\n",
    "               alpha=0.25, label='$p(\\\\theta)$')\n",
    "    ax[0].axhline(0., color='gray', lw=1)\n",
    "    ax[1].axhline(0., color='gray', lw=1)\n",
    "    ax[2].axhline(0., color='gray', lw=1)\n",
    "    ax[2].plot(q_scale, KLs, 'k-', label='KL$(q(s) \\parallel p)$')\n",
    "    for i, idx in enumerate((0, ibest, -1)):\n",
    "        c = cmap[i + 1]\n",
    "        label = '$q(\\\\theta;s={:.2f})$'.format(q_scale[idx])\n",
    "        ax[0].plot(theta, np.exp(log_q[idx]), '--', lw=2,\n",
    "                   alpha=1, c=c, label=label)\n",
    "        ax[1].plot(theta, KL_ints[idx], '--', lw=2, alpha=1, c=c)\n",
    "        ax[2].scatter(q_scale[idx], KLs[idx], lw=0, c=cmap[i + 1], s=150)\n",
    "    ax[0].legend()\n",
    "    ax[0].set_ylabel('$p(x), q(\\\\theta; s)$', fontsize='x-large')\n",
    "    ax[0].set_xlim(*theta_range)\n",
    "    ax[0].set_xticklabels([])\n",
    "    ax[0].set_yticks([])\n",
    "    ax[1].set_ylabel('KL$(q \\parallel p)$ integrand', fontsize='x-large')\n",
    "    ax[1].set_xlim(*theta_range)\n",
    "    ax[1].set_xlabel('$\\\\theta$', fontsize='large')\n",
    "    ax[1].set_yticks([])\n",
    "    ax[2].set_xlabel('$q(\\\\theta;s)$ scale $s$', fontsize='large')\n",
    "    ax[2].legend(loc='upper center', fontsize='x-large')\n",
    "    plt.subplots_adjust(left=0.05, hspace=0.05, wspace=0.1)\n",
    "\n",
    "\n",
    "def calculate_ELBO(log_q, log_likelihood, log_prior, theta):\n",
    "    \"\"\"Calculate the ELBO of q for single-parameter PDFs.\n",
    "    \"\"\"\n",
    "    KLqP, integrand = calculate_KL(log_q, log_prior, theta)\n",
    "    integrand = np.exp(log_q) * log_likelihood - integrand\n",
    "    return np.trapz(integrand, theta), integrand\n",
    "\n",
    "\n",
    "def plot_ELBO(q, q_scale_range, likelihood, prior, theta_range, n_data, seed=123):\n",
    "    \"\"\"Explanatory plots for the evidence lower bound (ELBO).\n",
    "\n",
    "    Data is modeled with a single offset (loc) parameter theta with an arbitrary\n",
    "    likelihood and prior. A random sample of generated data is used to calculate\n",
    "    the posterior, which is approximated by adjusting the scale parameter of\n",
    "    the arbitrary PDF family q.\n",
    "\n",
    "    Parameters\n",
    "    ----------\n",
    "    q : str\n",
    "        Name of a 1D continous random variable defined in scipy.stats.\n",
    "    q_scale_range : list\n",
    "        List [lo, hi] giving the range of scale factors to allow in defining the\n",
    "        q family of PDFs.\n",
    "    likelihood : str\n",
    "        Name of a 1D continous random variable defined in scipy.stats.\n",
    "    prior : str\n",
    "        Name of a 1D continous random variable defined in scipy.stats.\n",
    "    theta_range : list\n",
    "        List [lo, hi] giving the range to use for plotting and integration.\n",
    "        The true value of theta used to generate data is (lo + hi) / 2.\n",
    "    n_data : int\n",
    "        Number of data points to generate by sampling from the likelihood with\n",
    "        theta = theta_true.\n",
    "    seed : int\n",
    "        Random number seed to use for reproducible results.\n",
    "    \"\"\"\n",
    "    q = getattr(scipy.stats, q)\n",
    "    likelihood = getattr(scipy.stats, likelihood)\n",
    "    prior = getattr(scipy.stats, prior)\n",
    "\n",
    "    # Generate random data using the midpoint of the theta range as the\n",
    "    # true value of theta for sampling the likelihood.\n",
    "    theta = np.linspace(*theta_range, 251)\n",
    "    theta_true = 0.5 * (theta[0] + theta[-1])\n",
    "    D = likelihood.rvs(\n",
    "        loc=theta_true, size=n_data,\n",
    "        random_state=np.random.RandomState(seed=seed))\n",
    "\n",
    "    # Calculate the likelihood and prior for each theta.\n",
    "    log_L = likelihood.logpdf(D, loc=theta[:, np.newaxis]).sum(axis=1)\n",
    "    log_P = prior.logpdf(theta)\n",
    "\n",
    "    # Calculate the evidence and posterior.\n",
    "    log_post = log_L + log_P\n",
    "    log_evidence = np.log(np.trapz(np.exp(log_post), theta))\n",
    "    log_post -= log_evidence\n",
    "    assert np.all(np.isfinite(log_post))\n",
    "\n",
    "    q_scale = np.linspace(*q_scale_range, 101)\n",
    "    log_q = q.logpdf(theta, scale=q_scale[:, np.newaxis])\n",
    "\n",
    "    KLs, KL_ints = calculate_KL(log_q, log_post, theta)\n",
    "    ibest = np.argmin(KLs)\n",
    "\n",
    "    ELBOs, ELBO_ints = calculate_ELBO(log_q, log_L, log_P, theta)\n",
    "\n",
    "    fig = plt.figure(figsize=(12, 8))\n",
    "    ax = [plt.subplot2grid((2,2), (0,0)), plt.subplot2grid((2,2), (1,0)),\n",
    "          plt.subplot2grid((2,2), (0,1)), plt.subplot2grid((2,2), (1,1))]\n",
    "    cmap = sns.color_palette('bright', n_colors=1 + len(KLs)).as_hex()\n",
    "\n",
    "    ax[0].plot(theta, np.exp(log_post), '-', lw=10, c=cmap[0],\n",
    "               alpha=0.25, label='$P(\\\\theta\\mid D)$')\n",
    "    ax[0].axhline(0., color='gray', lw=1)\n",
    "    ax[1].axhline(0., color='gray', lw=1)\n",
    "    ax[2].axhline(0., color='gray', lw=1)\n",
    "    ax[2].plot(q_scale, KLs, 'k-', label='KL$(q(s) \\parallel p)$')\n",
    "    ax[2].plot(q_scale, log_evidence - ELBOs, 'k:', lw=6,\n",
    "               alpha=0.5, label='$\\log P(D) - ELBO(q(s))$')\n",
    "    for i, idx in enumerate((0, ibest, -1)):\n",
    "        c = cmap[i + 1]\n",
    "        label = '$q(\\\\theta;s={:.2f})$'.format(q_scale[idx])\n",
    "        ax[0].plot(theta, np.exp(log_q[idx]), '--', lw=2,\n",
    "                   alpha=1, c=c, label=label)\n",
    "        ax[1].plot(theta, KL_ints[idx], '--', lw=2, alpha=1, c=c)\n",
    "        ax[2].scatter(q_scale[idx], KLs[idx], lw=0, c=c, s=150)\n",
    "    ax[0].legend()\n",
    "    ax[0].set_ylabel('$p(x), q(\\\\theta; s)$', fontsize='x-large')\n",
    "    ax[0].set_xlim(*theta_range)\n",
    "    ax[0].set_xlabel('Model parameter $\\\\theta$', fontsize='large')\n",
    "    ax[0].set_yticks([])\n",
    "    ax[1].set_ylabel('KL$(q \\parallel p)$ integrand', fontsize='x-large')\n",
    "    ax[1].set_xlim(*theta_range)\n",
    "    ax[1].set_xlabel('Model parameter $\\\\theta$', fontsize='large')\n",
    "    ax[1].set_yticks([])\n",
    "    ax[2].set_xlabel('$q(\\\\theta;s)$ scale $s$', fontsize='large')\n",
    "    ax[2].legend(loc='upper center', fontsize='x-large')\n",
    "\n",
    "    x_lim = 1.1 * np.max(np.abs(D))\n",
    "    ax[3].hist(D, density=True, range=(-x_lim, +x_lim), histtype='stepfilled')\n",
    "    x = np.linspace(-x_lim, +x_lim, 250)\n",
    "    dtheta = 0.25 * (theta[-1] - theta[0])\n",
    "    for theta, ls in zip(\n",
    "        (theta_true - dtheta, theta_true, theta_true + dtheta),\n",
    "        ('--', '-', ':')):\n",
    "        label = '$P(x\\mid \\\\theta={:+.2f})$'.format(theta)\n",
    "        ax[3].plot(x, likelihood.pdf(x, loc=theta), 'k', ls=ls, label=label)\n",
    "    ax[3].set_xlabel('Observed sample $x$')\n",
    "    ax[3].set_xlim(-x_lim, +x_lim)\n",
    "    ax[3].legend()\n",
    "\n",
    "    plt.subplots_adjust(\n",
    "        left=0.05, right=0.95, hspace=0.25, wspace=0.15, top=0.95)\n",
    "    fig.suptitle(\n",
    "        '$\\\\theta_{\\text{true}}' + ' = {:.2f}$ , $\\log P(D) = {:.1f}$'\n",
    "        .format(theta_true, log_evidence), fontsize='large')"
   ]
  },
  {
   "cell_type": "markdown",
   "metadata": {},
   "source": [
    "We will use the `plot_KL` function above to explore some examples:"
   ]
  },
  {
   "cell_type": "code",
   "execution_count": null,
   "metadata": {},
   "outputs": [],
   "source": [
    "help(plot_KL)"
   ]
  },
  {
   "cell_type": "markdown",
   "metadata": {},
   "source": [
    "For our first example, we chose a family $q$ that includes the target $p$. This is generally not feasible but nicely demonstrates our earlier claim that KL$\\ge 0$ with KL$=0$ when $q=p$.\n",
    "\n",
    "In this example, we explore the family of PDFs $q(\\theta; s)$ by varying the scale factor $s$. More generally, the family can be explored with any (multidimensional) parameterization that is convenient for calculations. We need a parameterization of the family $q$ in order to use standard optimization algorithms to find the minimum KL divergence."
   ]
  },
  {
   "cell_type": "code",
   "execution_count": null,
   "metadata": {},
   "outputs": [],
   "source": [
    "plot_KL(q='norm', q_scale_range=[0.75, 1.3], p='norm', p_scale=1.0, theta_range=[-5, +5])"
   ]
  },
  {
   "cell_type": "markdown",
   "metadata": {},
   "source": [
    "Note how (in the bottom left panel) the KL integrand has positive and negative regions: the net area is always positive, however, since KL $\\ge 0$.\n",
    "\n",
    "For our next example, we consider the more realistic case where the family $q$ does not include the target $p$ so we have to settle for the \"closest\" approximation, according to the KL divergence:"
   ]
  },
  {
   "cell_type": "code",
   "execution_count": null,
   "metadata": {
    "scrolled": false
   },
   "outputs": [],
   "source": [
    "plot_KL(q='norm', q_scale_range=[0.8, 1.2], p='laplace', p_scale=0.8, theta_range=[-5, +5])"
   ]
  },
  {
   "cell_type": "markdown",
   "metadata": {},
   "source": [
    "Notice how the \"closest\" $q$ now has KL $>0$.  It also avoids regions where $p \\simeq 0$, since that would blow up the KL integrand.\n",
    "\n",
    "The example above showed that a Gaussian PDF with $s \\simeq 1$ gives the best match a Laplacian PDF with $s = 0.8$. Now, turn this around and find the closest Laplacian $q$ to a Gaussian $p$ with $s = 1$:"
   ]
  },
  {
   "cell_type": "code",
   "execution_count": null,
   "metadata": {},
   "outputs": [],
   "source": [
    "plot_KL(q='laplace', q_scale_range=[0.6, 0.9], p='norm', p_scale=1.0, theta_range=[-5, +5])"
   ]
  },
  {
   "cell_type": "markdown",
   "metadata": {},
   "source": [
    "The answer is a Laplacian with $s\\simeq 0.74$, rather than $0.8$, so a round trip does not end up back where we started!  However, this shouldn't surprise us because the KL divergence is not symmetric in $q$ and $p$.\n",
    "\n",
    "---"
   ]
  },
  {
   "cell_type": "markdown",
   "metadata": {},
   "source": [
    "Note that the KL divergences between Gaussian and Laplacian distributions in the examples above can all be calculated analytically, which is useful for testing but not generally true. The analytic results are summarized below, for reference:\n",
    "\n",
    "$$\n",
    "\\begin{aligned}\n",
    "\\text{KL}_{qp}[G(s_1)\\parallel G(s_2)] &=\n",
    "\\frac{1}{2} r^2 - \\log r - \\frac{1}{2} \\quad& \\quad\n",
    "\\text{KL}_{qp}[G(s_1)\\parallel L(s_2)] &=\n",
    "\\sqrt{\\frac{2}{\\pi}} r - \\log\\left( \\sqrt{\\frac{\\pi}{2}} r\\right) - \\frac{1}{2} \\\\\n",
    "\\text{KL}_{qp}[L(s_1)\\parallel G(s_2)] &=\n",
    "r^2 - \\log\\left(\\sqrt{\\frac{2}{\\pi}}r\\right) - 1 \\quad& \\quad\n",
    "\\text{KL}_{qp}[L(s_1)\\parallel L(s_2)] &=\n",
    "r - \\log r - 1 \\; ,\n",
    "\\end{aligned}\n",
    "$$\n",
    "\n",
    "where $r \\equiv s_1/s_2$ is the ratio of scale parameters.  With $s_2$ fixed, the corresponding minimum KL divergences are:\n",
    "\n",
    "$$\n",
    "\\begin{aligned}\n",
    "\\min \\text{KL}_{qp}[G(s_1=s_2)\\parallel G(s_2)] &= 0 \\quad& \\quad\n",
    "\\min \\text{KL}_{qp}[G(s_1=(\\pi/2)s_2)\\parallel L(s_2)] &=\n",
    "\\sqrt{\\frac{2}{\\pi}} -  \\frac{1}{2}\\log\\frac{\\pi}{2} - \\frac{1}{2} \\\\\n",
    "\\min \\text{KL}_{qp}[L(s_1=s_2/\\sqrt{2})\\parallel G(s_2)] &=\n",
    "\\frac{1}{2}\\log\\frac{\\pi}{2} \\quad& \\quad\n",
    "\\min \\text{KL}_{qp}[L(s_1=s_2)\\parallel L(s_2)] &= 0 \\; .\n",
    "\\end{aligned}\n",
    "$$"
   ]
  },
  {
   "cell_type": "markdown",
   "metadata": {},
   "source": [
    "## <span style=\"color:Lightgreen\">Evidence Lower Bound</span>"
   ]
  },
  {
   "cell_type": "markdown",
   "metadata": {},
   "source": [
    "The KL divergence is a generic method to find the parameterized PDF $q(x,s)$ that \"best\" approximates some target PDF $p(x)$.  For Bayesian inference, the $p$ we care about is the posterior:\n",
    "\n",
    "$$ \\Large\n",
    "p(\\theta) = P(\\theta\\mid D) = \\frac{P(D\\mid \\theta)\\, P(\\theta)}{P(D)} \\; ,\n",
    "$$\n",
    "\n",
    "where:\n",
    " - $\\theta$ are the model parameters and $D$ represents the observed data.\n",
    "\n",
    " - $P(D\\mid \\theta)$ is the likelihood of the data assuming parameters $\\theta$.\n",
    "\n",
    " - $P(\\theta)$ is our prior on the parameters.\n",
    "\n",
    " - $P(D)$ is the \"evidence\".\n",
    " \n",
    "Since we generally cannot calculate the evidence $P(D)$, a useful inference method should not require that we know its value.\n",
    " \n",
    "The **variational Bayesian inference** method has three steps:\n",
    " - Define a family of PDFs $q(\\theta; s)$ that approximate the true posterior $P(\\theta\\mid D)$.\n",
    " - Use optimization to find the value $s^\\ast$ that, according to the KL divergence, best approximates the true posterior.\n",
    " - Use $q(\\theta; s=s^\\ast)$ as an approximation of the true posterior for calculating expectation values, etc.\n",
    " \n",
    "The main tradeoff is in picking the approximate PDF family $q$. A more flexible choice will generally do a better job of approximating the true posterior, but also require more difficult calculations.\n",
    "\n",
    "Plugging the posterior into the KL definition, we can rewrite:\n",
    "\n",
    "$$ \\Large\n",
    "\\begin{aligned}\n",
    "\\text{KL}(q\\parallel p) &= \\int d\\theta\\, q(\\theta) \\log\\left[\n",
    "\\frac{P(D)\\, q(\\theta)}{P(D\\mid \\theta)\\, P(\\theta)}\n",
    "\\right] \\\\\n",
    "&= \\int d\\theta\\, q(\\theta) \\left[\\log P(D) +\n",
    "\\log\\frac{q(\\theta)}{P(\\theta)} - \\log P(D\\mid\\theta) \\right] \\\\\n",
    "&= \\log P(D) + \\text{KL}(q\\parallel P) - \\int d\\theta\\, q(\\theta) \\log P(D\\mid\\theta) \\; .\n",
    "\\end{aligned}\n",
    "$$\n",
    "\n",
    "The three terms on the right-hand side are:\n",
    " - The log of the evidence $P(D)$.\n",
    "\n",
    " - The KL divergence of $q(\\theta)$ with respect to the prior $P(\\theta)$.\n",
    "\n",
    " - The $q$-weighted log-likelihood of the data."
   ]
  },
  {
   "cell_type": "markdown",
   "metadata": {
    "solution2": "hidden",
    "solution2_first": true
   },
   "source": [
    "___<span style=\"color:Violet\">DISCUSS</span>___: Describe the $q(\\theta)$ that would minimize the contribution of each term to their sum (assuming a fixed dataset $D$)."
   ]
  },
  {
   "cell_type": "markdown",
   "metadata": {
    "solution2": "hidden"
   },
   "source": [
    "Solution:\n",
    " - The log of the evidence is a constant offset in the sum, independent of $q$.\\\n",
    "\n",
    " - The KL divergence term is minimized when $q(\\theta) = P(\\theta)$, i.e., it drives $q$ to look like the prior.\n",
    "\n",
    " - The log-likelihood term is minimized when $q(\\theta)$ prefers parameters $\\theta$ that explain the data.\n",
    " \n",
    "The competition between the last two terms is exactly what we need for a useful learning rule that balances prior knowledge with the information gained from new data.\n",
    "\n",
    "---"
   ]
  },
  {
   "cell_type": "markdown",
   "metadata": {},
   "source": [
    "We can rewrite the expression above in terms of the log-evidence as:\n",
    "\n",
    "$$ \\Large\n",
    "\\log P(D) = \\int d\\theta\\, q(\\theta) \\log P(D\\mid\\theta) - \\text{KL}(q\\parallel P) + \\text{KL}(q\\parallel p) \\; .\n",
    "$$\n",
    "\n",
    "Since the last term is $\\ge 0$ (since any KL $\\ge 0$), we find:\n",
    "\n",
    "$$ \\Large\n",
    "\\log P(D) \\ge \\int d\\theta\\, q(\\theta) \\log P(D\\mid\\theta) - \\text{KL}(q\\parallel P) \\; ,\n",
    "$$\n",
    "\n",
    "and call this right-hand side the ___<span style=\"color:Violet\">evidence lower bound</span>___ (ELBO):\n",
    "\n",
    "$$ \\Large\n",
    "\\text{ELBO}(q) \\equiv \\int d\\theta\\, q(\\theta) \\log P(D\\mid\\theta) - \\text{KL}(q\\parallel P) \\; .\n",
    "$$\n",
    "\n",
    "Substituting above, we find that\n",
    "\n",
    "$$ \\Large\n",
    "\\text{KL}(q\\parallel p) = \\log P(D) - \\text{ELBO}(q) \\; ,\n",
    "$$\n",
    "\n",
    "so that the ELBO contains all of the $q$ dependence of the KL divergence of $q$ with respect to $p$. The crucial insights are that:\n",
    " - Minimizing $-\\text{ELBO}(q)$ with respect to $q$ is equivalent to minimizing $\\text{KL}(q\\parallel p)$.\n",
    "\n",
    " - $\\text{ELBO}(q)$ is much easier to calculate since it does not depend on the evidence $P(D)$.\n",
    " \n",
    "Note that, as with the KL divergence, the ELBO can be evaluated in terms of expectation values,\n",
    "\n",
    "$$ \\Large\n",
    "\\text{ELBO}(q) = \\langle \\log P(D\\mid\\theta)\\rangle_q + \\langle \\log P(\\theta)\\rangle_q - \\langle \\log q\\rangle_q \\; .\n",
    "$$\n",
    "\n",
    "The practical significance of this fact is that we can estimate the ELBO using averages of known quantities calculated with (finite) samples drawn from $q$, which effectively uses Monte Carlo integration with [importance sampling](https://en.wikipedia.org/wiki/Importance_sampling)."
   ]
  },
  {
   "cell_type": "markdown",
   "metadata": {},
   "source": [
    "We will use the `plot_ELBO` function defined above to explore some examples:"
   ]
  },
  {
   "cell_type": "code",
   "execution_count": null,
   "metadata": {},
   "outputs": [],
   "source": [
    "help(plot_ELBO)"
   ]
  },
  {
   "cell_type": "markdown",
   "metadata": {},
   "source": [
    "The example below specifies a [Laplacian PDF](https://docs.scipy.org/doc/scipy/reference/generated/scipy.stats.laplace.html) for observing $x$ with an unknown offset parameter $\\theta$,\n",
    "\n",
    "$$ \\Large\n",
    "P(x\\mid \\theta) = \\frac{1}{2}\\, e^{-|x - \\theta|} \\; .\n",
    "$$\n",
    "\n",
    "The resulting likelihood is then:\n",
    "\n",
    "$$ \\Large\n",
    "P(D\\mid\\theta) = \\prod_i P(x_i\\mid\\theta) \\; .\n",
    "$$\n",
    "\n",
    "Our prior knowledge of $\\theta$ is specified by a unit Gaussian,\n",
    "\n",
    "$$ \\Large\n",
    "P(\\theta) = (2\\pi)^{-1/2}\\, e^{-\\theta^2/2} \\; .\n",
    "$$\n",
    "\n",
    "The resulting posterior PDF\n",
    "\n",
    "$$ \\Large\n",
    "P(\\theta\\mid D) = \\frac{P(D\\mid\\theta)\\, P(\\theta)}{P(D)}\n",
    "$$\n",
    "\n",
    "is no longer a simple distribution since it depends on the random data $D$ and reflects its statistical fluctuations. However, as shown below, it is roughly Gaussian, so we use a family $q$ of Gaussians to approximate it."
   ]
  },
  {
   "cell_type": "code",
   "execution_count": null,
   "metadata": {},
   "outputs": [],
   "source": [
    "plot_ELBO(q='norm', q_scale_range=[0.05, 0.15], likelihood='laplace', prior='norm',\n",
    "          theta_range=[-0.6, +0.6], n_data=100)"
   ]
  },
  {
   "cell_type": "markdown",
   "metadata": {
    "solution2": "hidden",
    "solution2_first": true
   },
   "source": [
    "___<span style=\"color:Violet\">DISCUSS</span>___\n",
    " - Is the offset between the KL divergence and -ELBO significant on the scale of variations shown in the upper-right panel?\n",
    "\n",
    " - Is the posterior dominated by the prior or the new data in this example?\n",
    "\n",
    " - How do you expect these plots to change when doubling the number of data samples? (think about it before trying it)."
   ]
  },
  {
   "cell_type": "markdown",
   "metadata": {
    "solution2": "hidden"
   },
   "source": [
    "The offset equals $\\log P(D) \\simeq -145$ so is very significant compared with the variations $\\simeq 0.3$ shown in the upper-right panel.  However, since the offset is constant (with respect to $s$) it does not affect the location of the minimum.\n",
    "\n",
    "Referring to the top-left panel, the posterior has a standard deviation $s\\simeq 0.1$ but but prior is much wider with $s = 1$, so the posterior is dominated by the new data.\n",
    "\n",
    "Doubling the number of data samples will make the data even more informative, leading to a narrower posterior. The best-fitting $q$ will therefore also be narrow, leading to a minimum KL divergence (upper-right panel) at a lower value of $s$.\n",
    "\n",
    "Re-run the example above with `n_data` changed from 100 to 200 to confirm these predictions:"
   ]
  },
  {
   "cell_type": "code",
   "execution_count": null,
   "metadata": {
    "solution2": "hidden"
   },
   "outputs": [],
   "source": [
    "plot_ELBO(q='norm', q_scale_range=[0.05, 0.15], likelihood='laplace', prior='norm',\n",
    "          theta_range=[-0.6, +0.6], n_data=200)"
   ]
  },
  {
   "cell_type": "markdown",
   "metadata": {},
   "source": [
    "## <span style=\"color:Orange\">Practical Calculations with VI</span>"
   ]
  },
  {
   "cell_type": "markdown",
   "metadata": {},
   "source": [
    "MCMC with Metroplis-Hastings updates can be used as a black box for an arbitrary inference problem that only requires that you can calculate your likelihood $P(D\\mid \\theta)$ and prior $P(\\theta)$ for arbitrary parameter values $\\theta$.\n",
    "\n",
    "VI, on the other hand, generally requires more work to setup for a particular problem, but is then often more computationally efficient since it replaces sampling with optimization. A necessary step in any VI inference is to select an approximating family $q$, and this generally requires knowledge of the particular problem and some judgment on how to tradeoff calculational convenience against approximation error.\n",
    "\n",
    "Once you selected a family $q(\\theta; s)$ that is explored by some $s$, you need to be able to:\n",
    " - evaluate the KL divergence of $q(s)$ with respect to $p$ for any $s$, and\n",
    "\n",
    " - find the value of $s$ that minimizes the KL divergence.\n",
    " \n",
    "There are standard numerical optimization methods for the second step, which perform best when you can evaluate derivatives of $q(s)$ with respect to $s$.  The first step either requires an analytic integral over $\\theta$ or a sufficiently accurate numerical approximation to the KL integral. A [recent development](https://arxiv.org/abs/1401.0118) is to use the expectation form of the KL divergence,\n",
    "\n",
    "$$ \\Large\n",
    "\\text{KL}( q \\parallel p ) = \\langle \\log q(\\theta)\\rangle_q - \\langle \\log p(\\theta)\\rangle_q \\; ,\n",
    "$$\n",
    "\n",
    "to replace the integral with averages. This approach changes our requirements on the family $q$ from being able to do integrals involving $q$ to being able to sample from $q$, which is generally much easier. Although this method is known as \"Black Box Variational Inference\", it still lacks the turn-key convenience of MCMC with MH updates.\n",
    "\n",
    "The examples above used a single parameter $\\theta$, to simplify plotting and allow straightforward numerical integration. More interesting problems generally have many parameters, which makes picking a suitable family $q$ much harder.  A common approach, known as the **mean field approximation**, is to assume that the posterior can be factored:\n",
    "\n",
    "$$ \\Large\n",
    "P(\\theta_1, \\theta_2, \\ldots\\mid D) = p_1(\\theta_1)\\, p_2(\\theta_2) \\ldots\n",
    "$$\n",
    "\n",
    "This is certainly not true in general, but does break a difficult multidimensional optimization problem into a sequence of simpler 1D optimization problems, so is sometimes necessary.  Note that this approach is not able to capture any correlations between $\\theta_i$ and $\\theta_j$, so is not a good choice when correlations are expected to be important."
   ]
  }
 ],
 "metadata": {
  "kernelspec": {
   "display_name": "Python 3",
   "language": "python",
   "name": "python3"
  },
  "language_info": {
   "codemirror_mode": {
    "name": "ipython",
    "version": 3
   },
   "file_extension": ".py",
   "mimetype": "text/x-python",
   "name": "python",
   "nbconvert_exporter": "python",
   "pygments_lexer": "ipython3",
   "version": "3.11.2"
  }
 },
 "nbformat": 4,
 "nbformat_minor": 2
}
