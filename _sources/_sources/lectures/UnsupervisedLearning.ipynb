{
  "cells": [
    {
      "cell_type": "markdown",
      "metadata": {
        "id": "JWJA7ZtrbZxT"
      },
      "source": [
        "# Unsupervised Learning"
      ]
    },
    {
      "cell_type": "code",
      "execution_count": null,
      "metadata": {
        "id": "oWChhLTIbZxU"
      },
      "outputs": [],
      "source": [
        "%matplotlib inline\n",
        "import matplotlib.pyplot as plt\n",
        "import seaborn as sns; sns.set()\n",
        "import numpy as np\n",
        "import pandas as pd\n",
        "import os.path\n",
        "import subprocess\n",
        "import matplotlib.collections\n",
        "import scipy.signal\n",
        "from sklearn import model_selection\n",
        "import warnings\n",
        "warnings.filterwarnings('ignore')"
      ]
    },
    {
      "cell_type": "code",
      "execution_count": null,
      "metadata": {
        "colab": {
          "base_uri": "https://localhost:8080/"
        },
        "id": "zMOvSQpCbZxV",
        "outputId": "20ceffd3-5323-489d-ee9d-5742d3ce14b6"
      },
      "outputs": [],
      "source": [
        "import tensorflow.compat.v1 as tf\n",
        "tf.disable_v2_behavior()\n",
        "print(tf.__version__)"
      ]
    },
    {
      "cell_type": "markdown",
      "metadata": {
        "id": "w-N0WVH-uMMQ"
      },
      "source": [
        "Helpers for Getting, Loading and Locating Data"
      ]
    },
    {
      "cell_type": "code",
      "execution_count": null,
      "metadata": {
        "id": "n4zI49zNbZxV"
      },
      "outputs": [],
      "source": [
        "def wget_data(url: str):\n",
        "    local_path = './tmp_data'\n",
        "    p = subprocess.Popen([\"wget\", \"-nc\", \"-P\", local_path, url], stderr=subprocess.PIPE, encoding='UTF-8')\n",
        "    rc = None\n",
        "    while rc is None:\n",
        "      line = p.stderr.readline().strip('\\n')\n",
        "      if len(line) > 0:\n",
        "        print(line)\n",
        "      rc = p.poll()\n",
        "\n",
        "def locate_data(name, check_exists=True):\n",
        "    local_path='./tmp_data'\n",
        "    path = os.path.join(local_path, name)\n",
        "    if check_exists and not os.path.exists(path):\n",
        "        raise RuxntimeError('No such data file: {}'.format(path))\n",
        "    return path"
      ]
    },
    {
      "cell_type": "markdown",
      "metadata": {
        "id": "sIzZx3qTuQaV"
      },
      "source": [
        "## <span style=\"color:Orange\">Get Data</span>"
      ]
    },
    {
      "cell_type": "code",
      "execution_count": null,
      "metadata": {
        "colab": {
          "base_uri": "https://localhost:8080/"
        },
        "id": "4mClSAuBbmMC",
        "outputId": "7af50aa2-debb-436d-b903-7220f3f9fead"
      },
      "outputs": [],
      "source": [
        "wget_data('https://raw.githubusercontent.com/illinois-ipaml/MachineLearningForPhysics/main/data/spectra_data.hf5')"
      ]
    },
    {
      "cell_type": "markdown",
      "metadata": {
        "id": "Y-srRRCLbZxi"
      },
      "source": [
        "# <span style=\"color:Orange\">Networks for Unsupervised Learning</span>"
      ]
    },
    {
      "cell_type": "markdown",
      "metadata": {
        "id": "_VevUqaXbZxi"
      },
      "source": [
        "Neural networks are usually used for supervised learning since their learning is accomplished by optimizing a loss function that compares the network's outputs with some target values. However, it is possible to perform unsupervised learning if we can somehow use the same data for both the input values and the target output values. This requires that the network have the same number of input and output nodes, and effectively means that we are asking it to learn the identify function, which does not sound obviously useful.\n",
        "\n",
        "Suppose we have a single hidden layer with the same number of nodes as the input and output layers, then all the network has to do is pass each input value through to the output, which does not require any training at all!  However, if the hidden layer has fewer nodes then we are asking the network to solve a more interesting problem: how can the input dataset be encoded and then decoded. This is the same **dimensionality reduction** problem we discussed [earlier](Dimensionality.ipynb), and is known as an <span style=\"color:Violet\">autoencoder network</span> since it learns to encode itself:"
      ]
    },
    {
      "cell_type": "markdown",
      "metadata": {},
      "source": [
        "<img src=\"https://raw.githubusercontent.com/illinois-ipaml/MachineLearningForPhysics/main/img/UnsupervisedLearning-AutoEncoder.png\" width=400 align=left></img><br>"
      ]
    },
    {
      "cell_type": "markdown",
      "metadata": {},
      "source": [
        "The network can be thought of as the combination of separate encoder and decoder networks, with the encoder feeding its output latent variables $\\mathbf{z}$ into the decoder. Although the architecture looks symmetric, the encoder and decoder will generally learn different parameters because of the asymmetry introduced by nonlinear activations. These is a high-level design pattern and the internal architectures of the encoder and decoder networks should be customized for the type of data being encoded (and typically combined convolutional and dense layers).\n",
        "\n",
        "See this [blog post](http://kvfrans.com/variational-autoencoders-explained/) for an example based on decoding handwritten digits."
      ]
    },
    {
      "cell_type": "markdown",
      "metadata": {
        "id": "nmVqt01xbZxi"
      },
      "source": [
        "## <span style=\"color:LightGreen\">Autoencoder Example</span>"
      ]
    },
    {
      "cell_type": "markdown",
      "metadata": {
        "id": "UkkYJifpbZxi"
      },
      "source": [
        "Re-use the spectral data for an example. Recall that there are only 200 samples in 500 dimensions:"
      ]
    },
    {
      "cell_type": "code",
      "execution_count": null,
      "metadata": {
        "id": "9eRMoN6EbZxi"
      },
      "outputs": [],
      "source": [
        "X = pd.read_hdf(locate_data('spectra_data.hf5')).values"
      ]
    },
    {
      "cell_type": "code",
      "execution_count": null,
      "metadata": {
        "colab": {
          "base_uri": "https://localhost:8080/",
          "height": 434
        },
        "id": "OFNBIGR9bZxi",
        "outputId": "2d92030b-f1e5-4613-80cb-5862ce075206"
      },
      "outputs": [],
      "source": [
        "for i in (0, 6, 7):\n",
        "    plt.plot(X[i], '.', ms=5)"
      ]
    },
    {
      "cell_type": "markdown",
      "metadata": {
        "id": "dUe8J7nobZxi"
      },
      "source": [
        "The tensorflow layers API initializes parameters assuming that inputs are roughly normalized:"
      ]
    },
    {
      "cell_type": "code",
      "execution_count": null,
      "metadata": {
        "id": "_CqV0FLcbZxi"
      },
      "outputs": [],
      "source": [
        "X0 = np.mean(X, axis=0)\n",
        "Xmax = np.max(np.abs(X - X0))\n",
        "Xn = (X - X0) / Xmax\n",
        "original = lambda x: Xmax * x + X0\n",
        "assert np.allclose(X, original(Xn))"
      ]
    },
    {
      "cell_type": "code",
      "execution_count": null,
      "metadata": {
        "colab": {
          "base_uri": "https://localhost:8080/",
          "height": 434
        },
        "id": "fmcQ1-ApbZxi",
        "outputId": "476dac10-d9b9-465a-a5a1-5c4741719417"
      },
      "outputs": [],
      "source": [
        "for i in (0, 6, 7):\n",
        "    plt.plot(Xn[i], '.', ms=5)"
      ]
    },
    {
      "cell_type": "markdown",
      "metadata": {
        "id": "W3F89nL2bZxi"
      },
      "source": [
        "Tensorflow does not provide a premade autoencoder so we build a custom estimator using the intermediate-level layers API:"
      ]
    },
    {
      "cell_type": "code",
      "execution_count": null,
      "metadata": {
        "id": "p0d9JCHxbZxi"
      },
      "outputs": [],
      "source": [
        "def autoencoder_model(features, labels, mode, params):\n",
        "    \"\"\"Build a graph to TRAIN/TEST/PREDICT an autoencoder model.\n",
        "    \"\"\"\n",
        "    D = params['dimension']\n",
        "    C = params['n_components']\n",
        "    eta = params['learning_rate']\n",
        "\n",
        "    # Build the input layer.\n",
        "    inputs = tf.reshape(features['X'], [-1, D])\n",
        "    # Add encoder hidden layers with softsign activations.\n",
        "    encoded = inputs\n",
        "    for units in params['hidden_units']:\n",
        "        encoded = tf.layers.dense(inputs=encoded, units=units, activation=tf.nn.softsign)\n",
        "    # Add the final encoder layer with linear activation.\n",
        "    latent = tf.layers.dense(inputs=encoded, units=C, activation=None)\n",
        "    # Add decoder hidden layers with softsign activations.\n",
        "    decoded = latent\n",
        "    for units in params['hidden_units'][::-1]:\n",
        "        decoded = tf.layers.dense(inputs=decoded, units=units, activation=tf.nn.softsign)\n",
        "    # The final decoder layer has linear activation.\n",
        "    outputs = tf.layers.dense(inputs=decoded, units=D, activation=None)\n",
        "\n",
        "    # Return predicted labels and probabilities in PREDICT mode.\n",
        "    if mode == tf.estimator.ModeKeys.PREDICT:\n",
        "        return tf.estimator.EstimatorSpec(mode, predictions={\n",
        "            'latent': latent, 'output': outputs})\n",
        "\n",
        "    # Calculate the loss for TRAIN and EVAL modes.\n",
        "    loss = tf.nn.l2_loss(outputs - inputs)\n",
        "\n",
        "    # Compute evaluation metrics.\n",
        "    if mode == tf.estimator.ModeKeys.EVAL:\n",
        "        return tf.estimator.EstimatorSpec(mode, loss=loss)\n",
        "\n",
        "    # Create optimizer.\n",
        "    optimizer = tf.train.AdamOptimizer(learning_rate=eta)\n",
        "    step = optimizer.minimize(loss, global_step=tf.train.get_global_step())\n",
        "    return tf.estimator.EstimatorSpec(mode, loss=loss, train_op=step)"
      ]
    },
    {
      "cell_type": "markdown",
      "metadata": {
        "id": "aatap9ZXbZxi"
      },
      "source": [
        "The subsequent steps are similar to the previous examples:"
      ]
    },
    {
      "cell_type": "code",
      "execution_count": null,
      "metadata": {
        "id": "f06eRnR-bZxi"
      },
      "outputs": [],
      "source": [
        "tf.logging.set_verbosity(tf.logging.WARN)"
      ]
    },
    {
      "cell_type": "code",
      "execution_count": null,
      "metadata": {
        "id": "Vgdh-7PQbZxi"
      },
      "outputs": [],
      "source": [
        "!rm -rf tfs/autoenc"
      ]
    },
    {
      "cell_type": "code",
      "execution_count": null,
      "metadata": {
        "id": "YdJTKjm5bZxi"
      },
      "outputs": [],
      "source": [
        "config = tf.estimator.RunConfig(\n",
        "    model_dir='tfs/autoenc',\n",
        "    tf_random_seed=123\n",
        ")"
      ]
    },
    {
      "cell_type": "code",
      "execution_count": null,
      "metadata": {
        "id": "6xuD1WRIbZxi"
      },
      "outputs": [],
      "source": [
        "autoenc = tf.estimator.Estimator(\n",
        "    config=config,\n",
        "    model_fn=autoencoder_model,\n",
        "    params = dict(\n",
        "        dimension=500,\n",
        "        hidden_units=[4],\n",
        "        n_components=2,\n",
        "        learning_rate=0.01))"
      ]
    },
    {
      "cell_type": "code",
      "execution_count": null,
      "metadata": {
        "id": "2C1-teO5bZxi"
      },
      "outputs": [],
      "source": [
        "autoenc.train(\n",
        "    input_fn=tf.estimator.inputs.numpy_input_fn(\n",
        "        x={'X': Xn}, y=None,\n",
        "        batch_size=200, num_epochs=None, shuffle=True),\n",
        "    steps=1000);"
      ]
    },
    {
      "cell_type": "code",
      "execution_count": null,
      "metadata": {
        "colab": {
          "base_uri": "https://localhost:8080/",
          "height": 396
        },
        "id": "JLZymLVrbZxj",
        "outputId": "60ac8838-d000-4b0c-8c28-28ad09813d5f"
      },
      "outputs": [],
      "source": [
        "def plot_reconstructed(Xn, model):\n",
        "    predictions = model.predict(\n",
        "        input_fn=tf.estimator.inputs.numpy_input_fn(\n",
        "            x={'X': Xn}, y=None, num_epochs=1, shuffle=False))\n",
        "    N, D = Xn.shape\n",
        "    fig = plt.figure(figsize=(8.5, 4))\n",
        "    for i, pred in enumerate(predictions):\n",
        "        Xr = original(pred['output'])\n",
        "        plt.plot(original(Xn[i]), '.', ms=5)\n",
        "        plt.plot(Xr, 'k-', lw=1, alpha=0.5)\n",
        "    plt.xlim(-0.5, D+0.5)\n",
        "    plt.xlabel('Feature #')\n",
        "    plt.ylabel('Normalized Feature Value')\n",
        "\n",
        "plot_reconstructed(Xn[[0, 6, 7]], model=autoenc)"
      ]
    },
    {
      "cell_type": "code",
      "execution_count": null,
      "metadata": {
        "colab": {
          "base_uri": "https://localhost:8080/",
          "height": 510
        },
        "id": "BI3XS4FfbZxj",
        "outputId": "be558e9d-4349-48ce-a66c-f8f58c0cfae7"
      },
      "outputs": [],
      "source": [
        "def plot_latent(Xn, model):\n",
        "    predictions = model.predict(\n",
        "        input_fn=tf.estimator.inputs.numpy_input_fn(\n",
        "            x={'X': Xn}, y=None, num_epochs=1, shuffle=False))\n",
        "    latent = []\n",
        "    for pred in predictions:\n",
        "        latent.append(pred['latent'])\n",
        "    df = pd.DataFrame(latent)\n",
        "    sns.pairplot(df)\n",
        "    return df\n",
        "\n",
        "latent = plot_latent(Xn, model=autoenc)"
      ]
    },
    {
      "cell_type": "markdown",
      "metadata": {
        "id": "OCTYBBtGbZxj"
      },
      "source": [
        "## <span style=\"color:LightGreen\">Variational Autoencoder</span>"
      ]
    },
    {
      "cell_type": "markdown",
      "metadata": {
        "id": "tFbnRQzZbZxj"
      },
      "source": [
        "A further refinement on the autoencoder idea is to learn a posterior probability distribution in the latent variable space, instead of simply mapping each input to its corresponding point in the latent variable space. This is easier than it sounds if we assume that the posterior for each individual sample is described by an (uncorrelated) multi-variate Gaussian.\n",
        "\n",
        "In practice, we simply need to learn how to transform each input to a corresponding vector of means $\\mathbf{\\mu}$ and sigmas $\\mathbf{\\sigma}$ in the latent variable space, effectively doubling the the number of output values for the encoder network, now re-interpreted as a posterior inference network. Since this first stage is effectively a variational model of the posterior, learning its parameters is equivalent to performing a variational inference and we call this approach a <span style=\"color:Violet\">variational autoencoder</span> (VAE).\n",
        "\n",
        "The decoder network is also re-interpreted as a probabilistic generator of realistic (smoothed) data. It is a generator rather than a decoder since it is no longer directly connected to the inputs. After training, it can be useful as a standalone simulator of realistic inputs.\n",
        "\n",
        "Finally we need a prior which we take to be a unit (multivariate) Gaussian in the latent-variable space.  This is an arbitrary choice, but some choice is necessary in order to setup the balance between the influence of each input against some prior that is a key feature of Bayesian learning. In effect, we are reversing the way we usually build a model, which is to specify the parameters then ask what their prior should be.  Instead, we are specifying the prior and then learning a (latent) parameter space that can explain the data with this prior:"
      ]
    },
    {
      "cell_type": "markdown",
      "metadata": {},
      "source": [
        "<img src=\"https://raw.githubusercontent.com/illinois-ipaml/MachineLearningForPhysics/main/img/UnsupervisedLearning-VariationalAutoEncoder.png\" width=400 align=left></img><br>"
      ]
    },
    {
      "cell_type": "markdown",
      "metadata": {
        "id": "4Fv2w0kubZxj"
      },
      "source": [
        "In a bit more detail, the upper network implements a variational model $Q(z;X,\\Theta)$ for the posterior probability density $P(X\\mid z)$ of a single sample $X$, parameterized by its weights and biases in $\\Theta$. Specifically, $Q$ is a multivariate Gaussian in $z$ with parameters $\\mu_z(X, \\Theta)$ and $\\sigma_z(X, \\Theta)$ output by the upper network.\n",
        "\n",
        "The lower network generates $X$ from $z$ and the the part of the loss function that compares its output against the input plays the role of the negative-log likelihood $-\\log P(X\\mid z)$ of a single sample $X$.\n",
        "\n",
        "Recall that in variational inference, we minimize the negative <span style=\"color:Violet\">evidence lower bound</span> (ELBO):\n",
        "\n",
        "$$ \\Large\n",
        "-\\int d z\\, Q(z; X,\\Theta) \\log P(X\\mid z) + \\text{KL}(Q\\parallel P)\n",
        "= \\langle -\\log P(X\\mid z)\\rangle_{z\\sim Q}  + \\text{KL}(Q\\parallel P)\n",
        "\\; ,\n",
        "$$\n",
        "\n",
        "where $P$ is the prior on $z$. Since both $Q$ and $P$ are (multivariate) Gaussians, we can evaluate their KL divergence analytically, as\n",
        "\n",
        "$$ \\Large\n",
        "\\text{KL}(Q\\parallel P) = \\frac{1}{2} \\sum_{i=1}^C\\,\n",
        "\\left[ \\mu_{z,i}^2 + \\sigma_{z,i}^2 - \\log \\sigma_{z,i}^2 - 1 \\right]\n",
        "$$\n",
        "\n",
        "where $C$ is the dimension of the latent space. \n",
        "\n",
        "Therefore, the total loss function we want to optimize combines the likelihood, which compares the input with the generated output, and a KL divergence term.  If we assume that the data samples have Gaussian homoscedastic noise with variance $\\sigma_x^2$, then the first term in the negative ELBO is\n",
        "\n",
        "$$ \\Large\n",
        "-\\log P(X\\mid z) = \\frac{1}{2\\sigma_x^2} \\left| \\mathbf{X}_{out} - \\mathbf{X}_{in}\\right|^2 + \\text{constant} \\; .\n",
        "$$\n",
        "\n",
        "Note that is almost the $L_2$ loss, but since we are combining it with the KL term, we must keep track of the $\\sigma_x^{-2}$ scaling. With this choice of noise model, $\\sigma_x$ is a hyperparameter but other noise models (e.g., Poisson errors) would not need any hyperparameter. After normalization, the uncertainties in this dataset correspond to $\\sigma_x \\simeq 0.017$.\n",
        "\n",
        "Finally, training the overall network accomplishes two goals in parallel:\n",
        " - Find a latent space where a unit Gaussian prior can explain the training data.\n",
        " - Perform variational inference to find the best $Q(z; X, \\Theta)$ that approximates the posteriors $P(z\\mid X)$ for each training sample.\n",
        "\n",
        "See this [tutorial](https://arxiv.org/abs/1606.05908) for more details on the probabilistic background of VAE."
      ]
    },
    {
      "cell_type": "markdown",
      "metadata": {
        "id": "bE_6av5GbZxj"
      },
      "source": [
        "Our custom estimator to implement a VAE shares most of its code with the earlier autoencoder:"
      ]
    },
    {
      "cell_type": "code",
      "execution_count": null,
      "metadata": {
        "id": "VXGVsif1bZxj"
      },
      "outputs": [],
      "source": [
        "def variational_autoencoder_model(features, labels, mode, params):\n",
        "    \"\"\"Build a graph to TRAIN/TEST/PREDICT a variational autoencoder model.\n",
        "    \"\"\"\n",
        "    D = params['dimension']\n",
        "    C = params['n_components']\n",
        "    eta = params['learning_rate']\n",
        "    sigx = params['noise_sigma']\n",
        "\n",
        "    # Build the input layer.\n",
        "    inputs = tf.reshape(features['X'], [-1, D])\n",
        "    # Add encoder hidden layers with softsign activations.\n",
        "    encoded = inputs\n",
        "    for units in params['hidden_units']:\n",
        "        encoded = tf.layers.dense(inputs=encoded, units=units, activation=tf.nn.softsign)\n",
        "\n",
        "    # Add the final encoder layer with linear activation.\n",
        "    # Estimate the posterior mean and t=log(sigma) in the latent space.\n",
        "    latent_mu = tf.layers.dense(inputs=encoded, units=C, activation=None)\n",
        "    latent_t = tf.layers.dense(inputs=encoded, units=C, activation=None)\n",
        "\n",
        "    # Draw random samples from the encoded posterior.\n",
        "    sigma = tf.exp(latent_t)\n",
        "    latent = latent_mu + sigma * tf.random_normal(tf.shape(sigma))\n",
        "\n",
        "    # Add decoder hidden layers with softsign activations.\n",
        "    decoded = latent\n",
        "    for units in params['hidden_units'][::-1]:\n",
        "        decoded = tf.layers.dense(inputs=decoded, units=units, activation=tf.nn.softsign)\n",
        "    # The final decoder layer has linear activation.\n",
        "    outputs = tf.layers.dense(inputs=decoded, units=D, activation=None)\n",
        "\n",
        "    # Return predicted labels and probabilities in PREDICT mode.\n",
        "    if mode == tf.estimator.ModeKeys.PREDICT:\n",
        "        return tf.estimator.EstimatorSpec(mode, predictions={\n",
        "            'mean': latent_mu,\n",
        "            'sigma': sigma,\n",
        "            'latent': latent,\n",
        "            'output': outputs})\n",
        "\n",
        "    # Calculate the loss for TRAIN and EVAL modes.\n",
        "    decoder_loss = tf.reduce_sum((outputs - inputs) ** 2, axis=1) / (2 * sigx)\n",
        "    kl_loss = 0.5 * tf.reduce_sum(latent_mu ** 2 + sigma ** 2 - 2 * latent_t - 1, axis=1)\n",
        "    loss = tf.reduce_mean(decoder_loss + kl_loss)\n",
        "\n",
        "    # Compute evaluation metrics.\n",
        "    if mode == tf.estimator.ModeKeys.EVAL:\n",
        "        return tf.estimator.EstimatorSpec(mode, loss=loss)\n",
        "\n",
        "    # Create optimizer.\n",
        "    optimizer = tf.train.AdamOptimizer(learning_rate=eta)\n",
        "    step = optimizer.minimize(loss, global_step=tf.train.get_global_step())\n",
        "    return tf.estimator.EstimatorSpec(mode, loss=loss, train_op=step)"
      ]
    },
    {
      "cell_type": "code",
      "execution_count": null,
      "metadata": {
        "id": "uXeDvDw-bZxj"
      },
      "outputs": [],
      "source": [
        "tf.logging.set_verbosity(tf.logging.WARN)"
      ]
    },
    {
      "cell_type": "code",
      "execution_count": null,
      "metadata": {
        "id": "jjx8sQhxbZxj"
      },
      "outputs": [],
      "source": [
        "!rm -rf tfs/vae"
      ]
    },
    {
      "cell_type": "code",
      "execution_count": null,
      "metadata": {
        "id": "-X2F0CKgbZxj"
      },
      "outputs": [],
      "source": [
        "config = tf.estimator.RunConfig(\n",
        "    model_dir='tfs/vae',\n",
        "    tf_random_seed=123\n",
        ")"
      ]
    },
    {
      "cell_type": "code",
      "execution_count": null,
      "metadata": {
        "id": "WuGMgyMVbZxj"
      },
      "outputs": [],
      "source": [
        "vae = tf.estimator.Estimator(\n",
        "    config=config,\n",
        "    model_fn=variational_autoencoder_model,\n",
        "    params = dict(\n",
        "        dimension=500,\n",
        "        hidden_units=[],\n",
        "        n_components=2,\n",
        "        noise_sigma=0.015,\n",
        "        learning_rate=0.001))"
      ]
    },
    {
      "cell_type": "code",
      "execution_count": null,
      "metadata": {
        "id": "BKjrdhNLbZxj"
      },
      "outputs": [],
      "source": [
        "vae.train(\n",
        "    input_fn=tf.estimator.inputs.numpy_input_fn(\n",
        "        x={'X': Xn}, y=None,\n",
        "        batch_size=250, num_epochs=None, shuffle=True),\n",
        "    steps=10000);"
      ]
    },
    {
      "cell_type": "markdown",
      "metadata": {
        "id": "azI43ksJbZxj"
      },
      "source": [
        "The plots below summarize the trained network's predictions. The left plot shows random samples drawn from the posteriors of individual samples and the right plot shows the distribution of the training data in the latent space. A few samples are highlighted in red in both plots: ellipses in the right-hand plot show each sample's posterior compared with the prior (dotted red circle)."
      ]
    },
    {
      "cell_type": "code",
      "execution_count": null,
      "metadata": {
        "colab": {
          "base_uri": "https://localhost:8080/",
          "height": 554
        },
        "id": "px62hZMMbZxk",
        "outputId": "e4ea8ba8-aa21-4b58-9c7f-37a2fde961c6"
      },
      "outputs": [],
      "source": [
        "def plot_predicted(Xn, model=vae, nsamples=5, nsig=2.45):\n",
        "    predictions = model.predict(\n",
        "        input_fn=tf.estimator.inputs.numpy_input_fn(\n",
        "            x={'X': Xn}, y=None, num_epochs=1, shuffle=False))\n",
        "    N, D = Xn.shape\n",
        "    mean, sigma, z = [], [], []\n",
        "    _, ax = plt.subplots(1, 2, figsize=(12, 6))\n",
        "    for i, pred in enumerate(predictions):\n",
        "        Xr = original(pred['output'])\n",
        "        if i < nsamples:\n",
        "            ax[0].plot(Xr, 'r-', lw=1, alpha=0.5, zorder=10)\n",
        "        else:\n",
        "            ax[0].plot(Xr, 'k-', lw=4, alpha=0.02)\n",
        "        mean.append(pred['mean'])\n",
        "        sigma.append(pred['sigma'])\n",
        "        z.append(pred['latent'])\n",
        "    ax[0].set_xlim(-0.5, D+0.5)\n",
        "    ax[0].set_xlabel('Feature #')\n",
        "    ax[0].set_ylabel('Feature Value')\n",
        "    mean = np.array(mean)\n",
        "    sigma = np.array(sigma)\n",
        "    z  = np.array(z)\n",
        "    ax[1].scatter(z[:, 0], z[:, 1], s=10, lw=0)\n",
        "    ax[1].add_artist(plt.Circle([0,0], nsig, ls=':', fc='none', ec='r', lw=1))\n",
        "    mu = mean[:nsamples]\n",
        "    ax[1].scatter(mu[:, 0], mu[:, 1], s=25, marker='+', color='r')\n",
        "    widths = nsig * sigma[:nsamples, 0]\n",
        "    heights = nsig * sigma[:nsamples, 1]\n",
        "    angles = np.zeros_like(widths)\n",
        "    ax[1].add_collection(matplotlib.collections.EllipseCollection(\n",
        "        widths, heights, angles, units='xy', offsets=mu, linewidths=1,\n",
        "        transOffset=ax[1].transData, facecolors='none', edgecolors='r'))\n",
        "    ax[1].set_xlabel('Latent variable $z_1$')\n",
        "    ax[1].set_ylabel('Latent variable $z_2$')\n",
        "\n",
        "plot_predicted(Xn)"
      ]
    },
    {
      "cell_type": "markdown",
      "metadata": {
        "id": "ZN6bBoVabZxk"
      },
      "source": [
        "## <span style=\"color:LightGreen\">Generative-Adversarial Network</span>"
      ]
    },
    {
      "cell_type": "markdown",
      "metadata": {
        "id": "K-pbg3ZRbZxk"
      },
      "source": [
        "Building on the theme of a probabilistic generator, we can set up an \"arms race\" between two networks:\n",
        " - A generator that learns to synthesize realistic data.\n",
        "\n",
        " - An adversary that learns to discriminate between real and generated data.\n",
        "\n",
        "<span style=\"color:Violet\">generative-adversarial network</span> (GAN) takes up a game-theoretic approach, unlike a conventional neural network. The network learns to generate from a training distribution through a 2-player game. The two entities are Generator and Discriminator. These two adversaries are in constant battle throughout the training process. Since an adversarial learning method is adopted, we need not care about approximating intractable density functions. \n",
        "\n",
        "It is a [fairly recent idea](https://arxiv.org/abs/1406.2661) (2014):"
      ]
    },
    {
      "cell_type": "markdown",
      "metadata": {},
      "source": [
        "<img src=\"https://raw.githubusercontent.com/illinois-ipaml/MachineLearningForPhysics/main/img/UnsupervisedLearning-GAN.png\" width=800 align=left></img><br>"
      ]
    },
    {
      "cell_type": "markdown",
      "metadata": {},
      "source": [
        "Each training step now has several parts:\n",
        " - Generate some random data.\n",
        "\n",
        " - Test how well the discriminator identifies the generated data as a fake.\n",
        "\n",
        " - Feed the same discriminator some real data.\n",
        "\n",
        " - Test how well the discriminator identifies the real data as real.\n",
        "\n",
        "Optimizing the loss function then simultaneously improves the generator and the discriminator. The usual goal of training a GAN is to obtain a useful generator of realistic data.\n",
        "\n",
        "See this [blog post](http://kvfrans.com/generative-adversial-networks-explained/) for an example based on image generation.\n",
        "\n",
        "There a many more recent developments in generative AI (e.g. transformers, GPTs) since GANs were introduced and it is a very hot topic in AI research.  "
      ]
    }
  ],
  "metadata": {
    "colab": {
      "provenance": []
    },
    "kernelspec": {
      "display_name": "Python 3 (ipykernel)",
      "language": "python",
      "name": "python3"
    },
    "language_info": {
      "codemirror_mode": {
        "name": "ipython",
        "version": 3
      },
      "file_extension": ".py",
      "mimetype": "text/x-python",
      "name": "python",
      "nbconvert_exporter": "python",
      "pygments_lexer": "ipython3",
      "version": "3.11.2"
    }
  },
  "nbformat": 4,
  "nbformat_minor": 0
}
