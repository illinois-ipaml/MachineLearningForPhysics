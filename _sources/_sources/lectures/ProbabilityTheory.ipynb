{
 "cells": [
  {
   "cell_type": "markdown",
   "metadata": {},
   "source": [
    "# Probability Theory"
   ]
  },
  {
   "cell_type": "code",
   "execution_count": null,
   "metadata": {},
   "outputs": [],
   "source": [
    "%matplotlib inline\n",
    "from scipy import stats\n",
    "from scipy.stats import norm\n",
    "import matplotlib.pyplot as plt\n",
    "import numpy as np\n",
    "import pandas as pd"
   ]
  },
  {
   "cell_type": "markdown",
   "metadata": {},
   "source": [
    "## <span style=\"color:Orange\">Introduction</span>"
   ]
  },
  {
   "cell_type": "markdown",
   "metadata": {},
   "source": [
    "Probability theory is a mathematical language for reasoning about uncertain outcomes. Possible sources of uncertainty include:\n",
    " - Inherent randomness in a physical process, e.g., arising from [quantum phenomena](http://algassert.com/quirk#circuit={\"cols\":[]}) or a noisy measurement process.\n",
    "\n",
    " - Incomplete information, e.g., due to a measurement that only observes the partial state of a system or a model that only represents partial state.\n",
    " \n",
    "\n",
    "Probability theory enables us to build quantitative models that describe our data, both seen and not yet seen, so plays an important role in machine learning. A precise formulation is very technical since it must deal with edge cases that we never encounter in practical work. We will skip over most of the technical details here while still introducing the main concepts that are useful to understand the interpretation of measurements."
   ]
  },
  {
   "cell_type": "markdown",
   "metadata": {},
   "source": [
    "## <span style=\"color:Orange\">Axioms of Probability</span>"
   ]
  },
  {
   "cell_type": "markdown",
   "metadata": {},
   "source": [
    "There are different (equally valid) approaches to formulating a theory of probability. Here we follow the approach of Kolmogorov based on set theory, which has three ingredients:\n",
    " 1. A **sample space** $\\Omega$ that defines the set of all possible uncertain outcomes.\n",
    "\n",
    " 2. An **event space** $\\cal F$ of combinations of outcomes (subsets of $\\Omega$).\n",
    "\n",
    " 3. A **probability measure** $P: {\\cal F}\\rightarrow [0,1]$ that assigns numerical probabilities to each event.\n",
    " \n",
    "The tuple $(\\Omega, {\\cal F}, P)$ is a **probability space**.\n",
    "\n",
    "\n",
    "A probability space defines an uncertain process that you can think of as a black box that generate outcomes $\\omega_1, \\omega_2, \\ldots \\in \\Omega$. After each outcome $\\omega_i$, all events containing $\\omega_i$ are said to have **occurred** (so, in general, multiple events occur simultaneously).  Events $A, B, \\ldots$ occur with probabilities $P(A), P(B), \\ldots$, so the probability measure $P$ encodes the dynamics of the uncertain process.\n",
    "\n",
    "Recall the basic operations of set theory that we will use frequently below. The box represents the set of all possible outcomes, $\\Omega$, with individual outcomes $\\omega$ indicated with dots. The labels show some possible subsets within the event space, constructed using the union ($\\cup$), intersection ($\\cap$) and complement ($\\setminus$) operations (in logic, _union_ and _intersection_ are called OR and AND, respectively, and the _complement_ can be thought of as the NOT IN operation):"
   ]
  },
  {
   "cell_type": "markdown",
   "metadata": {},
   "source": [
    "<img src=\"https://raw.githubusercontent.com/illinois-dap/DataAnalysisForPhysicists/main/img/ProbabilityTheory-SetOperations.png\" width=800 align=left></img><br>"
   ]
  },
  {
   "cell_type": "markdown",
   "metadata": {},
   "source": [
    "Should the sample space for a coin toss include the possibility of the coin landing on its edge?  It is up to you.\n",
    "\n",
    "The choice of **event space** is more constrained since it must satisfy the following conditions:\n",
    " - **R1:** If event $A$ is included, then so is its complement $\\Omega \\setminus A$. \n",
    "\n",
    " - **R2:** If events $A_1$ and $A_2$ are included, then so is their union $A_1 \\cup A_2$.  \n",
    "\n",
    "If you start with the events you care about and then repeatedly apply the rules above, you will automatically satisfy the additional conditions that:\n",
    " - The \"everything\" event $A = \\Omega$ is included (as the union of all other subset events).\n",
    "\n",
    " - The \"nothing\" event $A = \\{\\}$ is included (as the complement of the \"everything\" event).\n",
    " \n",
    "The set of all possible subsets of $\\Omega$ is always a valid event space, but other (simpler) choices are possible when you don't care about some subsets (or don't know how to assign probabilities to them)."
   ]
  },
  {
   "cell_type": "markdown",
   "metadata": {
    "solution2": "hidden",
    "solution2_first": true
   },
   "source": [
    "**EXERCISE:** Use the rules above to create the smallest possible event space containing {a} for a sample space consisting of the four possible outcomes {a,b,c,d}."
   ]
  },
  {
   "cell_type": "markdown",
   "metadata": {
    "solution2": "hidden"
   },
   "source": [
    "One way to apply the rules is:\n",
    " - R1: $\\{a\\} \\Rightarrow \\{b,c,d\\}$\n",
    " \n",
    " - R2: $\\{a\\}, \\{b,c,d\\} \\Rightarrow \\{a,b,c,d\\}$\n",
    " \n",
    " - R1: $\\{a,b,c,d\\} \\Rightarrow \\{\\}$\n",
    "\n",
    "The complete event space is then: $\\{\\}, \\{a\\}, \\{b,c,d\\}, \\{a,b,c,d\\}.$"
   ]
  },
  {
   "cell_type": "markdown",
   "metadata": {
    "solution2": "hidden",
    "solution2_first": true
   },
   "source": [
    "**EXERCISE:** Use the rules above to create the smallest possible event space containing $\\{a\\}$ and $\\{b\\}$ for the same sample space."
   ]
  },
  {
   "cell_type": "markdown",
   "metadata": {
    "solution2": "hidden"
   },
   "source": [
    "One way to apply the rules is:\n",
    " - R1: $\\{a\\} \\Rightarrow \\{b,c,d\\}$\n",
    "\n",
    " - R1: $\\{b\\} \\Rightarrow \\{a,c,d\\}$\n",
    "\n",
    " - R2: $\\{a\\}, \\{b\\} \\Rightarrow \\{a,b\\}$\n",
    "\n",
    " - R1: $\\{a,b\\} \\Rightarrow \\{c,d\\}$\n",
    "\n",
    " - R2: $\\{a,b\\}, \\{c,d\\} \\Rightarrow \\{a,b,c,d\\}$\n",
    "\n",
    " - R1: $\\{a,b,c,d\\} \\Rightarrow \\{\\}$\n",
    " \n",
    "The complete event space is then: $\\{\\}, \\{a\\}, \\{b\\}, \\{a,b\\}, \\{c,d\\}, \\{b,c,d\\}, \\{a,c,d\\}, \\{a,b,c,d\\}$.\n",
    "\n",
    "Note that both of these examples allow us to reason about the probabilities of some outcomes without ever needing specify the probabilities of other outcomes.  That's why we need the second Kolmogorov axiom."
   ]
  },
  {
   "cell_type": "markdown",
   "metadata": {},
   "source": [
    "Once you have specified your sample and event spaces, you are ready to assign probabilities to each event. This where you make quantitative statements that define how your probability universe works. In the example above we set $P(\\{\\uparrow\\}) = P(\\{\\downarrow\\}) = 0.5$, but you could equally well define an alternate reality where $P(\\{\\uparrow\\}) = 0.2$ and $P(\\{\\downarrow\\}) = 0.8$.\n",
    "\n",
    "The **Kolmogorov axioms** are that:\n",
    " - For any event $A$, $\\Large P(A) \\ge 0$.\n",
    "\n",
    " - $\\Large P(\\Omega) = 1$ (the \"everything\" event).\n",
    "\n",
    " - If events $A_1, A_2, \\ldots$ have no outcomes in common (i.e., they are *disjoint* $A_i \\cap A_j = \\{\\}$), then:\n",
    "\n",
    "$$ \\Large\n",
    "P(A_1 \\cup A_2 \\cup \\ldots) = P(A_1) + P(A_2) + \\ldots \\; .\n",
    "$$"
   ]
  },
  {
   "cell_type": "markdown",
   "metadata": {
    "solution2": "hidden",
    "solution2_first": true
   },
   "source": [
    "**DISCUSS:** How might you formulate a probability space for an electron whose spin is time dependent, e.g., because it is in an energy eigenstate that mixes the two spin states."
   ]
  },
  {
   "cell_type": "markdown",
   "metadata": {
    "solution2": "hidden"
   },
   "source": [
    "We first need to define all possible outcomes.  Since outcomes are the results of measurements, we need to specify when measurements are performed and whether multiple measurements might be performed on the same electron.\n",
    "\n",
    "Suppose measurements are always made at a fixed time $t_1$ and time $t_2 > t_1$, then there are four possible outcomes: $(\\uparrow,\\uparrow), (\\uparrow,\\downarrow), (\\downarrow,\\uparrow), (\\downarrow,\\downarrow)$. Next, build an event space containing the outcomes you care about (as in the exercises above). Finally, assign each event's probability using quantum mechanics.\n",
    "\n",
    "This construction could be easily generalized to more measurements at predetermined times, but if measurements are allowed at arbitrary times we need a different approach.  In the most general case, the possible measurements are specified by a sequence of $M$ increasing times $0 \\le t_1 \\le t_2 \\le \\ldots \\le t_M$, where $M = 1, 2, 3, \\ldots$. This leads to an infinite (but enumerable) set of resulting possible outcomes.  However, we could still chose a relatively simple event space, for example:\n",
    " - a: nothing event\n",
    "\n",
    " - b: at least one measurement before $t = 1\\,\\mu\\text{'s}$\n",
    "\n",
    " - c: no measurements before $t = 1\\,\\mu\\text{'s}$\n",
    "\n",
    " - d: everything event."
   ]
  },
  {
   "cell_type": "markdown",
   "metadata": {},
   "source": [
    "The three axioms above are sufficient to derive many useful properties of a probability measure $P$, including ($\\subseteq$ means \"subset\"):\n",
    "\n",
    " 1. $\\Large P(A) + P(\\Omega\\setminus A) = 1$\n",
    "\n",
    " 2. $\\Large A\\subseteq B \\implies P(A) \\le P(B)$\n",
    "\n",
    " 3. $\\Large P(A\\cap B) \\le \\min(P(A), P(B))$\n",
    "\n",
    " 4. $\\Large P(A\\cup B) = P(A) + P(B) - P(A\\cap B)$\n",
    " \n",
    "These all make sense when translated into corresponding Venn diagrams (try it, to convince yourself). The last property is useful for replacing the probability of **A or B** with the probability of **A and B** in an expression (or vice versa).\n",
    "\n",
    "We have already seen one special case of the third property above (\"disjoint\" means non-overlapping):\n",
    "\n",
    "$$ \\Large\n",
    "\\text{When } A, B\\ \\text{are disjoint}\\,\\Rightarrow P(A\\cap B) = 0 \\; .\n",
    "$$\n",
    "\n",
    "Another important special case is:\n",
    "\n",
    "$$ \\Large\n",
    "P(A\\cap B) = P(A) P(B) \\; .\n",
    "$$\n",
    "\n",
    "In this case, we say the events $A$ and $B$ are **independent**. "
   ]
  },
  {
   "cell_type": "markdown",
   "metadata": {},
   "source": [
    "## <span style=\"color:Orange\">Disjoint vs. Independence</span>"
   ]
  },
  {
   "cell_type": "markdown",
   "metadata": {},
   "source": [
    "By independence (considering events A and B), we mean that an occurance of A does not depend on the occurance of B\n",
    "\n",
    "By disjoint of two events we mean that whatever is happening in A cannot happen in B.\n",
    "\n",
    "Lets say that you are tossing a dice twice. In the first trial, possible outcomes are either faces with numbers 1,2,3,4,5,6. Let us consider  probability of coming a even number(A) and odd number(B). Now if the outcome is an even number (A), then it can not be an odd number(B) i.e. whatever happens in A can not happen in B. So A and B are disjoint. \n",
    "\n",
    "Now consider occurrence of no 6 (A) in first toss and the result (B) of the second trial. Getting 6 in second trial does not depend upon whether or not we got a 6 on the first trial. i.e. we say B is independent of A."
   ]
  },
  {
   "cell_type": "markdown",
   "metadata": {},
   "source": [
    "In the following we will introduce several new concepts related to probability, but keep in mind that probability is only defined on subsets of outcomes (events), so any new concept must translate to a statement about events."
   ]
  },
  {
   "cell_type": "markdown",
   "metadata": {},
   "source": [
    "## <span style=\"color:Orange\">Conditional Probability and Bayes' Rule</span>"
   ]
  },
  {
   "cell_type": "markdown",
   "metadata": {},
   "source": [
    "The probability of event $A$ **given that $B$ has occurred**, written $P(A\\mid B)$, is a central concept in machine learning but does not appear above. Since $P$ is only defined for events, and $A\\mid B$ is not an event, the notation does not even make sense!  Instead, it is shorthand for this ratio of valid probabilities:\n",
    "\n",
    "$$ \\Large\n",
    "\\boxed{\n",
    "P(A\\mid B) \\equiv \\frac{P(A\\cap B)}{P(B)}} \\;.\n",
    "$$\n",
    "\n",
    "This definition requires that $P(B) > 0$, which is not true for all events $B$, but then necessarily has a value between zero and one (draw a Venn diagram to convince yourself), so makes sense to describe as a **probability**. \n",
    "\n",
    "Note that we are introducing conditional probability as a *definition*, not a result of some calculation, but there are other ways to formulate probability theory in which $P(A\\mid B)$ is included in the initial axioms.\n",
    "\n",
    "**A conditional probability effectively shrinks the sample space $\\Omega$ to the outcomes in $B$, resulting in a new probability space with renormalized probabilities.**"
   ]
  },
  {
   "cell_type": "markdown",
   "metadata": {
    "solution2": "hidden",
    "solution2_first": true
   },
   "source": [
    "**EXERCISE:** Study this [visualization](https://setosa.io/conditional/) of conditional probability.\n",
    "1. What is the full sample space of outcomes $\\Omega$?\n",
    "\n",
    "2. Explain how the horizontal bars represent events. Are they are complete event space?\n",
    "\n",
    "3. Explain how the colors of the balls represent event probabilities or conditional probabilities."
   ]
  },
  {
   "cell_type": "markdown",
   "metadata": {
    "solution2": "hidden"
   },
   "source": [
    "Answers:\n",
    " 1. The full sample space consists of all possible horizontal positions for a single ball. (We could also define a multi-ball sample space, but that's not what this visualization is intended for).\n",
    "\n",
    " 2. Each horizontal bar represents a set of outcomes where the horizontal position lies in some interval. The  events shown are not a complete event space since, for example, they are missing the \"nothing\" and \"everything\" events.\n",
    "\n",
    " 3. With the \"world\" button selected, the histogram shows event probabilities. With any other button select, the  conditional probabilities are shown."
   ]
  },
  {
   "cell_type": "markdown",
   "metadata": {},
   "source": [
    "When $A$ and $B$ are independent events, the conditional probability ratio simplifies to:\n",
    "\n",
    "$$ \\Large\n",
    "\\text{When } A, B\\,\\text{ are independent}\\implies P(A\\mid B) = P(A) \\; .\n",
    "$$\n",
    "\n",
    "If we compare $P(A\\mid B)$ and $P(B\\mid A)$ we find that:\n",
    "\n",
    "$$ \\Large\n",
    "\\boxed{\n",
    "P(A\\mid B) = P(B\\mid A) \\frac{P(A)}{P(B)}\\; ,}\n",
    "$$\n",
    "\n",
    "If $P(A) \\ll P(B)$, then $P(A\\mid B) \\ll P(B\\mid A)$. However, there is a [natural tendency](https://en.wikipedia.org/wiki/Confusion_of_the_inverse) to assume that $P(A\\mid B) \\simeq P(B\\mid A)$ in informal reasoning, so be careful!\n",
    "\n",
    "This relationship between $P(A\\mid B)$ and $P(B\\mid A)$ is known as **Bayes' rule**.  Although there is some controversy and debate surrounding *Bayesian statistics*, Bayes' rule follows directly from the definition of conditional probability and is firmly established.  (The Bayesian controversy, which we will discuss later, is over what constitutes a valid $A$ or $B$)."
   ]
  },
  {
   "cell_type": "markdown",
   "metadata": {},
   "source": [
    "## <span style=\"color:Orange\">Random Variables</span>"
   ]
  },
  {
   "cell_type": "markdown",
   "metadata": {},
   "source": [
    "A probability space connects sets of possible outcomes with numerical probabilities, but we also need a way to characterize the outcomes themselves numerically.  **Random variables** fill this gap.\n",
    "\n",
    "A random variable $X: \\Omega\\rightarrow\\mathbb{R}$ labels each possible outcome $\\omega\\in\\Omega$ with a real number $x = X(\\omega)$.  The probability $P(x)$ of a specific random variable value $x$ is then *defined* to be:\n",
    "\n",
    "$$ \\Large\n",
    "\\boxed{\n",
    "P(X=x) \\equiv P\\left(\\{ \\omega: X(\\omega) = x \\}\\right)} \\; .\n",
    "$$\n",
    "\n",
    "We often write $P(x)$ as shorthand for $P(X=x)$.  Note that, as with $P(A|B)$ earlier, this is a *definition*, not a result, which translates a new notation into a probability assigned to an event.\n",
    "\n",
    "*Technical points:*\n",
    " - *We are assuming that $X$ varies continuously, since that is the most common case in scientific data. Random variables can also be discrete, leading to a set of parallel definitions but with some different notation.*\n",
    "\n",
    " - *$P$ is only defined for events, but what if the set $\\{ \\omega: X(\\omega) = x \\}$ is not in the event space? There are some restrictions on $X(\\omega)$ that prevent this happening.*"
   ]
  },
  {
   "cell_type": "markdown",
   "metadata": {
    "solution2": "hidden",
    "solution2_first": true
   },
   "source": [
    "**DISCUSS:** Try this [visual demonstration](https://setosa.io/conditional/) of how a random variable is simply an arbitrary labeling of possible outcomes:\n",
    " "
   ]
  },
  {
   "cell_type": "markdown",
   "metadata": {
    "solution2": "hidden"
   },
   "source": []
  },
  {
   "cell_type": "markdown",
   "metadata": {},
   "source": [
    "We can generalize the equality condition above, $X(\\omega) = x$, to any well-defined condition, for example:\n",
    "\n",
    "$$ \\Large\n",
    "P(a\\le X \\le b) \\equiv P\\left(\\{ \\omega: a \\le X(\\omega) \\le b \\}\\right) \\; .\n",
    "$$\n",
    "\n",
    "The result will always be in the interval $[0,1]$ because it reduces to the probability assigned to some event."
   ]
  },
  {
   "cell_type": "markdown",
   "metadata": {},
   "source": [
    "## <span style=\"color:Orange\">Cumulative Distribution Function</span>"
   ]
  },
  {
   "cell_type": "markdown",
   "metadata": {},
   "source": [
    "One particularly useful condition yields the **cumulative distribution function (CDF)**:\n",
    "\n",
    "$$ \\Large\n",
    "F_X(x) \\equiv P\\left(\\{ \\omega: X(\\omega) \\le x\\} \\right) \\; .\n",
    "$$\n",
    "\n",
    "The CDF always rises monotonically from 0 to 1 and is always well defined."
   ]
  },
  {
   "cell_type": "markdown",
   "metadata": {},
   "source": [
    "## <span style=\"color:Orange\">Probability Density Function</span>"
   ]
  },
  {
   "cell_type": "markdown",
   "metadata": {},
   "source": [
    "When the CDF is differentiable everywhere, we can also calculate the **probability density function (PDF)**:\n",
    "\n",
    "$$ \\Large\n",
    "f_X(x) \\equiv \\frac{d}{dx} F_X(x) \\; .\n",
    "$$\n",
    "\n",
    "Note that, while CDF is a true probability and always in $[0,1]$, this is not true of the PDF, for which we can only say that PDF $\\ge 0$. Also, the PDF will, in general, have dimensions introduced by the derivative.\n",
    "\n",
    "A PDF is a *density* in the sense that:\n",
    "\n",
    "$$ \\Large\n",
    "\\boxed{\n",
    "P\\left(\\{\\omega: x \\le X \\le x + \\Delta x\\}\\right) \\simeq f_X(x)\\, \\Delta x}\n",
    "$$\n",
    "\n",
    "with \n",
    "\n",
    "$$\\Large \n",
    "f_X(x) \\Delta x \\text{ in } [0,1]\n",
    "$$\n",
    "\n",
    "since the LHS is the probability of a single event. (We will use this result several times below.)\n",
    "\n",
    "We can recover the CDF from a PDF with integration,\n",
    "\n",
    "$$ \\Large\n",
    "F_X(x) = \\int_{-\\infty}^x\\, f_X(x') dx' \\; ,\n",
    "$$\n",
    "\n",
    "or, in equivalent set theory notation,\n",
    "\n",
    "$$ \\Large\n",
    "\\begin{aligned}\n",
    "F_X(x) &= \\lim_{\\Delta x\\rightarrow 0}\\, \\sum_i f_X(x_i)\\,\\Delta x \\\\\n",
    "&= \\lim_{\\Delta x\\rightarrow 0}\\, \\sum_i P\\left(\n",
    "\\{\\omega: x_i \\le X(\\omega) \\le x_i + \\Delta x\\} \\right) \\\\\n",
    "&= \\lim_{\\Delta x\\rightarrow 0}\\, P\\left(\n",
    "\\cup_i \\{\\omega: x_i \\le X(\\omega) \\le x_i + \\Delta x\\} \\right) \\; .\n",
    "\\end{aligned}\n",
    "$$\n",
    "\n",
    "where the last line uses the fact that the sets $\\{\\omega: x_i \\le X(\\omega) \\le x_i + \\Delta x\\}$ are all disjoint and combine to cover the full sample space $\\Omega$.\n",
    "\n",
    "Random variables are conventionally denoted with capital letters near the end of the alphabet. We have already used $X$ and $Y$ to denote arrays of data samples or latent variables, but that was no accident.\n",
    "\n",
    "Think of a dataset $X$ as a sequence of random outcomes $\\omega_i$ in the \"universe\" mapped via a random variable $X_j(\\omega)$ for each feature. The elements $X_{ij}$ of the dataset are then just $X_j(\\omega_i)$. Similarly, when you perform dimensionality reduction $X\\rightarrow Y$, you are effectively adopting new random variables $Y_j(\\omega_i)$."
   ]
  },
  {
   "cell_type": "markdown",
   "metadata": {},
   "source": [
    "The following code blocks will plots the PDF and CDF for a Guassian (normal) distribution.  This uses the scipy library.  Use the scipy documentation to figure out how to change the location and the width of the Guassian."
   ]
  },
  {
   "cell_type": "code",
   "execution_count": null,
   "metadata": {},
   "outputs": [],
   "source": [
    "rv = norm()\n",
    "fig, ax = plt.subplots(1, 1)\n",
    "x = np.linspace(rv.ppf(0.0001),  rv.ppf(0.9999), 100)\n",
    "\n",
    "ax.plot(x, rv.pdf(x),\n",
    "\n",
    "       'r-', lw=4, alpha=0.6, label='pdf')\n",
    "ax.legend(loc='best', frameon=False)\n",
    "\n",
    "plt.show()"
   ]
  },
  {
   "cell_type": "code",
   "execution_count": null,
   "metadata": {},
   "outputs": [],
   "source": [
    "fig, ay = plt.subplots(1, 1)\n",
    "ay.plot(x, rv.cdf(x), 'k-', lw=2, label='cdf')\n",
    "ay.legend(loc='best', frameon=False)"
   ]
  },
  {
   "cell_type": "markdown",
   "metadata": {},
   "source": [
    "## <span style=\"color:Orange\">Sampling a Probability Density</span>"
   ]
  },
  {
   "cell_type": "markdown",
   "metadata": {},
   "source": [
    "Your measurement samples the underlying PDF.  With a single measurement, you know very little about the PDF; as the number of measurements increases, you can better see the PDF."
   ]
  },
  {
   "cell_type": "code",
   "execution_count": null,
   "metadata": {},
   "outputs": [],
   "source": [
    "rv1 = norm()\n",
    "c = norm.rvs(size=10) #size is the number of random values\n",
    "fig, az = plt.subplots(1, 1)\n",
    "x = np.linspace(rv1.ppf(0.0001),\n",
    "\n",
    "                rv1.ppf(0.9999), 100)\n",
    "\n",
    "az.plot(x, rv1.pdf(x),\n",
    "\n",
    "       'r-', lw=4, alpha=0.6, label='pdf')\n",
    "az.legend(loc='best', frameon=False)\n",
    "plt.hist(c,bins=20, density=True) #density normalizes the histogram to have unit area (like the pdf itself)\n",
    "az.plot(x, rv1.pdf(x),\n",
    "\n",
    "       'r-', lw=4, alpha=0.6, label='pdf')\n",
    "\n",
    "plt.show()"
   ]
  },
  {
   "cell_type": "markdown",
   "metadata": {},
   "source": [
    "## <span style=\"color:Orange\">Joint, Marginal and Conditional Probability Density</span>"
   ]
  },
  {
   "cell_type": "markdown",
   "metadata": {},
   "source": [
    "When data is described by multiple random variables (features), $x_0, x_1, \\ldots$, it has a **joint CDF**:\n",
    "\n",
    "$$ \\Large\n",
    "F_{X_0,X_1,\\ldots}(x_0, x_1, \\ldots) \\equiv P\\left(\n",
    "\\{\\omega: X_0(\\omega) \\le x_0\\} \\cap \\{\\omega: X_1(\\omega) \\le x_1\\} \\cap \\ldots \\right) \\; .\n",
    "$$\n",
    "\n",
    "Note how each random variable translates to a set of outcomes in the same underlying sample space $\\Omega$, whose intersection specifies a single event from ${\\cal F}$.\n",
    "\n",
    "In the following, we will restrict to the 2D case $F(x,y)$ and drop the subscript on $F$, to simplify the notation, but you can replace $x = x_0$ and $y = x_1, x_2, \\ldots$ throughout.\n",
    "\n",
    "The **joint PDF** corresponding to a joint CDF is:\n",
    "\n",
    "$$ \\Large\n",
    "f(x, y) \\equiv \\frac{\\partial}{\\partial x}\\frac{\\partial}{\\partial y}\\, F(x, y) \\; .\n",
    "$$\n",
    "\n",
    "The total integral of the joint PDF is one,\n",
    "\n",
    "$$ \\Large\n",
    "1 = \\int dx dy \\ldots f(x, y) \\; ,\n",
    "$$\n",
    "\n",
    "but we can also integrate out a single random variable, yielding a **marginal PDF**, e.g.\n",
    "\n",
    "$$ \\Large\n",
    "f(x) = \\int dy\\, f(x, y) \\; .\n",
    "$$\n",
    "\n",
    "The set theory \"proof\" of this result is:\n",
    "\n",
    "$$ \\Large\n",
    "\\begin{aligned}\n",
    "\\int dy\\, f(x, y)\n",
    "&= \\lim_{\\Delta y\\rightarrow 0}\\, \\sum_i\\, f(x, y_i)\\,\\Delta y \\\\\n",
    "&= \\lim_{\\Delta y\\rightarrow 0}\\, \\sum_i \\frac{\\partial}{\\partial x} P\\left(\n",
    "\\{ \\omega: X(x) \\le x\\} \\cap \\{ \\omega: y_i \\le Y(y) \\le y_i + \\Delta y\\}\\right)\\\\\n",
    "&= \\lim_{\\Delta y\\rightarrow 0}\\, \\frac{\\partial}{\\partial x} P\\left( \\bigcup_i\n",
    "\\{ \\omega: X(x) \\le x\\} \\cap \\{ \\omega: y_i \\le Y(y) \\le y_i + \\Delta y\\}\\right)\\\\\n",
    "&= \\frac{\\partial}{\\partial x} P\\left(\\{ \\omega: X(x) \\le x\\} \\right) \\\\\n",
    "&= f(x) \\; ,\n",
    "\\end{aligned}\n",
    "$$\n",
    "\n",
    "where the fourth line follows from the third Kolmogorov axiom, since the sets $\\{ \\omega: y_i \\le Y(y) \\le y_i + \\Delta y\\}$ are all disjoint and combine to cover the full sample space $\\Omega$.  In other words, **marginalizing out** a random variable yields exactly the same joint probability we would have obtained if we had never introduced it in the first place.\n",
    "\n",
    "Finally, a **conditional PDF** is defined in terms of the following conditional probability:\n",
    "\n",
    "$$ \\Large\n",
    "f(x\\mid y) \\equiv \\frac{\\partial}{\\partial x} \\lim_{\\Delta y\\rightarrow 0}\n",
    "P\\left( \\{\\omega: X(\\omega) \\le x\\} \\mid \\{\\omega: y \\le Y(\\omega) \\le y + \\Delta y\\}\\right) \\; .\n",
    "$$\n",
    "\n",
    "Using the definition of **conditional probability** above, we find:\n",
    "\n",
    "$$ \\Large\n",
    "\\begin{aligned}\n",
    "f(x\\mid y) &= \\lim_{\\Delta y\\rightarrow 0}\\, \\frac{\\partial}{\\partial x}\n",
    "\\frac{P\\left( \\{\\omega: X(\\omega) \\le x\\} \\cap \\{\\omega: y \\le Y(\\omega) \\le y + \\Delta y\\}\\right)}\n",
    "{P\\left( \\{\\omega: y \\le Y(\\omega) \\le y + \\Delta y\\}\\right)} \\\\\n",
    "&= \\lim_{\\Delta y\\rightarrow 0}\\, \\frac{\\partial}{\\partial x}\n",
    "\\frac{\\frac{\\partial}{\\partial y} P\\left( \\{\\omega: X(\\omega) \\le x\\} \\cap\n",
    "\\{\\omega: Y(\\omega) \\le y\\} \\right) \\Delta y}\n",
    "{\\frac{\\partial}{\\partial y} P\\left( \\{\\omega: Y(\\omega) \\le y\\}\\right) \\Delta y} \\\\\n",
    "&= \\frac{\\frac{\\partial}{\\partial x} \\frac{\\partial}{\\partial y} P\\left( \\{\\omega: X(\\omega) \\le x\\} \\cap\n",
    "\\{\\omega: Y(\\omega) \\le y\\} \\right)}\n",
    "{\\frac{\\partial}{\\partial y} P\\left( \\{\\omega: Y(\\omega) \\le y\\}\\right)} \\\\\n",
    "&=\\frac{f(x, y)}{f(y)} \\; . \n",
    "\\end{aligned}\n",
    "$$\n",
    "\n",
    "Rewritten in a slightly different form, this is also known as the \"chain rule\" of probability:\n",
    "\n",
    "$$ \\Large\n",
    "f(x,y) = f(x\\mid y)\\, f(y) \\; .\n",
    "$$\n",
    "\n",
    "Comparing $f(x\\mid y)$ with $f(y\\mid x)$ we derive the random-variable version of Bayes' rule,\n",
    "\n",
    "$$ \\Large\n",
    "\\boxed{\n",
    "f(x\\mid y) = \\frac{f(y\\mid x)\\,f(x)}{f(y)} = \\frac{f(y\\mid x)\\,f(x)}{\\int dx\\, f(x,y)} \\; ,}\n",
    "$$\n",
    "\n",
    "where we have written out the conditional PDF $f(y)$ as an integral in the last expression.\n",
    "\n",
    "**SUMMARY:**\n",
    " - Commas signal a **joint** probability formed by set intersections (logical *AND*).\n",
    "\n",
    " - Missing random variables signal a **marginal** probability with the missing variables \"integrated out\".\n",
    "\n",
    " - A vertical bar $(\\mid)$ signals a **conditional** probability with variables on the RHS fixed.\n",
    " \n",
    "As always, a picture is worth a thousand words:"
   ]
  },
  {
   "cell_type": "code",
   "execution_count": null,
   "metadata": {},
   "outputs": [],
   "source": [
    "from scipy.integrate import simpson\n",
    "from matplotlib.gridspec import GridSpec\n",
    "\n",
    "\n",
    "\n",
    "np.random.seed(0)\n",
    "cov1 = 0.5\n",
    "mean, cov = [1, 2], [[1, cov1], [cov1, 1]] #means and covariance matrix\n",
    "z = np.random.multivariate_normal(mean, cov, 100_000)\n",
    "\n",
    "fz, ex, ey = np.histogram2d(*z.T, bins=50, density=True)\n",
    "x = (ex[:-1] + ex[1:]) / 2\n",
    "y = (ey[:-1] + ey[1:]) / 2\n",
    "\n",
    "fx = simpson(fz, y, axis=1)\n",
    "fy = simpson(fz, x, axis=0)\n",
    "\n",
    "gs = GridSpec(2, 2, width_ratios=[3,1], height_ratios=[1,3])\n",
    "ax_fz = plt.subplot(gs[1,0])\n",
    "ax_fx = plt.subplot(gs[0,0], sharex=ax_fz)\n",
    "ax_fy = plt.subplot(gs[1,1], sharey=ax_fz)\n",
    "\n",
    "ax_fz.pcolormesh(x, y, fz.T)\n",
    "ax_fx.bar(x, fx)\n",
    "ax_fy.barh(y, fy)\n",
    "\n",
    "\n",
    "plt.show()\n"
   ]
  },
  {
   "cell_type": "markdown",
   "metadata": {},
   "source": [
    "We say that random variables $X$ and $Y$ are **independent** if\n",
    "$$\n",
    "F(x, y) = F(x) F(y) \\; ,\n",
    "$$\n",
    "which leads to\n",
    "$$\n",
    "f(x, y) = f(x) f(y)\n",
    "$$\n",
    "and\n",
    "$$\n",
    "f(x\\mid y) = f(x) \\quad , \\quad f(y\\mid x) = f(y) \\; .\n",
    "$$\n",
    "The corresponding picture is:"
   ]
  },
  {
   "cell_type": "markdown",
   "metadata": {},
   "source": [
    "## <span style=\"color:Orange\">Practical Probability Calculus</span>"
   ]
  },
  {
   "cell_type": "markdown",
   "metadata": {},
   "source": [
    "It is often useful to use probability densities that are hybrids of the fully joint / marginal / conditional cases, such as $f(x\\mid y, z)$ and $f(x, y\\mid z)$, but these do not require any new formalism.  In the following, we adopt a slightly more abstract notation with the following conventions:\n",
    " - $P(\\ldots)$ is a generic probability (density).\n",
    "\n",
    " - $A_i$ and $B_j$ are generic random variables or, more generically, logical propositions about outcomes.\n",
    "\n",
    " - $D$ represents generic data features.\n",
    "\n",
    " - $\\Theta$ represents generic model parameters.\n",
    "\n",
    " - $M$ represents generic model hyperparameters.\n",
    "\n",
    "A practical calculus for such expressions boils down to the following transformation rules:\n",
    "\n",
    "**Rule-1**: the order of arguments on either side of $\\mid$ is not significant:\n",
    "\n",
    "$$ \\Large\n",
    "P(A_1, A_2, \\ldots\\mid B_1, B_2\\ldots) =\n",
    "P(A_2, A_1, \\ldots\\mid B_1, B_2\\ldots) =\n",
    "P(A_1, A_2, \\ldots\\mid B_2, B_1\\ldots) = \\ldots\n",
    "$$\n",
    "\n",
    "**Rule-2**: use the definition of conditional probability to move a variable from the LHS to the RHS:\n",
    "\n",
    "$$ \\Large\n",
    "P(A_2,\\ldots\\mid A_1,B_1,B_2,\\ldots) = \\frac{P(A_1,A_2,\\ldots\\mid B_1,B_2\\ldots)}{P(A_1\\mid B_1,B_2\\ldots)} \\; .\n",
    "$$\n",
    "\n",
    "**Rule-3**: use the chain rule to move a variable from the RHS to the LHS (really just a restatement of Rule-2):\n",
    "\n",
    "$$ \\Large\n",
    "P(B_1,A_1,A_2,\\ldots\\mid B_2,\\ldots) = P(A_1,A_2,\\ldots\\mid B_1,B_2,\\ldots)\\,P(B_1\\mid B_2,\\ldots) \\; .\n",
    "$$\n",
    "\n",
    "**Rule-4**: use a marginalization integral to remove a variable from the LHS:\n",
    "\n",
    "$$ \\Large\n",
    "P(A_2,\\ldots\\mid B_1,B_2,\\ldots) = \\int d A_1'\\, P(A_1', A_2, \\ldots\\mid B_1, B_2\\ldots) \\; .\n",
    "$$\n",
    "\n",
    "**Rule-5**: combine Rule-3 and Rule-4 to remove a variable from the RHS:\n",
    "\n",
    "$$ \\Large\n",
    "P(A_1,A_2,\\ldots\\mid B_2,\\ldots) = \\int d B_1'\\, P(A_1,A_2,\\ldots\\mid B_1',B_2,\\ldots)\\,P(B_1'\\mid B_2,\\ldots) \\; .\n",
    "$$"
   ]
  },
  {
   "cell_type": "markdown",
   "metadata": {
    "solution2": "shown",
    "solution2_first": true
   },
   "source": [
    "**EXERCISE:** Use these rules to show that:\n",
    "\n",
    "$$ \\Large\n",
    "P(\\Theta_M \\mid D,M) = \\frac{P(D\\mid\\Theta_M ,M)\\, P(\\Theta_M,M)}{P(D,M)} \\; .\n",
    "$$\n",
    "\n",
    "We will use this result later when we discuss Bayesian inference."
   ]
  },
  {
   "cell_type": "markdown",
   "metadata": {
    "solution2": "shown"
   },
   "source": [
    "Apply the rules to the LHS in order to make it look more like the RHS:\n",
    "\n",
    "$$ \\Large\n",
    "\\begin{aligned}\n",
    "P(\\Theta_M \\mid D,M) &= \\frac{P(D,\\Theta_M\\mid M)}{P(D\\mid M)} & \\text{Rule-2} \\\\\n",
    "&= \\frac{P(D\\mid\\Theta_M,M)\\,P(\\Theta_M|M)}{P(D\\mid M)} & \\text{Rule-3} \\\\\n",
    "&= \\frac{P(D\\mid\\Theta_M,M)\\left[ P(\\Theta_M,M) / P(M)\\right]}{\\left[ P(D,M) / P(M)\\right]} & \\text{Rule-3} \\\\\n",
    "&= \\frac{P(D\\mid\\Theta_M,M)\\, P(\\Theta_M,M)}{P(D,M)} & \\text{simplify}\n",
    "\\end{aligned}\n",
    "$$"
   ]
  },
  {
   "cell_type": "markdown",
   "metadata": {},
   "source": [
    "---\n",
    "## <span style=\"color:Orange\">Acknowledgments</span>\n",
    "\n",
    "* Initial version: Mark Neubauer\n",
    "\n",
    "© Copyright 2023"
   ]
  }
 ],
 "metadata": {
  "kernelspec": {
   "display_name": "Python 3 (ipykernel)",
   "language": "python",
   "name": "python3"
  },
  "language_info": {
   "codemirror_mode": {
    "name": "ipython",
    "version": 3
   },
   "file_extension": ".py",
   "mimetype": "text/x-python",
   "name": "python",
   "nbconvert_exporter": "python",
   "pygments_lexer": "ipython3",
   "version": "3.11.2"
  }
 },
 "nbformat": 4,
 "nbformat_minor": 2
}
