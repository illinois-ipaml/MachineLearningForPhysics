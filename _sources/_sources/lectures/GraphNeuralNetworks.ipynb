{
 "cells": [
  {
   "cell_type": "markdown",
   "metadata": {},
   "source": [
    "# Graph Neural Networks"
   ]
  },
  {
   "cell_type": "code",
   "execution_count": 1,
   "metadata": {},
   "outputs": [],
   "source": [
    "%matplotlib inline\n",
    "import matplotlib.pyplot as plt\n",
    "import seaborn as sns; sns.set()\n",
    "import numpy as np\n",
    "import pandas as pd\n",
    "import warnings\n",
    "warnings.filterwarnings('ignore')"
   ]
  },
  {
   "cell_type": "code",
   "execution_count": 2,
   "metadata": {},
   "outputs": [
    {
     "name": "stdout",
     "output_type": "stream",
     "text": [
      "2.0.0.dev20230212\n",
      "\u001b[33mWARNING: Skipping /usr/local/lib/python3.11/site-packages/six-1.16.0-py3.11.egg-info due to invalid metadata entry 'name'\u001b[0m\u001b[33m\n",
      "\u001b[0m\u001b[33mWARNING: Skipping /usr/local/lib/python3.11/site-packages/six-1.16.0-py3.11.egg-info due to invalid metadata entry 'name'\u001b[0m\u001b[33m\n",
      "\u001b[0m\u001b[33mWARNING: Skipping /usr/local/lib/python3.11/site-packages/six-1.16.0-py3.11.egg-info due to invalid metadata entry 'name'\u001b[0m\u001b[33m\n",
      "\u001b[0m\u001b[33mWARNING: Skipping /usr/local/lib/python3.11/site-packages/six-1.16.0-py3.11.egg-info due to invalid metadata entry 'name'\u001b[0m\u001b[33m\n",
      "\u001b[0m\u001b[33mWARNING: Skipping /usr/local/lib/python3.11/site-packages/six-1.16.0-py3.11.egg-info due to invalid metadata entry 'name'\u001b[0m\u001b[33m\n",
      "\u001b[0m\u001b[33mWARNING: Skipping /usr/local/lib/python3.11/site-packages/six-1.16.0-py3.11.egg-info due to invalid metadata entry 'name'\u001b[0m\u001b[33m\n",
      "\u001b[0m\u001b[33mWARNING: Skipping /usr/local/lib/python3.11/site-packages/six-1.16.0-py3.11.egg-info due to invalid metadata entry 'name'\u001b[0m\u001b[33m\n",
      "\u001b[0m\u001b[33mWARNING: Skipping /usr/local/lib/python3.11/site-packages/six-1.16.0-py3.11.egg-info due to invalid metadata entry 'name'\u001b[0m\u001b[33m\n",
      "\u001b[0m\u001b[33mWARNING: Skipping /usr/local/lib/python3.11/site-packages/six-1.16.0-py3.11.egg-info due to invalid metadata entry 'name'\u001b[0m\u001b[33m\n",
      "\u001b[0m\u001b[33mWARNING: Skipping /usr/local/lib/python3.11/site-packages/six-1.16.0-py3.11.egg-info due to invalid metadata entry 'name'\u001b[0m\u001b[33m\n",
      "\u001b[0m\u001b[33mWARNING: Skipping /usr/local/lib/python3.11/site-packages/six-1.16.0-py3.11.egg-info due to invalid metadata entry 'name'\u001b[0m\u001b[33m\n",
      "\u001b[0m\u001b[33mWARNING: Skipping /usr/local/lib/python3.11/site-packages/six-1.16.0-py3.11.egg-info due to invalid metadata entry 'name'\u001b[0m\u001b[33m\n",
      "\u001b[0m"
     ]
    }
   ],
   "source": [
    "import os\n",
    "import torch\n",
    "os.environ['TORCH'] = torch.__version__\n",
    "print(torch.__version__)\n",
    "#ensure that the PyTorch and the PyG are the same version\n",
    "!pip install -q torch-scatter -f https://data.pyg.org/whl/torch-${TORCH}.html\n",
    "!pip install -q torch-sparse -f https://data.pyg.org/whl/torch-${TORCH}.html\n",
    "!pip install -q git+https://github.com/pyg-team/pytorch_geometric.git\n",
    "\n",
    "import torch_geometric\n",
    "\n",
    "device = torch.device(\"cuda:0\" if torch.cuda.is_available() else \"cpu\")\n",
    "import networkx as nx\n",
    "from tqdm.notebook import tqdm"
   ]
  },
  {
   "cell_type": "markdown",
   "metadata": {},
   "source": [
    "# <span style=\"color:Orange\">Introduction to Graph Data</span>"
   ]
  },
  {
   "cell_type": "markdown",
   "metadata": {},
   "source": [
    "Graphs can be seen as a system or language for modeling systems that are complex and linked together.\n",
    "A graph is a data type that is modelled as a set of objects which can be represented as a node or vertex and their relationships which is called edges. A graph data can also be seen as a network data where there are points connected together. \n",
    "\n",
    "A <span style=\"color:Violet\">node</span> (vertex) of a graph is point in a graph while an <span style=\"color:Violet\">edge</span> is a component that joins edges together in a graph. Graphs can be used to represent data from a lot of domains like biology, physics, social science, chemistry and others."
   ]
  },
  {
   "cell_type": "markdown",
   "metadata": {},
   "source": [
    "<img src=\"https://raw.githubusercontent.com/illinois-ipaml/MachineLearningForPhysics/main/img/GraphNeuralNetworks-GraphExample.jpeg\" width=800 align=left></img><br>"
   ]
  },
  {
   "cell_type": "markdown",
   "metadata": {},
   "source": [
    "# <span style=\"color:Orange\">Graph Classification</span>"
   ]
  },
  {
   "cell_type": "markdown",
   "metadata": {},
   "source": [
    "Graphs can be classified into different categories <span style=\"color:Violet\">directed/undirected graphs</span>, <span style=\"color:Violet\">weighted/binary graphs</span> and <span style=\"color:Violet\">homogenous/heterogenous graphs</span>.\n",
    "\n",
    "- <span style=\"color:Violet\">Directed/Undirected graphs</span>: Directed graphs are the ones that all the edges have directtions while in undirected graphs, the edges are does not have directions\n",
    "\n",
    "- <span style=\"color:Violet\">Weighted/Binary graphs</span>: Weighted graphs is a type of graph that each of the edges are assigned with a value while binary graphs are the ones that the edges does not have an assigned value.\n",
    "\n",
    "- <span style=\"color:Violet\">Homogenous/Heterogenous graphs</span>: Homogenous graphs are the ones that all the nodes and/or edges are of the same type (e.g. friendship graph) while heterogenous graphs are graphs where the nodes and/or edges are of different types (e.g. knowledge graph).\n",
    "\n",
    "Traditional graph analysis methods requires using searching algorithms, clustering spanning tree algorithms and so on. A major downside to using these methods for analysis of graph data is that you require a prior knowledge of the graph to be able to apply these algorithms.\n",
    "\n",
    "Based on the structure of the graph data, traditional machine learning system will not be able to properly interprete the graph data and thus the advent of the <span style=\"color:Violet\">Graph Neural Network</span> (GNN). Graph neural network is a domain of deep learning that is mostly concerned with deep learning operations on graph datasets."
   ]
  },
  {
   "cell_type": "markdown",
   "metadata": {},
   "source": [
    "# <span style=\"color:Orange\">Exploring graph data with Pytorch Geometric</span>"
   ]
  },
  {
   "cell_type": "markdown",
   "metadata": {},
   "source": [
    "Now we will explore graph and graph neural networks using the PyTorch Geometric (PyG) package (already loaded)"
   ]
  },
  {
   "cell_type": "markdown",
   "metadata": {},
   "source": [
    "Let's create a function that will help us visualize a graph data."
   ]
  },
  {
   "cell_type": "code",
   "execution_count": 3,
   "metadata": {},
   "outputs": [],
   "source": [
    "def visualize_graph(G, color):\n",
    "    plt.figure(figsize=(7,7))\n",
    "    plt.xticks([])\n",
    "    plt.yticks([])\n",
    "    nx.draw_networkx(G, pos=nx.spring_layout(G, seed=42), with_labels=False,\n",
    "                     node_color=color, cmap=\"Set2\")\n",
    "    plt.show()"
   ]
  },
  {
   "cell_type": "markdown",
   "metadata": {},
   "source": [
    "PyG provides access to a couple of graph datasets. For this notebook, we are going to use [Zachary's karate club](https://en.wikipedia.org/wiki/Zachary%27s_karate_club) network [dataset](https://karateclub.readthedocs.io/en/latest/modules/dataset.html). \n",
    "\n",
    "Zachary's karate club is a great example of social relationships within a small group. This set of data indicated the interactions of club members outside of the club. This dataset also documented the conflict between the instructor, Mr.Hi, and the club president, John because of course price. In the end, half of the members formed a new club around Mr.Hi, and the other half either stayed at the old karate club or gave up karate."
   ]
  },
  {
   "cell_type": "code",
   "execution_count": 4,
   "metadata": {},
   "outputs": [],
   "source": [
    "from torch_geometric.datasets import KarateClub\n",
    "\n",
    "dataset = KarateClub()"
   ]
  },
  {
   "cell_type": "markdown",
   "metadata": {},
   "source": [
    "Now that we have imported a graph dataset, let's look at some of the properties of a graph dataset. We will look at some of the properties at the level of the dataset and then select a graph in the dataset to explore it's properties."
   ]
  },
  {
   "cell_type": "code",
   "execution_count": 5,
   "metadata": {},
   "outputs": [
    {
     "name": "stdout",
     "output_type": "stream",
     "text": [
      "Dataset properties\n",
      "==============================================================\n",
      "Dataset: KarateClub()\n",
      "Number of graphs in the dataset: 1\n",
      "Number of features: 34\n",
      "Number of classes: 4\n",
      "Graph properties\n",
      "==============================================================\n",
      "Number of nodes: 34\n",
      "Number of edges: 156\n",
      "Average node degree: 4.59\n",
      "Contains isolated nodes: False\n",
      "Contains self-loops: False\n",
      "Is undirected: True\n"
     ]
    }
   ],
   "source": [
    "print('Dataset properties')\n",
    "print('==============================================================')\n",
    "print(f'Dataset: {dataset}') #This prints the name of the dataset\n",
    "print(f'Number of graphs in the dataset: {len(dataset)}')\n",
    "print(f'Number of features: {dataset.num_features}') #Number of features each node in the dataset has\n",
    "print(f'Number of classes: {dataset.num_classes}') #Number of classes that a node can be classified into\n",
    "\n",
    "# Since we have one graph in the dataset, we will select the graph and explore it's properties\n",
    "data = dataset[0]\n",
    "print('Graph properties')\n",
    "print('==============================================================')\n",
    "\n",
    "# Gather some statistics about the graph.\n",
    "print(f'Number of nodes: {data.num_nodes}') #Number of nodes in the graph\n",
    "print(f'Number of edges: {data.num_edges}') #Number of edges in the graph\n",
    "print(f'Average node degree: {data.num_edges / data.num_nodes:.2f}') # Average number of nodes in the graph\n",
    "print(f'Contains isolated nodes: {data.has_isolated_nodes()}') #Does the graph contains nodes that are not connected\n",
    "print(f'Contains self-loops: {data.has_self_loops()}') #Does the graph contains nodes that are linked to themselves\n",
    "print(f'Is undirected: {data.is_undirected()}') #Is the graph an undirected graph"
   ]
  },
  {
   "cell_type": "markdown",
   "metadata": {},
   "source": [
    "Now let's visualize the graph using the function that we created earlier. But first, we will convert the graph to `networkx` graph"
   ]
  },
  {
   "cell_type": "code",
   "execution_count": 6,
   "metadata": {},
   "outputs": [
    {
     "data": {
      "image/png": "[encoded data removed]",
      "text/plain": [
       "<Figure size 700x700 with 1 Axes>"
      ]
     },
     "metadata": {},
     "output_type": "display_data"
    }
   ],
   "source": [
    "from torch_geometric.utils import to_networkx\n",
    "\n",
    "G = to_networkx(data, to_undirected=True)\n",
    "visualize_graph(G, color=data.y)"
   ]
  },
  {
   "cell_type": "markdown",
   "metadata": {},
   "source": [
    "## <span style=\"color:LightBlue\">Implementing a Graph Neural Network</span>"
   ]
  },
  {
   "cell_type": "markdown",
   "metadata": {},
   "source": [
    "For this notebook, we will use a simple GNN which is the [Graph Convolution Network](https://towardsdatascience.com/graph-convolutional-networks-introduction-to-gnns-24b3f60d6c95) (GCN) layer. \n",
    "\n",
    "- GCN is a specific type of GNN that uses convolutional operations to propagate information between nodes in a graph.\n",
    "\n",
    "- GCNs leverage a localized aggregation of neighboring node features to update the representations of the nodes.\n",
    "\n",
    "- GCNs are based on the convolutional operation commonly used in image processing, adapted to the graph domain.\n",
    "\n",
    "- The layers in a GCN typically apply a graph convolution operation followed by non-linear activation functions.\n",
    "\n",
    "- GCNs have been successful in tasks such as node classification, where nodes are labeled based on their features and graph structure.\n",
    "\n",
    "Our GNN is defined by stacking three graph convolution layers, which corresponds to aggregating 3-hop neighborhood information around each node (all nodes up to 3 \"hops\" away). In addition, the GCNConv layers reduce the node feature dimensionality to 2, i.e., `34→4→4→2`. Each GCNConv layer is enhanced by a `tanh` non-linearity. We then apply a linear layer which acts as a classifier to map the nodes to 1 out of the 4 possible classes."
   ]
  },
  {
   "cell_type": "code",
   "execution_count": 7,
   "metadata": {},
   "outputs": [
    {
     "name": "stdout",
     "output_type": "stream",
     "text": [
      "GCN(\n",
      "  (conv1): GCNConv(34, 4)\n",
      "  (conv2): GCNConv(4, 4)\n",
      "  (conv3): GCNConv(4, 2)\n",
      "  (classifier): Linear(in_features=2, out_features=4, bias=True)\n",
      ")\n"
     ]
    }
   ],
   "source": [
    "import torch\n",
    "from torch.nn import Linear\n",
    "from torch_geometric.nn import GCNConv\n",
    "\n",
    "\n",
    "class GCN(torch.nn.Module):\n",
    "    def __init__(self):\n",
    "        super(GCN, self).__init__()\n",
    "        torch.manual_seed(12345)\n",
    "        self.conv1 = GCNConv(dataset.num_features, 4)\n",
    "        self.conv2 = GCNConv(4, 4)\n",
    "        self.conv3 = GCNConv(4, 2)\n",
    "        self.classifier = Linear(2, dataset.num_classes)\n",
    "\n",
    "    def forward(self, x, edge_index):\n",
    "        h = self.conv1(x, edge_index)\n",
    "        h = h.tanh()\n",
    "        h = self.conv2(h, edge_index)\n",
    "        h = h.tanh()\n",
    "        h = self.conv3(h, edge_index)\n",
    "        h = h.tanh()  # Final GNN embedding space.\n",
    "        \n",
    "        # Apply a final (linear) classifier.\n",
    "        out = self.classifier(h)\n",
    "\n",
    "        return out, h\n",
    "\n",
    "model = GCN()\n",
    "print(model)"
   ]
  },
  {
   "cell_type": "markdown",
   "metadata": {},
   "source": [
    "## <span style=\"color:LightBlue\">Training the model</span>"
   ]
  },
  {
   "cell_type": "markdown",
   "metadata": {},
   "source": [
    "To train the network, we will use the <span style=\"color:Violet\">CrossEntropyLoss</span> for the loss function and <span style=\"color:Violet\">Adam</span> as the gradient optimizer"
   ]
  },
  {
   "cell_type": "code",
   "execution_count": 8,
   "metadata": {},
   "outputs": [
    {
     "name": "stdout",
     "output_type": "stream",
     "text": [
      "Epoch: 0, Loss: 1.414404273033142\n",
      "Epoch: 1, Loss: 1.4079036712646484\n",
      "Epoch: 2, Loss: 1.4017865657806396\n",
      "Epoch: 3, Loss: 1.3959277868270874\n",
      "Epoch: 4, Loss: 1.3902204036712646\n",
      "Epoch: 5, Loss: 1.3845514059066772\n",
      "Epoch: 6, Loss: 1.3788156509399414\n",
      "Epoch: 7, Loss: 1.372924566268921\n",
      "Epoch: 8, Loss: 1.3668041229248047\n",
      "Epoch: 9, Loss: 1.3603920936584473\n",
      "Epoch: 10, Loss: 1.3536322116851807\n",
      "Epoch: 11, Loss: 1.346463680267334\n",
      "Epoch: 12, Loss: 1.3388220071792603\n",
      "Epoch: 13, Loss: 1.3306517601013184\n",
      "Epoch: 14, Loss: 1.321907877922058\n",
      "Epoch: 15, Loss: 1.3125460147857666\n",
      "Epoch: 16, Loss: 1.3025131225585938\n",
      "Epoch: 17, Loss: 1.2917399406433105\n",
      "Epoch: 18, Loss: 1.2801496982574463\n",
      "Epoch: 19, Loss: 1.267681360244751\n",
      "Epoch: 20, Loss: 1.2542929649353027\n",
      "Epoch: 21, Loss: 1.2399559020996094\n",
      "Epoch: 22, Loss: 1.224645733833313\n",
      "Epoch: 23, Loss: 1.2083479166030884\n",
      "Epoch: 24, Loss: 1.1910830736160278\n",
      "Epoch: 25, Loss: 1.172907829284668\n",
      "Epoch: 26, Loss: 1.1538856029510498\n",
      "Epoch: 27, Loss: 1.1340937614440918\n",
      "Epoch: 28, Loss: 1.113678216934204\n",
      "Epoch: 29, Loss: 1.0928146839141846\n",
      "Epoch: 30, Loss: 1.071663737297058\n",
      "Epoch: 31, Loss: 1.0504322052001953\n",
      "Epoch: 32, Loss: 1.0293234586715698\n",
      "Epoch: 33, Loss: 1.0085136890411377\n",
      "Epoch: 34, Loss: 0.9882092475891113\n",
      "Epoch: 35, Loss: 0.9685617685317993\n",
      "Epoch: 36, Loss: 0.9497098326683044\n",
      "Epoch: 37, Loss: 0.9317660927772522\n",
      "Epoch: 38, Loss: 0.9147973656654358\n",
      "Epoch: 39, Loss: 0.8988679051399231\n",
      "Epoch: 40, Loss: 0.8839972615242004\n",
      "Epoch: 41, Loss: 0.8701907992362976\n",
      "Epoch: 42, Loss: 0.8574356436729431\n",
      "Epoch: 43, Loss: 0.8456954956054688\n",
      "Epoch: 44, Loss: 0.8349326252937317\n",
      "Epoch: 45, Loss: 0.8250938057899475\n",
      "Epoch: 46, Loss: 0.8161190748214722\n",
      "Epoch: 47, Loss: 0.8079493045806885\n",
      "Epoch: 48, Loss: 0.8005207180976868\n",
      "Epoch: 49, Loss: 0.7937697768211365\n",
      "Epoch: 50, Loss: 0.7876371145248413\n",
      "Epoch: 51, Loss: 0.78206467628479\n",
      "Epoch: 52, Loss: 0.7769970893859863\n",
      "Epoch: 53, Loss: 0.7723835706710815\n",
      "Epoch: 54, Loss: 0.7681776881217957\n",
      "Epoch: 55, Loss: 0.7643368244171143\n",
      "Epoch: 56, Loss: 0.7608219981193542\n",
      "Epoch: 57, Loss: 0.7575987577438354\n",
      "Epoch: 58, Loss: 0.7546370625495911\n",
      "Epoch: 59, Loss: 0.7519098520278931\n",
      "Epoch: 60, Loss: 0.7493933439254761\n",
      "Epoch: 61, Loss: 0.7470666170120239\n",
      "Epoch: 62, Loss: 0.7449116706848145\n",
      "Epoch: 63, Loss: 0.7429123520851135\n",
      "Epoch: 64, Loss: 0.7410544157028198\n",
      "Epoch: 65, Loss: 0.7393249869346619\n",
      "Epoch: 66, Loss: 0.7377125024795532\n",
      "Epoch: 67, Loss: 0.7362067699432373\n",
      "Epoch: 68, Loss: 0.7347980737686157\n",
      "Epoch: 69, Loss: 0.7334779500961304\n",
      "Epoch: 70, Loss: 0.7322388291358948\n",
      "Epoch: 71, Loss: 0.7310730814933777\n",
      "Epoch: 72, Loss: 0.7299746870994568\n",
      "Epoch: 73, Loss: 0.7289379239082336\n",
      "Epoch: 74, Loss: 0.727957546710968\n",
      "Epoch: 75, Loss: 0.7270289659500122\n",
      "Epoch: 76, Loss: 0.7261483669281006\n",
      "Epoch: 77, Loss: 0.7253118753433228\n",
      "Epoch: 78, Loss: 0.7245160341262817\n",
      "Epoch: 79, Loss: 0.7237582206726074\n",
      "Epoch: 80, Loss: 0.7230353355407715\n",
      "Epoch: 81, Loss: 0.7223449945449829\n",
      "Epoch: 82, Loss: 0.7216848134994507\n",
      "Epoch: 83, Loss: 0.7210525274276733\n",
      "Epoch: 84, Loss: 0.7204459309577942\n",
      "Epoch: 85, Loss: 0.7198634743690491\n",
      "Epoch: 86, Loss: 0.7193030118942261\n",
      "Epoch: 87, Loss: 0.7187634110450745\n",
      "Epoch: 88, Loss: 0.7182430028915405\n",
      "Epoch: 89, Loss: 0.7177403569221497\n",
      "Epoch: 90, Loss: 0.7172543406486511\n",
      "Epoch: 91, Loss: 0.716783881187439\n",
      "Epoch: 92, Loss: 0.7163279056549072\n",
      "Epoch: 93, Loss: 0.7158852815628052\n",
      "Epoch: 94, Loss: 0.7154552340507507\n",
      "Epoch: 95, Loss: 0.7150367498397827\n",
      "Epoch: 96, Loss: 0.7146288156509399\n",
      "Epoch: 97, Loss: 0.7142307758331299\n",
      "Epoch: 98, Loss: 0.713841438293457\n",
      "Epoch: 99, Loss: 0.7134604454040527\n",
      "Epoch: 100, Loss: 0.7130865454673767\n",
      "Epoch: 101, Loss: 0.7127190828323364\n",
      "Epoch: 102, Loss: 0.7123571038246155\n",
      "Epoch: 103, Loss: 0.7120000720024109\n",
      "Epoch: 104, Loss: 0.7116469144821167\n",
      "Epoch: 105, Loss: 0.7112966179847717\n",
      "Epoch: 106, Loss: 0.7109485864639282\n",
      "Epoch: 107, Loss: 0.7106014490127563\n",
      "Epoch: 108, Loss: 0.7102541327476501\n",
      "Epoch: 109, Loss: 0.7099055051803589\n",
      "Epoch: 110, Loss: 0.7095539569854736\n",
      "Epoch: 111, Loss: 0.7091981768608093\n",
      "Epoch: 112, Loss: 0.7088361978530884\n",
      "Epoch: 113, Loss: 0.7084661722183228\n",
      "Epoch: 114, Loss: 0.708085834980011\n",
      "Epoch: 115, Loss: 0.7076926827430725\n",
      "Epoch: 116, Loss: 0.7072839736938477\n",
      "Epoch: 117, Loss: 0.7068567276000977\n",
      "Epoch: 118, Loss: 0.7064076662063599\n",
      "Epoch: 119, Loss: 0.7059327960014343\n",
      "Epoch: 120, Loss: 0.7054286599159241\n",
      "Epoch: 121, Loss: 0.7048908472061157\n",
      "Epoch: 122, Loss: 0.7043149471282959\n",
      "Epoch: 123, Loss: 0.7036959528923035\n",
      "Epoch: 124, Loss: 0.7030287981033325\n",
      "Epoch: 125, Loss: 0.7023081183433533\n",
      "Epoch: 126, Loss: 0.7015291452407837\n",
      "Epoch: 127, Loss: 0.700687050819397\n",
      "Epoch: 128, Loss: 0.6997777819633484\n",
      "Epoch: 129, Loss: 0.6987966895103455\n",
      "Epoch: 130, Loss: 0.6977395415306091\n",
      "Epoch: 131, Loss: 0.696602463722229\n",
      "Epoch: 132, Loss: 0.695381760597229\n",
      "Epoch: 133, Loss: 0.6940730810165405\n",
      "Epoch: 134, Loss: 0.6926735043525696\n",
      "Epoch: 135, Loss: 0.6911810040473938\n",
      "Epoch: 136, Loss: 0.6895937323570251\n",
      "Epoch: 137, Loss: 0.6879096031188965\n",
      "Epoch: 138, Loss: 0.6861276030540466\n",
      "Epoch: 139, Loss: 0.6842458248138428\n",
      "Epoch: 140, Loss: 0.6822646856307983\n",
      "Epoch: 141, Loss: 0.6801841855049133\n",
      "Epoch: 142, Loss: 0.678005039691925\n",
      "Epoch: 143, Loss: 0.6757267713546753\n",
      "Epoch: 144, Loss: 0.6733517646789551\n",
      "Epoch: 145, Loss: 0.670880913734436\n",
      "Epoch: 146, Loss: 0.6683160066604614\n",
      "Epoch: 147, Loss: 0.6656591892242432\n",
      "Epoch: 148, Loss: 0.662912905216217\n",
      "Epoch: 149, Loss: 0.6600789427757263\n",
      "Epoch: 150, Loss: 0.6571605801582336\n",
      "Epoch: 151, Loss: 0.6541601419448853\n",
      "Epoch: 152, Loss: 0.6510804891586304\n",
      "Epoch: 153, Loss: 0.647924542427063\n",
      "Epoch: 154, Loss: 0.6446951627731323\n",
      "Epoch: 155, Loss: 0.6413953304290771\n",
      "Epoch: 156, Loss: 0.6380279660224915\n",
      "Epoch: 157, Loss: 0.6346004009246826\n",
      "Epoch: 158, Loss: 0.6311676502227783\n",
      "Epoch: 159, Loss: 0.6280736923217773\n",
      "Epoch: 160, Loss: 0.6247416138648987\n",
      "Epoch: 161, Loss: 0.6204184293746948\n",
      "Epoch: 162, Loss: 0.6175937056541443\n",
      "Epoch: 163, Loss: 0.6130721569061279\n",
      "Epoch: 164, Loss: 0.6099883913993835\n",
      "Epoch: 165, Loss: 0.6056156754493713\n",
      "Epoch: 166, Loss: 0.6024593710899353\n",
      "Epoch: 167, Loss: 0.5980790853500366\n",
      "Epoch: 168, Loss: 0.5947374105453491\n",
      "Epoch: 169, Loss: 0.5904760360717773\n",
      "Epoch: 170, Loss: 0.5870139598846436\n",
      "Epoch: 171, Loss: 0.582822859287262\n",
      "Epoch: 172, Loss: 0.5791879892349243\n",
      "Epoch: 173, Loss: 0.5751645565032959\n",
      "Epoch: 174, Loss: 0.5713585019111633\n",
      "Epoch: 175, Loss: 0.567484438419342\n",
      "Epoch: 176, Loss: 0.5635411739349365\n",
      "Epoch: 177, Loss: 0.5597836375236511\n",
      "Epoch: 178, Loss: 0.5557853579521179\n",
      "Epoch: 179, Loss: 0.5520825386047363\n",
      "Epoch: 180, Loss: 0.5481284856796265\n",
      "Epoch: 181, Loss: 0.5443800091743469\n",
      "Epoch: 182, Loss: 0.5405675172805786\n",
      "Epoch: 183, Loss: 0.5367638468742371\n",
      "Epoch: 184, Loss: 0.5330841541290283\n",
      "Epoch: 185, Loss: 0.5293054580688477\n",
      "Epoch: 186, Loss: 0.5256626605987549\n",
      "Epoch: 187, Loss: 0.5220222473144531\n",
      "Epoch: 188, Loss: 0.5183926820755005\n",
      "Epoch: 189, Loss: 0.5148745775222778\n",
      "Epoch: 190, Loss: 0.5113506317138672\n",
      "Epoch: 191, Loss: 0.5078821182250977\n",
      "Epoch: 192, Loss: 0.5045010447502136\n",
      "Epoch: 193, Loss: 0.5011410117149353\n",
      "Epoch: 194, Loss: 0.49784329533576965\n",
      "Epoch: 195, Loss: 0.4946274161338806\n",
      "Epoch: 196, Loss: 0.49145352840423584\n",
      "Epoch: 197, Loss: 0.4883362650871277\n",
      "Epoch: 198, Loss: 0.4852979779243469\n",
      "Epoch: 199, Loss: 0.4823189973831177\n",
      "Epoch: 200, Loss: 0.47939279675483704\n",
      "Epoch: 201, Loss: 0.4765353798866272\n",
      "Epoch: 202, Loss: 0.47374674677848816\n",
      "Epoch: 203, Loss: 0.47101518511772156\n",
      "Epoch: 204, Loss: 0.46834152936935425\n",
      "Epoch: 205, Loss: 0.46573275327682495\n",
      "Epoch: 206, Loss: 0.46318715810775757\n",
      "Epoch: 207, Loss: 0.4606989622116089\n",
      "Epoch: 208, Loss: 0.4582676887512207\n",
      "Epoch: 209, Loss: 0.45589637756347656\n",
      "Epoch: 210, Loss: 0.45358556509017944\n",
      "Epoch: 211, Loss: 0.45133209228515625\n",
      "Epoch: 212, Loss: 0.44913429021835327\n",
      "Epoch: 213, Loss: 0.4469928443431854\n",
      "Epoch: 214, Loss: 0.4449085295200348\n",
      "Epoch: 215, Loss: 0.44288063049316406\n",
      "Epoch: 216, Loss: 0.44090723991394043\n",
      "Epoch: 217, Loss: 0.4389871656894684\n",
      "Epoch: 218, Loss: 0.43712010979652405\n",
      "Epoch: 219, Loss: 0.43530601263046265\n",
      "Epoch: 220, Loss: 0.43354326486587524\n",
      "Epoch: 221, Loss: 0.4318305552005768\n",
      "Epoch: 222, Loss: 0.43016621470451355\n",
      "Epoch: 223, Loss: 0.42854925990104675\n",
      "Epoch: 224, Loss: 0.42697861790657043\n",
      "Epoch: 225, Loss: 0.4254530668258667\n",
      "Epoch: 226, Loss: 0.42397117614746094\n",
      "Epoch: 227, Loss: 0.4225310683250427\n",
      "Epoch: 228, Loss: 0.42113178968429565\n",
      "Epoch: 229, Loss: 0.41977158188819885\n",
      "Epoch: 230, Loss: 0.4184495806694031\n",
      "Epoch: 231, Loss: 0.41716426610946655\n",
      "Epoch: 232, Loss: 0.41591429710388184\n",
      "Epoch: 233, Loss: 0.4146982431411743\n",
      "Epoch: 234, Loss: 0.41351503133773804\n",
      "Epoch: 235, Loss: 0.4123631417751312\n",
      "Epoch: 236, Loss: 0.41124171018600464\n",
      "Epoch: 237, Loss: 0.4101494550704956\n",
      "Epoch: 238, Loss: 0.4090851843357086\n",
      "Epoch: 239, Loss: 0.40804779529571533\n",
      "Epoch: 240, Loss: 0.40703630447387695\n",
      "Epoch: 241, Loss: 0.4060494899749756\n",
      "Epoch: 242, Loss: 0.4050863981246948\n",
      "Epoch: 243, Loss: 0.4041459560394287\n",
      "Epoch: 244, Loss: 0.40322721004486084\n",
      "Epoch: 245, Loss: 0.40232914686203003\n",
      "Epoch: 246, Loss: 0.4014507234096527\n",
      "Epoch: 247, Loss: 0.4005908966064453\n",
      "Epoch: 248, Loss: 0.39974868297576904\n",
      "Epoch: 249, Loss: 0.39892318844795227\n",
      "Epoch: 250, Loss: 0.3981132507324219\n",
      "Epoch: 251, Loss: 0.3973178267478943\n",
      "Epoch: 252, Loss: 0.3965359330177307\n",
      "Epoch: 253, Loss: 0.39576637744903564\n",
      "Epoch: 254, Loss: 0.3950079679489136\n",
      "Epoch: 255, Loss: 0.39425957202911377\n",
      "Epoch: 256, Loss: 0.39351969957351685\n",
      "Epoch: 257, Loss: 0.3927871584892273\n",
      "Epoch: 258, Loss: 0.39206013083457947\n",
      "Epoch: 259, Loss: 0.3913373351097107\n",
      "Epoch: 260, Loss: 0.39061659574508667\n",
      "Epoch: 261, Loss: 0.38989609479904175\n",
      "Epoch: 262, Loss: 0.38917356729507446\n",
      "Epoch: 263, Loss: 0.388446569442749\n",
      "Epoch: 264, Loss: 0.3877125084400177\n",
      "Epoch: 265, Loss: 0.3869687616825104\n",
      "Epoch: 266, Loss: 0.3862120509147644\n",
      "Epoch: 267, Loss: 0.385439395904541\n",
      "Epoch: 268, Loss: 0.38464784622192383\n",
      "Epoch: 269, Loss: 0.38383424282073975\n",
      "Epoch: 270, Loss: 0.38299548625946045\n",
      "Epoch: 271, Loss: 0.38212850689888\n",
      "Epoch: 272, Loss: 0.3812297582626343\n",
      "Epoch: 273, Loss: 0.3802952170372009\n",
      "Epoch: 274, Loss: 0.37932053208351135\n",
      "Epoch: 275, Loss: 0.3783015012741089\n",
      "Epoch: 276, Loss: 0.3772348165512085\n",
      "Epoch: 277, Loss: 0.3761177659034729\n",
      "Epoch: 278, Loss: 0.3749470114707947\n",
      "Epoch: 279, Loss: 0.37371814250946045\n",
      "Epoch: 280, Loss: 0.3724268674850464\n",
      "Epoch: 281, Loss: 0.3710700273513794\n",
      "Epoch: 282, Loss: 0.36964452266693115\n",
      "Epoch: 283, Loss: 0.36814582347869873\n",
      "Epoch: 284, Loss: 0.3665703237056732\n",
      "Epoch: 285, Loss: 0.36491674184799194\n",
      "Epoch: 286, Loss: 0.3631839156150818\n",
      "Epoch: 287, Loss: 0.36136889457702637\n",
      "Epoch: 288, Loss: 0.35947149991989136\n",
      "Epoch: 289, Loss: 0.35749104619026184\n",
      "Epoch: 290, Loss: 0.3554253578186035\n",
      "Epoch: 291, Loss: 0.35327666997909546\n",
      "Epoch: 292, Loss: 0.3510452210903168\n",
      "Epoch: 293, Loss: 0.3487322926521301\n",
      "Epoch: 294, Loss: 0.34633979201316833\n",
      "Epoch: 295, Loss: 0.3438686728477478\n",
      "Epoch: 296, Loss: 0.34132301807403564\n",
      "Epoch: 297, Loss: 0.33870524168014526\n",
      "Epoch: 298, Loss: 0.3360193967819214\n",
      "Epoch: 299, Loss: 0.33326831459999084\n",
      "Epoch: 300, Loss: 0.3304571807384491\n",
      "Epoch: 301, Loss: 0.3275907337665558\n",
      "Epoch: 302, Loss: 0.32467275857925415\n",
      "Epoch: 303, Loss: 0.3217098116874695\n",
      "Epoch: 304, Loss: 0.3187068700790405\n",
      "Epoch: 305, Loss: 0.3156689405441284\n",
      "Epoch: 306, Loss: 0.3126027584075928\n",
      "Epoch: 307, Loss: 0.3095141649246216\n",
      "Epoch: 308, Loss: 0.30640846490859985\n",
      "Epoch: 309, Loss: 0.3032921552658081\n",
      "Epoch: 310, Loss: 0.3001706600189209\n",
      "Epoch: 311, Loss: 0.2970506548881531\n",
      "Epoch: 312, Loss: 0.2939375638961792\n",
      "Epoch: 313, Loss: 0.2908394932746887\n",
      "Epoch: 314, Loss: 0.28776970505714417\n",
      "Epoch: 315, Loss: 0.28478091955184937\n",
      "Epoch: 316, Loss: 0.28216126561164856\n",
      "Epoch: 317, Loss: 0.2806890606880188\n",
      "Epoch: 318, Loss: 0.281312495470047\n",
      "Epoch: 319, Loss: 0.27288466691970825\n",
      "Epoch: 320, Loss: 0.27456799149513245\n",
      "Epoch: 321, Loss: 0.27207839488983154\n",
      "Epoch: 322, Loss: 0.2669985592365265\n",
      "Epoch: 323, Loss: 0.26659494638442993\n",
      "Epoch: 324, Loss: 0.25929903984069824\n",
      "Epoch: 325, Loss: 0.2601289749145508\n",
      "Epoch: 326, Loss: 0.254558801651001\n",
      "Epoch: 327, Loss: 0.2547817528247833\n",
      "Epoch: 328, Loss: 0.249167338013649\n",
      "Epoch: 329, Loss: 0.24909116327762604\n",
      "Epoch: 330, Loss: 0.2447076141834259\n",
      "Epoch: 331, Loss: 0.24408449232578278\n",
      "Epoch: 332, Loss: 0.2399887889623642\n",
      "Epoch: 333, Loss: 0.23915280401706696\n",
      "Epoch: 334, Loss: 0.2357933521270752\n",
      "Epoch: 335, Loss: 0.2346203625202179\n",
      "Epoch: 336, Loss: 0.231528177857399\n",
      "Epoch: 337, Loss: 0.2302950769662857\n",
      "Epoch: 338, Loss: 0.22760164737701416\n",
      "Epoch: 339, Loss: 0.22624777257442474\n",
      "Epoch: 340, Loss: 0.22371965646743774\n",
      "Epoch: 341, Loss: 0.22239263355731964\n",
      "Epoch: 342, Loss: 0.22007593512535095\n",
      "Epoch: 343, Loss: 0.2187439650297165\n",
      "Epoch: 344, Loss: 0.21652215719223022\n",
      "Epoch: 345, Loss: 0.21523401141166687\n",
      "Epoch: 346, Loss: 0.21314474940299988\n",
      "Epoch: 347, Loss: 0.21188393235206604\n",
      "Epoch: 348, Loss: 0.20987601578235626\n",
      "Epoch: 349, Loss: 0.20864510536193848\n",
      "Epoch: 350, Loss: 0.20675095915794373\n",
      "Epoch: 351, Loss: 0.2055433839559555\n",
      "Epoch: 352, Loss: 0.20373988151550293\n",
      "Epoch: 353, Loss: 0.20253685116767883\n",
      "Epoch: 354, Loss: 0.20084065198898315\n",
      "Epoch: 355, Loss: 0.1996387541294098\n",
      "Epoch: 356, Loss: 0.1980428397655487\n",
      "Epoch: 357, Loss: 0.19682282209396362\n",
      "Epoch: 358, Loss: 0.1953372359275818\n",
      "Epoch: 359, Loss: 0.1940995752811432\n",
      "Epoch: 360, Loss: 0.1927228569984436\n",
      "Epoch: 361, Loss: 0.19146019220352173\n",
      "Epoch: 362, Loss: 0.19018493592739105\n",
      "Epoch: 363, Loss: 0.18890531361103058\n",
      "Epoch: 364, Loss: 0.1877131164073944\n",
      "Epoch: 365, Loss: 0.1864350140094757\n",
      "Epoch: 366, Loss: 0.1853000968694687\n",
      "Epoch: 367, Loss: 0.18404754996299744\n",
      "Epoch: 368, Loss: 0.18294095993041992\n",
      "Epoch: 369, Loss: 0.18173813819885254\n",
      "Epoch: 370, Loss: 0.18063828349113464\n",
      "Epoch: 371, Loss: 0.17949633300304413\n",
      "Epoch: 372, Loss: 0.17839308083057404\n",
      "Epoch: 373, Loss: 0.17731067538261414\n",
      "Epoch: 374, Loss: 0.17621085047721863\n",
      "Epoch: 375, Loss: 0.1751726269721985\n",
      "Epoch: 376, Loss: 0.17409324645996094\n",
      "Epoch: 377, Loss: 0.1730785220861435\n",
      "Epoch: 378, Loss: 0.17203523218631744\n",
      "Epoch: 379, Loss: 0.1710285097360611\n",
      "Epoch: 380, Loss: 0.170027494430542\n",
      "Epoch: 381, Loss: 0.1690281182527542\n",
      "Epoch: 382, Loss: 0.16806179285049438\n",
      "Epoch: 383, Loss: 0.16708001494407654\n",
      "Epoch: 384, Loss: 0.1661340892314911\n",
      "Epoch: 385, Loss: 0.16518047451972961\n",
      "Epoch: 386, Loss: 0.16424526274204254\n",
      "Epoch: 387, Loss: 0.16332247853279114\n",
      "Epoch: 388, Loss: 0.16239924728870392\n",
      "Epoch: 389, Loss: 0.16149979829788208\n",
      "Epoch: 390, Loss: 0.16059643030166626\n",
      "Epoch: 391, Loss: 0.15971118211746216\n",
      "Epoch: 392, Loss: 0.15883225202560425\n",
      "Epoch: 393, Loss: 0.1579587608575821\n",
      "Epoch: 394, Loss: 0.15710139274597168\n",
      "Epoch: 395, Loss: 0.15624427795410156\n",
      "Epoch: 396, Loss: 0.15540161728858948\n",
      "Epoch: 397, Loss: 0.154564768075943\n",
      "Epoch: 398, Loss: 0.15373432636260986\n",
      "Epoch: 399, Loss: 0.15291598439216614\n",
      "Epoch: 400, Loss: 0.1521005630493164\n"
     ]
    }
   ],
   "source": [
    "model = GCN()\n",
    "criterion = torch.nn.CrossEntropyLoss()  #Initialize the CrossEntropyLoss function.\n",
    "optimizer = torch.optim.Adam(model.parameters(), lr=0.01)  # Initialize the Adam optimizer.\n",
    "\n",
    "def train(data):\n",
    "    optimizer.zero_grad()  # Clear gradients.\n",
    "    out, h = model(data.x, data.edge_index)  # Perform a single forward pass.\n",
    "    loss = criterion(out[data.train_mask], data.y[data.train_mask])  # Compute the loss solely based on the training nodes.\n",
    "    loss.backward()  # Derive gradients.\n",
    "    optimizer.step()  # Update parameters based on gradients.\n",
    "    return loss, h\n",
    "\n",
    "for epoch in range(401):\n",
    "    loss, h = train(data)\n",
    "    print(f'Epoch: {epoch}, Loss: {loss}')\n",
    "   "
   ]
  },
  {
   "cell_type": "markdown",
   "metadata": {},
   "source": [
    "There is much more analysis that can be done with GNNs on the Karate Club dataseet. See [here](https://www.linkedin.com/pulse/community-detection-social-networks-case-study-zacharys-marin/) for examples. Our goal in this lecture was to use it an way to introduce the implementation and use of GNNs within the Pytorch framework."
   ]
  },
  {
   "cell_type": "markdown",
   "metadata": {},
   "source": [
    "We will now turn to examples using simulated open data from the CMS experiment at the LHC.  The algorithms' inputs are features of the reconstructed charged particles in a jet and the secondary vertices associated with them. Describing the jet shower as a combination of particle-to-particle and particle-to-vertex interactions, the model is trained to learn a jet representation on which the classification problem isoptimized.\n",
    "\n",
    "We show below an example using a community model called \"DeepSets\" and then compare to an Interaction Model GNN. "
   ]
  },
  {
   "cell_type": "markdown",
   "metadata": {},
   "source": [
    "---"
   ]
  },
  {
   "cell_type": "markdown",
   "metadata": {},
   "source": [
    "# <span style=\"color:Orange\">Deep Sets</span>"
   ]
  },
  {
   "cell_type": "markdown",
   "metadata": {},
   "source": [
    "We will start by looking at Deep Sets networks using PyTorch. The architecture is based on the following paper: [DeepSets](https://papers.nips.cc/paper/2017/file/f22e4747da1aa27e363d86d40ff442fe-Paper.pdf)"
   ]
  },
  {
   "cell_type": "code",
   "execution_count": 9,
   "metadata": {},
   "outputs": [
    {
     "name": "stdout",
     "output_type": "stream",
     "text": [
      "\u001b[33mWARNING: Skipping /usr/local/lib/python3.11/site-packages/six-1.16.0-py3.11.egg-info due to invalid metadata entry 'name'\u001b[0m\u001b[33m\n",
      "\u001b[0m\u001b[33mWARNING: Skipping /usr/local/lib/python3.11/site-packages/six-1.16.0-py3.11.egg-info due to invalid metadata entry 'name'\u001b[0m\u001b[33m\n",
      "\u001b[0mRequirement already satisfied: wget in /usr/local/lib/python3.11/site-packages (3.2)\n",
      "\u001b[33mWARNING: Skipping /usr/local/lib/python3.11/site-packages/six-1.16.0-py3.11.egg-info due to invalid metadata entry 'name'\u001b[0m\u001b[33m\n",
      "\u001b[0m\u001b[33mWARNING: Skipping /usr/local/lib/python3.11/site-packages/six-1.16.0-py3.11.egg-info due to invalid metadata entry 'name'\u001b[0m\u001b[33m\n",
      "\u001b[0m\u001b[33mWARNING: Skipping /usr/local/lib/python3.11/site-packages/six-1.16.0-py3.11.egg-info due to invalid metadata entry 'name'\u001b[0m\u001b[33m\n",
      "\u001b[0m\u001b[33mWARNING: Skipping /usr/local/lib/python3.11/site-packages/six-1.16.0-py3.11.egg-info due to invalid metadata entry 'name'\u001b[0m\u001b[33m\n",
      "\u001b[0mRequirement already satisfied: PyYAML in /usr/local/lib/python3.11/site-packages (6.0.1)\n",
      "\u001b[33mWARNING: Skipping /usr/local/lib/python3.11/site-packages/six-1.16.0-py3.11.egg-info due to invalid metadata entry 'name'\u001b[0m\u001b[33m\n",
      "\u001b[0m\u001b[33mWARNING: Skipping /usr/local/lib/python3.11/site-packages/six-1.16.0-py3.11.egg-info due to invalid metadata entry 'name'\u001b[0m\u001b[33m\n",
      "\u001b[0m\u001b[33mWARNING: Skipping /usr/local/lib/python3.11/site-packages/six-1.16.0-py3.11.egg-info due to invalid metadata entry 'name'\u001b[0m\u001b[33m\n",
      "\u001b[0m\u001b[33mWARNING: Skipping /usr/local/lib/python3.11/site-packages/six-1.16.0-py3.11.egg-info due to invalid metadata entry 'name'\u001b[0m\u001b[33m\n",
      "\u001b[0mRequirement already satisfied: uproot in /usr/local/lib/python3.11/site-packages (5.0.11)\n",
      "Requirement already satisfied: awkward>=2.0.0 in /usr/local/lib/python3.11/site-packages (from uproot) (2.4.1)\n",
      "Requirement already satisfied: numpy in /usr/local/lib/python3.11/site-packages (from uproot) (1.23.5)\n",
      "Requirement already satisfied: packaging in /usr/local/lib/python3.11/site-packages (from uproot) (23.0)\n",
      "Requirement already satisfied: awkward-cpp==23 in /usr/local/lib/python3.11/site-packages (from awkward>=2.0.0->uproot) (23)\n",
      "Requirement already satisfied: importlib-metadata>=4.13.0 in /usr/local/lib/python3.11/site-packages (from awkward>=2.0.0->uproot) (6.8.0)\n",
      "Requirement already satisfied: zipp>=0.5 in /usr/local/lib/python3.11/site-packages (from importlib-metadata>=4.13.0->awkward>=2.0.0->uproot) (3.16.2)\n",
      "\u001b[33mWARNING: Skipping /usr/local/lib/python3.11/site-packages/six-1.16.0-py3.11.egg-info due to invalid metadata entry 'name'\u001b[0m\u001b[33m\n",
      "\u001b[0m\u001b[33mWARNING: Skipping /usr/local/lib/python3.11/site-packages/six-1.16.0-py3.11.egg-info due to invalid metadata entry 'name'\u001b[0m\u001b[33m\n",
      "\u001b[0m\u001b[33mWARNING: Skipping /usr/local/lib/python3.11/site-packages/six-1.16.0-py3.11.egg-info due to invalid metadata entry 'name'\u001b[0m\u001b[33m\n",
      "\u001b[0m\u001b[33mWARNING: Skipping /usr/local/lib/python3.11/site-packages/six-1.16.0-py3.11.egg-info due to invalid metadata entry 'name'\u001b[0m\u001b[33m\n",
      "\u001b[0mRequirement already satisfied: awkward in /usr/local/lib/python3.11/site-packages (2.4.1)\n",
      "Requirement already satisfied: awkward-cpp==23 in /usr/local/lib/python3.11/site-packages (from awkward) (23)\n",
      "Requirement already satisfied: importlib-metadata>=4.13.0 in /usr/local/lib/python3.11/site-packages (from awkward) (6.8.0)\n",
      "Requirement already satisfied: numpy>=1.18.0 in /usr/local/lib/python3.11/site-packages (from awkward) (1.23.5)\n",
      "Requirement already satisfied: packaging in /usr/local/lib/python3.11/site-packages (from awkward) (23.0)\n",
      "Requirement already satisfied: zipp>=0.5 in /usr/local/lib/python3.11/site-packages (from importlib-metadata>=4.13.0->awkward) (3.16.2)\n",
      "\u001b[33mWARNING: Skipping /usr/local/lib/python3.11/site-packages/six-1.16.0-py3.11.egg-info due to invalid metadata entry 'name'\u001b[0m\u001b[33m\n",
      "\u001b[0m\u001b[33mWARNING: Skipping /usr/local/lib/python3.11/site-packages/six-1.16.0-py3.11.egg-info due to invalid metadata entry 'name'\u001b[0m\u001b[33m\n",
      "\u001b[0m\u001b[33mWARNING: Skipping /usr/local/lib/python3.11/site-packages/six-1.16.0-py3.11.egg-info due to invalid metadata entry 'name'\u001b[0m\u001b[33m\n",
      "\u001b[0m\u001b[33mWARNING: Skipping /usr/local/lib/python3.11/site-packages/six-1.16.0-py3.11.egg-info due to invalid metadata entry 'name'\u001b[0m\u001b[33m\n",
      "\u001b[0mRequirement already satisfied: mplhep in /usr/local/lib/python3.11/site-packages (0.3.28)\n",
      "Requirement already satisfied: matplotlib>=3.4 in /usr/local/lib/python3.11/site-packages (from mplhep) (3.7.0)\n",
      "Requirement already satisfied: mplhep-data in /usr/local/lib/python3.11/site-packages (from mplhep) (0.0.3)\n",
      "Requirement already satisfied: numpy>=1.16.0 in /usr/local/lib/python3.11/site-packages (from mplhep) (1.23.5)\n",
      "Requirement already satisfied: packaging in /usr/local/lib/python3.11/site-packages (from mplhep) (23.0)\n",
      "Requirement already satisfied: uhi>=0.2.0 in /usr/local/lib/python3.11/site-packages (from mplhep) (0.3.3)\n",
      "Requirement already satisfied: contourpy>=1.0.1 in /usr/local/lib/python3.11/site-packages (from matplotlib>=3.4->mplhep) (1.0.7)\n",
      "Requirement already satisfied: cycler>=0.10 in /usr/local/lib/python3.11/site-packages (from matplotlib>=3.4->mplhep) (0.11.0)\n",
      "Requirement already satisfied: fonttools>=4.22.0 in /usr/local/lib/python3.11/site-packages (from matplotlib>=3.4->mplhep) (4.38.0)\n",
      "Requirement already satisfied: kiwisolver>=1.0.1 in /usr/local/lib/python3.11/site-packages (from matplotlib>=3.4->mplhep) (1.4.4)\n",
      "Requirement already satisfied: pillow>=6.2.0 in /usr/local/lib/python3.11/site-packages (from matplotlib>=3.4->mplhep) (9.4.0)\n",
      "Requirement already satisfied: pyparsing>=2.3.1 in /usr/local/lib/python3.11/site-packages (from matplotlib>=3.4->mplhep) (3.0.9)\n",
      "Requirement already satisfied: python-dateutil>=2.7 in /usr/local/lib/python3.11/site-packages (from matplotlib>=3.4->mplhep) (2.8.2)\n",
      "Requirement already satisfied: six>=1.5 in /usr/local/lib/python3.11/site-packages (from python-dateutil>=2.7->matplotlib>=3.4->mplhep) (1.16.0)\n",
      "\u001b[33mWARNING: Skipping /usr/local/lib/python3.11/site-packages/six-1.16.0-py3.11.egg-info due to invalid metadata entry 'name'\u001b[0m\u001b[33m\n",
      "\u001b[0m\u001b[33mWARNING: Skipping /usr/local/lib/python3.11/site-packages/six-1.16.0-py3.11.egg-info due to invalid metadata entry 'name'\u001b[0m\u001b[33m\n",
      "\u001b[0m"
     ]
    }
   ],
   "source": [
    "!pip install wget\n",
    "import wget\n",
    "\n",
    "!pip install -U PyYAML\n",
    "!pip install uproot\n",
    "!pip install awkward\n",
    "!pip install mplhep"
   ]
  },
  {
   "cell_type": "code",
   "execution_count": 10,
   "metadata": {},
   "outputs": [],
   "source": [
    "import yaml\n",
    "\n",
    "# WGET for colab\n",
    "if not os.path.exists(\"definitions_lorentz.yml\"):\n",
    "    url = \"https://raw.githubusercontent.com/jmduarte/iaifi-summer-school/main/book/definitions_lorentz.yml\"\n",
    "    definitionsFile = wget.download(url)\n",
    "\n",
    "with open(\"definitions_lorentz.yml\") as file:\n",
    "    # The FullLoader parameter handles the conversion from YAML\n",
    "    # scalar values to Python the dictionary format\n",
    "    definitions = yaml.load(file, Loader=yaml.FullLoader)\n",
    "\n",
    "features = definitions[\"features\"]\n",
    "spectators = definitions[\"spectators\"]\n",
    "labels = definitions[\"labels\"]\n",
    "\n",
    "nfeatures = definitions[\"nfeatures\"]\n",
    "nspectators = definitions[\"nspectators\"]\n",
    "nlabels = definitions[\"nlabels\"]\n",
    "ntracks = definitions[\"ntracks\"]"
   ]
  },
  {
   "cell_type": "markdown",
   "metadata": {},
   "source": [
    "## <span style=\"color:LightBlue\">Data Loader</span>"
   ]
  },
  {
   "cell_type": "markdown",
   "metadata": {},
   "source": [
    "Here we have to define the dataset loader. "
   ]
  },
  {
   "cell_type": "code",
   "execution_count": 11,
   "metadata": {},
   "outputs": [
    {
     "data": {
      "application/vnd.jupyter.widget-view+json": {
       "model_id": "c415d4ab061646f0ab0d7c633b599ba0",
       "version_major": 2,
       "version_minor": 0
      },
      "text/plain": [
       "  0%|          | 0/10000 [00:00<?, ?it/s]"
      ]
     },
     "metadata": {},
     "output_type": "display_data"
    },
    {
     "data": {
      "application/vnd.jupyter.widget-view+json": {
       "model_id": "68f8e9948a1a4265adb1700a21971abb",
       "version_major": 2,
       "version_minor": 0
      },
      "text/plain": [
       "  0%|          | 0/4000 [00:00<?, ?it/s]"
      ]
     },
     "metadata": {},
     "output_type": "display_data"
    }
   ],
   "source": [
    "# If in colab\n",
    "if not os.path.exists(\"GraphDataset.py\"):\n",
    "    urlDSD = \"https://raw.githubusercontent.com/jmduarte/iaifi-summer-school/main/book/DeepSetsDataset.py\"\n",
    "    DSD = wget.download(urlDSD)\n",
    "if not os.path.exists(\"utils.py\"):\n",
    "    urlUtils = \"https://raw.githubusercontent.com/jmduarte/iaifi-summer-school/main/book/utils.py\"\n",
    "    utils = wget.download(urlUtils)\n",
    "\n",
    "from DeepSetsDataset import DeepSetsDataset\n",
    "\n",
    "# For colab\n",
    "import os.path\n",
    "\n",
    "if not os.path.exists(\"ntuple_merged_90.root\"):\n",
    "    urlFILE = \"http://opendata.cern.ch/eos/opendata/cms/datascience/HiggsToBBNtupleProducerTool/HiggsToBBNTuple_HiggsToBB_QCD_RunII_13TeV_MC/train/ntuple_merged_90.root\"\n",
    "    dataFILE = wget.download(urlFILE)\n",
    "train_files = [\"ntuple_merged_90.root\"]\n",
    "\n",
    "train_generator = DeepSetsDataset(\n",
    "    features,\n",
    "    labels,\n",
    "    spectators,\n",
    "    start_event=0,\n",
    "    stop_event=10000,\n",
    "    npad=ntracks,\n",
    "    file_names=train_files,\n",
    ")\n",
    "train_generator.process()\n",
    "\n",
    "test_generator = DeepSetsDataset(\n",
    "    features,\n",
    "    labels,\n",
    "    spectators,\n",
    "    start_event=10001,\n",
    "    stop_event=14001,\n",
    "    npad=ntracks,\n",
    "    file_names=train_files,\n",
    ")\n",
    "test_generator.process()"
   ]
  },
  {
   "cell_type": "markdown",
   "metadata": {},
   "source": [
    "## <span style=\"color:LightBlue\">Deep Sets Network</span>"
   ]
  },
  {
   "cell_type": "markdown",
   "metadata": {},
   "source": [
    "Deep Sets models are designed to be explicitly permutation invariant. At their core they are composed of two networks, $\\phi$ and $\\rho$, such that the total network $f$ is given by\n",
    "\n",
    "$$ \\Large\n",
    "\\begin{align}\n",
    "    f &= \\rho\\left(\\Sigma_{\\mathbf{x}_i\\in\\mathcal{X}} ~ \\phi(\\mathbf{x}_i)\\right)\n",
    "\\end{align}\n",
    "$$\n",
    "\n",
    "where $\\mathbf{x}_i$ are the features for the $i$-th element in the input sequence $\\mathcal{X}$.\n",
    "\n",
    "We will define a DeepSets model that will take as input up to 60 of the tracks (with 48 features) with zero-padding."
   ]
  },
  {
   "cell_type": "code",
   "execution_count": 12,
   "metadata": {},
   "outputs": [
    {
     "name": "stdout",
     "output_type": "stream",
     "text": [
      "DeepSets(\n",
      "  (phi): Sequential(\n",
      "    (0): Conv1d(6, 64, kernel_size=(1,), stride=(1,))\n",
      "    (1): BatchNorm1d(64, eps=1e-05, momentum=0.1, affine=True, track_running_stats=True)\n",
      "    (2): ReLU()\n",
      "    (3): Conv1d(64, 32, kernel_size=(1,), stride=(1,))\n",
      "    (4): BatchNorm1d(32, eps=1e-05, momentum=0.1, affine=True, track_running_stats=True)\n",
      "    (5): ReLU()\n",
      "    (6): Conv1d(32, 16, kernel_size=(1,), stride=(1,))\n",
      "    (7): BatchNorm1d(16, eps=1e-05, momentum=0.1, affine=True, track_running_stats=True)\n",
      "    (8): ReLU()\n",
      "  )\n",
      "  (rho): Sequential(\n",
      "    (0): Linear(in_features=16, out_features=50, bias=True)\n",
      "    (1): BatchNorm1d(50, eps=1e-05, momentum=0.1, affine=True, track_running_stats=True)\n",
      "    (2): ReLU()\n",
      "    (3): Linear(in_features=50, out_features=2, bias=True)\n",
      "    (4): Sigmoid()\n",
      "  )\n",
      ")\n",
      "----------\n",
      "{'phi.0.weight': torch.Size([64, 6, 1]), 'phi.0.bias': torch.Size([64]), 'phi.1.weight': torch.Size([64]), 'phi.1.bias': torch.Size([64]), 'phi.1.running_mean': torch.Size([64]), 'phi.1.running_var': torch.Size([64]), 'phi.1.num_batches_tracked': torch.Size([]), 'phi.3.weight': torch.Size([32, 64, 1]), 'phi.3.bias': torch.Size([32]), 'phi.4.weight': torch.Size([32]), 'phi.4.bias': torch.Size([32]), 'phi.4.running_mean': torch.Size([32]), 'phi.4.running_var': torch.Size([32]), 'phi.4.num_batches_tracked': torch.Size([]), 'phi.6.weight': torch.Size([16, 32, 1]), 'phi.6.bias': torch.Size([16]), 'phi.7.weight': torch.Size([16]), 'phi.7.bias': torch.Size([16]), 'phi.7.running_mean': torch.Size([16]), 'phi.7.running_var': torch.Size([16]), 'phi.7.num_batches_tracked': torch.Size([]), 'rho.0.weight': torch.Size([50, 16]), 'rho.0.bias': torch.Size([50]), 'rho.1.weight': torch.Size([50]), 'rho.1.bias': torch.Size([50]), 'rho.1.running_mean': torch.Size([50]), 'rho.1.running_var': torch.Size([50]), 'rho.1.num_batches_tracked': torch.Size([]), 'rho.3.weight': torch.Size([2, 50]), 'rho.3.bias': torch.Size([2])}\n"
     ]
    }
   ],
   "source": [
    "import torch.nn as nn\n",
    "import torch.nn.functional as F\n",
    "from torch.nn import (\n",
    "    Sequential as Seq,\n",
    "    Linear as Lin,\n",
    "    ReLU,\n",
    "    BatchNorm1d,\n",
    "    AvgPool1d,\n",
    "    Sigmoid,\n",
    "    Conv1d,\n",
    ")\n",
    "from torch_scatter import scatter_mean\n",
    "\n",
    "# ntracks = 60\n",
    "inputs = 6\n",
    "hidden1 = 64\n",
    "hidden2 = 32\n",
    "hidden3 = 16\n",
    "classify1 = 50\n",
    "outputs = 2\n",
    "\n",
    "class DeepSets(torch.nn.Module):\n",
    "    def __init__(self):\n",
    "        super(DeepSets, self).__init__()\n",
    "        self.phi = Seq(\n",
    "            Conv1d(inputs, hidden1, 1),\n",
    "            BatchNorm1d(hidden1),\n",
    "            ReLU(),\n",
    "            Conv1d(hidden1, hidden2, 1),\n",
    "            BatchNorm1d(hidden2),\n",
    "            ReLU(),\n",
    "            Conv1d(hidden2, hidden3, 1),\n",
    "            BatchNorm1d(hidden3),\n",
    "            ReLU(),\n",
    "        )\n",
    "        self.rho = Seq(\n",
    "            Lin(hidden3, classify1),\n",
    "            BatchNorm1d(classify1),\n",
    "            ReLU(),\n",
    "            Lin(classify1, outputs),\n",
    "            Sigmoid(),\n",
    "        )\n",
    "\n",
    "    def forward(self, x):\n",
    "        out = self.phi(x)\n",
    "        out = scatter_mean(out, torch.LongTensor(np.zeros(ntracks)), dim=-1)\n",
    "        return self.rho(torch.squeeze(out))\n",
    "\n",
    "\n",
    "model = DeepSets()\n",
    "print(model)\n",
    "print(\"----------\")\n",
    "print({l: model.state_dict()[l].shape for l in model.state_dict()})\n",
    "\n",
    "model = DeepSets().to(device)\n",
    "optimizer = torch.optim.Adam(model.parameters(), lr=1e-2)"
   ]
  },
  {
   "cell_type": "markdown",
   "metadata": {},
   "source": [
    "## <span style=\"color:LightBlue\">Define the training loop</span>"
   ]
  },
  {
   "cell_type": "code",
   "execution_count": 13,
   "metadata": {},
   "outputs": [],
   "source": [
    "@torch.no_grad()\n",
    "def test(model, loader, total, batch_size, leave=False):\n",
    "    model.eval()\n",
    "\n",
    "    xentropy = nn.CrossEntropyLoss(reduction=\"mean\")\n",
    "\n",
    "    sum_loss = 0.0\n",
    "    t = tqdm(enumerate(loader), total=total / batch_size, leave=leave)\n",
    "    for i, data in t:\n",
    "        x = data[0].to(device)\n",
    "        y = data[1].to(device)\n",
    "        y = torch.argmax(y, dim=1)\n",
    "        batch_output = model(x)\n",
    "        batch_loss_item = xentropy(batch_output, y).item()\n",
    "        sum_loss += batch_loss_item\n",
    "        t.set_description(\"loss = %.5f\" % (batch_loss_item))\n",
    "        t.refresh()  # to show immediately the update\n",
    "\n",
    "    return sum_loss / (i + 1)\n",
    "\n",
    "\n",
    "def train(model, optimizer, loader, total, batch_size, leave=False):\n",
    "    model.train()\n",
    "\n",
    "    xentropy = nn.CrossEntropyLoss(reduction=\"mean\")\n",
    "\n",
    "    sum_loss = 0.0\n",
    "    t = tqdm(enumerate(loader), total=total / batch_size, leave=leave)\n",
    "    for i, data in t:\n",
    "        x = data[0].to(device)\n",
    "        y = data[1].to(device)\n",
    "        y = torch.argmax(y, dim=1)\n",
    "        optimizer.zero_grad()\n",
    "        batch_output = model(x)\n",
    "        batch_loss = xentropy(batch_output, y)\n",
    "        batch_loss.backward()\n",
    "        batch_loss_item = batch_loss.item()\n",
    "        t.set_description(\"loss = %.5f\" % batch_loss_item)\n",
    "        t.refresh()  # to show immediately the update\n",
    "        sum_loss += batch_loss_item\n",
    "        optimizer.step()\n",
    "\n",
    "    return sum_loss / (i + 1)"
   ]
  },
  {
   "cell_type": "markdown",
   "metadata": {},
   "source": [
    "## <span style=\"color:LightBlue\">Define training, validation, testing data generators</span>"
   ]
  },
  {
   "cell_type": "code",
   "execution_count": 14,
   "metadata": {},
   "outputs": [],
   "source": [
    "from torch.utils.data import ConcatDataset\n",
    "\n",
    "train_generator_data = ConcatDataset(train_generator.datas)\n",
    "test_generator_data = ConcatDataset(test_generator.datas)"
   ]
  },
  {
   "cell_type": "code",
   "execution_count": 15,
   "metadata": {},
   "outputs": [
    {
     "name": "stdout",
     "output_type": "stream",
     "text": [
      "9387\n",
      "7510\n",
      "1877\n",
      "3751\n"
     ]
    }
   ],
   "source": [
    "from torch.utils.data import random_split, DataLoader\n",
    "\n",
    "torch.manual_seed(0)\n",
    "valid_frac = 0.20\n",
    "train_length = len(train_generator_data)\n",
    "valid_num = int(valid_frac * train_length)\n",
    "batch_size = 32\n",
    "\n",
    "train_dataset, valid_dataset = random_split(\n",
    "    train_generator_data, [train_length - valid_num, valid_num]\n",
    ")\n",
    "\n",
    "\n",
    "def collate(items):\n",
    "    l = sum(items, [])\n",
    "    return Batch.from_data_list(l)\n",
    "\n",
    "\n",
    "train_loader = DataLoader(train_dataset, batch_size=batch_size, shuffle=True)\n",
    "# train_loader.collate_fn = collate\n",
    "valid_loader = DataLoader(valid_dataset, batch_size=batch_size, shuffle=False)\n",
    "# valid_loader.collate_fn = collate\n",
    "test_loader = DataLoader(test_generator_data, batch_size=batch_size, shuffle=False)\n",
    "# test_loader.collate_fn = collate\n",
    "\n",
    "train_samples = len(train_dataset)\n",
    "valid_samples = len(valid_dataset)\n",
    "test_samples = len(test_generator_data)\n",
    "print(train_length)\n",
    "print(train_samples)\n",
    "print(valid_samples)\n",
    "print(test_samples)"
   ]
  },
  {
   "cell_type": "markdown",
   "metadata": {},
   "source": [
    "## <span style=\"color:LightBlue\">Train</span>"
   ]
  },
  {
   "cell_type": "code",
   "execution_count": 16,
   "metadata": {},
   "outputs": [
    {
     "data": {
      "application/vnd.jupyter.widget-view+json": {
       "model_id": "736d179e875344ee9d9f80c03691d130",
       "version_major": 2,
       "version_minor": 0
      },
      "text/plain": [
       "  0%|          | 0/30 [00:00<?, ?it/s]"
      ]
     },
     "metadata": {},
     "output_type": "display_data"
    },
    {
     "data": {
      "application/vnd.jupyter.widget-view+json": {
       "model_id": "ce74c877f4d34446948995afd77cc3a9",
       "version_major": 2,
       "version_minor": 0
      },
      "text/plain": [
       "  0%|          | 0/234.6875 [00:00<?, ?it/s]"
      ]
     },
     "metadata": {},
     "output_type": "display_data"
    },
    {
     "data": {
      "application/vnd.jupyter.widget-view+json": {
       "model_id": "ec3f89d1ccb54a37a2256e6bdaa190ad",
       "version_major": 2,
       "version_minor": 0
      },
      "text/plain": [
       "  0%|          | 0/58.65625 [00:00<?, ?it/s]"
      ]
     },
     "metadata": {},
     "output_type": "display_data"
    },
    {
     "name": "stdout",
     "output_type": "stream",
     "text": [
      "Epoch: 00, Training Loss:   0.4487\n",
      "           Validation Loss: 0.4485\n",
      "New best model saved to: deepsets_best.pth\n"
     ]
    },
    {
     "data": {
      "application/vnd.jupyter.widget-view+json": {
       "model_id": "bfbce70fdbb64a64be5fd82f2e8a6fb8",
       "version_major": 2,
       "version_minor": 0
      },
      "text/plain": [
       "  0%|          | 0/234.6875 [00:00<?, ?it/s]"
      ]
     },
     "metadata": {},
     "output_type": "display_data"
    },
    {
     "data": {
      "application/vnd.jupyter.widget-view+json": {
       "model_id": "b02b1a9e3d224ef09d63e816dbbf4d54",
       "version_major": 2,
       "version_minor": 0
      },
      "text/plain": [
       "  0%|          | 0/58.65625 [00:00<?, ?it/s]"
      ]
     },
     "metadata": {},
     "output_type": "display_data"
    },
    {
     "name": "stdout",
     "output_type": "stream",
     "text": [
      "Epoch: 01, Training Loss:   0.4403\n",
      "           Validation Loss: 0.4482\n",
      "New best model saved to: deepsets_best.pth\n"
     ]
    },
    {
     "data": {
      "application/vnd.jupyter.widget-view+json": {
       "model_id": "2f090cef0b7b4c42b1c4cc97baba5b9e",
       "version_major": 2,
       "version_minor": 0
      },
      "text/plain": [
       "  0%|          | 0/234.6875 [00:00<?, ?it/s]"
      ]
     },
     "metadata": {},
     "output_type": "display_data"
    },
    {
     "data": {
      "application/vnd.jupyter.widget-view+json": {
       "model_id": "8b54354e2cf345b4ad702438f4172bca",
       "version_major": 2,
       "version_minor": 0
      },
      "text/plain": [
       "  0%|          | 0/58.65625 [00:00<?, ?it/s]"
      ]
     },
     "metadata": {},
     "output_type": "display_data"
    },
    {
     "name": "stdout",
     "output_type": "stream",
     "text": [
      "Epoch: 02, Training Loss:   0.4411\n",
      "           Validation Loss: 0.4481\n",
      "New best model saved to: deepsets_best.pth\n"
     ]
    },
    {
     "data": {
      "application/vnd.jupyter.widget-view+json": {
       "model_id": "951943d4caaa47c48afb2880260568d3",
       "version_major": 2,
       "version_minor": 0
      },
      "text/plain": [
       "  0%|          | 0/234.6875 [00:00<?, ?it/s]"
      ]
     },
     "metadata": {},
     "output_type": "display_data"
    },
    {
     "data": {
      "application/vnd.jupyter.widget-view+json": {
       "model_id": "62aace2c13ca465b83361e668c4744ef",
       "version_major": 2,
       "version_minor": 0
      },
      "text/plain": [
       "  0%|          | 0/58.65625 [00:00<?, ?it/s]"
      ]
     },
     "metadata": {},
     "output_type": "display_data"
    },
    {
     "name": "stdout",
     "output_type": "stream",
     "text": [
      "Epoch: 03, Training Loss:   0.4401\n",
      "           Validation Loss: 0.4489\n",
      "Stale epoch\n"
     ]
    },
    {
     "data": {
      "application/vnd.jupyter.widget-view+json": {
       "model_id": "22949713a8f544a99a77c6efaef8d821",
       "version_major": 2,
       "version_minor": 0
      },
      "text/plain": [
       "  0%|          | 0/234.6875 [00:00<?, ?it/s]"
      ]
     },
     "metadata": {},
     "output_type": "display_data"
    },
    {
     "data": {
      "application/vnd.jupyter.widget-view+json": {
       "model_id": "1742d8d3d0a74fa8aa3b4f39891ce048",
       "version_major": 2,
       "version_minor": 0
      },
      "text/plain": [
       "  0%|          | 0/58.65625 [00:00<?, ?it/s]"
      ]
     },
     "metadata": {},
     "output_type": "display_data"
    },
    {
     "name": "stdout",
     "output_type": "stream",
     "text": [
      "Epoch: 04, Training Loss:   0.4398\n",
      "           Validation Loss: 0.4489\n",
      "Stale epoch\n"
     ]
    },
    {
     "data": {
      "application/vnd.jupyter.widget-view+json": {
       "model_id": "665f8ed5146e4e378d2749b8691dccb6",
       "version_major": 2,
       "version_minor": 0
      },
      "text/plain": [
       "  0%|          | 0/234.6875 [00:00<?, ?it/s]"
      ]
     },
     "metadata": {},
     "output_type": "display_data"
    },
    {
     "data": {
      "application/vnd.jupyter.widget-view+json": {
       "model_id": "5ef2411c29b04761b1f5e9ef850de219",
       "version_major": 2,
       "version_minor": 0
      },
      "text/plain": [
       "  0%|          | 0/58.65625 [00:00<?, ?it/s]"
      ]
     },
     "metadata": {},
     "output_type": "display_data"
    },
    {
     "name": "stdout",
     "output_type": "stream",
     "text": [
      "Epoch: 05, Training Loss:   0.4398\n",
      "           Validation Loss: 0.4473\n",
      "New best model saved to: deepsets_best.pth\n"
     ]
    },
    {
     "data": {
      "application/vnd.jupyter.widget-view+json": {
       "model_id": "358a2bf706f841b9871b349bde643264",
       "version_major": 2,
       "version_minor": 0
      },
      "text/plain": [
       "  0%|          | 0/234.6875 [00:00<?, ?it/s]"
      ]
     },
     "metadata": {},
     "output_type": "display_data"
    },
    {
     "data": {
      "application/vnd.jupyter.widget-view+json": {
       "model_id": "92fac75431034c8a82be4f6cb676e319",
       "version_major": 2,
       "version_minor": 0
      },
      "text/plain": [
       "  0%|          | 0/58.65625 [00:00<?, ?it/s]"
      ]
     },
     "metadata": {},
     "output_type": "display_data"
    },
    {
     "name": "stdout",
     "output_type": "stream",
     "text": [
      "Epoch: 06, Training Loss:   0.4397\n",
      "           Validation Loss: 0.4446\n",
      "New best model saved to: deepsets_best.pth\n"
     ]
    },
    {
     "data": {
      "application/vnd.jupyter.widget-view+json": {
       "model_id": "8cf8e40a1f9343d6856373252e7551a4",
       "version_major": 2,
       "version_minor": 0
      },
      "text/plain": [
       "  0%|          | 0/234.6875 [00:00<?, ?it/s]"
      ]
     },
     "metadata": {},
     "output_type": "display_data"
    },
    {
     "data": {
      "application/vnd.jupyter.widget-view+json": {
       "model_id": "801682a52f3443788976ae09f612f3b2",
       "version_major": 2,
       "version_minor": 0
      },
      "text/plain": [
       "  0%|          | 0/58.65625 [00:00<?, ?it/s]"
      ]
     },
     "metadata": {},
     "output_type": "display_data"
    },
    {
     "name": "stdout",
     "output_type": "stream",
     "text": [
      "Epoch: 07, Training Loss:   0.4391\n",
      "           Validation Loss: 0.4441\n",
      "New best model saved to: deepsets_best.pth\n"
     ]
    },
    {
     "data": {
      "application/vnd.jupyter.widget-view+json": {
       "model_id": "26d07abf032943ca9b0822d4f23c1b41",
       "version_major": 2,
       "version_minor": 0
      },
      "text/plain": [
       "  0%|          | 0/234.6875 [00:00<?, ?it/s]"
      ]
     },
     "metadata": {},
     "output_type": "display_data"
    },
    {
     "data": {
      "application/vnd.jupyter.widget-view+json": {
       "model_id": "c8aedd84b831494ea0ff4a67e9190713",
       "version_major": 2,
       "version_minor": 0
      },
      "text/plain": [
       "  0%|          | 0/58.65625 [00:00<?, ?it/s]"
      ]
     },
     "metadata": {},
     "output_type": "display_data"
    },
    {
     "name": "stdout",
     "output_type": "stream",
     "text": [
      "Epoch: 08, Training Loss:   0.4397\n",
      "           Validation Loss: 0.4489\n",
      "Stale epoch\n"
     ]
    },
    {
     "data": {
      "application/vnd.jupyter.widget-view+json": {
       "model_id": "d31f4b70057d4ba087aa2e2223211d33",
       "version_major": 2,
       "version_minor": 0
      },
      "text/plain": [
       "  0%|          | 0/234.6875 [00:00<?, ?it/s]"
      ]
     },
     "metadata": {},
     "output_type": "display_data"
    },
    {
     "data": {
      "application/vnd.jupyter.widget-view+json": {
       "model_id": "85990dff046042d39ca8254e85ec3da5",
       "version_major": 2,
       "version_minor": 0
      },
      "text/plain": [
       "  0%|          | 0/58.65625 [00:00<?, ?it/s]"
      ]
     },
     "metadata": {},
     "output_type": "display_data"
    },
    {
     "name": "stdout",
     "output_type": "stream",
     "text": [
      "Epoch: 09, Training Loss:   0.4389\n",
      "           Validation Loss: 0.4489\n",
      "Stale epoch\n"
     ]
    },
    {
     "data": {
      "application/vnd.jupyter.widget-view+json": {
       "model_id": "0fd2e9a1033c4a58862f7cfecc9a5b25",
       "version_major": 2,
       "version_minor": 0
      },
      "text/plain": [
       "  0%|          | 0/234.6875 [00:00<?, ?it/s]"
      ]
     },
     "metadata": {},
     "output_type": "display_data"
    },
    {
     "data": {
      "application/vnd.jupyter.widget-view+json": {
       "model_id": "ab4190214a9a44408ea91653c91f085a",
       "version_major": 2,
       "version_minor": 0
      },
      "text/plain": [
       "  0%|          | 0/58.65625 [00:00<?, ?it/s]"
      ]
     },
     "metadata": {},
     "output_type": "display_data"
    },
    {
     "name": "stdout",
     "output_type": "stream",
     "text": [
      "Epoch: 10, Training Loss:   0.4387\n",
      "           Validation Loss: 0.4460\n",
      "Stale epoch\n"
     ]
    },
    {
     "data": {
      "application/vnd.jupyter.widget-view+json": {
       "model_id": "63db6c687fcb44aaa2743d19401030f5",
       "version_major": 2,
       "version_minor": 0
      },
      "text/plain": [
       "  0%|          | 0/234.6875 [00:00<?, ?it/s]"
      ]
     },
     "metadata": {},
     "output_type": "display_data"
    },
    {
     "data": {
      "application/vnd.jupyter.widget-view+json": {
       "model_id": "576f66f0a1424f2ba100721ec51ddc35",
       "version_major": 2,
       "version_minor": 0
      },
      "text/plain": [
       "  0%|          | 0/58.65625 [00:00<?, ?it/s]"
      ]
     },
     "metadata": {},
     "output_type": "display_data"
    },
    {
     "name": "stdout",
     "output_type": "stream",
     "text": [
      "Epoch: 11, Training Loss:   0.4393\n",
      "           Validation Loss: 0.4458\n",
      "Stale epoch\n"
     ]
    },
    {
     "data": {
      "application/vnd.jupyter.widget-view+json": {
       "model_id": "b093e02b0223471e872d60ce5c709739",
       "version_major": 2,
       "version_minor": 0
      },
      "text/plain": [
       "  0%|          | 0/234.6875 [00:00<?, ?it/s]"
      ]
     },
     "metadata": {},
     "output_type": "display_data"
    },
    {
     "data": {
      "application/vnd.jupyter.widget-view+json": {
       "model_id": "39ea48014b3b4e7d81b47bc3726df1a8",
       "version_major": 2,
       "version_minor": 0
      },
      "text/plain": [
       "  0%|          | 0/58.65625 [00:00<?, ?it/s]"
      ]
     },
     "metadata": {},
     "output_type": "display_data"
    },
    {
     "name": "stdout",
     "output_type": "stream",
     "text": [
      "Epoch: 12, Training Loss:   0.4386\n",
      "           Validation Loss: 0.4442\n",
      "Stale epoch\n",
      "Early stopping after 5 stale epochs\n"
     ]
    }
   ],
   "source": [
    "import os.path as osp\n",
    "\n",
    "n_epochs = 30\n",
    "stale_epochs = 0\n",
    "best_valid_loss = 99999\n",
    "patience = 5\n",
    "t = tqdm(range(0, n_epochs))\n",
    "\n",
    "for epoch in t:\n",
    "    loss = train(\n",
    "        model,\n",
    "        optimizer,\n",
    "        train_loader,\n",
    "        train_samples,\n",
    "        batch_size,\n",
    "        leave=bool(epoch == n_epochs - 1),\n",
    "    )\n",
    "    valid_loss = test(\n",
    "        model,\n",
    "        valid_loader,\n",
    "        valid_samples,\n",
    "        batch_size,\n",
    "        leave=bool(epoch == n_epochs - 1),\n",
    "    )\n",
    "    print(\"Epoch: {:02d}, Training Loss:   {:.4f}\".format(epoch, loss))\n",
    "    print(\"           Validation Loss: {:.4f}\".format(valid_loss))\n",
    "\n",
    "    if valid_loss < best_valid_loss:\n",
    "        best_valid_loss = valid_loss\n",
    "        modpath = osp.join(\"deepsets_best.pth\")\n",
    "        print(\"New best model saved to:\", modpath)\n",
    "        torch.save(model.state_dict(), modpath)\n",
    "        stale_epochs = 0\n",
    "    else:\n",
    "        print(\"Stale epoch\")\n",
    "        stale_epochs += 1\n",
    "    if stale_epochs >= patience:\n",
    "        print(\"Early stopping after %i stale epochs\" % patience)\n",
    "        break"
   ]
  },
  {
   "cell_type": "markdown",
   "metadata": {},
   "source": [
    "## <span style=\"color:LightBlue\">Evaluate on Test Data</span>"
   ]
  },
  {
   "cell_type": "code",
   "execution_count": 17,
   "metadata": {},
   "outputs": [
    {
     "data": {
      "application/vnd.jupyter.widget-view+json": {
       "model_id": "42ec7209b49d4d5c81079c203d43803b",
       "version_major": 2,
       "version_minor": 0
      },
      "text/plain": [
       "  0%|          | 0/117.21875 [00:00<?, ?it/s]"
      ]
     },
     "metadata": {},
     "output_type": "display_data"
    }
   ],
   "source": [
    "# In case you need to load the model from a pth file\n",
    "# Trained on 4 vectors (as above in notebook)\n",
    "# urlPTH = \"https://raw.githubusercontent.com/jmduarte/iaifi-summer-school/main/book/deepsets_best_4vec.pth\"\n",
    "# pthFile = wget.download(urlPTH)\n",
    "# model.load_state_dict(torch.load(\"deepsets_best_4vec.pth\"))\n",
    "# Trained on all possible inputs (a different configuration)\n",
    "# urlPTH = \"https://raw.githubusercontent.com/jmduarte/iaifi-summer-school/main/book/deepsets_best_AllTraining.pth\"\n",
    "# pthFile = wget.download(urlPTH)\n",
    "# model.load_state_dict(torch.load(\"deepsets_best_AllTraining.pth\"))\n",
    "\n",
    "model.eval()\n",
    "t = tqdm(enumerate(test_loader), total=test_samples / batch_size)\n",
    "y_test = []\n",
    "y_predict = []\n",
    "track_pt = []\n",
    "for i, data in t:\n",
    "    x = data[0].to(device)\n",
    "    y = data[1].to(device)\n",
    "    track_pt.append(x[:, 0, 0].numpy())\n",
    "    batch_output = model(x)\n",
    "    y_predict.append(batch_output.detach().cpu().numpy())\n",
    "    y_test.append(y.cpu().numpy())\n",
    "track_pt = np.concatenate(track_pt)\n",
    "y_test = np.concatenate(y_test)\n",
    "y_predict = np.concatenate(y_predict)"
   ]
  },
  {
   "cell_type": "code",
   "execution_count": 18,
   "metadata": {},
   "outputs": [
    {
     "data": {
      "text/plain": [
       "[]"
      ]
     },
     "execution_count": 18,
     "metadata": {},
     "output_type": "execute_result"
    },
    {
     "data": {
      "image/png": "[encoded data removed]",
      "text/plain": [
       "<Figure size 640x480 with 1 Axes>"
      ]
     },
     "metadata": {},
     "output_type": "display_data"
    }
   ],
   "source": [
    "_, bins, _ = plt.hist(track_pt[y_test[:, 1] == 1], bins=50, label=\"sig\", histtype=\"step\")\n",
    "_, bins, _ = plt.hist(track_pt[y_test[:, 1] == 0], bins=bins, label=\"bkg\", histtype=\"step\")\n",
    "plt.legend()\n",
    "plt.semilogy()"
   ]
  },
  {
   "cell_type": "code",
   "execution_count": 19,
   "metadata": {},
   "outputs": [
    {
     "data": {
      "image/png": "[encoded data removed]",
      "text/plain": [
       "<Figure size 1000x1000 with 1 Axes>"
      ]
     },
     "metadata": {},
     "output_type": "display_data"
    }
   ],
   "source": [
    "from sklearn.metrics import roc_curve, auc\n",
    "import mplhep as hep\n",
    "\n",
    "plt.style.use(hep.style.ROOT)\n",
    "# create ROC curves\n",
    "fpr_deepset, tpr_deepset, threshold_deepset = roc_curve(y_test[:, 1], y_predict[:, 1])\n",
    "with open(\"deepset_roc.npy\", \"wb\") as f:\n",
    "    np.save(f, fpr_deepset)\n",
    "    np.save(f, tpr_deepset)\n",
    "    np.save(f, threshold_deepset)\n",
    "\n",
    "# plot ROC curves\n",
    "plt.figure()\n",
    "plt.plot(\n",
    "    tpr_deepset,\n",
    "    fpr_deepset,\n",
    "    lw=2.5,\n",
    "    label=\"DeepSet, AUC = {:.1f}%\".format(auc(fpr_deepset, tpr_deepset) * 100),\n",
    ")\n",
    "plt.xlabel(r\"True positive rate\")\n",
    "plt.ylabel(r\"False positive rate\")\n",
    "plt.ylim(0.001, 1)\n",
    "plt.xlim(0, 1)\n",
    "plt.grid(True)\n",
    "plt.legend(loc=\"upper left\")\n",
    "plt.show()"
   ]
  },
  {
   "cell_type": "markdown",
   "metadata": {},
   "source": [
    "### <span style=\"color:LightGreen\">AUC and ROC Curves</span>"
   ]
  },
  {
   "cell_type": "markdown",
   "metadata": {},
   "source": [
    "To better understand this curve, let define the <span style=\"color:Violet\">confusion matrix</span>:"
   ]
  },
  {
   "cell_type": "markdown",
   "metadata": {},
   "source": [
    "<img src=\"https://raw.githubusercontent.com/illinois-ipaml/MachineLearningForPhysics/main/img/GraphNeuralNetworks-ConfusionMatrix.png\" width=400 align=left></img><br>"
   ]
  },
  {
   "cell_type": "markdown",
   "metadata": {},
   "source": [
    "<span style=\"color:Violet\">True Positive Rate</span> (TPR) is a synonym for recall/sensitivity and is therefore defined as follows:\n",
    "$$ \\Large\n",
    "TPR = \\frac{TP}{TP + FN}\n",
    "$$\n",
    "TPR tells us what proportion of the positive class got correctly classified. A simple example would be determining what proportion of the actual sick people were correctly detected by the model.\n",
    "\n",
    "<span style=\"color:Violet\">False Negative Rate</span> (FNR) is defined as follows:\n",
    "$$ \\Large\n",
    "FNR = \\frac{FN}{TP + FN}\n",
    "$$\n",
    "FNR tells us what proportion of the positive class got incorrectly classified by the classifier. A higher TPR and a lower FNR are desirable since we want to classify the positive class correctly.\n",
    "\n",
    "<span style=\"color:Violet\">True Negative Rate</span> (TNR) is a synonym for specificity and is defined as follows:\n",
    "$$ \\Large\n",
    "TNR = \\frac{TN}{TN + FP}\n",
    "$$\n",
    "Specificity tells us what proportion of the negative class got correctly classified. Taking the same example as in Sensitivity, Specificity would mean determining the proportion of healthy people who were correctly identified by the model.\n",
    "\n",
    "<span style=\"color:Violet\">False Positive Rate</span> (FPR) is defined as follows:\n",
    "$$ \\Large\n",
    "TPR = \\frac{FP}{FP + TN}\n",
    "$$\n",
    "FPR tells us what proportion of the negative class got incorrectly classified by the classifier. A higher TNR and a lower FPR are desirable since we want to classify the negative class correctly."
   ]
  },
  {
   "cell_type": "markdown",
   "metadata": {},
   "source": [
    "A <span style=\"color:Violet\">ROC curve</span> (receiver operating characteristic curve) is a graph showing the performance of a classification model at all classification thresholds. This curve plots two parameters:\n",
    "\n",
    "- True Positive Rate\n",
    "\n",
    "- False Positive Rate\n",
    "\n",
    "An ROC curve plots TPR vs. FPR at different classification thresholds. Lowering the classification threshold classifies more items as positive, thus increasing both False Positives and True Positives. The following figure shows a typical ROC curve."
   ]
  },
  {
   "cell_type": "markdown",
   "metadata": {},
   "source": [
    "<img src=\"https://raw.githubusercontent.com/illinois-ipaml/MachineLearningForPhysics/main/img/GraphNeuralNetworks-ROC.png\" width=400 align=left></img><br>"
   ]
  },
  {
   "cell_type": "markdown",
   "metadata": {},
   "source": [
    "<span style=\"color:Violet\">AUC</span> stands for \"Area under the ROC Curve.\" That is, AUC measures the entire two-dimensional area underneath the entire ROC curve (think integral calculus) from (0,0) to (1,1). AUC provides an aggregate measure of performance across all possible classification thresholds."
   ]
  },
  {
   "cell_type": "markdown",
   "metadata": {},
   "source": [
    "<img src=\"https://raw.githubusercontent.com/illinois-ipaml/MachineLearningForPhysics/main/img/GraphNeuralNetworks-AUC.png\" width=400 align=left></img><br>"
   ]
  },
  {
   "cell_type": "markdown",
   "metadata": {},
   "source": [
    "---"
   ]
  },
  {
   "cell_type": "markdown",
   "metadata": {},
   "source": [
    "# <span style=\"color:Orange\">Interaction Network</span>"
   ]
  },
  {
   "cell_type": "markdown",
   "metadata": {},
   "source": [
    "Now we will look at graph neural networks using the PyTorch Geometric library: <https://pytorch-geometric.readthedocs.io/>. See {cite:p}`PyTorchGeometric` for more details."
   ]
  },
  {
   "cell_type": "code",
   "execution_count": 20,
   "metadata": {},
   "outputs": [],
   "source": [
    "import yaml\n",
    "import os.path\n",
    "\n",
    "# WGET for colab\n",
    "if not os.path.exists(\"definitions.yml\"):\n",
    "    url = \"https://raw.githubusercontent.com/jmduarte/iaifi-summer-school/main/book/definitions.yml\"\n",
    "    definitionsFile = wget.download(url)\n",
    "\n",
    "with open(\"definitions.yml\") as file:\n",
    "    # The FullLoader parameter handles the conversion from YAML\n",
    "    # scalar values to Python the dictionary format\n",
    "    definitions = yaml.load(file, Loader=yaml.FullLoader)\n",
    "\n",
    "\n",
    "# You can test with using only 4-vectors by using:\n",
    "# if not os.path.exists(\"definitions_lorentz.yml\"):\n",
    "#    url = \"https://raw.githubusercontent.com/jmduarte/iaifi-summer-school/main/book/definitions_lorentz.yml\"\n",
    "#    definitionsFile = wget.download(url)\n",
    "# with open('definitions_lorentz.yml') as file:\n",
    "#    # The FullLoader parameter handles the conversion from YAML\n",
    "#    # scalar values to Python the dictionary format\n",
    "#    definitions = yaml.load(file, Loader=yaml.FullLoader)\n",
    "\n",
    "features = definitions[\"features\"]\n",
    "spectators = definitions[\"spectators\"]\n",
    "labels = definitions[\"labels\"]\n",
    "\n",
    "nfeatures = definitions[\"nfeatures\"]\n",
    "nspectators = definitions[\"nspectators\"]\n",
    "nlabels = definitions[\"nlabels\"]\n",
    "ntracks = definitions[\"ntracks\"]"
   ]
  },
  {
   "cell_type": "markdown",
   "metadata": {},
   "source": [
    "## <span style=\"color:LightBlue\">Graph Datasets</span>"
   ]
  },
  {
   "cell_type": "markdown",
   "metadata": {},
   "source": [
    "Here we have to define the graph dataset. We do this in a separate class following this example: https://pytorch-geometric.readthedocs.io/en/latest/notes/create_dataset.html#creating-larger-datasets\n",
    "\n",
    "Formally, a graph is represented by a triplet $\\mathcal G = (\\mathbf{u}, V, E)$, consisting of a graph-level, or *global*, feature vector $\\mathbf{u}$, a set of $N^v$ nodes $V$, and a set of $N^e$ edges $E$.\n",
    "The nodes are given by $V = \\{\\mathbf{v}_i\\}_{i=1:N^v}$, where $\\mathbf{v}_i$ represents the $i$th node's attributes.\n",
    "The edges connect pairs of nodes and are given by $E = \\{\\left(\\mathbf{e}_k, r_k, s_k\\right)\\}_{k=1:N^e}$, where $\\mathbf{e}_k$ represents the $k$th edge's attributes, and $r_k$ and $s_k$ are the indices of the \"receiver\" and \n",
    "\"sender\" nodes, respectively, connected by the $k$th edge (from the sender node to the receiver node).\n",
    "The receiver and sender index vectors are an alternative way of encoding the directed adjacency matrix."
   ]
  },
  {
   "cell_type": "markdown",
   "metadata": {},
   "source": [
    "<img src=\"https://github.com/jmduarte/capstone-particle-physics-domain/raw/master/weeks/attributes.png\" alt=\"attributes\" width=\"1000\">"
   ]
  },
  {
   "cell_type": "code",
   "execution_count": 21,
   "metadata": {},
   "outputs": [],
   "source": [
    "# If in colab\n",
    "if not os.path.exists(\"GraphDataset.py\"):\n",
    "    urlDSD = \"https://raw.githubusercontent.com/jmduarte/iaifi-summer-school/main/book/GraphDataset.py\"\n",
    "    DSD = wget.download(urlDSD)\n",
    "if not os.path.exists(\"utils.py\"):\n",
    "    urlUtils = \"https://raw.githubusercontent.com/jmduarte/iaifi-summer-school/main/book/utils.py\"\n",
    "    utils = wget.download(urlUtils)\n",
    "\n",
    "from GraphDataset import GraphDataset\n",
    "\n",
    "# For Colab\n",
    "if not os.path.exists(\"ntuple_merged_90.root\"):\n",
    "    urlFILE = \"http://opendata.cern.ch/eos/opendata/cms/datascience/HiggsToBBNtupleProducerTool/HiggsToBBNTuple_HiggsToBB_QCD_RunII_13TeV_MC/train/ntuple_merged_90.root\"\n",
    "    dataFILE = wget.download(urlFILE)\n",
    "file_names = [\"ntuple_merged_90.root\"]\n",
    "\n",
    "graph_dataset = GraphDataset(\n",
    "    \"gdata_train\",\n",
    "    features,\n",
    "    labels,\n",
    "    spectators,\n",
    "    start_event=0,\n",
    "    stop_event=8000,\n",
    "    n_events_merge=1,\n",
    "    file_names=file_names,\n",
    ")\n",
    "\n",
    "test_dataset = GraphDataset(\n",
    "    \"gdata_test\",\n",
    "    features,\n",
    "    labels,\n",
    "    spectators,\n",
    "    start_event=8001,\n",
    "    stop_event=10001,\n",
    "    n_events_merge=1,\n",
    "    file_names=file_names,\n",
    ")"
   ]
  },
  {
   "cell_type": "markdown",
   "metadata": {},
   "source": [
    "## <span style=\"color:LightBlue\">Graph Neural Network</span>"
   ]
  },
  {
   "cell_type": "markdown",
   "metadata": {},
   "source": [
    "Here, we recapitulate the \"graph network\" (GN) formalism described in this [paper](https://arxiv.org/abs/1612.00222), which generalizes various GNNs and other similar methods.\n",
    "\n",
    "GNs are graph-to-graph mappings, whose output graphs have the same node and edge structure as the input. Formally, a GN block contains three \"update\" functions, $\\phi$, and three \"aggregation\" functions, $\\rho$. The stages of processing in a single GN block are:\n",
    "\n",
    "$$\n",
    "\\begin{align}\n",
    "    \\mathbf{e}'_k &= \\phi^e\\left(\\mathbf{e}_k, \\mathbf{v}_{r_k}, \\mathbf{v}_{s_k}, \\mathbf{u} \\right) & \\mathbf{\\bar{e}}'_i &= \\rho^{e \\rightarrow v}\\left(E'_i\\right) & \\text{(Edge block),} \\\\\n",
    "    \\mathbf{v}'_i &= \\phi^v\\left(\\mathbf{\\bar{e}}'_i, \\mathbf{v}_i, \\mathbf{u}\\right) & \n",
    "    \\mathbf{\\bar{e}}' &= \\rho^{e \\rightarrow u}\\left(E'\\right) &  \\text{(Node block),} \\\\\n",
    "    \\mathbf{u}' &= \\phi^u\\left(\\mathbf{\\bar{e}}', \\mathbf{\\bar{v}}', \\mathbf{u}\\right) & \n",
    "    \\mathbf{\\bar{v}}' &= \\rho^{v \\rightarrow u}\\left(V'\\right) &\\text{(Global block).}\n",
    "\\end{align}\n",
    "$$\n",
    "\n",
    "where $E'_i = \\left\\{\\left(\\mathbf{e}'_k, r_k, s_k \\right)\\right\\}_{r_k=i,\\; k=1:N^e}$ contains the updated edge features for edges whose receiver node is the $i^\\text{th}$ node, $E' = \\bigcup_i E_i' = \\left\\{\\left(\\mathbf{e}'_k, r_k, s_k \\right)\\right\\}_{k=1:N^e}$ is the set of updated edges, and $V'=\\left\\{\\mathbf{v}'_i\\right\\}_{i=1:N^v}$ is the set of updated nodes.\n",
    "\n",
    "<img src=\"https://github.com/jmduarte/capstone-particle-physics-domain/raw/master/weeks/GN-full-block.png\" alt=\"GN full block\" width=\"1000\">\n",
    "\n",
    "We will define an interaction network model similar to this [paper](https://arxiv.org/abs/1909.12285), but just modeling the particle-particle interactions. It will take as input all of the tracks (with 48 features) without truncating or zero-padding. Another modification is the use of batch normalization {cite:p}`bn` layers to improve the stability of the training."
   ]
  },
  {
   "cell_type": "code",
   "execution_count": 22,
   "metadata": {},
   "outputs": [],
   "source": [
    "import torch.nn as nn\n",
    "import torch.nn.functional as F\n",
    "import torch_geometric.transforms as T\n",
    "from torch_geometric.nn import EdgeConv, global_mean_pool\n",
    "from torch.nn import Sequential as Seq, Linear as Lin, ReLU, BatchNorm1d\n",
    "from torch_scatter import scatter_mean\n",
    "from torch_geometric.nn import MetaLayer\n",
    "\n",
    "inputs = 48\n",
    "hidden = 128\n",
    "outputs = 2\n",
    "\n",
    "class EdgeBlock(torch.nn.Module):\n",
    "    def __init__(self):\n",
    "        super(EdgeBlock, self).__init__()\n",
    "        self.edge_mlp = Seq(\n",
    "            Lin(inputs * 2, hidden), BatchNorm1d(hidden), ReLU(), Lin(hidden, hidden)\n",
    "        )\n",
    "\n",
    "    def forward(self, src, dest, edge_attr, u, batch):\n",
    "        out = torch.cat([src, dest], 1)\n",
    "        return self.edge_mlp(out)\n",
    "\n",
    "\n",
    "class NodeBlock(torch.nn.Module):\n",
    "    def __init__(self):\n",
    "        super(NodeBlock, self).__init__()\n",
    "        self.node_mlp_1 = Seq(\n",
    "            Lin(inputs + hidden, hidden),\n",
    "            BatchNorm1d(hidden),\n",
    "            ReLU(),\n",
    "            Lin(hidden, hidden),\n",
    "        )\n",
    "        self.node_mlp_2 = Seq(\n",
    "            Lin(inputs + hidden, hidden),\n",
    "            BatchNorm1d(hidden),\n",
    "            ReLU(),\n",
    "            Lin(hidden, hidden),\n",
    "        )\n",
    "\n",
    "    def forward(self, x, edge_index, edge_attr, u, batch):\n",
    "        row, col = edge_index\n",
    "        out = torch.cat([x[row], edge_attr], dim=1)\n",
    "        out = self.node_mlp_1(out)\n",
    "        out = scatter_mean(out, col, dim=0, dim_size=x.size(0))\n",
    "        out = torch.cat([x, out], dim=1)\n",
    "        return self.node_mlp_2(out)\n",
    "\n",
    "class GlobalBlock(torch.nn.Module):\n",
    "    def __init__(self):\n",
    "        super(GlobalBlock, self).__init__()\n",
    "        self.global_mlp = Seq(\n",
    "            Lin(hidden, hidden), BatchNorm1d(hidden), ReLU(), Lin(hidden, outputs)\n",
    "        )\n",
    "\n",
    "    def forward(self, x, edge_index, edge_attr, u, batch):\n",
    "        out = scatter_mean(x, batch, dim=0)\n",
    "        return self.global_mlp(out)\n",
    "\n",
    "class InteractionNetwork(torch.nn.Module):\n",
    "    def __init__(self):\n",
    "        super(InteractionNetwork, self).__init__()\n",
    "        self.interactionnetwork = MetaLayer(EdgeBlock(), NodeBlock(), GlobalBlock())\n",
    "        self.bn = BatchNorm1d(inputs)\n",
    "\n",
    "    def forward(self, x, edge_index, batch):\n",
    "\n",
    "        x = self.bn(x)\n",
    "        x, edge_attr, u = self.interactionnetwork(x, edge_index, None, None, batch)\n",
    "        return u\n",
    "\n",
    "\n",
    "model = InteractionNetwork().to(device)\n",
    "optimizer = torch.optim.Adam(model.parameters(), lr=1e-2)"
   ]
  },
  {
   "cell_type": "markdown",
   "metadata": {},
   "source": [
    "## <span style=\"color:LightBlue\">Define the training loop</span>"
   ]
  },
  {
   "cell_type": "code",
   "execution_count": 23,
   "metadata": {},
   "outputs": [],
   "source": [
    "@torch.no_grad()\n",
    "def test(model, loader, total, batch_size, leave=False):\n",
    "    model.eval()\n",
    "\n",
    "    xentropy = nn.CrossEntropyLoss(reduction=\"mean\")\n",
    "\n",
    "    sum_loss = 0.0\n",
    "    t = tqdm(enumerate(loader), total=total / batch_size, leave=leave)\n",
    "    for i, data in t:\n",
    "        data = data.to(device)\n",
    "        y = torch.argmax(data.y, dim=1)\n",
    "        batch_output = model(data.x, data.edge_index, data.batch)\n",
    "        batch_loss_item = xentropy(batch_output, y).item()\n",
    "        sum_loss += batch_loss_item\n",
    "        t.set_description(\"loss = %.5f\" % (batch_loss_item))\n",
    "        t.refresh()  # to show immediately the update\n",
    "\n",
    "    return sum_loss / (i + 1)\n",
    "\n",
    "def train(model, optimizer, loader, total, batch_size, leave=False):\n",
    "    model.train()\n",
    "\n",
    "    xentropy = nn.CrossEntropyLoss(reduction=\"mean\")\n",
    "\n",
    "    sum_loss = 0.0\n",
    "    t = tqdm(enumerate(loader), total=total / batch_size, leave=leave)\n",
    "    for i, data in t:\n",
    "        data = data.to(device)\n",
    "        y = torch.argmax(data.y, dim=1)\n",
    "        optimizer.zero_grad()\n",
    "        batch_output = model(data.x, data.edge_index, data.batch)\n",
    "        batch_loss = xentropy(batch_output, y)\n",
    "        batch_loss.backward()\n",
    "        batch_loss_item = batch_loss.item()\n",
    "        t.set_description(\"loss = %.5f\" % batch_loss_item)\n",
    "        t.refresh()  # to show immediately the update\n",
    "        sum_loss += batch_loss_item\n",
    "        optimizer.step()\n",
    "\n",
    "    return sum_loss / (i + 1)"
   ]
  },
  {
   "cell_type": "markdown",
   "metadata": {},
   "source": [
    "## <span style=\"color:LightBlue\">Define training, validation, testing data generators</span>"
   ]
  },
  {
   "cell_type": "code",
   "execution_count": 24,
   "metadata": {},
   "outputs": [
    {
     "name": "stdout",
     "output_type": "stream",
     "text": [
      "7501\n",
      "6001\n",
      "1500\n",
      "1886\n"
     ]
    }
   ],
   "source": [
    "from torch_geometric.data import Data, DataListLoader, Batch\n",
    "from torch.utils.data import random_split\n",
    "\n",
    "\n",
    "def collate(items):\n",
    "    l = sum(items, [])\n",
    "    return Batch.from_data_list(l)\n",
    "\n",
    "\n",
    "torch.manual_seed(0)\n",
    "valid_frac = 0.20\n",
    "full_length = len(graph_dataset)\n",
    "valid_num = int(valid_frac * full_length)\n",
    "batch_size = 32\n",
    "\n",
    "train_dataset, valid_dataset = random_split(\n",
    "    graph_dataset, [full_length - valid_num, valid_num]\n",
    ")\n",
    "\n",
    "train_loader = DataListLoader(\n",
    "    train_dataset, batch_size=batch_size, pin_memory=True, shuffle=True\n",
    ")\n",
    "train_loader.collate_fn = collate\n",
    "valid_loader = DataListLoader(\n",
    "    valid_dataset, batch_size=batch_size, pin_memory=True, shuffle=False\n",
    ")\n",
    "valid_loader.collate_fn = collate\n",
    "test_loader = DataListLoader(\n",
    "    test_dataset, batch_size=batch_size, pin_memory=True, shuffle=False\n",
    ")\n",
    "test_loader.collate_fn = collate\n",
    "\n",
    "\n",
    "train_samples = len(train_dataset)\n",
    "valid_samples = len(valid_dataset)\n",
    "test_samples = len(test_dataset)\n",
    "print(full_length)\n",
    "print(train_samples)\n",
    "print(valid_samples)\n",
    "print(test_samples)"
   ]
  },
  {
   "cell_type": "markdown",
   "metadata": {},
   "source": [
    "## <span style=\"color:LightBlue\">Train</span>"
   ]
  },
  {
   "cell_type": "code",
   "execution_count": 25,
   "metadata": {},
   "outputs": [
    {
     "data": {
      "application/vnd.jupyter.widget-view+json": {
       "model_id": "1a6af453882a455b8a4bdc95a47f3bc1",
       "version_major": 2,
       "version_minor": 0
      },
      "text/plain": [
       "  0%|          | 0/10 [00:00<?, ?it/s]"
      ]
     },
     "metadata": {},
     "output_type": "display_data"
    },
    {
     "data": {
      "application/vnd.jupyter.widget-view+json": {
       "model_id": "7ebfa54ed82f47eab6dba0a0da6117ee",
       "version_major": 2,
       "version_minor": 0
      },
      "text/plain": [
       "  0%|          | 0/187.53125 [00:00<?, ?it/s]"
      ]
     },
     "metadata": {},
     "output_type": "display_data"
    },
    {
     "data": {
      "application/vnd.jupyter.widget-view+json": {
       "model_id": "012f6725d5e7435fbc48e0958e14a7d7",
       "version_major": 2,
       "version_minor": 0
      },
      "text/plain": [
       "  0%|          | 0/46.875 [00:00<?, ?it/s]"
      ]
     },
     "metadata": {},
     "output_type": "display_data"
    },
    {
     "name": "stdout",
     "output_type": "stream",
     "text": [
      "Epoch: 00, Training Loss:   0.2306\n",
      "           Validation Loss: 0.1614\n",
      "New best model saved to: interactionnetwork_best.pth\n"
     ]
    },
    {
     "data": {
      "application/vnd.jupyter.widget-view+json": {
       "model_id": "dd02581e84644355a0df58dd81cade1d",
       "version_major": 2,
       "version_minor": 0
      },
      "text/plain": [
       "  0%|          | 0/187.53125 [00:00<?, ?it/s]"
      ]
     },
     "metadata": {},
     "output_type": "display_data"
    },
    {
     "data": {
      "application/vnd.jupyter.widget-view+json": {
       "model_id": "928c91eda4e44d8696e87f6f5aa16f44",
       "version_major": 2,
       "version_minor": 0
      },
      "text/plain": [
       "  0%|          | 0/46.875 [00:00<?, ?it/s]"
      ]
     },
     "metadata": {},
     "output_type": "display_data"
    },
    {
     "name": "stdout",
     "output_type": "stream",
     "text": [
      "Epoch: 01, Training Loss:   0.1688\n",
      "           Validation Loss: 0.1328\n",
      "New best model saved to: interactionnetwork_best.pth\n"
     ]
    },
    {
     "data": {
      "application/vnd.jupyter.widget-view+json": {
       "model_id": "ab7e345b0630455fb03f65bcf5da5895",
       "version_major": 2,
       "version_minor": 0
      },
      "text/plain": [
       "  0%|          | 0/187.53125 [00:00<?, ?it/s]"
      ]
     },
     "metadata": {},
     "output_type": "display_data"
    },
    {
     "data": {
      "application/vnd.jupyter.widget-view+json": {
       "model_id": "6d96af4b027b4c66ba592c1369c5904c",
       "version_major": 2,
       "version_minor": 0
      },
      "text/plain": [
       "  0%|          | 0/46.875 [00:00<?, ?it/s]"
      ]
     },
     "metadata": {},
     "output_type": "display_data"
    },
    {
     "name": "stdout",
     "output_type": "stream",
     "text": [
      "Epoch: 02, Training Loss:   0.1638\n",
      "           Validation Loss: 0.1307\n",
      "New best model saved to: interactionnetwork_best.pth\n"
     ]
    },
    {
     "data": {
      "application/vnd.jupyter.widget-view+json": {
       "model_id": "9c7880e064df48e39cdcc989d268b88f",
       "version_major": 2,
       "version_minor": 0
      },
      "text/plain": [
       "  0%|          | 0/187.53125 [00:00<?, ?it/s]"
      ]
     },
     "metadata": {},
     "output_type": "display_data"
    },
    {
     "data": {
      "application/vnd.jupyter.widget-view+json": {
       "model_id": "8fa7006e8f9746078a025c6906daff05",
       "version_major": 2,
       "version_minor": 0
      },
      "text/plain": [
       "  0%|          | 0/46.875 [00:00<?, ?it/s]"
      ]
     },
     "metadata": {},
     "output_type": "display_data"
    },
    {
     "name": "stdout",
     "output_type": "stream",
     "text": [
      "Epoch: 03, Training Loss:   0.1482\n",
      "           Validation Loss: 0.1558\n",
      "Stale epoch\n"
     ]
    },
    {
     "data": {
      "application/vnd.jupyter.widget-view+json": {
       "model_id": "18eeb525027c46bdbc6c4855b9d87eaa",
       "version_major": 2,
       "version_minor": 0
      },
      "text/plain": [
       "  0%|          | 0/187.53125 [00:00<?, ?it/s]"
      ]
     },
     "metadata": {},
     "output_type": "display_data"
    },
    {
     "data": {
      "application/vnd.jupyter.widget-view+json": {
       "model_id": "3471d1250420408aa47a631b6bad5370",
       "version_major": 2,
       "version_minor": 0
      },
      "text/plain": [
       "  0%|          | 0/46.875 [00:00<?, ?it/s]"
      ]
     },
     "metadata": {},
     "output_type": "display_data"
    },
    {
     "name": "stdout",
     "output_type": "stream",
     "text": [
      "Epoch: 04, Training Loss:   0.1479\n",
      "           Validation Loss: 0.1069\n",
      "New best model saved to: interactionnetwork_best.pth\n"
     ]
    },
    {
     "data": {
      "application/vnd.jupyter.widget-view+json": {
       "model_id": "227f4e9d0ff641b78b60b643de3cf5e3",
       "version_major": 2,
       "version_minor": 0
      },
      "text/plain": [
       "  0%|          | 0/187.53125 [00:00<?, ?it/s]"
      ]
     },
     "metadata": {},
     "output_type": "display_data"
    },
    {
     "data": {
      "application/vnd.jupyter.widget-view+json": {
       "model_id": "f39577fd65644c8080fdbb198a3f401d",
       "version_major": 2,
       "version_minor": 0
      },
      "text/plain": [
       "  0%|          | 0/46.875 [00:00<?, ?it/s]"
      ]
     },
     "metadata": {},
     "output_type": "display_data"
    },
    {
     "name": "stdout",
     "output_type": "stream",
     "text": [
      "Epoch: 05, Training Loss:   0.1415\n",
      "           Validation Loss: 0.1417\n",
      "Stale epoch\n"
     ]
    },
    {
     "data": {
      "application/vnd.jupyter.widget-view+json": {
       "model_id": "25ec76cfb4f34226907eac24a6c5bf5a",
       "version_major": 2,
       "version_minor": 0
      },
      "text/plain": [
       "  0%|          | 0/187.53125 [00:00<?, ?it/s]"
      ]
     },
     "metadata": {},
     "output_type": "display_data"
    },
    {
     "data": {
      "application/vnd.jupyter.widget-view+json": {
       "model_id": "ab65c46d1d6b4b9ba6d881edbeab7afb",
       "version_major": 2,
       "version_minor": 0
      },
      "text/plain": [
       "  0%|          | 0/46.875 [00:00<?, ?it/s]"
      ]
     },
     "metadata": {},
     "output_type": "display_data"
    },
    {
     "name": "stdout",
     "output_type": "stream",
     "text": [
      "Epoch: 06, Training Loss:   0.1480\n",
      "           Validation Loss: 0.1338\n",
      "Stale epoch\n"
     ]
    },
    {
     "data": {
      "application/vnd.jupyter.widget-view+json": {
       "model_id": "bf87648b8d514415a23842b7cc148537",
       "version_major": 2,
       "version_minor": 0
      },
      "text/plain": [
       "  0%|          | 0/187.53125 [00:00<?, ?it/s]"
      ]
     },
     "metadata": {},
     "output_type": "display_data"
    },
    {
     "data": {
      "application/vnd.jupyter.widget-view+json": {
       "model_id": "408a5042b5db44daa94a22453795b864",
       "version_major": 2,
       "version_minor": 0
      },
      "text/plain": [
       "  0%|          | 0/46.875 [00:00<?, ?it/s]"
      ]
     },
     "metadata": {},
     "output_type": "display_data"
    },
    {
     "name": "stdout",
     "output_type": "stream",
     "text": [
      "Epoch: 07, Training Loss:   0.1387\n",
      "           Validation Loss: 0.1198\n",
      "Stale epoch\n"
     ]
    },
    {
     "data": {
      "application/vnd.jupyter.widget-view+json": {
       "model_id": "aa76b7de913a45eb9af4cc52c1d1d7b5",
       "version_major": 2,
       "version_minor": 0
      },
      "text/plain": [
       "  0%|          | 0/187.53125 [00:00<?, ?it/s]"
      ]
     },
     "metadata": {},
     "output_type": "display_data"
    },
    {
     "data": {
      "application/vnd.jupyter.widget-view+json": {
       "model_id": "7fd7796475c24cb0b1c90e14ccebcfeb",
       "version_major": 2,
       "version_minor": 0
      },
      "text/plain": [
       "  0%|          | 0/46.875 [00:00<?, ?it/s]"
      ]
     },
     "metadata": {},
     "output_type": "display_data"
    },
    {
     "name": "stdout",
     "output_type": "stream",
     "text": [
      "Epoch: 08, Training Loss:   0.1394\n",
      "           Validation Loss: 0.1224\n",
      "Stale epoch\n"
     ]
    },
    {
     "data": {
      "application/vnd.jupyter.widget-view+json": {
       "model_id": "2ef67f8df9b74e16863ed2ad5cef22ce",
       "version_major": 2,
       "version_minor": 0
      },
      "text/plain": [
       "  0%|          | 0/187.53125 [00:00<?, ?it/s]"
      ]
     },
     "metadata": {},
     "output_type": "display_data"
    },
    {
     "data": {
      "application/vnd.jupyter.widget-view+json": {
       "model_id": "670a445b6e174491a0803fd2c90d4dc6",
       "version_major": 2,
       "version_minor": 0
      },
      "text/plain": [
       "  0%|          | 0/46.875 [00:00<?, ?it/s]"
      ]
     },
     "metadata": {},
     "output_type": "display_data"
    },
    {
     "name": "stdout",
     "output_type": "stream",
     "text": [
      "Epoch: 09, Training Loss:   0.1290\n",
      "           Validation Loss: 0.1045\n",
      "New best model saved to: interactionnetwork_best.pth\n"
     ]
    }
   ],
   "source": [
    "import os.path as osp\n",
    "\n",
    "n_epochs = 10\n",
    "stale_epochs = 0\n",
    "best_valid_loss = 99999\n",
    "patience = 5\n",
    "t = tqdm(range(0, n_epochs))\n",
    "\n",
    "for epoch in t:\n",
    "    loss = train(\n",
    "        model,\n",
    "        optimizer,\n",
    "        train_loader,\n",
    "        train_samples,\n",
    "        batch_size,\n",
    "        leave=bool(epoch == n_epochs - 1),\n",
    "    )\n",
    "    valid_loss = test(\n",
    "        model,\n",
    "        valid_loader,\n",
    "        valid_samples,\n",
    "        batch_size,\n",
    "        leave=bool(epoch == n_epochs - 1),\n",
    "    )\n",
    "    print(\"Epoch: {:02d}, Training Loss:   {:.4f}\".format(epoch, loss))\n",
    "    print(\"           Validation Loss: {:.4f}\".format(valid_loss))\n",
    "\n",
    "    if valid_loss < best_valid_loss:\n",
    "        best_valid_loss = valid_loss\n",
    "        modpath = osp.join(\"interactionnetwork_best.pth\")\n",
    "        print(\"New best model saved to:\", modpath)\n",
    "        torch.save(model.state_dict(), modpath)\n",
    "        stale_epochs = 0\n",
    "    else:\n",
    "        print(\"Stale epoch\")\n",
    "        stale_epochs += 1\n",
    "    if stale_epochs >= patience:\n",
    "        print(\"Early stopping after %i stale epochs\" % patience)\n",
    "        break"
   ]
  },
  {
   "cell_type": "markdown",
   "metadata": {},
   "source": [
    "## <span style=\"color:LightBlue\">Evaluate on Test Data</span>"
   ]
  },
  {
   "cell_type": "code",
   "execution_count": 26,
   "metadata": {},
   "outputs": [
    {
     "data": {
      "application/vnd.jupyter.widget-view+json": {
       "model_id": "c023c676f7f14c92b476f161b7d948c0",
       "version_major": 2,
       "version_minor": 0
      },
      "text/plain": [
       "  0%|          | 0/58.9375 [00:00<?, ?it/s]"
      ]
     },
     "metadata": {},
     "output_type": "display_data"
    }
   ],
   "source": [
    "# In case you need to load the model from a pth file\n",
    "# Trained on all possible inputs (as above in notebook)\n",
    "# urlPTH = \"https://raw.githubusercontent.com/jmduarte/iaifi-summer-school/main/book/interactionnetwork_best_Aug1_AllTraining.pth\"\n",
    "# pthFile = wget.download(urlPTH)\n",
    "# model.load_state_dict(torch.load(\"interactionnetwork_best_Aug1_AllTraining.pth\"))\n",
    "# Trained on 4 vector input (different setup)\n",
    "# urlPTH = \"https://raw.githubusercontent.com/jmduarte/iaifi-summer-school/main/book/interactionnetwork_best_Aug1_4vec.pth\"\n",
    "# pthFile = wget.download(urlPTH)\n",
    "# model.load_state_dict(torch.load(\"interactionnetwork_best_Aug1_4vec.pth\"))\n",
    "\n",
    "model.eval()\n",
    "t = tqdm(enumerate(test_loader), total=test_samples / batch_size)\n",
    "y_test = []\n",
    "y_predict = []\n",
    "for i, data in t:\n",
    "    data = data.to(device)\n",
    "    batch_output = model(data.x, data.edge_index, data.batch)\n",
    "    y_predict.append(batch_output.detach().cpu().numpy())\n",
    "    y_test.append(data.y.cpu().numpy())\n",
    "y_test = np.concatenate(y_test)\n",
    "y_predict = np.concatenate(y_predict)"
   ]
  },
  {
   "cell_type": "code",
   "execution_count": 27,
   "metadata": {},
   "outputs": [
    {
     "data": {
      "image/png": "[encoded data removed]",
      "text/plain": [
       "<Figure size 1000x1000 with 1 Axes>"
      ]
     },
     "metadata": {},
     "output_type": "display_data"
    }
   ],
   "source": [
    "from sklearn.metrics import roc_curve, auc\n",
    "import matplotlib.pyplot as plt\n",
    "import mplhep as hep\n",
    "\n",
    "plt.style.use(hep.style.ROOT)\n",
    "# create ROC curves\n",
    "fpr_gnn, tpr_gnn, threshold_gnn = roc_curve(y_test[:, 1], y_predict[:, 1])\n",
    "with open(\"gnn_roc.npy\", \"wb\") as f:\n",
    "    np.save(f, fpr_gnn)\n",
    "    np.save(f, tpr_gnn)\n",
    "    np.save(f, threshold_gnn)\n",
    "\n",
    "\n",
    "# For colab:\n",
    "#if not os.path.exists(\"deepset_roc.py\"):\n",
    "if not os.path.exists(\"/Users/msn/repos/jmduarte/iaifi-summer-school/book/deepset_roc.npy\"):\n",
    "    urlROC = \"https://raw.githubusercontent.com/jmduarte/iaifi-summer-school/main/book/deepset_roc.npy\"\n",
    "    rocFile = wget.download(urlROC)\n",
    "\n",
    "#with open(\"deepset_roc.npy\", \"rb\") as f:\n",
    "with open(\"/Users/msn/repos/jmduarte/iaifi-summer-school/book/deepset_roc.npy\", \"rb\") as f:\n",
    "    fpr_deepset = np.load(f)\n",
    "    tpr_deepset = np.load(f)\n",
    "    threshold_deepset = np.load(f)\n",
    "\n",
    "# plot ROC curves\n",
    "plt.figure()\n",
    "plt.plot(\n",
    "    tpr_deepset,\n",
    "    fpr_deepset,\n",
    "    lw=2.5,\n",
    "    label=\"DeepSet, AUC = {:.1f}%\".format(auc(fpr_deepset, tpr_deepset) * 100),\n",
    ")\n",
    "plt.plot(\n",
    "    tpr_gnn,\n",
    "    fpr_gnn,\n",
    "    lw=2.5,\n",
    "    label=\"GNN, AUC = {:.1f}%\".format(auc(fpr_gnn, tpr_gnn) * 100),\n",
    ")\n",
    "plt.xlabel(r\"True positive rate\")\n",
    "plt.ylabel(r\"False positive rate\")\n",
    "plt.semilogy()\n",
    "plt.ylim(0.001, 1)\n",
    "plt.xlim(0, 1)\n",
    "plt.grid(True)\n",
    "plt.legend(loc=\"upper left\")\n",
    "plt.show()"
   ]
  },
  {
   "cell_type": "markdown",
   "metadata": {},
   "source": [
    "---\n",
    "## <span style=\"color:Orange\">Acknowledgments</span>\n",
    "\n",
    "* Initial version: Mark Neubauer\n",
    "\n",
    "© Copyright 2023"
   ]
  }
 ],
 "metadata": {
  "kernelspec": {
   "display_name": "Python 3",
   "language": "python",
   "name": "python3"
  },
  "language_info": {
   "codemirror_mode": {
    "name": "ipython",
    "version": 3
   },
   "file_extension": ".py",
   "mimetype": "text/x-python",
   "name": "python",
   "nbconvert_exporter": "python",
   "pygments_lexer": "ipython3",
   "version": "3.11.2"
  }
 },
 "nbformat": 4,
 "nbformat_minor": 2
}
