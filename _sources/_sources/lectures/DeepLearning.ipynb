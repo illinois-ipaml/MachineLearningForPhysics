{
  "cells": [
    {
      "cell_type": "markdown",
      "metadata": {
        "id": "JWJA7ZtrbZxT"
      },
      "source": [
        "# Deep Learning"
      ]
    },
    {
      "cell_type": "code",
      "execution_count": null,
      "metadata": {
        "id": "oWChhLTIbZxU"
      },
      "outputs": [],
      "source": [
        "%matplotlib inline\n",
        "import matplotlib.pyplot as plt\n",
        "import seaborn as sns; sns.set()\n",
        "import numpy as np\n",
        "import pandas as pd\n",
        "import os.path\n",
        "import subprocess\n",
        "import matplotlib.collections\n",
        "import scipy.signal\n",
        "from sklearn import model_selection\n",
        "import warnings\n",
        "warnings.filterwarnings('ignore')"
      ]
    },
    {
      "cell_type": "code",
      "execution_count": null,
      "metadata": {
        "colab": {
          "base_uri": "https://localhost:8080/"
        },
        "id": "zMOvSQpCbZxV",
        "outputId": "20ceffd3-5323-489d-ee9d-5742d3ce14b6"
      },
      "outputs": [],
      "source": [
        "import tensorflow.compat.v1 as tf\n",
        "tf.disable_v2_behavior()\n",
        "print(tf.__version__)"
      ]
    },
    {
      "cell_type": "markdown",
      "metadata": {
        "id": "w-N0WVH-uMMQ"
      },
      "source": [
        "Helpers for Getting, Loading and Locating Data"
      ]
    },
    {
      "cell_type": "code",
      "execution_count": null,
      "metadata": {
        "id": "n4zI49zNbZxV"
      },
      "outputs": [],
      "source": [
        "def wget_data(url: str):\n",
        "    local_path = './tmp_data'\n",
        "    p = subprocess.Popen([\"wget\", \"-nc\", \"-P\", local_path, url], stderr=subprocess.PIPE, encoding='UTF-8')\n",
        "    rc = None\n",
        "    while rc is None:\n",
        "      line = p.stderr.readline().strip('\\n')\n",
        "      if len(line) > 0:\n",
        "        print(line)\n",
        "      rc = p.poll()\n",
        "\n",
        "def locate_data(name, check_exists=True):\n",
        "    local_path='./tmp_data'\n",
        "    path = os.path.join(local_path, name)\n",
        "    if check_exists and not os.path.exists(path):\n",
        "        raise RuxntimeError('No such data file: {}'.format(path))\n",
        "    return path"
      ]
    },
    {
      "cell_type": "markdown",
      "metadata": {
        "id": "sIzZx3qTuQaV"
      },
      "source": [
        "## <span style=\"color:Orange\">Get Data</span>"
      ]
    },
    {
      "cell_type": "code",
      "execution_count": null,
      "metadata": {
        "colab": {
          "base_uri": "https://localhost:8080/"
        },
        "id": "4mClSAuBbmMC",
        "outputId": "7af50aa2-debb-436d-b903-7220f3f9fead"
      },
      "outputs": [],
      "source": [
        "wget_data('https://raw.githubusercontent.com/illinois-ipaml/MachineLearningForPhysics/main/data/circles_data.hf5')\n",
        "wget_data('https://raw.githubusercontent.com/illinois-ipaml/MachineLearningForPhysics/main/data/circles_targets.hf5')\n",
        "wget_data('https://raw.githubusercontent.com/illinois-ipaml/MachineLearningForPhysics/main/data/spectra_data.hf5')"
      ]
    },
    {
      "cell_type": "markdown",
      "metadata": {
        "id": "0i6DGiFfbZxV"
      },
      "source": [
        "# <span style=\"color:Orange\">Neural Network Architectures for Deep Learning</span>\n",
        "\n"
      ]
    },
    {
      "cell_type": "markdown",
      "metadata": {
        "id": "FiQidVMMbZxV"
      },
      "source": [
        "We previously took a bottom-up look at how a neural network is composed of basic building blocks. Now, we take a top-down look at some of the novel network architectures that are enabling the current [deep-learning revolution](https://www.techrepublic.com/article/the-deep-learning-revolution-how-understanding-the-brain-will-let-us-supercharge-ai/):\n",
        " - Convolutional networks\n",
        "\n",
        " - Unsupervised learning networks\n",
        "\n",
        " - Recurrent networks\n",
        "\n",
        " - Reinforcement learning\n",
        "\n",
        "We conclude with some reflections on where \"deep learning\" is headed.\n",
        "\n",
        "The examples below use higher-level tensorflow APIs than we have seen before, so we start with a brief introduction to them."
      ]
    },
    {
      "cell_type": "markdown",
      "metadata": {
        "id": "opIiNQcjbZxV"
      },
      "source": [
        "### <span style=\"color:LightGreen\">High-Level Tensorflow APIs</span>"
      ]
    },
    {
      "cell_type": "markdown",
      "metadata": {
        "id": "WrG-6mpsbZxV"
      },
      "source": [
        "In our earlier examples, we built our networks using [low-level tensorflow primitives](https://www.tensorflow.org/programmers_guide/low_level_intro). For more complex networks composed of standard building blocks, there are convenient higher-level application programming interfaces (APIs) that abstract aways the low-level graphs and sessions."
      ]
    },
    {
      "cell_type": "markdown",
      "metadata": {
        "id": "tsHDBPZWbZxV"
      },
      "source": [
        "#### <span style=\"color:LightBlue\">Reading Data</span>"
      ]
    },
    {
      "cell_type": "markdown",
      "metadata": {
        "id": "i3HAqH7RbZxV"
      },
      "source": [
        "The [tf.data API](https://www.tensorflow.org/programmers_guide/datasets) handles data used to train and test a network, replacing the low-level placeholders we used earlier. For a small dataset that fits in memory, use:\n",
        "```\n",
        "dataset = tf.data.Dataset.from_tensor_slices((dict(X), y))\n",
        "```\n",
        "\n",
        "Creating a Dataset adds nodes to a graph so you should normally wrap your code to create a Dataset in a function that tensorflow will call in the appropriate context. For example, to split the 300 `circles` samples above into train (200) and test (100) datasets:"
      ]
    },
    {
      "cell_type": "code",
      "execution_count": null,
      "metadata": {
        "id": "GAj8c9tHbZxV"
      },
      "outputs": [],
      "source": [
        "X = pd.read_hdf(locate_data('circles_data.hf5'))\n",
        "y = pd.read_hdf(locate_data('circles_targets.hf5'))\n",
        "X_train, X_test, y_train, y_test = model_selection.train_test_split(\n",
        "    X, y, test_size=100, random_state=123)"
      ]
    },
    {
      "cell_type": "code",
      "execution_count": null,
      "metadata": {
        "id": "wvSgd8RGbZxV"
      },
      "outputs": [],
      "source": [
        "def get_train_data(batch_size=50):\n",
        "    dataset = tf.data.Dataset.from_tensor_slices((dict(X_train), y_train))\n",
        "    return dataset.shuffle(len(X_train)).repeat().batch(batch_size)"
      ]
    },
    {
      "cell_type": "code",
      "execution_count": null,
      "metadata": {
        "id": "Cl15HK8gbZxW"
      },
      "outputs": [],
      "source": [
        "def get_test_data(batch_size=50):\n",
        "    dataset = tf.data.Dataset.from_tensor_slices((dict(X_test), y_test))\n",
        "    return dataset.batch(batch_size)"
      ]
    },
    {
      "cell_type": "markdown",
      "metadata": {
        "id": "XdDrivUEbZxW"
      },
      "source": [
        "While `from_tensor_slices` is convenient, it is not very efficient since the whole dataset is added to the graph with constant nodes (and potentially copied multiple times). Alternatively, convert your data to tensorflow's [binary file format](https://www.tensorflow.org/api_guides/python/python_io) so it can be read as a [TFRecordDataset](https://www.tensorflow.org/api_docs/python/tf/data/TFRecordDataset)."
      ]
    },
    {
      "cell_type": "markdown",
      "metadata": {
        "id": "5lrthvtybZxW"
      },
      "source": [
        "#### <span style=\"color:LightBlue\">Building a Model</span>"
      ]
    },
    {
      "cell_type": "markdown",
      "metadata": {
        "id": "Cnc0okoHbZxW"
      },
      "source": [
        "The [tf.estimator API](https://www.tensorflow.org/programmers_guide/estimators) builds and runs a graph for training, evaluation and prediction. This API generates a lot of INFO log messages, which can be suppressed using:"
      ]
    },
    {
      "cell_type": "code",
      "execution_count": null,
      "metadata": {
        "id": "5mhHED5CbZxW"
      },
      "outputs": [],
      "source": [
        "tf.logging.set_verbosity(tf.logging.WARN)"
      ]
    },
    {
      "cell_type": "markdown",
      "metadata": {
        "id": "bQMxLV8_bZxW"
      },
      "source": [
        "First specify the names and types (but not values) of the features that feed the network's input layer:"
      ]
    },
    {
      "cell_type": "code",
      "execution_count": null,
      "metadata": {
        "colab": {
          "base_uri": "https://localhost:8080/"
        },
        "id": "CxrpQEASbZxW",
        "outputId": "ca33e3ec-0555-45b6-8670-e60dfca3347a"
      },
      "outputs": [],
      "source": [
        "inputs = [tf.feature_column.numeric_column(key=key) for key in X]"
      ]
    },
    {
      "cell_type": "markdown",
      "metadata": {
        "id": "vcwwMg1EbZxW"
      },
      "source": [
        "Next, build the network graph. There are [pre-made estimators](https://www.tensorflow.org/programmers_guide/estimators#pre-made_estimators) for standard architectures that are easy to use. For example, to recreate our earlier architecture of a single 4-node hidden layer with sigmoid activation:"
      ]
    },
    {
      "cell_type": "code",
      "execution_count": null,
      "metadata": {
        "colab": {
          "base_uri": "https://localhost:8080/"
        },
        "id": "oSyzdApbbZxW",
        "outputId": "39b61e73-9961-4322-def7-b6f1da085836"
      },
      "outputs": [],
      "source": [
        "config = tf.estimator.RunConfig(\n",
        "    model_dir='tfs/circle',\n",
        "    tf_random_seed=123\n",
        ")"
      ]
    },
    {
      "cell_type": "code",
      "execution_count": null,
      "metadata": {
        "colab": {
          "base_uri": "https://localhost:8080/"
        },
        "id": "bUNLv52ObZxW",
        "outputId": "976ff720-6e39-4a1c-9b1e-7cabaebfbc24"
      },
      "outputs": [],
      "source": [
        "classifier = tf.estimator.DNNClassifier(\n",
        "    config=config,\n",
        "    feature_columns=inputs,\n",
        "    hidden_units=[4],\n",
        "    activation_fn=tf.sigmoid,\n",
        "    n_classes=2\n",
        ")"
      ]
    },
    {
      "cell_type": "markdown",
      "metadata": {
        "id": "hGs5xUcxbZxW"
      },
      "source": [
        "There are only a limited number of pre-defined models available so you often have to build a [custom estimator](https://www.tensorflow.org/get_started/custom_estimators) using the intermediate-level [layers API](https://www.tensorflow.org/api_docs/python/tf/layers). See convolutional-network example below."
      ]
    },
    {
      "cell_type": "markdown",
      "metadata": {
        "id": "PsPTeLNzbZxW"
      },
      "source": [
        "#### <span style=\"color:LightBlue\">Training a Model</span>"
      ]
    },
    {
      "cell_type": "markdown",
      "metadata": {
        "id": "ZbVko0uBbZxW"
      },
      "source": [
        "An estimator remembers any previous training (using files saved to its `model_dir`) so if you really want to start from scratch you will need to clear this history:"
      ]
    },
    {
      "cell_type": "code",
      "execution_count": null,
      "metadata": {
        "id": "-qSpR5FVbZxW"
      },
      "outputs": [],
      "source": [
        "!rm -rf tfs/circle/*"
      ]
    },
    {
      "cell_type": "markdown",
      "metadata": {
        "id": "7Eww8jfEbZxW"
      },
      "source": [
        "The `train` method runs a specified number of steps (each learning from one batch of training data):"
      ]
    },
    {
      "cell_type": "code",
      "execution_count": null,
      "metadata": {
        "colab": {
          "base_uri": "https://localhost:8080/"
        },
        "id": "Q7clBjo8bZxW",
        "outputId": "ab69e19b-0d21-4c54-d632-77233f3d56f4"
      },
      "outputs": [],
      "source": [
        "classifier.train(input_fn=get_train_data, steps=5000);"
      ]
    },
    {
      "cell_type": "markdown",
      "metadata": {
        "id": "CdQtCyZFbZxX"
      },
      "source": [
        "After training, you can list the model parameters and access their values:"
      ]
    },
    {
      "cell_type": "code",
      "execution_count": null,
      "metadata": {
        "colab": {
          "base_uri": "https://localhost:8080/"
        },
        "id": "FwfSp_a2bZxX",
        "outputId": "e9331082-e6e0-4a8a-c88d-c6f703b84843"
      },
      "outputs": [],
      "source": [
        "classifier.get_variable_names()"
      ]
    },
    {
      "cell_type": "code",
      "execution_count": null,
      "metadata": {
        "colab": {
          "base_uri": "https://localhost:8080/"
        },
        "id": "wICtyt6RbZxX",
        "outputId": "6bcae18b-94fa-4545-eee0-ac244febf609"
      },
      "outputs": [],
      "source": [
        "classifier.get_variable_value('dnn/hiddenlayer_0/kernel')"
      ]
    },
    {
      "cell_type": "markdown",
      "metadata": {
        "id": "ExIsRaC_bZxX"
      },
      "source": [
        "#### <span style=\"color:LightBlue\">Testing a Model</span>"
      ]
    },
    {
      "cell_type": "code",
      "execution_count": null,
      "metadata": {
        "colab": {
          "base_uri": "https://localhost:8080/"
        },
        "id": "avic-8bQbZxX",
        "outputId": "2c42c481-d753-4fd3-b50f-b9b8da8d898c"
      },
      "outputs": [],
      "source": [
        "results = classifier.evaluate(input_fn=get_test_data)"
      ]
    },
    {
      "cell_type": "code",
      "execution_count": null,
      "metadata": {
        "colab": {
          "base_uri": "https://localhost:8080/"
        },
        "id": "7pkoc1bRbZxX",
        "outputId": "2eb7c427-2019-42c2-f9fc-45b5f84f0c23"
      },
      "outputs": [],
      "source": [
        "results"
      ]
    },
    {
      "cell_type": "markdown",
      "metadata": {
        "id": "wse-rkOqbZxX"
      },
      "source": [
        "# <span style=\"color:Orange\">Convolutional Networks</span>"
      ]
    },
    {
      "cell_type": "markdown",
      "metadata": {
        "id": "_I3_D-nwbZxf"
      },
      "source": [
        "A _<span style=\"color:Violet\">Convolutional Neural Network</span>_ (CNN) is a special architecture that:\n",
        " - Assumes that input features measure some property on a grid. The grid is usually spatial or temporal, but this is not required. For example, a 1D spectrum or time series, a 2D monochrome image, or a 3D stack of 2D images in different filters (RGB, etc).\n",
        "\n",
        " - Performs translation-invariant learning efficiently. For example, identifying a galaxy wherever it appears in an image, or a transient pulse wherever it appears in a time series. The main efficiency is a much reduced number of parameters compared to the number of input features, relative to the dense fully connected networks we have seen so far.\n",
        "\n",
        "As we saw in the previous lecture, Neural Networks receive an input (a single vector), and transform it through a series of hidden layers. Each hidden layer is made up of a set of neurons, where each neuron is fully connected to all neurons in the previous layer, and where neurons in a single layer function completely independently and do not share any connections. The last fully-connected layer is called the “output layer” and in classification settings it represents the class scores.\n",
        "\n",
        "The fully-connected, feed-forward neural networks we have studied thus far do not scale well to large image data. For example, a modest 200 $\\times$ 200 $\\times$ 3 (x-pixels, y-pixels, 3 colors) image would lead to neurons that have 200 $\\times$ 200 $\\times$ 3 = 120,000 weights. Moreover, we would almost certainly want to have several such neurons, so the parameters would add up quickly! Clearly, this full connectivity is wasteful and the huge number of parameters would quickly lead to overfitting.\n",
        "\n",
        "Convolutional Neural Networks take advantage of the fact that the input consists of images and they constrain the architecture in a more sensible way to reduce the number of parameters. In particular, unlike a regular Neural Network, the layers of a CNN have neurons arranged in 3 dimensions: width, height, depth. \n",
        "\n",
        "(Note that the word \"depth\" here refers to the third dimension of an activation volume, not to the depth of a full Neural Network, which can refer to the total number of layers in a network...) \n",
        "\n",
        "The neurons in a CNN layer will only be connected to a small region of the layer before it, instead of all of the neurons in a fully-connected manner.\n",
        "\n",
        "A CNN is made up of layers of different types (convolutions, pooling, fully-connected), in general. Every layer has a simple API: It transforms an input 3D volume to an output 3D volume with some differentiable function that may or may not have parameters."
      ]
    },
    {
      "cell_type": "markdown",
      "metadata": {
        "id": "sODlPGCebZxg"
      },
      "source": [
        "We will use the following problem to motivate and demonstration a CNN:\n",
        "\n",
        " - The input data consists of triplets of digitized waveforms.\n",
        "\n",
        " - Each waveform has a slowly varying level with some narrow pulses superimposed.\n",
        "\n",
        " - Each triplet has a single pulse that is synchronized (coincident) in all three waveforms.\n",
        "\n",
        " - Waveforms also contain a random number of unsynchronized \"background\" pulses.\n",
        "\n",
        " - Synchronized and unsynchronized pulses can overlap in time and between traces.\n",
        "\n",
        "The goal is to identify the location of the synchronized pulses in each triplet. This is a simplified version of a common task in data acquisition trigger systems and transient analysis pipelines."
      ]
    },
    {
      "cell_type": "code",
      "execution_count": null,
      "metadata": {
        "id": "Pp5-HfnxbZxg"
      },
      "outputs": [],
      "source": [
        "def generate(N=10000, ntrace=3, nt=100, nbg=1., A=5., nsmooth=3, T=1., seed=123):\n",
        "    gen = np.random.RandomState(seed=seed)\n",
        "    t_grid = np.linspace(0., T, nt)\n",
        "    # Generate the smooth background shapes as superpositions of random cosines.\n",
        "    wlen = 2 * T * gen.lognormal(mean=0., sigma=0.2, size=(nsmooth, N, ntrace, 1))\n",
        "    phase = gen.uniform(size=wlen.shape)\n",
        "    X = np.cos(2 * np.pi * (t_grid + phase * wlen) / wlen).sum(axis=0)\n",
        "    # Superimpose short pulses.\n",
        "    sigma = 0.02 * T\n",
        "    tsig = T * gen.uniform(0.05, 0.95, size=N)\n",
        "    y = np.empty(N, dtype=int)\n",
        "    nbg = gen.poisson(lam=nbg, size=(N, ntrace))\n",
        "    for i in range(N):\n",
        "        # Add a coincident pulse to all traces.\n",
        "        xsig = A * np.exp(-0.5 * (t_grid - tsig[i]) ** 2 / sigma ** 2)\n",
        "        y[i] = np.argmax(xsig)\n",
        "        X[i] += xsig\n",
        "        # Add non-coincident background pulses to each trace.\n",
        "        for j in range(ntrace):\n",
        "            if nbg[i, j] > 0:\n",
        "                t0 = T * gen.uniform(size=(nbg[i, j], 1))\n",
        "                X[i, j] += (A * np.exp(-0.5 * (t_grid - t0) ** 2 / sigma ** 2)).sum(axis=0)\n",
        "    return X.astype(np.float32), y\n",
        "\n",
        "X, y = generate()"
      ]
    },
    {
      "cell_type": "code",
      "execution_count": null,
      "metadata": {
        "colab": {
          "base_uri": "https://localhost:8080/",
          "height": 771
        },
        "id": "kpUkpdFnbZxg",
        "outputId": "74f79bce-05d9-4c0d-a8bd-b0f6f704aac5"
      },
      "outputs": [],
      "source": [
        "def plot_traces(X, y):\n",
        "    Nsample, Ntrace, D = X.shape\n",
        "    _, ax = plt.subplots(Nsample, 1, figsize=(9, 1.5 * Nsample))\n",
        "    t = np.linspace(0., 1., 100)\n",
        "    dt = t[1] - t[0]\n",
        "    for i in range(Nsample):\n",
        "        for j in range(Ntrace):\n",
        "            ax[i].plot(t, X[i, j], lw=1)\n",
        "        ax[i].axvline(t[y[i]], c='k', ls=':')\n",
        "        ax[i].set_yticks([])\n",
        "        ax[i].set_xticks([])\n",
        "        ax[i].set_xlim(-0.5 * dt, 1 + 0.5 * dt)\n",
        "    plt.subplots_adjust(left=0.01, right=0.99, bottom=0.01, top=0.99, hspace=0.1)\n",
        "\n",
        "plot_traces(X[:5], y[:5])"
      ]
    },
    {
      "cell_type": "markdown",
      "metadata": {
        "id": "1NZRn3WtbZxg"
      },
      "source": [
        "The derivative of $f(x)$ can be approximated as\n",
        "\n",
        "$$ \\Large\n",
        "f'(x) \\simeq \\frac{f(x + \\delta) - f(x - \\delta)}{2\\delta}\n",
        "$$\n",
        "\n",
        "for small $\\delta$. We can use this approximation to convert an array of $f(n \\Delta x)$ values into an array of estimated $f'(n \\Delta x)$ values using:\n",
        "```\n",
        "K = np.array([-1, 0, +1]) / ( 2 * dx)\n",
        "fp[0] = K.dot(f[[0,1,2]])\n",
        "fp[1] = K.dot(f[[1,2,3]])\n",
        "...\n",
        "fp[N-2] = K.dot(f[[N-3,N-2,N-1]]\n",
        "```\n",
        "The numpy [convolve function](https://docs.scipy.org/doc/numpy-1.14.0/reference/generated/numpy.convolve.html) automates this process of sliding an arbitrary <span style=\"color:Violet\">kernel</span> $K$ along an input array like this. The result only estimates a first (or higher-order) derivative when the kernel contains [special values](https://en.wikipedia.org/wiki/Finite_difference_coefficient) (and you should normally use the numpy [gradient function](https://docs.scipy.org/doc/numpy-1.14.0/reference/generated/numpy.gradient.html) for this), but any convolution is a valid and potentially useful transformation.\n",
        "\n",
        "A clarifying word about terminology: In the context of convolutional networks, <span style=\"color:Violet\">kernel</span> is a simple group of weights shared all over the input space that is engineered to determine what specific features are to be detected. The kernel is also sometimes referred to as a \"feature map\" or \"filter\" in this context.\n",
        "\n",
        "See for example the application of a kernel in convolution over a simple black-and-white image:\n",
        "[here](https://i.stack.imgur.com/9Iu89.gif).\n",
        "\n",
        "\n",
        "The kernel needs to completely overlap the input array it is being convolved with, which means that the output array is smaller and offset. Alternatively, you can pad the input array with zeros to extend the output array. There are three different conventions for handling these edge effects via the `mode` parameter to `np.convolve`:\n",
        " - **valid**: no zero padding, so output length is $N - K + 1$ and offset is $(K-1)/2$.\n",
        "\n",
        " - **same**: apply zero padding and trim so output length equals input length $N$, and offset is zero.\n",
        "\n",
        " - **full**: apply zero padding without trimming, so output length is $N + K - 1$ and offset is $-(K-1)/2$.\n",
        "\n",
        "(Here $N$ and $K$ are the input and kernel lengths, respectively).\n",
        "\n",
        "We can use a convolution to identify features in our input data:"
      ]
    },
    {
      "cell_type": "code",
      "execution_count": null,
      "metadata": {
        "id": "yxqkGpVQbZxg"
      },
      "outputs": [],
      "source": [
        "def plot_convolved(x, kernel, smax=50):\n",
        "    t = np.arange(len(x))\n",
        "    plt.plot(t, x, lw=1, c='gray')\n",
        "    z = np.convolve(x, kernel, mode='same')\n",
        "    for sel, c in zip(((z > 0), (z < 0)), 'rb'):\n",
        "        plt.scatter(t[sel], x[sel], c=c, s=smax * np.abs(z[sel]), lw=0)\n",
        "    plt.gca()\n",
        "    plt.grid(False)"
      ]
    },
    {
      "cell_type": "markdown",
      "metadata": {
        "id": "-cyYvvxWbZxg"
      },
      "source": [
        "First, let's pick out regions of large positive (red) or negative slope (notice how the edge padding causes some artifacts):"
      ]
    },
    {
      "cell_type": "code",
      "execution_count": null,
      "metadata": {
        "colab": {
          "base_uri": "https://localhost:8080/",
          "height": 434
        },
        "id": "lhyV5i-vbZxg",
        "outputId": "75483b2d-f30d-4dda-ae90-e92cc72146b7"
      },
      "outputs": [],
      "source": [
        "plot_convolved(X[1, 1], [0.5,0,-0.5])"
      ]
    },
    {
      "cell_type": "markdown",
      "metadata": {
        "id": "6rE9zEc0bZxg"
      },
      "source": [
        "We can also pick out regions of large curvature (using the finite-difference coefficients for a second derivative):"
      ]
    },
    {
      "cell_type": "code",
      "execution_count": null,
      "metadata": {
        "colab": {
          "base_uri": "https://localhost:8080/",
          "height": 434
        },
        "id": "JWB0G0z9bZxg",
        "outputId": "3158d607-f7f2-485b-d460-341dbbe5b146"
      },
      "outputs": [],
      "source": [
        "plot_convolved(X[1, 1], [1.,-2.,1.])"
      ]
    },
    {
      "cell_type": "markdown",
      "metadata": {
        "id": "GzABiL7SbZxg"
      },
      "source": [
        "We can apply both of these convolutions to transform our input data to a new representation that highlights regions of large first or second derivative. Use a `tanh` activation to accentuate the effect:"
      ]
    },
    {
      "cell_type": "code",
      "execution_count": null,
      "metadata": {
        "id": "G1ModXuAbZxg"
      },
      "outputs": [],
      "source": [
        "def apply_convolutions(X, *kernels):\n",
        "    N1, N2, D = X.shape\n",
        "    out = []\n",
        "    for i in range(N1):\n",
        "        sample = []\n",
        "        for j in range(N2):\n",
        "            for K in kernels:\n",
        "                sample.append(np.tanh(np.convolve(X[i, j], K, mode='valid')))\n",
        "        out.append(sample)\n",
        "    return np.asarray(out)"
      ]
    },
    {
      "cell_type": "code",
      "execution_count": null,
      "metadata": {
        "id": "hOdCr2LNbZxg"
      },
      "outputs": [],
      "source": [
        "out = apply_convolutions(X, [0.5,0,-0.5], [1.,-2.,1.])"
      ]
    },
    {
      "cell_type": "markdown",
      "metadata": {
        "id": "SfICVs0AbZxg"
      },
      "source": [
        "The resulting array can be viewed as a synthetic image and offers an easy way to visually identify individual narrow peaks and their correlations between traces:"
      ]
    },
    {
      "cell_type": "code",
      "execution_count": null,
      "metadata": {
        "colab": {
          "base_uri": "https://localhost:8080/",
          "height": 526
        },
        "id": "i70i1DQLbZxg",
        "outputId": "36624edd-5528-47c6-c772-6e8e2166de9c"
      },
      "outputs": [],
      "source": [
        "def plot_synthetic(Z):\n",
        "    _, ax = plt.subplots(len(Z), 1, figsize=(9, len(Z)))\n",
        "    for i, z in enumerate(Z):\n",
        "        ax[i].imshow(z, aspect='auto', origin='upper', interpolation='none',\n",
        "                   cmap='coolwarm', vmin=-1, vmax=+1);\n",
        "        ax[i].grid(False)\n",
        "        ax[i].axis('off')\n",
        "    plt.subplots_adjust(left=0.01, right=0.99, bottom=0.01, top=0.99, hspace=0.1)\n",
        "\n",
        "plot_synthetic(out[:5])"
      ]
    },
    {
      "cell_type": "markdown",
      "metadata": {
        "id": "ZOHasz3UbZxg"
      },
      "source": [
        "The patterns that identify individual and coincident peaks are all translation invariant so can be identified in this array using a new convolution, but now in the 2D space of these synthetic images.\n",
        "\n",
        "Since matrix convolution is a linear operation, it is a special case of our general neural network unit,\n",
        "\n",
        "$$ \\Large\n",
        "\\mathbf{f}(\\mathbf{x}) = W\\mathbf{x} + \\mathbf{b} \\; ,\n",
        "$$\n",
        "\n",
        "but with the matrix $W$ now having many repeated elements so its effective number of dimensions is greatly reduced in typical applications.\n",
        "\n",
        "A <span style=\"color:Violet\">convolutional layer</span> takes an arbitrary input array and applies a number of filters with the same shape in parallel. By default, the filter kernels march with single-element steps through the input array, but you can also specify larger <span style=\"color:Violet\">stride vector</span>.\n",
        "\n",
        "In the general case, the input array, kernels and stride vector are all multidimensional, but with the same dimension. Tensorflow provides convenience functions for 1D, 2D and 3D convolutional layers, for example:\n",
        "```\n",
        "hidden = tf.layers.Conv2D(\n",
        "    filters=3, kernel_size=[4, 5], strides=[2, 1],\n",
        "    padding='same', activation=tf.nn.relu)\n",
        "```\n",
        "Note that `padding` specifies how edges effects are handled, but only `same` and `valid` are supported (and `valid` is the default). You can also implement higher-dimensional convolutional layers using the lower-level APIs.\n",
        "\n",
        "A _<span style=\"color:Violet\">convolutional neural network</span>_ (CNN) is a network containing convolutional layers. A typical architecture starts with convolutional layers, processing the input, then finishes with some fully connected dense layers to calculate the output. Since one of the goals of a CNN is reduce the number of parameters, a CNN often also incorporates [pooling layers](https://en.wikipedia.org/wiki/Convolutional_neural_network#Pooling_layer) to reduce the size of the array fed to to later layers by \"downsampling\" (typically using a maximum or mean value). See [these Stanford CS231n notes](http://cs231n.github.io/convolutional-networks/) for more details in the context of image classification."
      ]
    },
    {
      "cell_type": "code",
      "execution_count": null,
      "metadata": {
        "id": "qQek69A0bZxh"
      },
      "outputs": [],
      "source": [
        "def pulse_model(features, labels, mode, params):\n",
        "    \"\"\"Build a graph to TRAIN/TEST/PREDICT a pulse coincidence detection model.\n",
        "    \"\"\"\n",
        "    D = params['time_steps']\n",
        "    M = params['number_of_traces']\n",
        "    n1 = params['conv1_width']\n",
        "    n2 = params['conv2_width']\n",
        "    eta = params['learning_rate']\n",
        "    assert n1 % 2 == 1 and n2 % 2 == 1\n",
        "\n",
        "    # Build the input layer.\n",
        "    inputs = tf.reshape(features['X'], [-1, M, D, 1])\n",
        "    # Add the first convolutional layer.\n",
        "    conv1 = tf.layers.conv2d(\n",
        "        inputs=inputs, filters=2, kernel_size=[1, n1],\n",
        "        padding='same', activation=tf.tanh, name='conv1')\n",
        "    # Add the second convolutional (and output) layer.\n",
        "    logits = tf.layers.conv2d(\n",
        "        inputs=conv1, filters=1, kernel_size=[M, n2],\n",
        "        padding='valid', activation=None, name='conv2')\n",
        "    # Flatten the outputs.\n",
        "    logits = tf.reshape(logits, [-1, D - n2 + 1])\n",
        "\n",
        "    # Calculate the offset between input labels and the output-layer node index\n",
        "    # that is introduced by using padding='valid' for the output layer below.\n",
        "    offset = (n2 - 1) // 2\n",
        "\n",
        "    # Calculate the network's predicted best label.\n",
        "    predicted_labels = tf.argmax(logits, axis=1) + offset\n",
        "\n",
        "    # Calculate the network's predicted probability of each label.\n",
        "    probs = tf.nn.softmax(logits)\n",
        "\n",
        "    # Calculate the network's predicted mean label.\n",
        "    bins = tf.range(0., D - n2 + 1., dtype=np.float32) + offset\n",
        "    mean_labels = tf.reduce_sum(bins * probs, axis=-1)\n",
        "\n",
        "    # Return predicted labels and probabilities in PREDICT mode.\n",
        "    if mode == tf.estimator.ModeKeys.PREDICT:\n",
        "        return tf.estimator.EstimatorSpec(mode, predictions={\n",
        "            'label': predicted_labels,\n",
        "            'probs': tf.nn.softmax(logits)\n",
        "        })\n",
        "\n",
        "    # Calculate the loss for TRAIN and EVAL modes. We need to offset the labels\n",
        "    # used here so they correspond to output-layer node indices.\n",
        "    loss = tf.losses.sparse_softmax_cross_entropy(labels=labels - offset, logits=logits)\n",
        "\n",
        "    # Compute evaluation metrics.\n",
        "    if mode == tf.estimator.ModeKeys.EVAL:\n",
        "        accuracy = tf.metrics.accuracy(labels=labels, predictions=predicted_labels)\n",
        "        rmse = tf.metrics.root_mean_squared_error(\n",
        "            labels=tf.cast(labels, np.float32), predictions=mean_labels)\n",
        "        return tf.estimator.EstimatorSpec(\n",
        "            mode, loss=loss, eval_metric_ops={'accuracy': accuracy, 'rmse': rmse})\n",
        "\n",
        "    # Create optimizer.\n",
        "    assert mode == tf.estimator.ModeKeys.TRAIN\n",
        "    optimizer = tf.train.AdamOptimizer(learning_rate=eta)\n",
        "    step = optimizer.minimize(loss, global_step=tf.train.get_global_step())\n",
        "    return tf.estimator.EstimatorSpec(mode, loss=loss, train_op=step)"
      ]
    },
    {
      "cell_type": "code",
      "execution_count": null,
      "metadata": {
        "id": "4xSOIC7tbZxh"
      },
      "outputs": [],
      "source": [
        "tf.logging.set_verbosity(tf.logging.WARN)"
      ]
    },
    {
      "cell_type": "code",
      "execution_count": null,
      "metadata": {
        "id": "eEAOdm9sbZxh"
      },
      "outputs": [],
      "source": [
        "!rm -rf tfs/pulses"
      ]
    },
    {
      "cell_type": "code",
      "execution_count": null,
      "metadata": {
        "id": "JWfjhMZKbZxh"
      },
      "outputs": [],
      "source": [
        "config = tf.estimator.RunConfig(\n",
        "    model_dir='tfs/pulses',\n",
        "    tf_random_seed=123\n",
        ")"
      ]
    },
    {
      "cell_type": "code",
      "execution_count": null,
      "metadata": {
        "id": "vCRoOtlGbZxh"
      },
      "outputs": [],
      "source": [
        "pulse = tf.estimator.Estimator(\n",
        "    config=config,\n",
        "    model_fn=pulse_model,\n",
        "    params = dict(\n",
        "        time_steps=100,\n",
        "        number_of_traces=3,\n",
        "        conv1_width=3,\n",
        "        conv2_width=7,\n",
        "        learning_rate=0.01))"
      ]
    },
    {
      "cell_type": "code",
      "execution_count": null,
      "metadata": {
        "id": "SOwQ8zvYbZxh"
      },
      "outputs": [],
      "source": [
        "X_train, X_test, y_train, y_test = model_selection.train_test_split(\n",
        "    X, y, test_size=0.4, random_state=123)"
      ]
    },
    {
      "cell_type": "code",
      "execution_count": null,
      "metadata": {
        "colab": {
          "base_uri": "https://localhost:8080/"
        },
        "id": "qom0tYGObZxh",
        "outputId": "71c77c78-872d-42ac-9f3d-8f86c5e06f4a"
      },
      "outputs": [],
      "source": [
        "pulse.train(\n",
        "    input_fn=tf.estimator.inputs.numpy_input_fn(\n",
        "        x={'X': X_train}, y=y_train,\n",
        "        batch_size=500, num_epochs=None, shuffle=True),\n",
        "    steps=500);"
      ]
    },
    {
      "cell_type": "markdown",
      "metadata": {
        "id": "rlwHTL_VbZxh"
      },
      "source": [
        "Compare the kernels learned during training with the derivative kernels we used above. We find that they are qualitatively similar:\n",
        " - The \"odd\" kernel correlates most strongly with a rising slope, so approximately measures $+f'(t)$.\n",
        "\n",
        " - The \"even\" kernel correlates most strongly with a local maximum, so approximately measures $-f''(t)$.\n",
        "\n",
        " - The odd-numbered rows of the image are correlated with the odd kernel, and correlate with a pulse that rises (red) on the left and falls on the right (blue).\n",
        "\n",
        " - The even-numbered rows of the image are correlated with the even kernel, and correlate with a pulse that peaks (dark red) at the center.\n",
        "\n",
        "Note that nothing in the network architecture requires that the three traces be processed the same way in the second convolutional layer (right-hand image), and we do find some variations. A more detailed analysis of these weights would take into account the additional bias parameters and the influence of the activations."
      ]
    },
    {
      "cell_type": "code",
      "execution_count": null,
      "metadata": {
        "colab": {
          "base_uri": "https://localhost:8080/",
          "height": 301
        },
        "id": "aNhBvGbcbZxh",
        "outputId": "c3021cfe-7258-4406-b91a-7af4907a8094"
      },
      "outputs": [],
      "source": [
        "def plot_kernels():\n",
        "    M = pulse.params['number_of_traces']\n",
        "    n1 = pulse.params['conv1_width']\n",
        "    n2 = pulse.params['conv2_width']\n",
        "    K1 = pulse.get_variable_value('conv1/kernel')\n",
        "    K2 = pulse.get_variable_value('conv2/kernel')\n",
        "    assert K1.shape == (1, n1, 1, 2)\n",
        "    assert K2.shape == (M, n2, 2, 1)\n",
        "    _, ax = plt.subplots(1, 2, figsize=(10, 3))\n",
        "    # Plot the two 1D kernels used in the first layer.\n",
        "    dt = np.arange(n1) - 0.5 * (n1 - 1)\n",
        "    ax[0].plot(dt, K1[0, :, 0, 0], 'o:', label='even')\n",
        "    ax[0].plot(dt, K1[0, :, 0, 1], 'o:', label='odd')\n",
        "    ax[0].legend(fontsize='x-large')\n",
        "    # Assemble an image of the second-layer kernel that can be compared with plot_synthetic().\n",
        "    K2img = np.empty((M, 2, n2))\n",
        "    K2img[:, 0] = K2[:, :, 0, 0]\n",
        "    K2img[:, 1] = K2[:, :, 1, 0]\n",
        "    vlim = np.max(np.abs(K2))\n",
        "    ax[1].imshow(K2img.reshape(2 * M, n2), aspect='auto', origin='upper',\n",
        "                 interpolation='none', cmap='coolwarm', vmin=-vlim, vmax=+vlim)\n",
        "    ax[1].axis('off')\n",
        "    ax[1].grid(False)\n",
        "    plt.tight_layout()\n",
        "\n",
        "plot_kernels()"
      ]
    },
    {
      "cell_type": "markdown",
      "metadata": {
        "id": "dipdNbXGbZxh"
      },
      "source": [
        "Evaluate how well the trained network performs on the test data:"
      ]
    },
    {
      "cell_type": "code",
      "execution_count": null,
      "metadata": {
        "id": "avTi4DmrbZxh"
      },
      "outputs": [],
      "source": [
        "results = pulse.evaluate(\n",
        "    input_fn=tf.estimator.inputs.numpy_input_fn(\n",
        "        x={'X': X_test}, y=y_test,\n",
        "        num_epochs=1, shuffle=False))"
      ]
    },
    {
      "cell_type": "markdown",
      "metadata": {
        "id": "5ooj4PixbZxh"
      },
      "source": [
        "We find that about 95% of test samples are classified \"correctly\", defined as the network predicting the bin containing the the coincidence maximum exactly.  However, The RMS error between the predicted and true bins is only 0.4 bins, indicating that the network usually predicts a neighboring bin in the 5% of \"incorrect\" test cases."
      ]
    },
    {
      "cell_type": "code",
      "execution_count": null,
      "metadata": {
        "colab": {
          "base_uri": "https://localhost:8080/"
        },
        "id": "VRObvcK6bZxh",
        "outputId": "f1d87762-c1d0-4ac3-ffd9-e32e342e1300"
      },
      "outputs": [],
      "source": [
        "results"
      ]
    },
    {
      "cell_type": "markdown",
      "metadata": {
        "id": "j7c9bEKjbZxh"
      },
      "source": [
        "Finally, compare the predicted (gray histogram) and true (dotted line) coincidence locations for a few test samples:"
      ]
    },
    {
      "cell_type": "code",
      "execution_count": null,
      "metadata": {
        "colab": {
          "base_uri": "https://localhost:8080/",
          "height": 845
        },
        "id": "9C39bAeJbZxh",
        "outputId": "e6d83335-4d00-480e-ebbe-e7a42fb5c9c5"
      },
      "outputs": [],
      "source": [
        "def plot_predictions(X, y):\n",
        "    # Calculate predicted labels and PDFs over labels.\n",
        "    predictions = pulse.predict(\n",
        "        input_fn=tf.estimator.inputs.numpy_input_fn(\n",
        "            x={'X': X}, y=None, num_epochs=1, shuffle=False))\n",
        "    Nsample, Ntrace, D = X.shape\n",
        "    t = np.linspace(0., 1., 100)\n",
        "    dt = t[1] - t[0]\n",
        "    bins = np.linspace(-0.5 * dt, 1 + 0.5 * dt, len(t) + 1)\n",
        "    probs = np.zeros(D)\n",
        "    # Plot input data, truth, and predictions.\n",
        "    _, ax = plt.subplots(Nsample, 1, figsize=(9, 1.5 * Nsample))\n",
        "    for i, pred in enumerate(predictions):\n",
        "        label = pred['label']\n",
        "        # Plot the input traces.\n",
        "        for x in X[i]:\n",
        "            ax[i].plot(t, x, lw=1)\n",
        "        # Indicate the true coincidence position.\n",
        "        ax[i].axvline(t[y[i]], c='k', ls=':')\n",
        "        # Indicate the predicted probability distribution.\n",
        "        n2 = D - len(pred['probs']) + 1\n",
        "        offset = (n2 - 1) // 2\n",
        "        probs[offset:-offset] = pred['probs']\n",
        "        rhs = ax[i].twinx()\n",
        "        rhs.hist(t, weights=probs, bins=bins, histtype='stepfilled', alpha=0.25, color='k')\n",
        "        rhs.set_ylim(0., 1.)\n",
        "        rhs.set_xlim(bins[0], bins[-1])\n",
        "        rhs.set_yticks([])\n",
        "        ax[i].set_xticks([])\n",
        "        ax[i].set_yticks([])\n",
        "        ax[i].grid(False)\n",
        "        ax[i].set_xlim(bins[0], bins[-1])\n",
        "    plt.subplots_adjust(left=0.01, right=0.99, bottom=0.01, top=0.99, hspace=0.1)\n",
        "\n",
        "plot_predictions(X_test[:5], y_test[:5])"
      ]
    },
    {
      "cell_type": "markdown",
      "metadata": {
        "id": "pcqBM8Q2bZxi"
      },
      "source": [
        "Note that our loss function does not know that consecutive labels are close and being off by one is almost as good as getting the right label. We could change this by treating this as a regression problem, but a nice feature of our multi-category approach is that we can predict a a full probability density over labels (the gray histograms above) which is often useful."
      ]
    },
    {
      "cell_type": "markdown",
      "metadata": {
        "id": "xlOxWxSnbZxk"
      },
      "source": [
        "## <span style=\"color:LightGreen\">Recurrent Networks</span>"
      ]
    },
    {
      "cell_type": "markdown",
      "metadata": {
        "id": "FbeBxAHWbZxk"
      },
      "source": [
        "All the architectures we have seen so far are **feed-foward** networks, with input data always from left (input layer) to right (output layer). A <span style=\"color:Violet\">recurrent neural network</span> (RNN) adds links that feed back into a previous layer. This simple modification adds significant complexity but also expressive power (comparable to the electronics revolution associated with the idea of transistor feedback).\n",
        "\n",
        "Architectures with feedback are still maturing but some useful building blocks have emerged, such as the [long short-term memory unit](https://en.wikipedia.org/wiki/Long_short-term_memory), which allows a network to remember some internal state but also forget it based on new input.\n",
        "\n",
        "Some practical considerations for RNN designs:\n",
        " - The order of training data is now significant and defines a \"model time\", but the network can be reset whenever needed.\n",
        "\n",
        " - Input data can be packaged into variable-length messages that generate variable (and different) length output messages. This is exactly what language translation needs.\n",
        "\n",
        " - Optimization of the weights using gradients is still possible but requires \"unrolling\" the network by cloning it enough times to process the longest allowed messages.\n",
        "\n",
        "A feed-foward network implements a universal approximating function. Since the internal state of an RNN acts like local variables, you can think of an RNN as a universal approximating program.\n",
        "\n",
        "See this [blog post](http://karpathy.github.io/2015/05/21/rnn-effectiveness/) for an example based on natural language synthesis."
      ]
    },
    {
      "cell_type": "markdown",
      "metadata": {
        "id": "1SPJHklMbZxk"
      },
      "source": [
        "## <span style=\"color:LightGreen\">Reinforcement Learning</span>"
      ]
    },
    {
      "cell_type": "markdown",
      "metadata": {
        "id": "D6e_vegNbZxk"
      },
      "source": [
        "The architectures we have seen so far all have target output values associated with each input sample, which are necessary to update the network parameters during the learning (loss optimization) phase:"
      ]
    },
    {
      "cell_type": "markdown",
      "metadata": {},
      "source": [
        "<img src=\"https://raw.githubusercontent.com/illinois-ipaml/MachineLearningForPhysics/main/img/DeepLearning-SampleLearning.png\" width=600 align=left></img><br>"
      ]
    },
    {
      "cell_type": "markdown",
      "metadata": {},
      "source": [
        "However, we can relax this requirement of being able to calculate a loss after each new input as long as we eventually get some feedback on how well our input-to-output mapping is doing.  This is the key idea of <span style=\"color:Violet\">reinforcement learning</span> (RL):"
      ]
    },
    {
      "cell_type": "markdown",
      "metadata": {},
      "source": [
        "<img src=\"https://raw.githubusercontent.com/illinois-ipaml/MachineLearningForPhysics/main/img/DeepLearning-ReinforcementLearning.png\" width=600 align=left></img><br>"
      ]
    },
    {
      "cell_type": "markdown",
      "metadata": {},
      "source": [
        "A RL network watches some external \"reality\" (which is often simulated) and learns a policy for how to take actions.  A sequence of actions eventually leads to some feedback, which is then used to take a single step in optimizing the policy network's parameters:\n",
        "\n",
        "See this [blog post](http://karpathy.github.io/2016/05/31/rl/) for an example based on image generation."
      ]
    },
    {
      "cell_type": "markdown",
      "metadata": {},
      "source": [
        "<img src=\"https://raw.githubusercontent.com/illinois-ipaml/MachineLearningForPhysics/main/img/DeepLearning-PolicyNetwork.png\" width=600 align=left></img><br>"
      ]
    },
    {
      "cell_type": "markdown",
      "metadata": {},
      "source": [
        "See this [blog post](http://karpathy.github.io/2016/05/31/rl/) for an example based on image generation."
      ]
    },
    {
      "cell_type": "markdown",
      "metadata": {
        "id": "TnM1THu2bZxk"
      },
      "source": [
        "# <span style=\"color:Orange\">Deep Learning Outlook</span>"
      ]
    },
    {
      "cell_type": "markdown",
      "metadata": {
        "id": "BHU9TjJgbZxk"
      },
      "source": [
        "The depth of \"deep learning\" comes primarily from network architectures that stack many layers. In another sense, deep learning is very shallow since it often performs well using little to no specific knowledge about the problem it is solving, using generic building blocks.\n",
        "\n",
        "The field of modern deep learning [started around 2012](https://papers.nips.cc/paper/4824-imagenet-classification-with-deep-convolutional-neural-networks.pdf) when the architectures described above were first used successfully, and the necessary large-scale computing and datasets were available. Massive neural networks are now the state of the art for many benchmark problems, including image classification, speech recognition and language translation.\n",
        "\n",
        "However, less than a decade into the field, there are signs that deep learning is reaching its limits. Some of the pioneers are focusing on new directions such as [capsule networks](https://arxiv.org/abs/1710.09829) and [causal inference](https://arxiv.org/abs/1801.04016). Others are taking a [critical look](https://arxiv.org/abs/1801.00631) at the current state of the field:\n",
        " - Deep learning does not use data efficiently.\n",
        "\n",
        " - Deep learning does not integrate prior knowledge.\n",
        "\n",
        " - Deep learning often give correct answers but without associated uncertainties.\n",
        "\n",
        " - Deep learning applications are hard to interpret and transfer to related problems.\n",
        "\n",
        " - Deep learning is excellent at learning stable input-output mappings but does not cope well with varying conditions.\n",
        "\n",
        " - Deep learning cannot distinguish between correlation and causation.\n",
        "\n",
        "These are mostly concerns for the future of neural networks as a <span style=\"color:Violet\">general model for artificial intelligence</span>, but they also limit the potential of scientific applications.\n",
        "\n",
        "However, there are many challenges in scientific data analysis and interpretation that could benefit from deep learning approaches, so I encourage you to follow the field and experiment. Through this course, you now have a pretty solid foundation in data science and machine learning to further your studies toward more advanced and current topics!"
      ]
    }
  ],
  "metadata": {
    "colab": {
      "provenance": []
    },
    "kernelspec": {
      "display_name": "Python 3 (ipykernel)",
      "language": "python",
      "name": "python3"
    },
    "language_info": {
      "codemirror_mode": {
        "name": "ipython",
        "version": 3
      },
      "file_extension": ".py",
      "mimetype": "text/x-python",
      "name": "python",
      "nbconvert_exporter": "python",
      "pygments_lexer": "ipython3",
      "version": "3.11.2"
    }
  },
  "nbformat": 4,
  "nbformat_minor": 0
}
