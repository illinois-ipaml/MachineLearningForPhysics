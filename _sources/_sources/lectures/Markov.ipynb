{
 "cells": [
  {
   "cell_type": "markdown",
   "metadata": {},
   "source": [
    "# Stochastic Processes and Markov-Chain Theory"
   ]
  },
  {
   "cell_type": "code",
   "execution_count": null,
   "metadata": {},
   "outputs": [],
   "source": [
    "%matplotlib inline\n",
    "import matplotlib.pyplot as plt\n",
    "import seaborn as sns; sns.set()\n",
    "import numpy as np\n",
    "import pandas as pd\n",
    "import os.path\n",
    "import subprocess\n",
    "import scipy.stats"
   ]
  },
  {
   "cell_type": "markdown",
   "metadata": {},
   "source": [
    "## <span style=\"color:Orange\">Stochastic Processes</span>"
   ]
  },
  {
   "cell_type": "markdown",
   "metadata": {},
   "source": [
    "A <span style=\"color:violet\">stochastic process</span> is a black-box generator of random sequences\n",
    "\n",
    "$$ \\Large\n",
    "x_0, x_1, x_2, \\ldots\n",
    "$$\n",
    "\n",
    "where, in general, the value $x_n$ depends on the history of all previous samples, so the black box has long-term memory. The values appearing at the $n$-th position of many runs of the black box sample the random variable $X_n$. In general, samples can be multi-dimensional, $\\vec{x}_i$, but this does not present any special challenges or require new concepts so we will stick with the cleaner 1D notation in the following."
   ]
  },
  {
   "cell_type": "markdown",
   "metadata": {},
   "source": [
    "We will start with a simple example of a general stochastic process. Below is a helper Class `StochasticProcess` that we will make use of in our study of stochastic processes:"
   ]
  },
  {
   "cell_type": "code",
   "execution_count": null,
   "metadata": {},
   "outputs": [],
   "source": [
    "class StochasticProcess(object):\n",
    "    \"\"\"Base class for a stochastic process.\n",
    "\n",
    "    A subclass must implement the :meth:`initial` and :meth:`update` methods.\n",
    "    \"\"\"\n",
    "    def __init__(self, seed=123):\n",
    "        \"\"\"Initialize a generic stochastic process.\n",
    "\n",
    "        Parameters\n",
    "        ----------\n",
    "        seed : int or None\n",
    "            Random seed to use for reproducible random numbers. A random state\n",
    "            initialized with this seed is passed to the initial() and update()\n",
    "            methods.\n",
    "        \"\"\"\n",
    "        self.gen = np.random.RandomState(seed=seed)\n",
    "\n",
    "    def plot(self, nsamples_per_run=50, nruns=3, joined=True):\n",
    "        \"\"\"Plot a few sequences of many samples.\n",
    "\n",
    "        Parameters\n",
    "        ----------\n",
    "        nsamples_per_run : int\n",
    "            Number of samples to plot for each run of the process.\n",
    "        nruns : int\n",
    "            Number of independent runs to plot. Should usually be a small\n",
    "            number.\n",
    "        joined : bool\n",
    "            Join samples from the same run with lines when True.\n",
    "        \"\"\"\n",
    "        cmap = sns.color_palette().as_hex()\n",
    "        for i in range(nruns):\n",
    "            run = self.run(nsamples_per_run)\n",
    "            plt.plot(run, '.', c=cmap[i % len(cmap)])\n",
    "            if joined:\n",
    "                plt.plot(run, '-', alpha=0.2, c=cmap[i])\n",
    "        plt.xlabel('Sequence number $n$')\n",
    "        plt.ylabel('Value $x_n$')\n",
    "\n",
    "    def pairplot(self, nsamples_per_run=4, nruns=500, x0cut=None):\n",
    "        \"\"\"Plot 1D and 2D statistics of a few samples using many runs.\n",
    "\n",
    "        Uses a seaborn PairGrid.\n",
    "\n",
    "        Parameters\n",
    "        ----------\n",
    "        nsamples_per_run : int\n",
    "            Number of samples to include in the plot. Should usually be\n",
    "            a small number.\n",
    "        nruns : int\n",
    "            Number of independent runs to use for building up statistics.\n",
    "        x0cut : float or None\n",
    "            Each plot is color-coded according to whether x0 is below or\n",
    "            above this cut value, in order to show how dependencies propagate\n",
    "            to later samples. Uses the median x0 value when None.\n",
    "        \"\"\"\n",
    "        X = np.empty((nruns, nsamples_per_run))\n",
    "        for i in range(nruns):\n",
    "            X[i] = self.run(nsamples_per_run)\n",
    "        names = ('$x_{{{}}}$'.format(j) for j in range(nsamples_per_run))\n",
    "        df = pd.DataFrame(X, columns=names)\n",
    "        # Color samples based on whether x0 > x0cut.\n",
    "        x0 = X[:, 0]\n",
    "        if x0cut is None:\n",
    "            x0cut = np.median(x0)\n",
    "        df['sel0'] = pd.cut(x0, [np.min(x0), x0cut, np.max(x0)])\n",
    "        grid = sns.PairGrid(df, hue='sel0')\n",
    "        grid.map_diag(plt.hist, histtype='stepfilled', alpha=0.4, lw=0)\n",
    "        grid.map_diag(plt.hist, histtype='step', lw=2)\n",
    "        grid.map_lower(plt.scatter, edgecolor='w', lw=0.5, s=20)\n",
    "\n",
    "    def tabulate_conditional(self, n, m, lo, hi, nbins, nruns):\n",
    "        \"\"\"Tabulate the conditional probability P(Xm|Xn) numerically.\n",
    "\n",
    "        n : int\n",
    "            Tabulated probabilities are conditioned on n >= 0.\n",
    "        m : int\n",
    "            Tabulated probabilities are for P(Xm|Xn) with m > m.\n",
    "        lo : float\n",
    "            Tabulate values of Xn and Xm on the interval [lo, hi].\n",
    "        hi : float\n",
    "            Tabulate values of Xn and Xm on the interval [lo, hi].\n",
    "        nbins : int\n",
    "            Number of bins to use for tabulated values in [lo, hi].\n",
    "        nruns : int\n",
    "            Number of independent runs to perform to tabulate statistics.\n",
    "\n",
    "        Returns\n",
    "        -------\n",
    "        tuple\n",
    "            Tuple (bins, P) where bins is an array of nbins+1 bin edge values\n",
    "            spanning [lo, hi] and P is an array of shape (nbins, nbins)\n",
    "            containing the tabulated probabilities.  P is normalized for\n",
    "            each value of the conditional Xn, i.e., P.sum(axis=1) = 1.\n",
    "        \"\"\"\n",
    "        assert m > n and n >= 0\n",
    "        nsteps = m - n\n",
    "        result = np.empty((nbins, nbins))\n",
    "        bins = np.linspace(lo, hi, nbins + 1)\n",
    "        centers = 0.5 * (bins[1:] + bins[:-1])\n",
    "        for i, Xi in enumerate(centers):\n",
    "            Xj = []\n",
    "            for j in range(nruns):\n",
    "                history = [Xi]\n",
    "                for k in range(nsteps):\n",
    "                    history.append(self.update(history, self.gen))\n",
    "                Xj.append(history[-1])\n",
    "            result[i], _ = np.histogram(Xj, bins, density=True)\n",
    "        result *= (hi - lo) / nbins\n",
    "        assert np.allclose(result.sum(axis=1), 1)\n",
    "        return bins, result\n",
    "\n",
    "    def plot_conditional(self, bins, table, xlabel=None, ylabel=None,\n",
    "                         show_mean=True, ax=None):\n",
    "        \"\"\"Plot a single tabulated conditional probability P(Xm|Xn).\n",
    "\n",
    "        Parameters\n",
    "        ----------\n",
    "        bins : numpy array\n",
    "            An array of nbins+1 bin edge values where conditional\n",
    "            probabilities are tabulated in table. Usually obtained using\n",
    "            :meth:`tabulate_conditional`.\n",
    "        table : numy array\n",
    "            An array of tabulated conditional probalities.\n",
    "            Usually obtained using :meth:`tabulate_conditional`.\n",
    "        xlabel : str or None\n",
    "            Label to use for the variable Xm in P(Xm|Xn).\n",
    "        ylabel : str or None\n",
    "            Label to use for the variable Xn in P(Xm|Xn).\n",
    "        show_mean : bool\n",
    "            Calculate and plot the mean <Xm> under P(Xm|Xn) for each Xn.\n",
    "        ax : matplotlib axis or None\n",
    "            Use the specified axes for drawing or the current axes.\n",
    "        \"\"\"\n",
    "        lo, hi = bins[0], bins[-1]\n",
    "        if ax is None:\n",
    "            ax = plt.gca()\n",
    "        ax.imshow(table, interpolation='none', origin='lower',\n",
    "                  extent=[lo, hi, lo, hi])\n",
    "        if show_mean:\n",
    "            xy = 0.5 * (bins[1:] + bins[:-1])\n",
    "            mean = np.sum(xy * table, axis=1) / np.sum(table, axis=1)\n",
    "            ax.plot(mean, xy , 'b-')\n",
    "        ax.set_xlabel(xlabel)\n",
    "        ax.set_ylabel(ylabel)\n",
    "        ax.grid(False)\n",
    "\n",
    "    def plot_conditionals(self, lo=0., hi=1., nbins=50, nruns=2000,\n",
    "                          which=(1, 2, 3)):\n",
    "        \"\"\"Plot one or more sequential conditional probabilities.\n",
    "\n",
    "        The initial probability P(X1|X0) is calculated using\n",
    "        :meth:`tabulate_conditional` and each probability is plotted using\n",
    "        :meth:`plot_conditional`. P(Xn|X0) is calculated as P(X1|X0) ** n.\n",
    "\n",
    "        Parameters\n",
    "        ----------\n",
    "        lo : float\n",
    "            Tabulate values of Xn and Xm on the interval [lo, hi].\n",
    "        hi : float\n",
    "            Tabulate values of Xn and Xm on the interval [lo, hi].\n",
    "        nbins : int\n",
    "            Number of bins to use for tabulated values in [lo, hi].\n",
    "        nruns : int\n",
    "            Number of independent runs to perform to tabulate statistics.\n",
    "        which : iterable or ints\n",
    "            Which conditional(s) to plot.\n",
    "        \"\"\"\n",
    "        bins, T0 = self.tabulate_conditional(0, 1, lo, hi, nbins, nruns)\n",
    "        T = T0.copy()\n",
    "        if isinstance(which, int):\n",
    "            which = (which,)\n",
    "        n = len(which)\n",
    "        fig, ax = plt.subplots(\n",
    "            1, n, sharex=True, sharey=True, figsize=(4.2 * n, 4), squeeze=False)\n",
    "        ylabel = '$X_0$'\n",
    "        idx = 0\n",
    "        for i in range(1, max(which) + 1):\n",
    "            if i in which:\n",
    "                xlabel = '$X_{{{}}}$'.format(i)\n",
    "                self.plot_conditional(bins, T, xlabel, ylabel, ax=ax[0, idx])\n",
    "                idx += 1\n",
    "            T = T.dot(T0)\n",
    "        plt.subplots_adjust(wspace=0.1)\n",
    "\n",
    "    def run(self, nsamples_per_run):\n",
    "        \"\"\"Perform a single run of the stochastic process.\n",
    "\n",
    "        Calls :meth:`initial` to get the initial value then calls\n",
    "        :meth:`update` `nsamples_per_run-1` times to complete the run.\n",
    "\n",
    "        Parameters\n",
    "        ----------\n",
    "        nsamples_per_run : int\n",
    "            Number of samples to generate in this run, including the\n",
    "            initial value.\n",
    "\n",
    "        Returns\n",
    "        -------\n",
    "        numpy array\n",
    "            1D array of generated values, of length `nsamples_per_run`.\n",
    "        \"\"\"\n",
    "        history = [ self.initial(self.gen) ]\n",
    "        for i in range(nsamples_per_run - 1):\n",
    "            history.append(self.update(history, self.gen))\n",
    "        return np.array(history)\n",
    "\n",
    "    def initial(self, gen):\n",
    "        \"\"\"Return the initial value to use for a run.\n",
    "\n",
    "        Parameters\n",
    "        ----------\n",
    "        gen : numpy.RandomState\n",
    "            Use this object to generate any random numbers, for reproducibility.\n",
    "\n",
    "        Returns\n",
    "        -------\n",
    "        float\n",
    "            The initial value to use.\n",
    "        \"\"\"\n",
    "        raise NotImplementedError\n",
    "\n",
    "    def update(self, history, gen):\n",
    "        \"\"\"Return the next value to update a run.\n",
    "\n",
    "        Parameters\n",
    "        ----------\n",
    "        history : list\n",
    "            List of values generated so far.  Will always include at least\n",
    "            one element (the initial value).\n",
    "        gen : numpy.RandomState\n",
    "            Use this object to generate any random numbers, for reproducibility.\n",
    "\n",
    "        Returns\n",
    "        -------\n",
    "        float\n",
    "            The next value to use.\n",
    "        \"\"\"\n",
    "        raise NotImplementedError"
   ]
  },
  {
   "cell_type": "markdown",
   "metadata": {},
   "source": [
    "Here is a simple example of a general stochastic process implemented using the `StochasticProcess` base class just defined. We will overrive the `initial` and `update` methods in `StochasticProcess` with our specific example:"
   ]
  },
  {
   "cell_type": "code",
   "execution_count": null,
   "metadata": {},
   "outputs": [],
   "source": [
    "class StochasticExample(StochasticProcess):\n",
    "\n",
    "    def initial(self, gen):\n",
    "        return gen.uniform()\n",
    "    \n",
    "    def update(self, history, gen):\n",
    "        return 0.5 * (np.mean(history) + gen.uniform())"
   ]
  },
  {
   "cell_type": "markdown",
   "metadata": {},
   "source": [
    "Two useful visualizations of a stochastic process are:\n",
    " - Plots of a few long runs output by the black box: how does it evolve in \"time\" $n$?\n",
    " - A pair plot of the first few random variables (from many short runs) for a more detailed look at short-range correlations."
   ]
  },
  {
   "cell_type": "code",
   "execution_count": null,
   "metadata": {
    "scrolled": false
   },
   "outputs": [],
   "source": [
    "StochasticExample().plot(nsamples_per_run=50, nruns=3)"
   ]
  },
  {
   "cell_type": "code",
   "execution_count": null,
   "metadata": {
    "scrolled": false
   },
   "outputs": [],
   "source": [
    "StochasticExample().pairplot(nsamples_per_run=4, nruns=1000, x0cut=0.5)"
   ]
  },
  {
   "cell_type": "markdown",
   "metadata": {
    "solution2": "hidden",
    "solution2_first": true
   },
   "source": [
    "___<span style=\"color:violet\">EXERCISE</span>___  For each panel of the pairplot above:\n",
    " - What distribution of random variables does each panel show?\n",
    "\n",
    " - What correlated random variables are marginalized out, if any?\n",
    "\n",
    " - What conditional probability do the two colors indicate?\n",
    "\n",
    " - Explain how the pairplot answers the question \"Are $X_3$ and $X_0$ independent?\", i.e. $P(X_3\\mid X_0) = P(X_3)$?\n",
    " \n",
    "Hint: the top-left panel shows $P(X_0\\mid X_0 \\le 0.5)$ and $P(X_0\\mid X_0 > 0.5)$, with no marginalization since $X_0$ starts the random sequence."
   ]
  },
  {
   "cell_type": "markdown",
   "metadata": {
    "solution2": "hidden"
   },
   "source": [
    "The histograms show the distributions $P(X_n)$ which are marginalized over $X_{n-1},\\ldots, X_0$. The scatter plots show the joint distributions $P(X_i, X_j)$ which are marginalized over $X_{n-1},\\ldots, X_0$ with $n = \\max(i,j)$ and excluding $X_{\\min(i,j)}$. Note that these are distributions of random variables $X_n$, not random values $x_n$.\n",
    "\n",
    "More explicitly:\n",
    " - $P(X_0)$ has no correlated random variables marginalized out since it starts the sequence.\n",
    "\n",
    " - $P(X_1)$ is marginalized over $X_0$.\n",
    "\n",
    " - $P(X_2)$ is marginalized over $X_1, X_0$.\n",
    "\n",
    " - $P(X_3)$ is marginalized over $X_2, X_1, X_0$.\n",
    "\n",
    " - $P(X_0, X_1)$ has no correlated random variables marginalized out.\n",
    "\n",
    " - $P(X_1, X_2)$ is marginalized over $X_0$.\n",
    "\n",
    " - $P(X_2, X_3)$ is marginalized over $X_0, X_1$.\n",
    "\n",
    " - $P(X_1, X_3)$ is marginalized over $X_0, X_2$.\n",
    "\n",
    "The two colors apply the conditions $X_0 \\le 0.5$ and $X_0 > 0.5$, so, for example:\n",
    " - The $(x_2, x_3)$ scatter plot shows $P(X_2, X_3\\mid X_0 \\le 0.5)$ and $P(X_2, X_3\\mid X_0 > 0.5)$.\n",
    "\n",
    " - The $x_3$ histogram shows $P(X_3\\mid X_0 \\le 0.5)$ and $P(X_3\\mid X_0 > 0.5)$.\n",
    "\n",
    "The difference between the two $x_3$ histograms demonstrates that $P(X_3\\mid X_0) \\ne P(X_3)$, therefore $X_3$ and $X_0$ are *dependent*. In other words, $X_3$ \"remembers\" $X_0$.\n",
    "\n",
    "Note that dependence nearly always implies correlation, but it is possible to construct [artificial counter-examples](https://en.wikipedia.org/wiki/Uncorrelated_random_variables#Example_of_dependence_without_correlation).\n",
    "\n",
    "---"
   ]
  },
  {
   "cell_type": "markdown",
   "metadata": {},
   "source": [
    "An observer watching many different sequences generated from the same black box would need to measure all these conditional probabilities to fully describe the process:\n",
    "$$\n",
    "P(X_0) \\;,\\;\n",
    "P(X_1\\mid X_0) \\;,\\;\n",
    "P(X_2\\mid X_1, X_0) \\;,\\; \\ldots \\;,\\;\n",
    "P(X_n\\mid P_{n-1}, P_{n-2}\\ldots, P_0) \\; .\n",
    "$$"
   ]
  },
  {
   "cell_type": "markdown",
   "metadata": {},
   "source": [
    "The <span style=\"color:violet\">equivalent Bayesian network</span> (up to $n=3$) is:"
   ]
  },
  {
   "cell_type": "markdown",
   "metadata": {},
   "source": [
    "<img src=\"https://raw.githubusercontent.com/illinois-ipaml/MachineLearningForPhysics/main/img/Markov-stochastic_graph.png\" width=400 align=left></img><br>"
   ]
  },
  {
   "cell_type": "markdown",
   "metadata": {},
   "source": [
    "## <span style=\"color:Orange\">Markov Chain</span>"
   ]
  },
  {
   "cell_type": "markdown",
   "metadata": {},
   "source": [
    "A <span style=\"color:violet\">Markov chain</span> is a special type of stochastic process where $X_{n}$ <span style=\"color:violet\">only depends directly</span> on $X_{n-1}$ and not on any earlier samples. In this case, we say that $X_n$ and $X_{n-2}$ are [conditionally independent](https://en.wikipedia.org/wiki/Conditional_independence).\n",
    "\n",
    "In other words, a Markov chain is a black box with <span style=\"color:violet\">very short-term memory</span>. The samples $x_0, x_1, \\ldots$ produced by a single run of a Markov chain are referred to as a <span style=\"color:violet\">Markov-chain Monte Carlo (MCMC)</span>.\n",
    "\n",
    "Our observer now only needs to measure:\n",
    "\n",
    "$$ \\Large\n",
    "P(X_0) \\;,\\; P(X_1\\mid X_0) \\;,\\; P(X_2\\mid X_1) \\;,\\; \\ldots \\;,\\; P(X_n\\mid X_{n-1}) \\; .\n",
    "$$"
   ]
  },
  {
   "cell_type": "markdown",
   "metadata": {},
   "source": [
    "The <span style=\"color:violet\">equivalent Bayesian network</span> (up to $n=3$) is:"
   ]
  },
  {
   "cell_type": "markdown",
   "metadata": {},
   "source": [
    "<img src=\"https://raw.githubusercontent.com/illinois-ipaml/MachineLearningForPhysics/main/img/Markov-markov_graph.png\" width=600 align=left></img><br>"
   ]
  },
  {
   "cell_type": "markdown",
   "metadata": {},
   "source": [
    "Random variables without a direct connection (arrow) are conditionally independent."
   ]
  },
  {
   "cell_type": "markdown",
   "metadata": {},
   "source": [
    "### <span style=\"color:Lightgreen\">Stationary Markov Chains</span>"
   ]
  },
  {
   "cell_type": "markdown",
   "metadata": {},
   "source": [
    "\n",
    "An important subset of Markov chains are <span style=\"color:violet\">stationary</span>, which makes our observer's job even easier since they have the property that\n",
    "\n",
    "$$ \\Large\n",
    "P(X_1\\mid X_0) = P(X_2\\mid X_1) = \\ldots = P(X_n\\mid X_{n-1}) \\; .\n",
    "$$\n",
    "\n",
    "In other words, a black box with very <span style=\"color:violet\">short-term memory</span> **and** <span style=\"color:violet\">no sense of time</span>.  Our observer now only has two conditional probability distributions to measure, the initial probability,\n",
    "\n",
    "$$ \\Large\n",
    "P(X_0) \\; ,\n",
    "$$\n",
    "\n",
    "and the update rule for $n\\ge 1$,\n",
    "\n",
    "$$ \\Large\n",
    "P(X_n\\mid X_{n-1}) \\; .\n",
    "$$\n",
    "\n",
    "Here is a simple example of a stationary Markov process:"
   ]
  },
  {
   "cell_type": "code",
   "execution_count": null,
   "metadata": {},
   "outputs": [],
   "source": [
    "class StationaryMarkovExample(StochasticProcess):\n",
    "\n",
    "    def initial(self, gen):\n",
    "        return gen.uniform()\n",
    "    \n",
    "    def update(self, history, gen):\n",
    "        return 0.5 * (history[-1] + gen.uniform())"
   ]
  },
  {
   "cell_type": "code",
   "execution_count": null,
   "metadata": {},
   "outputs": [],
   "source": [
    "StationaryMarkovExample().plot(nsamples_per_run=50, nruns=3)"
   ]
  },
  {
   "cell_type": "code",
   "execution_count": null,
   "metadata": {},
   "outputs": [],
   "source": [
    "StationaryMarkovExample().pairplot(nsamples_per_run=4, nruns=1000, x0cut=0.5)"
   ]
  },
  {
   "cell_type": "markdown",
   "metadata": {},
   "source": [
    "The pairplot above demonstrates that $X_n$ and $X_0$ are still dependent, \n",
    "\n",
    "$$ \\Large\n",
    "P(X_n\\mid X_0) \\ne P(X_n)\n",
    "$$\n",
    "\n",
    "even for a Markov process!"
   ]
  },
  {
   "cell_type": "markdown",
   "metadata": {},
   "source": [
    "Some probability calculus shows how this happens. Take $n=2$ for simplicity:\n",
    "\n",
    "$$ \\Large\n",
    "\\begin{aligned}\n",
    "P(X_2\\mid X_0) &= \\int dX_1\\, P(X_2, X_1\\mid X_0) \\\\\n",
    "&= \\int dX_1\\, P(X_2\\mid X_1, X_0)\\, P(X_1\\mid X_0) \\\\\n",
    "&= \\int dX_1\\, P(X_2\\mid X_1)\\, P(X_1\\mid X_0) \\; ,\n",
    "\\end{aligned}\n",
    "$$\n",
    "\n",
    "where the first two lines are completely general, but the last assumes a Markov process, $P(X_2\\mid X_1, X_0) = P(X_2\\mid X_1)$.  Compare this with:\n",
    "\n",
    "$$ \\Large\n",
    "\\begin{aligned}\n",
    "P(X_2) &= \\int dX_1 dX_0\\, P(X_2, X_1, X_0) \\\\\n",
    "&= \\int dX_1 dX_0\\, P(X_2\\mid X_1, X_0)\\, P(X_1, X_0) \\\\\n",
    "&= \\int dX_1\\, P(X_2\\mid X_1)\\, \\int dX_0\\, P(X_1, X_0) \\\\\n",
    "&= \\int dX_1\\, P(X_2\\mid X_1)\\, P(X_1) \\; .\n",
    "\\end{aligned}\n",
    "$$\n",
    "\n",
    "The comparison shows that $P(X_2\\mid X_0) = P(X_2)$ would require that $P(X_1\\mid X_0) = P(X_1)$.  In other words, the direct dependence of each $X_n$ on $X_{n-1}$ is sufficient to generate long-range dependencies all the way back to $X_0$."
   ]
  },
  {
   "cell_type": "markdown",
   "metadata": {},
   "source": [
    "#### <span style=\"color:Orange\">Reversible Markov Chains</span>"
   ]
  },
  {
   "cell_type": "markdown",
   "metadata": {},
   "source": [
    "Another important property that some Markov chains have is **reversibility**,\n",
    "\n",
    "$$ \\Large\n",
    "P(X_n\\mid X_{n-1}) = P(X_{n-1}\\mid X_n)\n",
    "$$\n",
    "\n",
    "which can also be defined in terms of forward conditional probabilities as\n",
    "\n",
    "$$ \\Large\n",
    "P(X_n=x\\mid X_{n-1}=y) = P(X_{n+1}=y\\mid X_n=x) \\; ,\n",
    "$$\n",
    "\n",
    "and roughly corresponds to time-reversal invariance.\n",
    "\n",
    "*A _<span style=\"color:Violet\">reversible chain is always stationary</span>_, but not vice versa.*"
   ]
  },
  {
   "cell_type": "markdown",
   "metadata": {},
   "source": [
    "The update rule for a stationary Markov chain,\n",
    "\n",
    "$$ \\Large\n",
    "P(X_n\\mid X_{n-1}) \\; .\n",
    "$$\n",
    "\n",
    "can be conveniently visualized with a 2D plot. For example, taking $n=1$:"
   ]
  },
  {
   "cell_type": "code",
   "execution_count": null,
   "metadata": {},
   "outputs": [],
   "source": [
    "StationaryMarkovExample().plot_conditionals(which=1)"
   ]
  },
  {
   "cell_type": "markdown",
   "metadata": {},
   "source": [
    "The blue line shows the mean $X_1$ at each $X_0$,\n",
    "\n",
    "$$ \\Large\n",
    "\\langle X_1\\rangle = \\int dX_1\\, X_1\\, P(X_1\\mid X_0) \\; .\n",
    "$$\n",
    "\n",
    "Note that this is essentially the $(x_1, x_0)$ scatter plot from above, but with samples now histogrammed to yield conditional probabilities."
   ]
  },
  {
   "cell_type": "markdown",
   "metadata": {
    "solution2": "hidden",
    "solution2_first": true
   },
   "source": [
    "___<span style=\"color:Violet\">DISCUSS</span>___\n",
    " - The speckling is due to using finite statistics to estimate the probability. How would this plot look different with infinite statistics?\n",
    "\n",
    " - This plot shows $P(X_1\\mid X_0)$. Would $P(X_2\\mid X_1)$ look any different? How about $P(X_2\\mid X_0)$?\n",
    "\n",
    " - Are these conditional probabilities normalized along $X_0$? along $X_1$?\n",
    "\n",
    " - How would this plot change if we changed the definition of `initial()` in `StationaryMarkovExample`?\n",
    "\n",
    " - What condition on this plot does a reversible Markov chain satisfy? Is this example reversible?"
   ]
  },
  {
   "cell_type": "markdown",
   "metadata": {
    "solution2": "hidden"
   },
   "source": [
    "With infinite statistics, the diagonal band would be a uniform color, since $P(X_1\\mid X_0)$ is uniform (within the diagonal limits shown) for each $X_0$.\n",
    "\n",
    "A plot of $P(X_2\\mid X_1)$, or any $P(X_{n+1}\\mid X_n)$ would look identical since this is the definition of a stationary Markov chain. However, $P(X_2\\mid X_0)$ involves two updates, so its plot might look different.\n",
    "\n",
    "A conditional probability $P(\\alpha\\mid \\beta)$ is normalized along $\\alpha$, with the value of $\\beta$ considered fixed. In other words, a numpy array of values `T[n,m]` tabulating $P(X_m\\mid X_n)$ on a grid satisfies:\n",
    "```\n",
    "np.sum(T, axis=1) = 1\n",
    "```\n",
    "\n",
    "This plot only shows the update rule and does not depend on how we chose an initial value for the Markov chain.\n",
    "\n",
    "A reversible Markov chain has $P(X_1\\mid X_0) = P(X_0\\mid X_1)$, which makes this plot symmetric under the interchange of its axes. In other words, mirroring the plot along the diagonal should not change its appearance. Since this is not true in this example, `StationaryMarkovExample` is not reversible.\n",
    "\n",
    "---"
   ]
  },
  {
   "cell_type": "markdown",
   "metadata": {},
   "source": [
    "### <span style=\"color:Lightgreen\">Equilibrium Distributions</span>"
   ]
  },
  {
   "cell_type": "markdown",
   "metadata": {},
   "source": [
    "Repeated use of the (same) update rule associated with a stationary Markov chain reveals a useful feature. These plots show 1, 2, 4, and 8 iterations of the same rule:"
   ]
  },
  {
   "cell_type": "code",
   "execution_count": null,
   "metadata": {},
   "outputs": [],
   "source": [
    "StationaryMarkovExample().plot_conditionals(which=(1, 2, 4, 8))"
   ]
  },
  {
   "cell_type": "markdown",
   "metadata": {},
   "source": [
    "___<span style=\"color:Violet\">NOTE: </span>:___ A stationary Markov chain eventually reaches an equilibrium $P(X_n\\mid X_0) \\rightarrow \\tilde{P}(X_n)$ that does not depend on $X_0$.**\n",
    "\n",
    "We saw earlier how, in general, $X_n$ and $X_0$ are dependent, but we now learn that stationarity tames this behavior and guarantees that $X_n$ and $X_0$ are independent for sufficiently large $n$.\n",
    "\n",
    "We will not prove this result, but here is a less trivial example to help build the case:"
   ]
  },
  {
   "cell_type": "code",
   "execution_count": null,
   "metadata": {},
   "outputs": [],
   "source": [
    "class StationaryMarkovExample2(StochasticProcess):\n",
    "\n",
    "    def initial(self, gen):\n",
    "        return gen.uniform()\n",
    "    \n",
    "    def update(self, history, gen):\n",
    "        return np.abs(np.fmod(np.cos(2 * np.pi * history[-1]) + 0.1 * gen.normal(), 1))"
   ]
  },
  {
   "cell_type": "code",
   "execution_count": null,
   "metadata": {},
   "outputs": [],
   "source": [
    "StationaryMarkovExample2().plot_conditionals(which=(1, 2, 3, 8))"
   ]
  },
  {
   "cell_type": "markdown",
   "metadata": {},
   "source": [
    "For practical applications, there are two issues to deal with:\n",
    " - There is no way to know in advance how big $n$ needs to be to achieve equilibrium.\n",
    "\n",
    " - Given some stationary Markov chain, we can generate samples from *some* equilibrium distribution $\\tilde{P}(X_n)$, but how do we build a chain to sample a specific distribution?\n",
    "\n",
    "The second issue requires solving an [inverse problem](https://en.wikipedia.org/wiki/Inverse_problem), which is generally challenging. However, there is a general class of solutions that we will look at below."
   ]
  },
  {
   "cell_type": "markdown",
   "metadata": {
    "solution2": "shown",
    "solution2_first": true
   },
   "source": [
    "___<span style=\"color:Violet\">EXERCISE</span>___: Define your own Markov chain, following the `StationaryMarkovExample` above, and make similar plots. Is your chain stationary? For a challenge, try to build a reversible chain."
   ]
  },
  {
   "cell_type": "markdown",
   "metadata": {
    "solution2": "shown"
   },
   "source": [
    "The test for a stationary chain is whether it only uses `history[-1]` in its `update()` method.  The test for a reversible chain is whether its plot of $P(X_1\\mid X_0)$ is symmetric about the diagonal.\n",
    "\n",
    "Here is an example of a reversible (and therefore stationary) Markov chain:"
   ]
  },
  {
   "cell_type": "code",
   "execution_count": null,
   "metadata": {
    "solution2": "shown"
   },
   "outputs": [],
   "source": [
    "class ReversibleMarkovExample(StochasticProcess):\n",
    "\n",
    "    def initial(self, gen):\n",
    "        return gen.uniform()\n",
    "    \n",
    "    def update(self, history, gen):\n",
    "        return np.fmod(history[-1] + 0.2 * gen.normal() + 1, 1)"
   ]
  },
  {
   "cell_type": "code",
   "execution_count": null,
   "metadata": {
    "solution2": "shown"
   },
   "outputs": [],
   "source": [
    "ReversibleMarkovExample().plot_conditionals(which=(1, 2, 4, 8))"
   ]
  },
  {
   "cell_type": "markdown",
   "metadata": {
    "solution2": "shown"
   },
   "source": [
    "Note that we can use the diagonal symmetry of the first plot to confirm that this is a reversible chain.\n",
    "\n",
    "---"
   ]
  },
  {
   "cell_type": "markdown",
   "metadata": {},
   "source": [
    "## <span style=\"color:Orange\">Custom Markov Chain</span>"
   ]
  },
  {
   "cell_type": "markdown",
   "metadata": {},
   "source": [
    "The <span style=\"color:Violet\">Metropolis-Hastings-Green</span> (MHG) algorithm is a general approach to designing a custom Markov chain that has a specified target probability density, $\\tilde{P}(X_n)$.  All practical algorithms are special cases of MHG:\n",
    " - Metropolis-Hastings-Green\n",
    "   - Metropolis-Hastings\n",
    "     - Metropolis\n",
    "     - Gibbs\n",
    "     - Hamiltonian\n",
    "     \n",
    "The simpler <span style=\"color:Violet\">Metropolis-Hastings</span> (MH) algorithm contains the essential ideas so we will focus on that.\n",
    "\n",
    "The history of using Markov chains for practical inference is intimately connected with physics: many of the pioneers were physicists motivated by physics problems, including [Metropolis](https://en.wikipedia.org/wiki/Nicholas_Metropolis) and [Gibbs](https://en.wikipedia.org/wiki/Josiah_Willard_Gibbs), and the Hamiltonian method derives from classical mechanics.\n",
    "\n",
    "See this [blog post](http://twiecki.github.io/blog/2014/01/02/visualizing-mcmc/) for helpful animations comparing some of these methods."
   ]
  },
  {
   "cell_type": "markdown",
   "metadata": {},
   "source": [
    "### <span style=\"color:Lightgreen\">Metropolis-Hastings Updates</span>"
   ]
  },
  {
   "cell_type": "markdown",
   "metadata": {},
   "source": [
    "The MH algorithm relies on a **proposal distribution** $Q(X_{n+1}\\mid X_n)$ that is easier to sample from than the target distribution $\\tilde{P}(X_{n+1}\\mid X_n)$.  (If you knew how to sample $P$ directly, you would not need MCMC!)\n",
    "\n",
    "We often use a multivariate Gaussian for $Q$ since it is easy to sample from. Any proposal distribution is valid, but choosing a $Q$ \"closer\" to $P$ generally reaches the desired equilibrium faster.\n",
    "\n",
    "The proposal distribution can either be used to update to the current state (\"random walk\") or to generate a new state:"
   ]
  },
  {
   "cell_type": "code",
   "execution_count": null,
   "metadata": {},
   "outputs": [],
   "source": [
    "def sample_proposal(x0, gen, mu, C, mode):\n",
    "    sample = gen.multivariate_normal(mu, C)\n",
    "    return x0 + sample if mode == 'random_walk' else sample"
   ]
  },
  {
   "cell_type": "code",
   "execution_count": null,
   "metadata": {},
   "outputs": [],
   "source": [
    "def plot_proposals(n=50, seed=123):\n",
    "    gen = np.random.RandomState(seed=seed)\n",
    "    mu = np.zeros(2)\n",
    "    C = np.diag((.3, .1))\n",
    "    for xy0 in np.array([-3, -1]), np.array([3, 1]):\n",
    "        xy = np.array([sample_proposal(xy0, gen, mu, C, 'random_walk') for i in range(n)])\n",
    "        plt.scatter(*xy.T, label='random_walk')\n",
    "        xy = np.array([sample_proposal(xy0, gen, mu, C, 'independent') for i in range(n)])\n",
    "        plt.scatter(*xy.T, label='independent')\n",
    "        plt.scatter(*xy0, marker='+', s=300, c='k')\n",
    "    \n",
    "plot_proposals()"
   ]
  },
  {
   "cell_type": "markdown",
   "metadata": {},
   "source": [
    "During each update we evaluate a proposed move to $x_{n+1}$ by calculating the **Hastings ratio**,\n",
    "\n",
    "$$ \\Large\n",
    "r(x_{n+1}, x_n) = \\frac{\\tilde{P}(x_{n+1})}{\\tilde{P}(x_n)}\\, \\frac{Q(x_n\\mid x_{n+1})}{Q(x_{n+1}\\mid x_n)} \\; ,\n",
    "$$\n",
    "\n",
    "where $\\tilde{P}$ is the desired equilibrium distribution. Since $\\tilde{P}$ only appears in a ratio, it does not need to be normalized: we saw earlier how this freedom is very useful for performing Bayesian inference, where the normalization is generally not calculable.\n",
    "\n",
    "In general, the Hastings ratio is $\\ge 0$ but it can otherwise be arbitrarily large. We always accept a proposed move when $r(x_{n+1}, x_n) \\ge 1$.  Otherwise, we accept it with a probability of $0\\le r(x_{n+1}, x_n) < 1$.  When a proposed move is rejected, the update returns the original value (so repetitions are possible and quite normal).\n",
    "\n",
    "In practice, we work with\n",
    "\n",
    "$$ \\Large\n",
    "\\log r(x_{n+1}, x_n) = \\log \\tilde{P}(x_{n+1}) - \\log \\tilde{P}(x_n)\n",
    "+ \\log Q(x_n\\mid x_{n+1}) - \\log Q(x_{n+1}\\mid x_n)\n",
    "$$\n",
    "\n",
    "rather than $r(x_{n+1}, x_n)$ in order to minimize the effects of round-off errors.\n",
    "\n",
    "We can now build a simple custom Markov chain for an arbitrary target equilibrium distribution:"
   ]
  },
  {
   "cell_type": "code",
   "execution_count": null,
   "metadata": {},
   "outputs": [],
   "source": [
    "class MetropolisHastings(StochasticProcess):\n",
    "\n",
    "    def __init__(self, x0, Qrms, logP, mode, seed=123):\n",
    "        super().__init__(seed)\n",
    "        self.x0 = np.asarray(x0)\n",
    "        self.Q = scipy.stats.multivariate_normal(\n",
    "            mean=np.zeros_like(x0), cov=np.diag(Qrms ** 2 * np.ones_like(x0)))\n",
    "        self.logP = logP\n",
    "        self.mode = mode\n",
    "    \n",
    "    def initial(self, gen):\n",
    "        # Start from the origin.\n",
    "        return self.x0\n",
    "    \n",
    "    def update(self, history, gen):\n",
    "        x0 = history[-1]\n",
    "        # Sample the proposal distribution Q to generate x1 and calculate\n",
    "        # the log of the proposal ratio.\n",
    "        sample = self.Q.rvs(random_state=gen)\n",
    "        if self.mode == 'random_walk':\n",
    "            x1 = x0 + sample\n",
    "            log_Q_ratio = 0. # self.Q.logpdf(x0-x1) - self.Q.logpdf(x1-x0)\n",
    "        else:\n",
    "            x1 = sample\n",
    "            log_Q_ratio = self.Q.logpdf(x0) - self.Q.logpdf(x1)\n",
    "        # Calculate log of the Hastings ratio.\n",
    "        log_ratio = self.logP(x1) - self.logP(x0) + log_Q_ratio\n",
    "        # Accept x1 or keep x0?\n",
    "        if log_ratio >= 0:\n",
    "            return x1\n",
    "        else:\n",
    "            accept_prob = np.exp(log_ratio)\n",
    "            return x1 if gen.uniform() < accept_prob else x0"
   ]
  },
  {
   "cell_type": "markdown",
   "metadata": {},
   "source": [
    "___<span style=\"color:Violet\">EXERCISE</span>___: Define the un-normalized PDF for samples that are uniformly distributed within a (hyper)cube spanning $[-1,+1]$ along each axis:"
   ]
  },
  {
   "cell_type": "code",
   "execution_count": null,
   "metadata": {},
   "outputs": [],
   "source": [
    "def logP(x):\n",
    "    return 1. if np.max(np.abs(x)) < 1 else -np.inf"
   ]
  },
  {
   "cell_type": "markdown",
   "metadata": {},
   "source": [
    "Generate samples in 2D using a 2D Gaussian with zero mean and unit variance for the proposal distribution $Q$. Use the following utiliity function to make a scatter plot of the results using:\n",
    " - color to indicate the last position $n$ in the chain,\n",
    "\n",
    " - a superimposed plus ($+$) to indicate samples repeated twice,\n",
    "\n",
    " - a superimposed asterisk ($\\ast$) to indicate samples repeated three or more times,\n",
    "\n",
    " - a larger circle to indicate the initial position, and\n",
    "\n",
    " - a dashed box showing the boundary of the target (square) distribution."
   ]
  },
  {
   "cell_type": "code",
   "execution_count": null,
   "metadata": {},
   "outputs": [],
   "source": [
    "def plot_square(xy):\n",
    "    _, ax = plt.subplots(figsize=(8, 8))\n",
    "    xy_unique, xy_counts = np.unique(xy, axis=0, return_counts=True)\n",
    "    repeated = xy_counts > np.arange(3).reshape(-1, 1)\n",
    "    ax.scatter(*xy.T, s=100, c=np.arange(len(xy)), cmap='gist_rainbow', lw=0)\n",
    "    ax.scatter(*xy[0], s=400, marker='o', edgecolors='k', facecolors='none', lw=2)\n",
    "    ax.scatter(*xy_unique[repeated[1]].T, marker='+', s=30, c='w', lw=1, zorder=10)\n",
    "    ax.scatter(*xy_unique[repeated[2]].T, marker='x', s=30, c='w', lw=1, zorder=10)\n",
    "    ax.set_title('Chain has {} / {} unique samples with {} repeated'\n",
    "                 .format(len(xy_unique), len(xy), np.count_nonzero(repeated[1])), fontsize='x-large')\n",
    "    ax.set_xlim(-1.1, 1.1); ax.set_ylim(-1.1, 1.1)\n",
    "    ax.add_artist(plt.Rectangle([-1,-1], 2, 2, fc='none', ec='k', ls='--', lw=1))"
   ]
  },
  {
   "cell_type": "code",
   "execution_count": null,
   "metadata": {},
   "outputs": [],
   "source": [
    "plot_square(MetropolisHastings([0,0], 1., logP, 'random_walk').run(500))"
   ]
  },
  {
   "cell_type": "markdown",
   "metadata": {},
   "source": [
    "Note that the unique points in the sample do cover the square uniformly and there is no obvious imprint of the Gaussian proposal distribution. However, there are also many repetitions and, more generally, successive points are highly correlated with each other.\n",
    "\n",
    "The example above worked out reasonably well, but there are many pitfalls with the MH algorithm, some obvious and others more subtle:"
   ]
  },
  {
   "cell_type": "code",
   "execution_count": null,
   "metadata": {},
   "outputs": [],
   "source": [
    "plot_square(MetropolisHastings([0,0], 0.3, logP, 'independent').run(500))"
   ]
  },
  {
   "cell_type": "code",
   "execution_count": null,
   "metadata": {},
   "outputs": [],
   "source": [
    "plot_square(MetropolisHastings([1, 1], 0.05, logP, 'random_walk').run(500))"
   ]
  },
  {
   "cell_type": "markdown",
   "metadata": {
    "solution2": "hidden",
    "solution2_first": true
   },
   "source": [
    "___<span style=\"color:Violet\">EXERCISE</span>___: Study the two examples above and describe how and why they are failing to sample the desired target distribution. Do the locations of repeated samples make sense?"
   ]
  },
  {
   "cell_type": "markdown",
   "metadata": {
    "solution2": "hidden"
   },
   "source": [
    "The first example uses independent updates with a proposal distribution that is too narrow ($\\sigma = 0.3$) to sample the edges of the box efficiently.  As a result, points far from the initial point (the origin) are repeated often and the chain would need to be much longer to populate the corners. Note that, although the density of samples is higher close to the origin, when weighted by the number of repetitions, the generated chain correctly samples the target (flat) distribution.\n",
    "\n",
    "The second example use random-walk updates with a proposal distribution that is much narrower than the target ($\\sigma = 0.05$) so tends to explore the target space slowly with long range correlations between samples. We have effectively simulated the [Brownian motion](https://en.wikipedia.org/wiki/Brownian_motion) of a particle in a 2D fluid. With a long enough chain, our particle will explore the full square, spending about the same amount of time in each part of it, but this is not true of shorter sections of the chain. Note how repeated samples occur only at the edges of square, where there is a high probability of a proposed sample falling outside the square and therefore being rejected.\n",
    "\n",
    "Both of these examples are \"correct\" implementations of MH updates, but also have peculiar features that you might care about when using MCMC for pratical work. The lesson is that you should generally not assume that an MCMC chain has any desirable properties beyond its minimum guarantee of asymptotically sampling $\\tilde{P}(X_n)$.\n",
    "\n",
    "---"
   ]
  },
  {
   "cell_type": "markdown",
   "metadata": {},
   "source": [
    "When the proposal distribution $Q$ is reversible, it cancels in the Hastings ratio,\n",
    "\n",
    "$$ \\Large\n",
    "r(x_{n+1}, x_n) = \\frac{\\tilde{P}(x_{n+1})}{\\tilde{P}(x_n)}\\, \\frac{Q(x_n\\mid x_{n+1})}{Q(x_{n+1}\\mid x_n)} \\;\\rightarrow\\; \\frac{\\tilde{P}(x_{n+1})}{\\tilde{P}(x_n)} \\; .\n",
    "$$\n",
    "\n",
    "The resulting **Metropolis updates** are a special case of MH updates and eliminate the need to evaluate $Q$."
   ]
  },
  {
   "cell_type": "markdown",
   "metadata": {},
   "source": [
    "### <span style=\"color:Lightgreen\">Gibbs Sampling</span>"
   ]
  },
  {
   "cell_type": "markdown",
   "metadata": {},
   "source": [
    "When sampling a multidimensional target distribution $\\tilde{P}$, some additional constraints on $\\tilde{P}$, allow us to exploit a different special case of MH updates and are the basis of <span style=\"color:Violet\">Gibbs sampling</span>.\n",
    "\n",
    "For example, suppose we want to sample in 3D from $\\tilde{P}(x, y, z)$, then Gibbs updates require that we can sample from each of the 1D conditional distributions:\n",
    "\n",
    "$$ \\Large\n",
    "\\tilde{P}(x\\mid y, z) \\quad ,\\quad\n",
    "\\tilde{P}(y\\mid x, z) \\quad ,\\quad\n",
    "\\tilde{P}(z\\mid x, y) \\; .\n",
    "$$\n",
    "\n",
    "This condition is trivially satisfied when the random variables are mutually independent,\n",
    "\n",
    "$$ \\Large\n",
    "\\tilde{P}(x,y,z) = P_X(x) P_Y(y) P_Z(z) \\; ,\n",
    "$$\n",
    "\n",
    "but is more useful in cases where this is not true and simpler alternative methods are not available.\n",
    "\n",
    "The rules for a single Gibbs update starting from sample $(x_{n-1}, y_{n-1}, z_{n-1})$ are:\n",
    " - Sample $x_n$ from $\\tilde{P}(x\\mid y_{n-1}, z_{n-1})$\n",
    "\n",
    " - Sample $y_n$ from $\\tilde{P}(y\\mid x_n, z_{n-1})$\n",
    "\n",
    " - Sample $z_n$ from $\\tilde{P}(z\\mid x_n, y_n)$\n",
    "\n",
    " - Accept the new sample $(x_n, y_n, z_n)$ with probability one (!)\n",
    " \n",
    "We will not prove the correctness of this approach, but the key insight is that each sub-step samples from a conditional PDF that is proportional to the full joint PDF, for example:\n",
    "\n",
    "$$ \\Large\n",
    "\\tilde{P}(y\\mid x, z) = \\frac{\\tilde{P}(x, y, z)}{\\tilde{P}(x, z)} \\propto \\tilde{P}(x, y, z) \\; .\n",
    "$$\n",
    "\n",
    "The 3D example above generalizes in the obvious way to higher dimensions.\n",
    "\n",
    "[Gibbs sampling](https://en.wikipedia.org/wiki/Gibbs_sampling) places extra conditions on $\\tilde{P}$, so is not a general-purpose algorithm, but is efficient and eliminates repeated samples when its conditions are met.  Gibbs sampling is often a good fit to target distributions that can be expressed using a graphical model with few dependencies."
   ]
  },
  {
   "cell_type": "markdown",
   "metadata": {},
   "source": [
    "### <span style=\"color:Lightgreen\">Hamiltonian Sampling</span>"
   ]
  },
  {
   "cell_type": "markdown",
   "metadata": {},
   "source": [
    "Another special case of MH sampling requires that we can calculate all partial derivatives of our target $\\log\\tilde{P}$,\n",
    "\n",
    "$$ \\Large\n",
    "\\frac{\\partial}{\\partial z_i}\\, \\log\\tilde{P}(\\vec{x}) \\; .\n",
    "$$\n",
    "\n",
    "The resulting **Hamiltonian sampling** method relies on a nifty physics analogy.\n",
    "\n",
    "[Recall](https://en.wikipedia.org/wiki/Hamiltonian_mechanics) that the equations of motion for a classical system of particles with Hamiltonian $H$ are:\n",
    "\n",
    "$$ \\Large\n",
    "\\frac{dq_i}{dt} = + \\frac{\\partial H}{\\partial p_i} \\quad , \\quad\n",
    "\\frac{dp_i}{dt} = - \\frac{\\partial H}{\\partial q_i} \\; ,\n",
    "$$\n",
    "\n",
    "where $q_i$ and $p_i$ are (generalized) position and momentum coordinates for particle $i$.\n",
    "\n",
    "We identify $H$ with the total energy of the system and can often split it into separate kinetic and potential terms,\n",
    "\n",
    "$$ \\Large\n",
    "H(q,p) = K(p) + U(q) \\; ,\n",
    "$$\n",
    "\n",
    "where, generically,\n",
    "\n",
    "$$ \\Large\n",
    "K(p) = \\sum_i\\, \\frac{p_i^2}{2 m_i} \\; ,\n",
    "$$\n",
    "\n",
    "with particle \"masses\" $m_i$, and $U(q)$ encapsulates all the specifics of a particular system. Using this split, we can simplify the equations of motion to:\n",
    "\n",
    "$$ \\Large\n",
    "\\frac{dq_i}{dt} = +\\frac{p_i}{m_i} \\quad ,\\quad \\frac{dp_i}{dt} = -\\frac{\\partial U}{\\partial q_i} \\; .\n",
    "$$\n",
    "\n",
    "We turn Hamiltonian dynamics into a stationary Markov chain with the following recipe:\n",
    " - Identify positions $q_i$ with the random variables we wish to sample.\n",
    "\n",
    " - Create new random variables $p_i$ for the corresponding momenta. We will treat these as nuisance parameters, but this does not look promising since we just doubled the dimension of our sampling space!\n",
    "\n",
    " - Assign fixed (arbitrary) masses $m_i$ to each \"particle\".\n",
    "\n",
    " - Use $U(q) = -\\log\\tilde{P}(q)$ for our \"potential energy\".\n",
    " \n",
    "Plugging $U(q) = -\\log\\tilde{P}(q)$ into the $dp_i/dt$ equation of motion above reveals why we need to be able to calculate partial derivatives of $\\log\\tilde{P}$.\n",
    "\n",
    "A single Hamiltonian Monte Carlo (HMC) update then consists of:\n",
    " - Pick a random starting point in $(q, p)$ space, to specify the initial conditions for our \"particles\".\n",
    "\n",
    " - Follow the evolution of our \"particles\" for some fixed time interval using Hamiltonian dynamics.\n",
    "\n",
    " - Use the final positions of our \"particles\" as a new sample added to the chain.\n",
    "\n",
    "How does this sample the target $\\tilde{P}(q)$? The answer comes from statistical mechanics, which tells us that the probability that our system of particles is in a state with positions $q$ is given by the [canonical distribution](https://en.wikipedia.org/wiki/Canonical_ensemble):\n",
    "\n",
    "$$ \\Large\n",
    "P(q) \\propto \\exp\\left( -\\frac{U(q)}{k_B T} \\right) \\; ,\n",
    "$$\n",
    "\n",
    "where $k_B$ is Boltzmann's constant and $T$ is the system's absolute temperature.\n",
    "\n",
    "In practice, you can usually set $k_B T = 1$ and all masses $m_i = 1$ and this works surprisingly well!  The disadvantages of this approach are that:\n",
    " - It is relatively complex to implement, compared with the much simpler (and general purpose) MH sampling, so let someone else do this work for you.\n",
    "\n",
    " - It requires that you can evaluate all the necessary partial derivatives of your target $\\tilde{P}$.\n",
    "\n",
    "However, the main advantage is that HMC can often explore the target space much more efficiently than other methods, since it uses the additional information provided by the derivatives.  We will soon discuss computational graphs, which are a general-purpose framework for automating the necessary derivate calculations.\n",
    "\n",
    "See this [blog post](http://arogozhnikov.github.io/2016/12/19/markov_chain_monte_carlo.html) for a more detailed explanation of HMC with some helpful interactive visualizations."
   ]
  },
  {
   "cell_type": "markdown",
   "metadata": {},
   "source": [
    "## <span style=\"color:Orange\">Practical Advice</span>"
   ]
  },
  {
   "cell_type": "markdown",
   "metadata": {},
   "source": [
    "It is tempting to assume that MCMC samples have desirable properties beyond their minimum guarantees, since this is often true, but avoid this temptation.\n",
    "\n",
    "In particular, MCMC samples are only guaranteed to sample your target $\\tilde{P}(X_n)$ for $n$ sufficiently large. Therefore:\n",
    " - There is no way to know how big $n$ needs to be for a particular $\\tilde{P}$.\n",
    "\n",
    "   - ___<span style=\"color:Violet\">Burn-in?</span>___ Should I throw away the first $B$ samples to ensure that my chain is independent of its initial starting point?\n",
    "  \n",
    "   - ___<span style=\"color:LightGreen\">No:</span>___ There is no practical way to know how big $B$ should be. Instead, ensure that your starting point is reasonably probable (according to $\\tilde{P}$) and use all samples. If you do not know how to chose a reasonably probable starting point, you need to solve a separate optimization problem before you are ready to use MCMC (which is notoriously inefficient at discovering new regions of high probability).\n",
    "  \n",
    " - There are no useful guarantees about $\\tilde{P}(X_n, X_m)$ and, in general, you should assume that the consecutive samples in any stretch of the chain are highly correlated.\n",
    "   - ___<span style=\"color:Violet\">Thinning?</span>___ Should I just keep every $T$-th sample so that my chain is uncorrelated?\n",
    "\n",
    "   - ___<span style=\"color:LightGreen\">No:</span>___ There is no practical way to know in advance how big $T$ should be, and you can never get a better answer (for a fixed amount of computation) by throwing away valid information. Just accept that samples are correlated.\n",
    "\n",
    "How long should your chain be?  You should ideally use empirical measurements to determine $k$ such that the [autocorrelation](https://en.wikipedia.org/wiki/Autocorrelation)\n",
    "\n",
    "$$ \\Large\n",
    "\\frac{\\langle (X_{n+k} - \\mu) (X_n - \\mu)\\rangle}{\\sigma^2} \\simeq 0 \\; ,\n",
    "$$\n",
    "\n",
    "where $\\mu$ and $\\sigma$ are the long-term mean and standard deviation of $\\tilde{P}(X_n)$, then generate a chain whose length is at least 10-100 times this [autocorrelation](https://en.wikipedia.org/wiki/Autocorrelation) length $k$.\n",
    "\n",
    "Which update rule should you use?\n",
    " - Determine which special cases apply to your target $\\tilde{P}$, so you know which algorithms are possible.\n",
    "\n",
    "   - Can you sample from a complete set of conditional distributions?  If so, add Gibbs sampling to your list.\n",
    "\n",
    "   - Can you compute all partial derivatives? If so, add HMC to your list.\n",
    "\n",
    " - There is no \"best\" algorithm, so you will need to benchmark your problem against the available methods. \n",
    "\n",
    "Although it is instructive (and fun!) to implement simple update rules yourself, for serious work you should generally let someone else do the hard work for you by using an existing package.\n",
    "\n",
    "Which package should you use?\n",
    " - For initial exploratory work, start with [emcee](http://dfm.io/emcee/), which implements [ensemble sampling](http://dx.doi.org/10.2140/camcos.2010.5.65) where many independent \"walkers\" simultaneously crawl around your target space, and has a nice [affine invariance](https://en.wikipedia.org/wiki/Affine_geometry) property, where the efficiency is not affected by any linear (aka \"affine\") transformation of your target space.\n",
    "\n",
    " - Look into [PyMC3](http://docs.pymc.io/notebooks/getting_started.html) or [Edward](http://edwardlib.org/) to explore HMC and other more advanced updating rules. These are generally more complex to use and have rigid rules for specifying your target $\\tilde{P}$.\n",
    "\n",
    " - Consider an alternative approximate method for Bayesian inference, such as [variational inference](https://en.wikipedia.org/wiki/Variational_Bayesian_methods), with different tradeoffs.\n",
    " \n",
    "This [blog post](http://twiecki.github.io/blog/2013/09/23/emcee-pymc/) compares emcee and PyMC3.\n",
    "\n",
    "You will see examples of performing MCMC and variational inference with [Edward](http://edwardlib.org/) soon."
   ]
  }
 ],
 "metadata": {
  "kernelspec": {
   "display_name": "Python 3",
   "language": "python",
   "name": "python3"
  },
  "language_info": {
   "codemirror_mode": {
    "name": "ipython",
    "version": 3
   },
   "file_extension": ".py",
   "mimetype": "text/x-python",
   "name": "python",
   "nbconvert_exporter": "python",
   "pygments_lexer": "ipython3",
   "version": "3.11.2"
  }
 },
 "nbformat": 4,
 "nbformat_minor": 2
}
